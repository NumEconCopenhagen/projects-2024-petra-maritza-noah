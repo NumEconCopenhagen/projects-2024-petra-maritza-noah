{
 "cells": [
  {
   "cell_type": "code",
   "execution_count": 12,
   "metadata": {},
   "outputs": [
    {
     "name": "stdout",
     "output_type": "stream",
     "text": [
      "Continuous Solution: Optimal X0=0.20032705438871012\n",
      "Discrete Solution: Optimal X0=0.20202020202020202\n",
      "The autoreload extension is already loaded. To reload it, use:\n",
      "  %reload_ext autoreload\n"
     ]
    }
   ],
   "source": [
    "import numpy as np\n",
    "import matplotlib.pyplot as plt\n",
    "import pandas as pd\n",
    "from scipy.optimize import minimize\n",
    "import sympy as sm\n",
    "from mpl_toolkits.mplot3d import Axes3D\n",
    "import ipywidgets as widgets\n",
    "from IPython.display import display\n",
    "import plotly.graph_objects as go\n",
    "from types import SimpleNamespace\n",
    "import math\n",
    "\n",
    "# Ensure modules are reloaded on each run\n",
    "%load_ext autoreload\n",
    "%autoreload 2\n",
    "\n",
    "# Assuming the class BeckerTomesModelDebugged is defined in the module named Noah\n",
    "from Noah import BeckerTomesModelDebugged\n",
    "\n",
    "# Create an instance of the model\n",
    "model = BeckerTomesModelDebugged()\n"
   ]
  },
  {
   "cell_type": "code",
   "execution_count": 13,
   "metadata": {},
   "outputs": [
    {
     "name": "stdout",
     "output_type": "stream",
     "text": [
      "Continuous Solution: Optimal X0=0.20032705438871012\n",
      "Optimal parental investment: 0.20032705438871012\n",
      "Human capital level: 2.125648999438557\n",
      "Optimal income: 2.625648999438557\n"
     ]
    }
   ],
   "source": [
    "# Solve the model using continuous optimization\n",
    "model.solve_continuous()\n",
    "# Print the results from the continuous solution\n",
    "print(f'Optimal parental investment: {model.sol.optimal_X}')\n",
    "print(f'Human capital level: {model.human_capital_production(model.sol.optimal_X, model.par.S0, model.par.E0)}')\n",
    "print(f'Optimal income: {model.calc_income(model.human_capital_production(model.sol.optimal_X, model.par.S0, model.par.E0), model.par.I1)}')"
   ]
  },
  {
   "cell_type": "code",
   "execution_count": 14,
   "metadata": {},
   "outputs": [
    {
     "name": "stdout",
     "output_type": "stream",
     "text": [
      "Discrete Solution: Optimal X0=0.20202020202020202\n",
      "Optimal X0: 0.20202020202020202\n",
      "Optimal E1: 2.7\n",
      "Optimal H1: 2.33742161035749\n",
      "Optimal Y1: 2.83742161035749\n",
      "Optimal D1: 0.20202020202020243\n"
     ]
    }
   ],
   "source": [
    "# Solve the model using discrete optimization\n",
    "model.solve_discrete()\n",
    "\n",
    "# Access and print the optimal values from the discrete solution\n",
    "print(f'Optimal X0: {model.sol.optimal_X0}')\n",
    "print(f'Optimal E1: {model.endowment_production(model.par.E0)}')\n",
    "print(f'Optimal H1: {model.human_capital_production(model.sol.optimal_X0, model.par.S0, model.endowment_production(model.par.E0))}')\n",
    "print(f'Optimal Y1: {model.calc_income(model.human_capital_production(model.sol.optimal_X0, model.par.S0, model.endowment_production(model.par.E0)), model.par.I1)}')\n",
    "print(f'Optimal D1: {model.calc_debt(model.sol.optimal_X0, model.par.Y0)}')"
   ]
  },
  {
   "cell_type": "code",
   "execution_count": 15,
   "metadata": {},
   "outputs": [
    {
     "name": "stdout",
     "output_type": "stream",
     "text": [
      "Continuous Solution: Optimal X0=0.2000326235408978\n",
      "Continuous Solution: Optimal X0=0.20020698195312098\n",
      "Continuous Solution: Optimal X0=0.20022621028273144\n",
      "Continuous Solution: Optimal X0=0.1999123758617643\n",
      "Continuous Solution: Optimal X0=0.2003473114118776\n",
      "Continuous Solution: Optimal X0=0.20004263266391173\n",
      "Continuous Solution: Optimal X0=0.2003153366061706\n",
      "Continuous Solution: Optimal X0=0.2001662517785684\n",
      "Continuous Solution: Optimal X0=0.20022029632873972\n",
      "Continuous Solution: Optimal X0=0.20048166783291016\n",
      "Continuous Solution: Optimal X0=0.2002470477781717\n",
      "Continuous Solution: Optimal X0=0.2004501068796502\n",
      "Continuous Solution: Optimal X0=0.20017491426800788\n",
      "Continuous Solution: Optimal X0=0.20019978548561307\n",
      "Continuous Solution: Optimal X0=0.2002096147866406\n",
      "Continuous Solution: Optimal X0=0.20021652633953646\n",
      "Continuous Solution: Optimal X0=0.20021127255595728\n",
      "Continuous Solution: Optimal X0=0.20033576579399584\n",
      "Continuous Solution: Optimal X0=0.20032494075557475\n",
      "Continuous Solution: Optimal X0=0.20028772755966834\n",
      "Continuous Solution: Optimal X0=0.20024585368436842\n",
      "Continuous Solution: Optimal X0=0.2002154031029751\n",
      "Continuous Solution: Optimal X0=0.19988194279288074\n",
      "Continuous Solution: Optimal X0=0.20009173159551774\n",
      "Continuous Solution: Optimal X0=0.2001754788095\n",
      "Continuous Solution: Optimal X0=0.2003245415393027\n",
      "Continuous Solution: Optimal X0=0.20019684950504726\n",
      "Continuous Solution: Optimal X0=0.2000593790169712\n",
      "Continuous Solution: Optimal X0=0.20023892776031477\n",
      "Continuous Solution: Optimal X0=0.2006881220957295\n",
      "Continuous Solution: Optimal X0=0.20044214330813437\n",
      "Continuous Solution: Optimal X0=0.20017206609701443\n",
      "Continuous Solution: Optimal X0=0.20009802569890212\n",
      "Continuous Solution: Optimal X0=0.19986031871350377\n",
      "Continuous Solution: Optimal X0=0.20022673199962382\n",
      "Continuous Solution: Optimal X0=0.2005263046835679\n",
      "Continuous Solution: Optimal X0=0.20023865210781994\n",
      "Continuous Solution: Optimal X0=0.20038743809733767\n",
      "Continuous Solution: Optimal X0=0.2001761578725421\n",
      "Continuous Solution: Optimal X0=0.2000364448074553\n",
      "Continuous Solution: Optimal X0=0.20022108293342913\n",
      "Continuous Solution: Optimal X0=0.20026451638658616\n",
      "Continuous Solution: Optimal X0=0.20035923147760415\n",
      "Continuous Solution: Optimal X0=0.20055121886160757\n",
      "Continuous Solution: Optimal X0=0.20017722751816183\n",
      "Continuous Solution: Optimal X0=0.20014375742524868\n",
      "Continuous Solution: Optimal X0=0.20005036221500686\n",
      "Continuous Solution: Optimal X0=0.20023718072433042\n",
      "Continuous Solution: Optimal X0=0.20036050421571514\n",
      "Continuous Solution: Optimal X0=0.2003643646628281\n",
      "Continuous Solution: Optimal X0=0.20043371704489177\n",
      "Continuous Solution: Optimal X0=0.20053132082204506\n",
      "Continuous Solution: Optimal X0=0.20017404826967106\n",
      "Continuous Solution: Optimal X0=0.20011551145894416\n",
      "Continuous Solution: Optimal X0=0.2002258445652798\n",
      "Continuous Solution: Optimal X0=0.2003720425876405\n",
      "Continuous Solution: Optimal X0=0.20049974929444814\n",
      "Continuous Solution: Optimal X0=0.2007032986353942\n",
      "Continuous Solution: Optimal X0=0.2001737484449627\n",
      "Continuous Solution: Optimal X0=0.2001520861371487\n",
      "Continuous Solution: Optimal X0=0.20011098459849963\n",
      "Continuous Solution: Optimal X0=0.2002092324085481\n",
      "Continuous Solution: Optimal X0=0.20022500920460018\n",
      "Continuous Solution: Optimal X0=0.20025620757188908\n",
      "Continuous Solution: Optimal X0=0.20032046997086608\n",
      "Continuous Solution: Optimal X0=0.20047739540962795\n",
      "Continuous Solution: Optimal X0=0.200444865080845\n",
      "Continuous Solution: Optimal X0=0.20049273268708775\n",
      "Continuous Solution: Optimal X0=0.200543080433915\n",
      "Continuous Solution: Optimal X0=0.20059472758595928\n",
      "Continuous Solution: Optimal X0=0.20064637253552395\n",
      "Continuous Solution: Optimal X0=0.20069662342901587\n",
      "Continuous Solution: Optimal X0=0.20074409061816184\n",
      "Continuous Solution: Optimal X0=0.20018206204815672\n",
      "Continuous Solution: Optimal X0=0.20018075202553007\n",
      "Continuous Solution: Optimal X0=0.20017963726299207\n",
      "Continuous Solution: Optimal X0=0.20017874931432314\n",
      "Continuous Solution: Optimal X0=0.2001781524470289\n",
      "Continuous Solution: Optimal X0=0.20017784828412863\n",
      "Continuous Solution: Optimal X0=0.20017781895086803\n",
      "Continuous Solution: Optimal X0=0.2001781115326369\n",
      "Continuous Solution: Optimal X0=0.20017863450059117\n",
      "Continuous Solution: Optimal X0=0.2001794249568443\n",
      "Continuous Solution: Optimal X0=0.20018038378746963\n",
      "Continuous Solution: Optimal X0=0.20018149772434823\n",
      "Continuous Solution: Optimal X0=0.20018268680953422\n",
      "Continuous Solution: Optimal X0=0.20072858154838766\n",
      "Continuous Solution: Optimal X0=0.20068764485373564\n",
      "Continuous Solution: Optimal X0=0.20064574446312403\n",
      "Continuous Solution: Optimal X0=0.20060374737961886\n",
      "Continuous Solution: Optimal X0=0.20056235504878947\n",
      "Continuous Solution: Optimal X0=0.20052227366403239\n",
      "Continuous Solution: Optimal X0=0.20048400150126133\n",
      "Continuous Solution: Optimal X0=0.2004479414831945\n",
      "Continuous Solution: Optimal X0=0.20041443741583903\n",
      "Continuous Solution: Optimal X0=0.20038366166204888\n",
      "Continuous Solution: Optimal X0=0.20035571701280885\n",
      "Continuous Solution: Optimal X0=0.2003306341039689\n",
      "Continuous Solution: Optimal X0=0.20030836198894225\n",
      "Continuous Solution: Optimal X0=0.20051091322818818\n"
     ]
    },
    {
     "name": "stderr",
     "output_type": "stream",
     "text": [
      "/Users/noahindrehus/Documents/KU Exchange/IPNA/projects-2024-petra-maritza-noah-1/modelproject/Noah.py:30: RuntimeWarning: invalid value encountered in power\n",
      "  H1 = X0**0.4 + S0**0.5 + 0.3*E1\n"
     ]
    },
    {
     "data": {
      "image/png": "[encoded data removed]",
      "text/plain": [
       "<Figure size 1000x600 with 1 Axes>"
      ]
     },
     "metadata": {},
     "output_type": "display_data"
    }
   ],
   "source": [
    "# Set a range of values for parental investment (X0)\n",
    "X0_values = np.linspace(0, 3, 100)  # Adjust the range and count as needed\n",
    "income_results = []\n",
    "\n",
    "# Iterate over the range of X0 values, solve the model, and collect incomes\n",
    "for X0 in X0_values:\n",
    "    model.par.X0 = X0  # Update the parental investment parameter\n",
    "    model.solve_continuous()  # Solve the model (assuming this updates the model.sol with new values)\n",
    "    optimal_H = model.human_capital_production(X0, model.par.S0, model.par.E0)\n",
    "    optimal_income = model.calc_income(optimal_H, model.par.I1)\n",
    "    income_results.append(optimal_income)\n",
    "\n",
    "# Plot the results\n",
    "plt.figure(figsize=(10, 6))\n",
    "plt.plot(X0_values, income_results, label='Income vs. Parental Investment')\n",
    "plt.xlabel('Parental Investment in Education (X0)')\n",
    "plt.ylabel('Optimal Income (Y1)')\n",
    "plt.title('Impact of Parental Education Investment on Income')\n",
    "plt.grid(True)\n",
    "plt.legend()\n",
    "plt.show()"
   ]
  },
  {
   "cell_type": "code",
   "execution_count": 34,
   "metadata": {},
   "outputs": [
    {
     "data": {
      "application/vnd.jupyter.widget-view+json": {
       "model_id": "566fde0e628d46a0b6809ec85d874952",
       "version_major": 2,
       "version_minor": 0
      },
      "text/plain": [
       "interactive(children=(FloatSlider(value=0.5, description='Luckiness (I1)', max=1.0, step=0.05), Output()), _do…"
      ]
     },
     "metadata": {},
     "output_type": "display_data"
    },
    {
     "data": {
      "text/plain": [
       "<function __main__.interactive_plot(I1)>"
      ]
     },
     "execution_count": 34,
     "metadata": {},
     "output_type": "execute_result"
    }
   ],
   "source": [
    "import numpy as np\n",
    "import matplotlib.pyplot as plt\n",
    "from ipywidgets import interact, FloatSlider\n",
    "from Noah import BeckerTomesModelDebugged  # Make sure to import your model correctly\n",
    "\n",
    "# Create an instance of the model\n",
    "model = BeckerTomesModelDebugged()\n",
    "\n",
    "def interactive_plot(I1):\n",
    "    # Update the luckiness parameter\n",
    "    model.par.I1 = I1\n",
    "\n",
    "    # Set a range of values for parental investment (X0)\n",
    "    X0_values = np.linspace(0, 1, 100)  # Adjust the range as needed\n",
    "    Y1_values = []\n",
    "\n",
    "    # Calculate optimal income for each X0 with the current I1\n",
    "    for X0 in X0_values:\n",
    "        E1 = model.endowment_production(model.par.E0)\n",
    "        H1 = model.human_capital_production(X0, model.par.S0, E1)\n",
    "        Y1 = model.calc_income(H1, I1)\n",
    "        Y1_values.append(Y1)\n",
    "\n",
    "    # Plot the results\n",
    "    plt.figure(figsize=(10, 6))\n",
    "    plt.plot(X0_values, Y1_values, label=f'Luckiness (I1) = {I1:.2f}')\n",
    "    plt.xlabel('Parental Investment in Education (X0)')\n",
    "    plt.ylabel('Optimal Income (Y1)')\n",
    "    plt.title('Impact of Parental Investment on Optimal Income with Varying Luckiness')\n",
    "    plt.legend()\n",
    "    plt.grid(True)\n",
    "    plt.show()\n",
    "\n",
    "# Slider for luckiness\n",
    "I1_slider = FloatSlider(min=0, max=1, step=0.05, value=0.5, description='Luckiness (I1)')\n",
    "\n",
    "# Create the interactive plot\n",
    "interact(interactive_plot, I1=I1_slider)"
   ]
  },
  {
   "cell_type": "code",
   "execution_count": 38,
   "metadata": {},
   "outputs": [
    {
     "data": {
      "application/vnd.jupyter.widget-view+json": {
       "model_id": "2563552899524f1da8266287b0294064",
       "version_major": 2,
       "version_minor": 0
      },
      "text/plain": [
       "interactive(children=(FloatSlider(value=0.5, description='Luckiness (I1)', max=1.0, step=0.05), Output()), _do…"
      ]
     },
     "metadata": {},
     "output_type": "display_data"
    },
    {
     "data": {
      "text/plain": [
       "<function __main__.interactive_plot(Y0)>"
      ]
     },
     "execution_count": 38,
     "metadata": {},
     "output_type": "execute_result"
    }
   ],
   "source": [
    "def interactive_plot(Y0):\n",
    "    model.par.Y0 = Y0\n",
    "    X0_values = np.linspace(0, 3, 100)  # Parental investment range\n",
    "    Y1_values = []\n",
    "\n",
    "    for X0 in X0_values:\n",
    "        E1 = model.endowment_production(model.par.E0)\n",
    "        H1 = model.human_capital_production(X0, model.par.S0, E1)\n",
    "        Y1 = model.calc_income(H1, Y0)\n",
    "        Y1_values.append(Y1)\n",
    "\n",
    "    plt.figure(figsize=(10, 6))\n",
    "    plt.plot(X0_values, Y1_values, label=f'Luckiness (I1) = {Y0:.2f}')\n",
    "    plt.xlabel('Parental Investment in Education (X0)')\n",
    "    plt.ylabel('Optimal Income (Y1)')\n",
    "    plt.title('Impact of Parental Investment on Optimal Income with Varying Luckiness')\n",
    "    plt.ylim(1.5, 5)  # Set a fixed y-axis range, adjust as needed\n",
    "    plt.legend()\n",
    "    plt.grid(True)\n",
    "    plt.show()\n",
    "\n",
    "Y0_slider = FloatSlider(min=0, max=1, step=0.05, value=0.5, description='Luckiness (I1)')\n",
    "interact(interactive_plot, Y0=Y0_slider)"
   ]
  }
 ],
 "metadata": {
  "kernelspec": {
   "display_name": "base",
   "language": "python",
   "name": "python3"
  },
  "language_info": {
   "codemirror_mode": {
    "name": "ipython",
    "version": 3
   },
   "file_extension": ".py",
   "mimetype": "text/x-python",
   "name": "python",
   "nbconvert_exporter": "python",
   "pygments_lexer": "ipython3",
   "version": "3.11.7"
  }
 },
 "nbformat": 4,
 "nbformat_minor": 2
}
