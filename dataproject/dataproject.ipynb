{
 "cells": [
  {
   "cell_type": "markdown",
   "metadata": {},
   "source": [
    "# Understanding Socioeconomic Dynamics: Exploring Relative Poverty, Negative Net Wealth, and Net Wealth Trends"
   ]
  },
  {
   "cell_type": "markdown",
   "metadata": {},
   "source": [
    "The aim of this project is analysis the relative poverty and it various form of wealth (positive and negative) in Denmark: Net Wealth and Negative Net Wealth. In the following sections we will present an exploration of trends and patters in these variables to gain insights into the socioeconomic dynamics not only in group of municipalities of Denmark by also in group of ages."
   ]
  },
  {
   "cell_type": "markdown",
   "metadata": {},
   "source": [
    "Additionally, according to the 2023 Country Report, the Danish economy has experienced robust growth, only interrupted by significant fluctuations during the Covid-19. Denmark recorded a current account surplus of 13.1% of GDP in 2022, mainly because of a temporary spike in sea freight rates. \n",
    "\n",
    "In the context of Covid-19, the removal of restrictions has boosted employment, productivity, and investment, also Denmark has introduced a range of social benefits that target older people, students, and low-income groups, as well as health-related policies, making the relative poverty decreased, from 4.4% (2019) to 3.7% (2022).\n",
    "\n",
    "However, even though the relative poverty reduced, Denmark presents some challenges regarding the accessibility of housing, for example. This factor, among others, can explain the reason for an increase of negative net wealth in the country due to the increase of materials mainly during Covid-19 (overall represents 41% of their income for a single person)."
   ]
  },
  {
   "cell_type": "markdown",
   "metadata": {},
   "source": [
    "This project will analyse 3 variables from 2015 to 2022 in Denmark:\n",
    "\n",
    "1. **Relative poverty**: Poverty measuared in relation to the general standard of living in society. This variable combines low income, low wealth, excluding students living away fromhome, person without income, and young people who moved from non-relative poor households to realtive poor. This variable is measured in percentage of population. \n",
    "According the statistics from Denmark, 3.7% of population were relatively poor in 2022. \n",
    "2. **Negative net wealth**: Represent the condition where liabilities (debts, loabs, mortgages) exceed assests (cash, savings, investments, property) resulting in a net deficit. This variable is measured in percentage of population. \n",
    "According the statistics from Denmark, 9.6% of population were relatively poor in 2022. \n",
    "3. **Net wealth**: This variable is the value of assets owned by an individual, household, or entity after subtracting all debts and obligations. This variable is measured in DKK."
   ]
  },
  {
   "cell_type": "code",
   "execution_count": 2,
   "metadata": {},
   "outputs": [],
   "source": [
    "import pandas as pd\n",
    "import numpy as np\n",
    "import matplotlib.pyplot as plt\n",
    "import ipywidgets as widgets\n",
    "#from matplotlib_venn import venn2\n",
    "\n",
    "# autoreload modules when code is run\n",
    "%load_ext autoreload\n",
    "%autoreload 2\n",
    "\n",
    "# user written modules\n",
    "import dataproject\n"
   ]
  },
  {
   "cell_type": "markdown",
   "metadata": {},
   "source": [
    "For clarity reasons, in the code below we show what we do with the first dataset, then we will perform the same code for all the other datasets, the only difference is the age-range considered. We do this to enable us to later merge the data with the different age-range specified. \\\n",
    "This process will be repeated for three different datasets: \n",
    "1. Dataset on Relative Poverty\n",
    "2. Dataset on Net Wealth\n",
    "3. Dataset on Negative Net Wealth\n"
   ]
  },
  {
   "cell_type": "markdown",
   "metadata": {},
   "source": [
    "# I. Exploration of each dataset"
   ]
  },
  {
   "cell_type": "markdown",
   "metadata": {},
   "source": [
    "In order to be able to **explore the raw data**, you may provide **static** and **interactive plots** to show important developments "
   ]
  },
  {
   "cell_type": "markdown",
   "metadata": {},
   "source": [
    "**1.1 Data base of Relative Poverty**"
   ]
  },
  {
   "cell_type": "code",
   "execution_count": 3,
   "metadata": {},
   "outputs": [
    {
     "data": {
      "text/html": [
       "<div>\n",
       "<style scoped>\n",
       "    .dataframe tbody tr th:only-of-type {\n",
       "        vertical-align: middle;\n",
       "    }\n",
       "\n",
       "    .dataframe tbody tr th {\n",
       "        vertical-align: top;\n",
       "    }\n",
       "\n",
       "    .dataframe thead th {\n",
       "        text-align: right;\n",
       "    }\n",
       "</style>\n",
       "<table border=\"1\" class=\"dataframe\">\n",
       "  <thead>\n",
       "    <tr style=\"text-align: right;\">\n",
       "      <th></th>\n",
       "      <th>Unnamed: 0</th>\n",
       "      <th>2015</th>\n",
       "      <th>2016</th>\n",
       "      <th>2017</th>\n",
       "      <th>2018</th>\n",
       "      <th>2019</th>\n",
       "      <th>2020</th>\n",
       "      <th>2021</th>\n",
       "      <th>2022</th>\n",
       "    </tr>\n",
       "  </thead>\n",
       "  <tbody>\n",
       "    <tr>\n",
       "      <th>0</th>\n",
       "      <td>All Denmark</td>\n",
       "      <td>3.6</td>\n",
       "      <td>4.0</td>\n",
       "      <td>4.5</td>\n",
       "      <td>4.4</td>\n",
       "      <td>4.4</td>\n",
       "      <td>4.2</td>\n",
       "      <td>4.0</td>\n",
       "      <td>3.7</td>\n",
       "    </tr>\n",
       "    <tr>\n",
       "      <th>1</th>\n",
       "      <td>Capital municipalities</td>\n",
       "      <td>4.0</td>\n",
       "      <td>4.3</td>\n",
       "      <td>4.7</td>\n",
       "      <td>4.7</td>\n",
       "      <td>4.7</td>\n",
       "      <td>4.5</td>\n",
       "      <td>4.3</td>\n",
       "      <td>4.0</td>\n",
       "    </tr>\n",
       "    <tr>\n",
       "      <th>2</th>\n",
       "      <td>Metropolitan municipalities</td>\n",
       "      <td>4.0</td>\n",
       "      <td>4.4</td>\n",
       "      <td>5.0</td>\n",
       "      <td>5.1</td>\n",
       "      <td>5.2</td>\n",
       "      <td>5.0</td>\n",
       "      <td>5.0</td>\n",
       "      <td>4.6</td>\n",
       "    </tr>\n",
       "    <tr>\n",
       "      <th>3</th>\n",
       "      <td>Provincial municipalities</td>\n",
       "      <td>3.4</td>\n",
       "      <td>3.8</td>\n",
       "      <td>4.3</td>\n",
       "      <td>4.2</td>\n",
       "      <td>4.1</td>\n",
       "      <td>4.0</td>\n",
       "      <td>3.8</td>\n",
       "      <td>3.5</td>\n",
       "    </tr>\n",
       "    <tr>\n",
       "      <th>4</th>\n",
       "      <td>Commuter municipalities</td>\n",
       "      <td>2.7</td>\n",
       "      <td>3.2</td>\n",
       "      <td>3.7</td>\n",
       "      <td>3.5</td>\n",
       "      <td>3.5</td>\n",
       "      <td>3.3</td>\n",
       "      <td>3.1</td>\n",
       "      <td>2.9</td>\n",
       "    </tr>\n",
       "    <tr>\n",
       "      <th>...</th>\n",
       "      <td>...</td>\n",
       "      <td>...</td>\n",
       "      <td>...</td>\n",
       "      <td>...</td>\n",
       "      <td>...</td>\n",
       "      <td>...</td>\n",
       "      <td>...</td>\n",
       "      <td>...</td>\n",
       "      <td>...</td>\n",
       "    </tr>\n",
       "    <tr>\n",
       "      <th>99</th>\n",
       "      <td>Morsø</td>\n",
       "      <td>3.6</td>\n",
       "      <td>4.4</td>\n",
       "      <td>4.5</td>\n",
       "      <td>3.9</td>\n",
       "      <td>3.8</td>\n",
       "      <td>3.5</td>\n",
       "      <td>4.0</td>\n",
       "      <td>3.1</td>\n",
       "    </tr>\n",
       "    <tr>\n",
       "      <th>100</th>\n",
       "      <td>Rebild</td>\n",
       "      <td>2.2</td>\n",
       "      <td>2.3</td>\n",
       "      <td>2.8</td>\n",
       "      <td>2.6</td>\n",
       "      <td>2.6</td>\n",
       "      <td>2.5</td>\n",
       "      <td>2.1</td>\n",
       "      <td>1.9</td>\n",
       "    </tr>\n",
       "    <tr>\n",
       "      <th>101</th>\n",
       "      <td>Thisted</td>\n",
       "      <td>3.4</td>\n",
       "      <td>3.8</td>\n",
       "      <td>4.2</td>\n",
       "      <td>4.2</td>\n",
       "      <td>4.0</td>\n",
       "      <td>4.0</td>\n",
       "      <td>3.7</td>\n",
       "      <td>3.2</td>\n",
       "    </tr>\n",
       "    <tr>\n",
       "      <th>102</th>\n",
       "      <td>Vesthimmerlands</td>\n",
       "      <td>4.0</td>\n",
       "      <td>4.2</td>\n",
       "      <td>4.3</td>\n",
       "      <td>4.4</td>\n",
       "      <td>4.1</td>\n",
       "      <td>3.9</td>\n",
       "      <td>3.7</td>\n",
       "      <td>3.3</td>\n",
       "    </tr>\n",
       "    <tr>\n",
       "      <th>103</th>\n",
       "      <td>Aalborg</td>\n",
       "      <td>3.6</td>\n",
       "      <td>4.0</td>\n",
       "      <td>4.6</td>\n",
       "      <td>4.6</td>\n",
       "      <td>4.6</td>\n",
       "      <td>4.5</td>\n",
       "      <td>4.7</td>\n",
       "      <td>4.3</td>\n",
       "    </tr>\n",
       "  </tbody>\n",
       "</table>\n",
       "<p>104 rows × 9 columns</p>\n",
       "</div>"
      ],
      "text/plain": [
       "                      Unnamed: 0  2015  2016  2017  2018  2019  2020  2021  \\\n",
       "0                    All Denmark   3.6   4.0   4.5   4.4   4.4   4.2   4.0   \n",
       "1         Capital municipalities   4.0   4.3   4.7   4.7   4.7   4.5   4.3   \n",
       "2    Metropolitan municipalities   4.0   4.4   5.0   5.1   5.2   5.0   5.0   \n",
       "3      Provincial municipalities   3.4   3.8   4.3   4.2   4.1   4.0   3.8   \n",
       "4        Commuter municipalities   2.7   3.2   3.7   3.5   3.5   3.3   3.1   \n",
       "..                           ...   ...   ...   ...   ...   ...   ...   ...   \n",
       "99                         Morsø   3.6   4.4   4.5   3.9   3.8   3.5   4.0   \n",
       "100                       Rebild   2.2   2.3   2.8   2.6   2.6   2.5   2.1   \n",
       "101                      Thisted   3.4   3.8   4.2   4.2   4.0   4.0   3.7   \n",
       "102              Vesthimmerlands   4.0   4.2   4.3   4.4   4.1   3.9   3.7   \n",
       "103                      Aalborg   3.6   4.0   4.6   4.6   4.6   4.5   4.7   \n",
       "\n",
       "     2022  \n",
       "0     3.7  \n",
       "1     4.0  \n",
       "2     4.6  \n",
       "3     3.5  \n",
       "4     2.9  \n",
       "..    ...  \n",
       "99    3.1  \n",
       "100   1.9  \n",
       "101   3.2  \n",
       "102   3.3  \n",
       "103   4.3  \n",
       "\n",
       "[104 rows x 9 columns]"
      ]
     },
     "execution_count": 3,
     "metadata": {},
     "output_type": "execute_result"
    }
   ],
   "source": [
    "filename = 'relative_poverty.xlsx'\n",
    "rp_tot = pd.read_excel(filename, sheet_name= 'Age-total') #import dataset on relative poverty for all age groups\n",
    "rp_tot"
   ]
  },
  {
   "cell_type": "markdown",
   "metadata": {},
   "source": [
    "**1.2 Data base of Net Wealth**"
   ]
  },
  {
   "cell_type": "code",
   "execution_count": 4,
   "metadata": {},
   "outputs": [
    {
     "data": {
      "text/html": [
       "<div>\n",
       "<style scoped>\n",
       "    .dataframe tbody tr th:only-of-type {\n",
       "        vertical-align: middle;\n",
       "    }\n",
       "\n",
       "    .dataframe tbody tr th {\n",
       "        vertical-align: top;\n",
       "    }\n",
       "\n",
       "    .dataframe thead th {\n",
       "        text-align: right;\n",
       "    }\n",
       "</style>\n",
       "<table border=\"1\" class=\"dataframe\">\n",
       "  <thead>\n",
       "    <tr style=\"text-align: right;\">\n",
       "      <th></th>\n",
       "      <th>Unnamed: 0</th>\n",
       "      <th>2014</th>\n",
       "      <th>2015</th>\n",
       "      <th>2016</th>\n",
       "      <th>2017</th>\n",
       "      <th>2018</th>\n",
       "      <th>2019</th>\n",
       "      <th>2020</th>\n",
       "      <th>2021</th>\n",
       "      <th>2022</th>\n",
       "    </tr>\n",
       "  </thead>\n",
       "  <tbody>\n",
       "    <tr>\n",
       "      <th>0</th>\n",
       "      <td>All Denmark</td>\n",
       "      <td>424030</td>\n",
       "      <td>457967</td>\n",
       "      <td>493166</td>\n",
       "      <td>531665</td>\n",
       "      <td>547467</td>\n",
       "      <td>611289</td>\n",
       "      <td>675175</td>\n",
       "      <td>752900</td>\n",
       "      <td>701429</td>\n",
       "    </tr>\n",
       "    <tr>\n",
       "      <th>1</th>\n",
       "      <td>Capital municipalities</td>\n",
       "      <td>445701</td>\n",
       "      <td>490596</td>\n",
       "      <td>521797</td>\n",
       "      <td>553036</td>\n",
       "      <td>563836</td>\n",
       "      <td>614787</td>\n",
       "      <td>680900</td>\n",
       "      <td>739423</td>\n",
       "      <td>674498</td>\n",
       "    </tr>\n",
       "    <tr>\n",
       "      <th>2</th>\n",
       "      <td>Metropolitan municipalities</td>\n",
       "      <td>263825</td>\n",
       "      <td>286329</td>\n",
       "      <td>304603</td>\n",
       "      <td>322136</td>\n",
       "      <td>325931</td>\n",
       "      <td>357030</td>\n",
       "      <td>398168</td>\n",
       "      <td>442355</td>\n",
       "      <td>409333</td>\n",
       "    </tr>\n",
       "    <tr>\n",
       "      <th>3</th>\n",
       "      <td>Provincial municipalities</td>\n",
       "      <td>426021</td>\n",
       "      <td>460731</td>\n",
       "      <td>499840</td>\n",
       "      <td>544270</td>\n",
       "      <td>565146</td>\n",
       "      <td>637419</td>\n",
       "      <td>703306</td>\n",
       "      <td>790697</td>\n",
       "      <td>738875</td>\n",
       "    </tr>\n",
       "    <tr>\n",
       "      <th>4</th>\n",
       "      <td>Commuter municipalities</td>\n",
       "      <td>502740</td>\n",
       "      <td>538153</td>\n",
       "      <td>586441</td>\n",
       "      <td>641036</td>\n",
       "      <td>667947</td>\n",
       "      <td>752423</td>\n",
       "      <td>827744</td>\n",
       "      <td>936478</td>\n",
       "      <td>880420</td>\n",
       "    </tr>\n",
       "    <tr>\n",
       "      <th>...</th>\n",
       "      <td>...</td>\n",
       "      <td>...</td>\n",
       "      <td>...</td>\n",
       "      <td>...</td>\n",
       "      <td>...</td>\n",
       "      <td>...</td>\n",
       "      <td>...</td>\n",
       "      <td>...</td>\n",
       "      <td>...</td>\n",
       "      <td>...</td>\n",
       "    </tr>\n",
       "    <tr>\n",
       "      <th>99</th>\n",
       "      <td>Morsø</td>\n",
       "      <td>435593</td>\n",
       "      <td>481452</td>\n",
       "      <td>508168</td>\n",
       "      <td>551551</td>\n",
       "      <td>552895</td>\n",
       "      <td>607091</td>\n",
       "      <td>665579</td>\n",
       "      <td>724721</td>\n",
       "      <td>703391</td>\n",
       "    </tr>\n",
       "    <tr>\n",
       "      <th>100</th>\n",
       "      <td>Rebild</td>\n",
       "      <td>577328</td>\n",
       "      <td>588561</td>\n",
       "      <td>655969</td>\n",
       "      <td>677211</td>\n",
       "      <td>720565</td>\n",
       "      <td>776218</td>\n",
       "      <td>835553</td>\n",
       "      <td>940358</td>\n",
       "      <td>908467</td>\n",
       "    </tr>\n",
       "    <tr>\n",
       "      <th>101</th>\n",
       "      <td>Thisted</td>\n",
       "      <td>450150</td>\n",
       "      <td>483470</td>\n",
       "      <td>503645</td>\n",
       "      <td>556315</td>\n",
       "      <td>556535</td>\n",
       "      <td>616586</td>\n",
       "      <td>690912</td>\n",
       "      <td>772782</td>\n",
       "      <td>726938</td>\n",
       "    </tr>\n",
       "    <tr>\n",
       "      <th>102</th>\n",
       "      <td>Vesthimmerlands</td>\n",
       "      <td>440199</td>\n",
       "      <td>443381</td>\n",
       "      <td>491206</td>\n",
       "      <td>531309</td>\n",
       "      <td>534216</td>\n",
       "      <td>615582</td>\n",
       "      <td>672841</td>\n",
       "      <td>749516</td>\n",
       "      <td>723450</td>\n",
       "    </tr>\n",
       "    <tr>\n",
       "      <th>103</th>\n",
       "      <td>Aalborg</td>\n",
       "      <td>302125</td>\n",
       "      <td>321000</td>\n",
       "      <td>341666</td>\n",
       "      <td>368413</td>\n",
       "      <td>367373</td>\n",
       "      <td>397300</td>\n",
       "      <td>426836</td>\n",
       "      <td>475661</td>\n",
       "      <td>465491</td>\n",
       "    </tr>\n",
       "  </tbody>\n",
       "</table>\n",
       "<p>104 rows × 10 columns</p>\n",
       "</div>"
      ],
      "text/plain": [
       "                      Unnamed: 0    2014    2015    2016    2017    2018  \\\n",
       "0                    All Denmark  424030  457967  493166  531665  547467   \n",
       "1         Capital municipalities  445701  490596  521797  553036  563836   \n",
       "2    Metropolitan municipalities  263825  286329  304603  322136  325931   \n",
       "3      Provincial municipalities  426021  460731  499840  544270  565146   \n",
       "4        Commuter municipalities  502740  538153  586441  641036  667947   \n",
       "..                           ...     ...     ...     ...     ...     ...   \n",
       "99                         Morsø  435593  481452  508168  551551  552895   \n",
       "100                       Rebild  577328  588561  655969  677211  720565   \n",
       "101                      Thisted  450150  483470  503645  556315  556535   \n",
       "102              Vesthimmerlands  440199  443381  491206  531309  534216   \n",
       "103                      Aalborg  302125  321000  341666  368413  367373   \n",
       "\n",
       "       2019    2020    2021    2022  \n",
       "0    611289  675175  752900  701429  \n",
       "1    614787  680900  739423  674498  \n",
       "2    357030  398168  442355  409333  \n",
       "3    637419  703306  790697  738875  \n",
       "4    752423  827744  936478  880420  \n",
       "..      ...     ...     ...     ...  \n",
       "99   607091  665579  724721  703391  \n",
       "100  776218  835553  940358  908467  \n",
       "101  616586  690912  772782  726938  \n",
       "102  615582  672841  749516  723450  \n",
       "103  397300  426836  475661  465491  \n",
       "\n",
       "[104 rows x 10 columns]"
      ]
     },
     "execution_count": 4,
     "metadata": {},
     "output_type": "execute_result"
    }
   ],
   "source": [
    "filename2 = 'net_wealth.xlsx'\n",
    "nw_18_over = pd.read_excel(filename2, sheet_name= '18-over')\n",
    "nw_18_over"
   ]
  },
  {
   "cell_type": "markdown",
   "metadata": {},
   "source": [
    "**1.3 Data base of Negative Net Wealth**"
   ]
  },
  {
   "cell_type": "code",
   "execution_count": 5,
   "metadata": {},
   "outputs": [
    {
     "data": {
      "text/html": [
       "<div>\n",
       "<style scoped>\n",
       "    .dataframe tbody tr th:only-of-type {\n",
       "        vertical-align: middle;\n",
       "    }\n",
       "\n",
       "    .dataframe tbody tr th {\n",
       "        vertical-align: top;\n",
       "    }\n",
       "\n",
       "    .dataframe thead th {\n",
       "        text-align: right;\n",
       "    }\n",
       "</style>\n",
       "<table border=\"1\" class=\"dataframe\">\n",
       "  <thead>\n",
       "    <tr style=\"text-align: right;\">\n",
       "      <th></th>\n",
       "      <th>Unnamed: 0</th>\n",
       "      <th>2014</th>\n",
       "      <th>2015</th>\n",
       "      <th>2016</th>\n",
       "      <th>2017</th>\n",
       "      <th>2018</th>\n",
       "      <th>2019</th>\n",
       "      <th>2020</th>\n",
       "      <th>2021</th>\n",
       "      <th>2022</th>\n",
       "    </tr>\n",
       "  </thead>\n",
       "  <tbody>\n",
       "    <tr>\n",
       "      <th>0</th>\n",
       "      <td>All Denmark</td>\n",
       "      <td>12.0</td>\n",
       "      <td>11.3</td>\n",
       "      <td>10.7</td>\n",
       "      <td>9.9</td>\n",
       "      <td>9.7</td>\n",
       "      <td>9.0</td>\n",
       "      <td>9.7</td>\n",
       "      <td>9.4</td>\n",
       "      <td>9.6</td>\n",
       "    </tr>\n",
       "    <tr>\n",
       "      <th>1</th>\n",
       "      <td>Capital municipalities</td>\n",
       "      <td>10.5</td>\n",
       "      <td>9.9</td>\n",
       "      <td>9.4</td>\n",
       "      <td>8.9</td>\n",
       "      <td>8.9</td>\n",
       "      <td>8.4</td>\n",
       "      <td>9.3</td>\n",
       "      <td>9.3</td>\n",
       "      <td>9.4</td>\n",
       "    </tr>\n",
       "    <tr>\n",
       "      <th>2</th>\n",
       "      <td>Metropolitan municipalities</td>\n",
       "      <td>13.7</td>\n",
       "      <td>13.0</td>\n",
       "      <td>12.5</td>\n",
       "      <td>11.6</td>\n",
       "      <td>11.5</td>\n",
       "      <td>10.9</td>\n",
       "      <td>11.2</td>\n",
       "      <td>10.9</td>\n",
       "      <td>11.0</td>\n",
       "    </tr>\n",
       "    <tr>\n",
       "      <th>3</th>\n",
       "      <td>Provincial municipalities</td>\n",
       "      <td>12.1</td>\n",
       "      <td>11.3</td>\n",
       "      <td>10.7</td>\n",
       "      <td>9.8</td>\n",
       "      <td>9.6</td>\n",
       "      <td>8.9</td>\n",
       "      <td>9.6</td>\n",
       "      <td>9.4</td>\n",
       "      <td>9.6</td>\n",
       "    </tr>\n",
       "    <tr>\n",
       "      <th>4</th>\n",
       "      <td>Commuter municipalities</td>\n",
       "      <td>11.9</td>\n",
       "      <td>10.9</td>\n",
       "      <td>10.2</td>\n",
       "      <td>9.2</td>\n",
       "      <td>8.8</td>\n",
       "      <td>8.0</td>\n",
       "      <td>8.8</td>\n",
       "      <td>8.4</td>\n",
       "      <td>8.6</td>\n",
       "    </tr>\n",
       "    <tr>\n",
       "      <th>...</th>\n",
       "      <td>...</td>\n",
       "      <td>...</td>\n",
       "      <td>...</td>\n",
       "      <td>...</td>\n",
       "      <td>...</td>\n",
       "      <td>...</td>\n",
       "      <td>...</td>\n",
       "      <td>...</td>\n",
       "      <td>...</td>\n",
       "      <td>...</td>\n",
       "    </tr>\n",
       "    <tr>\n",
       "      <th>99</th>\n",
       "      <td>Morsø</td>\n",
       "      <td>11.6</td>\n",
       "      <td>10.6</td>\n",
       "      <td>10.5</td>\n",
       "      <td>9.8</td>\n",
       "      <td>9.8</td>\n",
       "      <td>9.8</td>\n",
       "      <td>9.9</td>\n",
       "      <td>9.4</td>\n",
       "      <td>8.8</td>\n",
       "    </tr>\n",
       "    <tr>\n",
       "      <th>100</th>\n",
       "      <td>Rebild</td>\n",
       "      <td>11.3</td>\n",
       "      <td>11.0</td>\n",
       "      <td>9.9</td>\n",
       "      <td>9.5</td>\n",
       "      <td>8.8</td>\n",
       "      <td>8.8</td>\n",
       "      <td>9.6</td>\n",
       "      <td>9.1</td>\n",
       "      <td>9.3</td>\n",
       "    </tr>\n",
       "    <tr>\n",
       "      <th>101</th>\n",
       "      <td>Thisted</td>\n",
       "      <td>12.4</td>\n",
       "      <td>11.9</td>\n",
       "      <td>11.6</td>\n",
       "      <td>10.5</td>\n",
       "      <td>10.6</td>\n",
       "      <td>9.8</td>\n",
       "      <td>9.7</td>\n",
       "      <td>9.2</td>\n",
       "      <td>9.2</td>\n",
       "    </tr>\n",
       "    <tr>\n",
       "      <th>102</th>\n",
       "      <td>Vesthimmerlands</td>\n",
       "      <td>12.5</td>\n",
       "      <td>12.2</td>\n",
       "      <td>11.2</td>\n",
       "      <td>10.2</td>\n",
       "      <td>10.2</td>\n",
       "      <td>9.4</td>\n",
       "      <td>10.1</td>\n",
       "      <td>10.0</td>\n",
       "      <td>9.4</td>\n",
       "    </tr>\n",
       "    <tr>\n",
       "      <th>103</th>\n",
       "      <td>Aalborg</td>\n",
       "      <td>14.5</td>\n",
       "      <td>14.0</td>\n",
       "      <td>13.5</td>\n",
       "      <td>12.4</td>\n",
       "      <td>12.4</td>\n",
       "      <td>11.9</td>\n",
       "      <td>12.1</td>\n",
       "      <td>11.9</td>\n",
       "      <td>11.9</td>\n",
       "    </tr>\n",
       "  </tbody>\n",
       "</table>\n",
       "<p>104 rows × 10 columns</p>\n",
       "</div>"
      ],
      "text/plain": [
       "                      Unnamed: 0  2014  2015  2016  2017  2018  2019  2020  \\\n",
       "0                    All Denmark  12.0  11.3  10.7   9.9   9.7   9.0   9.7   \n",
       "1         Capital municipalities  10.5   9.9   9.4   8.9   8.9   8.4   9.3   \n",
       "2    Metropolitan municipalities  13.7  13.0  12.5  11.6  11.5  10.9  11.2   \n",
       "3      Provincial municipalities  12.1  11.3  10.7   9.8   9.6   8.9   9.6   \n",
       "4        Commuter municipalities  11.9  10.9  10.2   9.2   8.8   8.0   8.8   \n",
       "..                           ...   ...   ...   ...   ...   ...   ...   ...   \n",
       "99                         Morsø  11.6  10.6  10.5   9.8   9.8   9.8   9.9   \n",
       "100                       Rebild  11.3  11.0   9.9   9.5   8.8   8.8   9.6   \n",
       "101                      Thisted  12.4  11.9  11.6  10.5  10.6   9.8   9.7   \n",
       "102              Vesthimmerlands  12.5  12.2  11.2  10.2  10.2   9.4  10.1   \n",
       "103                      Aalborg  14.5  14.0  13.5  12.4  12.4  11.9  12.1   \n",
       "\n",
       "     2021  2022  \n",
       "0     9.4   9.6  \n",
       "1     9.3   9.4  \n",
       "2    10.9  11.0  \n",
       "3     9.4   9.6  \n",
       "4     8.4   8.6  \n",
       "..    ...   ...  \n",
       "99    9.4   8.8  \n",
       "100   9.1   9.3  \n",
       "101   9.2   9.2  \n",
       "102  10.0   9.4  \n",
       "103  11.9  11.9  \n",
       "\n",
       "[104 rows x 10 columns]"
      ]
     },
     "execution_count": 5,
     "metadata": {},
     "output_type": "execute_result"
    }
   ],
   "source": [
    "filename3 = 'neg_net_wealth.xlsx'\n",
    "nnw_18_over = pd.read_excel(filename3, sheet_name= '18-over')\n",
    "nnw_18_over"
   ]
  },
  {
   "cell_type": "markdown",
   "metadata": {},
   "source": [
    "# II. Data bases cleaning"
   ]
  },
  {
   "cell_type": "code",
   "execution_count": 6,
   "metadata": {},
   "outputs": [],
   "source": [
    "# Rename columns by specifying a lambda function\n",
    "rp_tot.columns = rp_tot.columns.map(lambda x: 'location' if x == 'Unnamed: 0' else x + '_rp_tot' if x.isdigit() else x)\n",
    "#rp_tot"
   ]
  },
  {
   "cell_type": "code",
   "execution_count": 7,
   "metadata": {},
   "outputs": [],
   "source": [
    "#Here we import all the datasets on relative poverty, but considering the data for different age ranges\n",
    "rp_17 = pd.read_excel(filename, sheet_name= '0-17')\n",
    "rp_29 = pd.read_excel(filename, sheet_name= '18-29')\n",
    "rp_39 = pd.read_excel(filename, sheet_name= '30-39')\n",
    "rp_49 = pd.read_excel(filename, sheet_name= '40-49')\n",
    "rp_59 = pd.read_excel(filename, sheet_name= '50-59')\n",
    "rp_69 = pd.read_excel(filename, sheet_name= '60-69')\n",
    "rp_79 = pd.read_excel(filename, sheet_name= '70-79')\n",
    "rp_80 = pd.read_excel(filename, sheet_name= '80-onwards')\n",
    "\n",
    "#Here we rename all the columns in order to identify which age groups that column is referring to\n",
    "def rename_columns(df, suffix):\n",
    "    df.columns = df.columns.map(lambda x: 'location' if x == 'Unnamed: 0' else str(x) + suffix)\n",
    "    return df\n",
    "\n",
    "# Apply the renaming function to each DataFrame\n",
    "rp_17 = rename_columns(rp_17, '_rp_17')\n",
    "rp_29 = rename_columns(rp_29, '_rp_29')\n",
    "rp_39 = rename_columns(rp_39, '_rp_39')\n",
    "rp_49 = rename_columns(rp_49, '_rp_49')\n",
    "rp_59 = rename_columns(rp_59, '_rp_59')\n",
    "rp_69 = rename_columns(rp_69, '_rp_69')\n",
    "rp_79 = rename_columns(rp_79, '_rp_79')\n",
    "rp_80 = rename_columns(rp_80, '_rp_80')"
   ]
  },
  {
   "cell_type": "code",
   "execution_count": 8,
   "metadata": {},
   "outputs": [],
   "source": [
    "#Here we compute the same operations but using the Net Wealth dataset instead:\n",
    "\n",
    "#Renaming columns\n",
    "nw_18_over.columns = nw_18_over.columns.map(lambda x: 'location' if x == 'Unnamed: 0' else x + '_nw_18_over' if x.isdigit() else x)\n",
    "\n",
    "#Here we import all the datasets on net-wealth, but considering the data for different age ranges\n",
    "nw_29 = pd.read_excel(filename2, sheet_name= '18-29')\n",
    "nw_39 = pd.read_excel(filename2, sheet_name= '30-39')\n",
    "nw_49 = pd.read_excel(filename2, sheet_name= '40-49')\n",
    "nw_59 = pd.read_excel(filename2, sheet_name= '50-59')\n",
    "nw_69 = pd.read_excel(filename2, sheet_name= '60-69')\n",
    "nw_79 = pd.read_excel(filename2, sheet_name= '70-79')\n",
    "nw_80 = pd.read_excel(filename2, sheet_name= '80-onwards')\n",
    "\n",
    "def rename_columns(df, suffix):\n",
    "    df.columns = df.columns.map(lambda x: 'location' if x == 'Unnamed: 0' else str(x) + suffix)\n",
    "    return df\n",
    "\n",
    "# Apply the renaming function to each DataFrame\n",
    "nw_29 = rename_columns(nw_29, '_nw_29')\n",
    "nw_39 = rename_columns(nw_39, '_nw_39')\n",
    "nw_49 = rename_columns(nw_49, '_nw_49')\n",
    "nw_59 = rename_columns(nw_59, '_nw_59')\n",
    "nw_69 = rename_columns(nw_69, '_nw_69')\n",
    "nw_79 = rename_columns(nw_79, '_nw_79')\n",
    "nw_80 = rename_columns(nw_80, '_nw_80')"
   ]
  },
  {
   "cell_type": "code",
   "execution_count": 9,
   "metadata": {},
   "outputs": [],
   "source": [
    "#Here we compute the same operations but using the Negative Net Dataset instead:\n",
    "\n",
    "#Renaming columns\n",
    "nnw_18_over.columns = nnw_18_over.columns.map(lambda x: 'location' if x == 'Unnamed: 0' else x + '_nnw_18_over' if x.isdigit() else x)\n",
    "\n",
    "#Here we import all the datasets on net-wealth, but considering the data for different age ranges\n",
    "nnw_29 = pd.read_excel(filename3, sheet_name= '18-29')\n",
    "nnw_39 = pd.read_excel(filename3, sheet_name= '30-39')\n",
    "nnw_49 = pd.read_excel(filename3, sheet_name= '40-49')\n",
    "nnw_59 = pd.read_excel(filename3, sheet_name= '50-59')\n",
    "nnw_69 = pd.read_excel(filename3, sheet_name= '60-69')\n",
    "nnw_79 = pd.read_excel(filename3, sheet_name= '70-79')\n",
    "nnw_80 = pd.read_excel(filename3, sheet_name= '80-onwards')\n",
    "\n",
    "def rename_columns(df, suffix):\n",
    "    df.columns = df.columns.map(lambda x: 'location' if x == 'Unnamed: 0' else str(x) + suffix)\n",
    "    return df\n",
    "\n",
    "# Apply the renaming function to each DataFrame\n",
    "nnw_29 = rename_columns(nnw_29, '_nnw_29')\n",
    "nnw_39 = rename_columns(nnw_39, '_nnw_39')\n",
    "nnw_49 = rename_columns(nnw_49, '_nnw_49')\n",
    "nnw_59 = rename_columns(nnw_59, '_nnw_59')\n",
    "nnw_69 = rename_columns(nnw_69, '_nnw_69')\n",
    "nnw_79 = rename_columns(nnw_79, '_nnw_79')\n",
    "nnw_80 = rename_columns(nnw_80, '_nnw_80')\n",
    "\n",
    "# So far, we have 3 different types of data on relative poverty, net wealth and negative net wealth. \n",
    "# Each one of this data are divided in different datasets considering the different age groups"
   ]
  },
  {
   "cell_type": "markdown",
   "metadata": {},
   "source": [
    "# III. Datasets merging"
   ]
  },
  {
   "cell_type": "code",
   "execution_count": 10,
   "metadata": {},
   "outputs": [
    {
     "data": {
      "text/html": [
       "<div>\n",
       "<style scoped>\n",
       "    .dataframe tbody tr th:only-of-type {\n",
       "        vertical-align: middle;\n",
       "    }\n",
       "\n",
       "    .dataframe tbody tr th {\n",
       "        vertical-align: top;\n",
       "    }\n",
       "\n",
       "    .dataframe thead th {\n",
       "        text-align: right;\n",
       "    }\n",
       "</style>\n",
       "<table border=\"1\" class=\"dataframe\">\n",
       "  <thead>\n",
       "    <tr style=\"text-align: right;\">\n",
       "      <th></th>\n",
       "      <th>location</th>\n",
       "      <th>2015_rp_tot</th>\n",
       "      <th>2016_rp_tot</th>\n",
       "      <th>2017_rp_tot</th>\n",
       "      <th>2018_rp_tot</th>\n",
       "      <th>2019_rp_tot</th>\n",
       "      <th>2020_rp_tot</th>\n",
       "      <th>2021_rp_tot</th>\n",
       "      <th>2022_rp_tot</th>\n",
       "      <th>2015_rp_17</th>\n",
       "      <th>...</th>\n",
       "      <th>2021_rp_79</th>\n",
       "      <th>2022_rp_79</th>\n",
       "      <th>2015_rp_80</th>\n",
       "      <th>2016_rp_80</th>\n",
       "      <th>2017_rp_80</th>\n",
       "      <th>2018_rp_80</th>\n",
       "      <th>2019_rp_80</th>\n",
       "      <th>2020_rp_80</th>\n",
       "      <th>2021_rp_80</th>\n",
       "      <th>2022_rp_80</th>\n",
       "    </tr>\n",
       "  </thead>\n",
       "  <tbody>\n",
       "    <tr>\n",
       "      <th>0</th>\n",
       "      <td>All Denmark</td>\n",
       "      <td>3.6</td>\n",
       "      <td>4.0</td>\n",
       "      <td>4.5</td>\n",
       "      <td>4.4</td>\n",
       "      <td>4.4</td>\n",
       "      <td>4.2</td>\n",
       "      <td>4.0</td>\n",
       "      <td>3.7</td>\n",
       "      <td>3.8</td>\n",
       "      <td>...</td>\n",
       "      <td>0.8</td>\n",
       "      <td>0.7</td>\n",
       "      <td>0.7</td>\n",
       "      <td>0.7</td>\n",
       "      <td>0.7</td>\n",
       "      <td>0.7</td>\n",
       "      <td>0.7</td>\n",
       "      <td>0.8</td>\n",
       "      <td>1.0</td>\n",
       "      <td>0.8</td>\n",
       "    </tr>\n",
       "    <tr>\n",
       "      <th>1</th>\n",
       "      <td>Capital municipalities</td>\n",
       "      <td>4.0</td>\n",
       "      <td>4.3</td>\n",
       "      <td>4.7</td>\n",
       "      <td>4.7</td>\n",
       "      <td>4.7</td>\n",
       "      <td>4.5</td>\n",
       "      <td>4.3</td>\n",
       "      <td>4.0</td>\n",
       "      <td>3.9</td>\n",
       "      <td>...</td>\n",
       "      <td>1.1</td>\n",
       "      <td>0.9</td>\n",
       "      <td>1.0</td>\n",
       "      <td>0.9</td>\n",
       "      <td>1.0</td>\n",
       "      <td>0.9</td>\n",
       "      <td>0.9</td>\n",
       "      <td>1.0</td>\n",
       "      <td>1.3</td>\n",
       "      <td>1.0</td>\n",
       "    </tr>\n",
       "    <tr>\n",
       "      <th>2</th>\n",
       "      <td>Metropolitan municipalities</td>\n",
       "      <td>4.0</td>\n",
       "      <td>4.4</td>\n",
       "      <td>5.0</td>\n",
       "      <td>5.1</td>\n",
       "      <td>5.2</td>\n",
       "      <td>5.0</td>\n",
       "      <td>5.0</td>\n",
       "      <td>4.6</td>\n",
       "      <td>4.1</td>\n",
       "      <td>...</td>\n",
       "      <td>0.8</td>\n",
       "      <td>0.6</td>\n",
       "      <td>0.9</td>\n",
       "      <td>0.8</td>\n",
       "      <td>0.9</td>\n",
       "      <td>0.7</td>\n",
       "      <td>0.9</td>\n",
       "      <td>0.8</td>\n",
       "      <td>1.2</td>\n",
       "      <td>0.9</td>\n",
       "    </tr>\n",
       "    <tr>\n",
       "      <th>3</th>\n",
       "      <td>Provincial municipalities</td>\n",
       "      <td>3.4</td>\n",
       "      <td>3.8</td>\n",
       "      <td>4.3</td>\n",
       "      <td>4.2</td>\n",
       "      <td>4.1</td>\n",
       "      <td>4.0</td>\n",
       "      <td>3.8</td>\n",
       "      <td>3.5</td>\n",
       "      <td>3.5</td>\n",
       "      <td>...</td>\n",
       "      <td>0.7</td>\n",
       "      <td>0.6</td>\n",
       "      <td>0.6</td>\n",
       "      <td>0.6</td>\n",
       "      <td>0.7</td>\n",
       "      <td>0.6</td>\n",
       "      <td>0.7</td>\n",
       "      <td>0.7</td>\n",
       "      <td>0.9</td>\n",
       "      <td>0.7</td>\n",
       "    </tr>\n",
       "    <tr>\n",
       "      <th>4</th>\n",
       "      <td>Commuter municipalities</td>\n",
       "      <td>2.7</td>\n",
       "      <td>3.2</td>\n",
       "      <td>3.7</td>\n",
       "      <td>3.5</td>\n",
       "      <td>3.5</td>\n",
       "      <td>3.3</td>\n",
       "      <td>3.1</td>\n",
       "      <td>2.9</td>\n",
       "      <td>3.0</td>\n",
       "      <td>...</td>\n",
       "      <td>0.6</td>\n",
       "      <td>0.5</td>\n",
       "      <td>0.7</td>\n",
       "      <td>0.6</td>\n",
       "      <td>0.6</td>\n",
       "      <td>0.6</td>\n",
       "      <td>0.6</td>\n",
       "      <td>0.7</td>\n",
       "      <td>0.9</td>\n",
       "      <td>0.7</td>\n",
       "    </tr>\n",
       "    <tr>\n",
       "      <th>...</th>\n",
       "      <td>...</td>\n",
       "      <td>...</td>\n",
       "      <td>...</td>\n",
       "      <td>...</td>\n",
       "      <td>...</td>\n",
       "      <td>...</td>\n",
       "      <td>...</td>\n",
       "      <td>...</td>\n",
       "      <td>...</td>\n",
       "      <td>...</td>\n",
       "      <td>...</td>\n",
       "      <td>...</td>\n",
       "      <td>...</td>\n",
       "      <td>...</td>\n",
       "      <td>...</td>\n",
       "      <td>...</td>\n",
       "      <td>...</td>\n",
       "      <td>...</td>\n",
       "      <td>...</td>\n",
       "      <td>...</td>\n",
       "      <td>...</td>\n",
       "    </tr>\n",
       "    <tr>\n",
       "      <th>99</th>\n",
       "      <td>Morsø</td>\n",
       "      <td>3.6</td>\n",
       "      <td>4.4</td>\n",
       "      <td>4.5</td>\n",
       "      <td>3.9</td>\n",
       "      <td>3.8</td>\n",
       "      <td>3.5</td>\n",
       "      <td>4.0</td>\n",
       "      <td>3.1</td>\n",
       "      <td>5.7</td>\n",
       "      <td>...</td>\n",
       "      <td>1.0</td>\n",
       "      <td>0.4</td>\n",
       "      <td>0.4</td>\n",
       "      <td>0.3</td>\n",
       "      <td>0.4</td>\n",
       "      <td>0.4</td>\n",
       "      <td>0.8</td>\n",
       "      <td>0.2</td>\n",
       "      <td>0.8</td>\n",
       "      <td>0.4</td>\n",
       "    </tr>\n",
       "    <tr>\n",
       "      <th>100</th>\n",
       "      <td>Rebild</td>\n",
       "      <td>2.2</td>\n",
       "      <td>2.3</td>\n",
       "      <td>2.8</td>\n",
       "      <td>2.6</td>\n",
       "      <td>2.6</td>\n",
       "      <td>2.5</td>\n",
       "      <td>2.1</td>\n",
       "      <td>1.9</td>\n",
       "      <td>2.1</td>\n",
       "      <td>...</td>\n",
       "      <td>0.7</td>\n",
       "      <td>0.4</td>\n",
       "      <td>0.2</td>\n",
       "      <td>0.4</td>\n",
       "      <td>0.4</td>\n",
       "      <td>0.3</td>\n",
       "      <td>0.2</td>\n",
       "      <td>0.8</td>\n",
       "      <td>0.7</td>\n",
       "      <td>0.6</td>\n",
       "    </tr>\n",
       "    <tr>\n",
       "      <th>101</th>\n",
       "      <td>Thisted</td>\n",
       "      <td>3.4</td>\n",
       "      <td>3.8</td>\n",
       "      <td>4.2</td>\n",
       "      <td>4.2</td>\n",
       "      <td>4.0</td>\n",
       "      <td>4.0</td>\n",
       "      <td>3.7</td>\n",
       "      <td>3.2</td>\n",
       "      <td>4.5</td>\n",
       "      <td>...</td>\n",
       "      <td>0.7</td>\n",
       "      <td>0.7</td>\n",
       "      <td>0.4</td>\n",
       "      <td>0.4</td>\n",
       "      <td>0.5</td>\n",
       "      <td>0.5</td>\n",
       "      <td>0.5</td>\n",
       "      <td>0.7</td>\n",
       "      <td>0.9</td>\n",
       "      <td>0.6</td>\n",
       "    </tr>\n",
       "    <tr>\n",
       "      <th>102</th>\n",
       "      <td>Vesthimmerlands</td>\n",
       "      <td>4.0</td>\n",
       "      <td>4.2</td>\n",
       "      <td>4.3</td>\n",
       "      <td>4.4</td>\n",
       "      <td>4.1</td>\n",
       "      <td>3.9</td>\n",
       "      <td>3.7</td>\n",
       "      <td>3.3</td>\n",
       "      <td>5.6</td>\n",
       "      <td>...</td>\n",
       "      <td>0.8</td>\n",
       "      <td>0.5</td>\n",
       "      <td>0.3</td>\n",
       "      <td>0.4</td>\n",
       "      <td>0.2</td>\n",
       "      <td>0.5</td>\n",
       "      <td>0.6</td>\n",
       "      <td>1.0</td>\n",
       "      <td>0.7</td>\n",
       "      <td>0.6</td>\n",
       "    </tr>\n",
       "    <tr>\n",
       "      <th>103</th>\n",
       "      <td>Aalborg</td>\n",
       "      <td>3.6</td>\n",
       "      <td>4.0</td>\n",
       "      <td>4.6</td>\n",
       "      <td>4.6</td>\n",
       "      <td>4.6</td>\n",
       "      <td>4.5</td>\n",
       "      <td>4.7</td>\n",
       "      <td>4.3</td>\n",
       "      <td>3.2</td>\n",
       "      <td>...</td>\n",
       "      <td>0.6</td>\n",
       "      <td>0.5</td>\n",
       "      <td>0.6</td>\n",
       "      <td>0.5</td>\n",
       "      <td>0.7</td>\n",
       "      <td>0.6</td>\n",
       "      <td>0.6</td>\n",
       "      <td>0.6</td>\n",
       "      <td>0.9</td>\n",
       "      <td>0.6</td>\n",
       "    </tr>\n",
       "  </tbody>\n",
       "</table>\n",
       "<p>104 rows × 73 columns</p>\n",
       "</div>"
      ],
      "text/plain": [
       "                        location  2015_rp_tot  2016_rp_tot  2017_rp_tot  \\\n",
       "0                    All Denmark          3.6          4.0          4.5   \n",
       "1         Capital municipalities          4.0          4.3          4.7   \n",
       "2    Metropolitan municipalities          4.0          4.4          5.0   \n",
       "3      Provincial municipalities          3.4          3.8          4.3   \n",
       "4        Commuter municipalities          2.7          3.2          3.7   \n",
       "..                           ...          ...          ...          ...   \n",
       "99                         Morsø          3.6          4.4          4.5   \n",
       "100                       Rebild          2.2          2.3          2.8   \n",
       "101                      Thisted          3.4          3.8          4.2   \n",
       "102              Vesthimmerlands          4.0          4.2          4.3   \n",
       "103                      Aalborg          3.6          4.0          4.6   \n",
       "\n",
       "     2018_rp_tot  2019_rp_tot  2020_rp_tot  2021_rp_tot  2022_rp_tot  \\\n",
       "0            4.4          4.4          4.2          4.0          3.7   \n",
       "1            4.7          4.7          4.5          4.3          4.0   \n",
       "2            5.1          5.2          5.0          5.0          4.6   \n",
       "3            4.2          4.1          4.0          3.8          3.5   \n",
       "4            3.5          3.5          3.3          3.1          2.9   \n",
       "..           ...          ...          ...          ...          ...   \n",
       "99           3.9          3.8          3.5          4.0          3.1   \n",
       "100          2.6          2.6          2.5          2.1          1.9   \n",
       "101          4.2          4.0          4.0          3.7          3.2   \n",
       "102          4.4          4.1          3.9          3.7          3.3   \n",
       "103          4.6          4.6          4.5          4.7          4.3   \n",
       "\n",
       "     2015_rp_17  ...  2021_rp_79  2022_rp_79  2015_rp_80  2016_rp_80  \\\n",
       "0           3.8  ...         0.8         0.7         0.7         0.7   \n",
       "1           3.9  ...         1.1         0.9         1.0         0.9   \n",
       "2           4.1  ...         0.8         0.6         0.9         0.8   \n",
       "3           3.5  ...         0.7         0.6         0.6         0.6   \n",
       "4           3.0  ...         0.6         0.5         0.7         0.6   \n",
       "..          ...  ...         ...         ...         ...         ...   \n",
       "99          5.7  ...         1.0         0.4         0.4         0.3   \n",
       "100         2.1  ...         0.7         0.4         0.2         0.4   \n",
       "101         4.5  ...         0.7         0.7         0.4         0.4   \n",
       "102         5.6  ...         0.8         0.5         0.3         0.4   \n",
       "103         3.2  ...         0.6         0.5         0.6         0.5   \n",
       "\n",
       "     2017_rp_80  2018_rp_80  2019_rp_80  2020_rp_80  2021_rp_80  2022_rp_80  \n",
       "0           0.7         0.7         0.7         0.8         1.0         0.8  \n",
       "1           1.0         0.9         0.9         1.0         1.3         1.0  \n",
       "2           0.9         0.7         0.9         0.8         1.2         0.9  \n",
       "3           0.7         0.6         0.7         0.7         0.9         0.7  \n",
       "4           0.6         0.6         0.6         0.7         0.9         0.7  \n",
       "..          ...         ...         ...         ...         ...         ...  \n",
       "99          0.4         0.4         0.8         0.2         0.8         0.4  \n",
       "100         0.4         0.3         0.2         0.8         0.7         0.6  \n",
       "101         0.5         0.5         0.5         0.7         0.9         0.6  \n",
       "102         0.2         0.5         0.6         1.0         0.7         0.6  \n",
       "103         0.7         0.6         0.6         0.6         0.9         0.6  \n",
       "\n",
       "[104 rows x 73 columns]"
      ]
     },
     "execution_count": 10,
     "metadata": {},
     "output_type": "execute_result"
    }
   ],
   "source": [
    "#Here we combine our datasets on relative poverty, in order to have just one with all the different age ranges specified\n",
    "datasets = [rp_17, rp_29, rp_39, rp_49, rp_59, rp_69, rp_79, rp_80]\n",
    "\n",
    "# Initialize the merged dataset with the first dataset\n",
    "merged_rp = rp_tot\n",
    "\n",
    "# Iterate over each dataset and merge with the merged dataset\n",
    "for dataset in datasets:\n",
    "    merged_rp = merged_rp.merge(dataset, on='location')\n",
    "\n",
    "# Print the merged dataset\n",
    "merged_rp"
   ]
  },
  {
   "cell_type": "code",
   "execution_count": 11,
   "metadata": {},
   "outputs": [
    {
     "data": {
      "text/html": [
       "<div>\n",
       "<style scoped>\n",
       "    .dataframe tbody tr th:only-of-type {\n",
       "        vertical-align: middle;\n",
       "    }\n",
       "\n",
       "    .dataframe tbody tr th {\n",
       "        vertical-align: top;\n",
       "    }\n",
       "\n",
       "    .dataframe thead th {\n",
       "        text-align: right;\n",
       "    }\n",
       "</style>\n",
       "<table border=\"1\" class=\"dataframe\">\n",
       "  <thead>\n",
       "    <tr style=\"text-align: right;\">\n",
       "      <th></th>\n",
       "      <th>location</th>\n",
       "      <th>year</th>\n",
       "      <th>relative_poverty</th>\n",
       "    </tr>\n",
       "  </thead>\n",
       "  <tbody>\n",
       "    <tr>\n",
       "      <th>0</th>\n",
       "      <td>All Denmark</td>\n",
       "      <td>2015_rp_tot</td>\n",
       "      <td>3.6</td>\n",
       "    </tr>\n",
       "    <tr>\n",
       "      <th>1</th>\n",
       "      <td>Capital municipalities</td>\n",
       "      <td>2015_rp_tot</td>\n",
       "      <td>4.0</td>\n",
       "    </tr>\n",
       "    <tr>\n",
       "      <th>2</th>\n",
       "      <td>Metropolitan municipalities</td>\n",
       "      <td>2015_rp_tot</td>\n",
       "      <td>4.0</td>\n",
       "    </tr>\n",
       "    <tr>\n",
       "      <th>3</th>\n",
       "      <td>Provincial municipalities</td>\n",
       "      <td>2015_rp_tot</td>\n",
       "      <td>3.4</td>\n",
       "    </tr>\n",
       "    <tr>\n",
       "      <th>4</th>\n",
       "      <td>Commuter municipalities</td>\n",
       "      <td>2015_rp_tot</td>\n",
       "      <td>2.7</td>\n",
       "    </tr>\n",
       "    <tr>\n",
       "      <th>...</th>\n",
       "      <td>...</td>\n",
       "      <td>...</td>\n",
       "      <td>...</td>\n",
       "    </tr>\n",
       "    <tr>\n",
       "      <th>499</th>\n",
       "      <td>Metropolitan municipalities</td>\n",
       "      <td>2022_rp_80</td>\n",
       "      <td>0.9</td>\n",
       "    </tr>\n",
       "    <tr>\n",
       "      <th>500</th>\n",
       "      <td>Provincial municipalities</td>\n",
       "      <td>2022_rp_80</td>\n",
       "      <td>0.7</td>\n",
       "    </tr>\n",
       "    <tr>\n",
       "      <th>501</th>\n",
       "      <td>Commuter municipalities</td>\n",
       "      <td>2022_rp_80</td>\n",
       "      <td>0.7</td>\n",
       "    </tr>\n",
       "    <tr>\n",
       "      <th>502</th>\n",
       "      <td>Rural municipalities</td>\n",
       "      <td>2022_rp_80</td>\n",
       "      <td>0.7</td>\n",
       "    </tr>\n",
       "    <tr>\n",
       "      <th>503</th>\n",
       "      <td>Copenhagen</td>\n",
       "      <td>2022_rp_80</td>\n",
       "      <td>1.4</td>\n",
       "    </tr>\n",
       "  </tbody>\n",
       "</table>\n",
       "<p>504 rows × 3 columns</p>\n",
       "</div>"
      ],
      "text/plain": [
       "                        location         year  relative_poverty\n",
       "0                    All Denmark  2015_rp_tot               3.6\n",
       "1         Capital municipalities  2015_rp_tot               4.0\n",
       "2    Metropolitan municipalities  2015_rp_tot               4.0\n",
       "3      Provincial municipalities  2015_rp_tot               3.4\n",
       "4        Commuter municipalities  2015_rp_tot               2.7\n",
       "..                           ...          ...               ...\n",
       "499  Metropolitan municipalities   2022_rp_80               0.9\n",
       "500    Provincial municipalities   2022_rp_80               0.7\n",
       "501      Commuter municipalities   2022_rp_80               0.7\n",
       "502         Rural municipalities   2022_rp_80               0.7\n",
       "503                   Copenhagen   2022_rp_80               1.4\n",
       "\n",
       "[504 rows x 3 columns]"
      ]
     },
     "execution_count": 11,
     "metadata": {},
     "output_type": "execute_result"
    }
   ],
   "source": [
    "#Here we sliced the dataset for relative poverty in order to keep just the first rows, excluding all the municipalities\n",
    "merged_rp_final = merged_rp.iloc[:7]\n",
    "\n",
    "#Here we just flip the dataset, to make it easier to read\n",
    "rp_long = pd.melt(merged_rp_final, id_vars=['location'], var_name='year', value_name='relative_poverty')\n",
    "merged_rp_final #this is the same initial shape\n",
    "#this is a flipped data base\n",
    "rp_long "
   ]
  },
  {
   "cell_type": "code",
   "execution_count": 12,
   "metadata": {},
   "outputs": [
    {
     "name": "stdout",
     "output_type": "stream",
     "text": [
      "                      location  year  relative_poverty age_group\n",
      "0                  All Denmark  2015               3.6    rp_tot\n",
      "1       Capital municipalities  2015               4.0    rp_tot\n",
      "2  Metropolitan municipalities  2015               4.0    rp_tot\n",
      "3    Provincial municipalities  2015               3.4    rp_tot\n",
      "4      Commuter municipalities  2015               2.7    rp_tot\n"
     ]
    }
   ],
   "source": [
    "#Then, we split this dataset to create two different columns for year and age-group:\n",
    "\n",
    "# Perform the split operation and assign it to a temporary variable\n",
    "split_columns = rp_long['year'].str.split('_', expand=True)\n",
    "\n",
    "# Combine the last two parts for the 'age_group'\n",
    "split_columns['age_group'] = split_columns[1] + \"_\" + split_columns[2]\n",
    "\n",
    "# Now, assign the first part to 'year' and the combined part to 'age_group'\n",
    "rp_long['year'] = split_columns[0].astype(int)  # Convert 'year' to an integer\n",
    "rp_long['age_group'] = split_columns['age_group']\n",
    "\n",
    "# Check the DataFrame to ensure the changes are as expected\n",
    "print(rp_long.head())"
   ]
  },
  {
   "cell_type": "code",
   "execution_count": 13,
   "metadata": {},
   "outputs": [],
   "source": [
    "#we perform the same coding to the datasets on net wealth and negative net wealth:\n",
    "\n",
    "# Merging datasets on net wealth:\n",
    "datasets = [nw_29, nw_39, nw_49, nw_59, nw_69, nw_79, nw_80]\n",
    "\n",
    "# Initialize the merged dataset with the first dataset\n",
    "merged_nw = nw_18_over\n",
    "\n",
    "# Iterate over each dataset and merge with the merged dataset\n",
    "for dataset in datasets:\n",
    "    merged_nw = merged_nw.merge(dataset, on='location')\n",
    "\n",
    "#Here we sliced the dataset for net-wealth in order to keep just the first rows\n",
    "merged_nw_final = merged_nw.iloc[:7]\n",
    "merged_nw_final\n",
    "\n",
    "#Here we just flip the dataset, to make it easier to read\n",
    "nw_long = pd.melt(merged_nw_final, id_vars=['location'], var_name='year', value_name='net_wealth')\n",
    "nw_long\n",
    "\n",
    "# Perform the split operation and assign it to a temporary variable\n",
    "split_columns = nw_long['year'].str.split('_', expand=True)\n",
    "\n",
    "# Combine the last two parts for the 'age_group'\n",
    "split_columns['age_group'] = split_columns[1] + \"_\" + split_columns[2]\n",
    "\n",
    "# Now, assign the first part to 'year' and the combined part to 'age_group'\n",
    "nw_long['year'] = split_columns[0].astype(int)  # Convert 'year' to an integer\n",
    "nw_long['age_group'] = split_columns['age_group']"
   ]
  },
  {
   "cell_type": "code",
   "execution_count": 14,
   "metadata": {},
   "outputs": [],
   "source": [
    "# Merging datasets on negative net wealth\n",
    "datasets = [nnw_29, nnw_39, nnw_49, nnw_59, nnw_69, nnw_79, nnw_80]\n",
    "\n",
    "# Initialize the merged dataset with the first dataset\n",
    "merged_nnw = nnw_18_over\n",
    "\n",
    "# Iterate over each dataset and merge with the merged dataset\n",
    "for dataset in datasets:\n",
    "    merged_nnw = merged_nnw.merge(dataset, on='location')\n",
    "\n",
    "merged_nnw_final = merged_nnw.iloc[:7]\n",
    "nnw_long = pd.melt(merged_nnw_final, id_vars=['location'], var_name='year', value_name='negative_net_wealth')\n",
    "merged_nnw_final #this is the same initial shape\n",
    "nnw_long #this is flipped\n",
    "\n",
    "# Perform the split operation and assign it to a temporary variable\n",
    "split_columns = nnw_long['year'].str.split('_', expand=True)\n",
    "\n",
    "# Combine the last two parts for the 'age_group'\n",
    "split_columns['age_group'] = split_columns[1] + \"_\" + split_columns[2]\n",
    "\n",
    "# Now, assign the first part to 'year' and the combined part to 'age_group'\n",
    "nnw_long['year'] = split_columns[0].astype(int)  # Convert 'year' to an integer\n",
    "nnw_long['age_group'] = split_columns['age_group']"
   ]
  },
  {
   "cell_type": "markdown",
   "metadata": {},
   "source": [
    "# IV. Analysis of the datasets"
   ]
  },
  {
   "cell_type": "markdown",
   "metadata": {},
   "source": [
    "**4.1 Analysis of relative poverty by types of municipalities in Denmark (2015-2022)**"
   ]
  },
  {
   "cell_type": "markdown",
   "metadata": {},
   "source": [
    "When analyzing the dataset on relative poverty it is interesting to plot it over time by types of municipality. To do this we consider all age groups together. What we can see from the graph below is that the areas with the highest relative poverty are the Capital and the Metropolitan municipalities, with Copenhagen standing out with its high rate.\n",
    "\n",
    "Moreover, it is possible to see from this graph that in general since 2019 relative poverty seems to be diminishing all over Denmark, which is interesting since the years after 2019 can be identifyed as the post-Covid years.\n",
    "\n",
    "When comparing these data with the negative net wealth data, it is possible to identify a similar trend, with people in the Metropolitan municipalities and specifically in Copenhagen displaying the highest share of borrowing, which makes intuitevely sense since the possibility of affording a house in the metropolitan cities can push a lot of people into borrowing more. "
   ]
  },
  {
   "cell_type": "code",
   "execution_count": 15,
   "metadata": {},
   "outputs": [
    {
     "data": {
      "image/png": "[encoded data removed]",
      "text/plain": [
       "<Figure size 1000x1200 with 2 Axes>"
      ]
     },
     "metadata": {},
     "output_type": "display_data"
    }
   ],
   "source": [
    "# Create subplots with 2 rows and 1 column\n",
    "fig, axes = plt.subplots(nrows=2, ncols=1, figsize=(10, 12))\n",
    "\n",
    "# Plot for Total Relative Poverty Rate Over Time by Municipality\n",
    "rp_tot_data = rp_long[rp_long['age_group'] == 'rp_tot']\n",
    "for municipality in rp_tot_data['location'].unique():\n",
    "    data = rp_tot_data[rp_tot_data['location'] == municipality]\n",
    "    if municipality == 'All Denmark':\n",
    "        axes[0].plot(data['year'], data['relative_poverty'], label=municipality)\n",
    "    else:\n",
    "        axes[0].plot(data['year'], data['relative_poverty'], marker='o', markersize=4, linestyle='dotted', label=municipality)\n",
    "\n",
    "axes[0].set_xlabel('Year')\n",
    "axes[0].set_ylabel('Relative poverty rate (%)')\n",
    "axes[0].set_title('Total relative poverty rate over time by municipality')\n",
    "axes[0].legend()\n",
    "axes[0].tick_params(axis='x', rotation=0)\n",
    "\n",
    "# Plot for Total Negative Net Wealth Over Time by Municipality\n",
    "nnw_18_data = nnw_long[nnw_long['age_group'] == 'nnw_18']\n",
    "for municipality in nnw_18_data['location'].unique():\n",
    "    data = nnw_18_data[nnw_18_data['location'] == municipality]\n",
    "    if municipality == 'All Denmark':\n",
    "        axes[1].plot(data['year'], data['negative_net_wealth'], label=municipality)\n",
    "    else:\n",
    "        axes[1].plot(data['year'], data['negative_net_wealth'], marker='o', markersize=4, linestyle='dotted', label=municipality)\n",
    "\n",
    "axes[1].set_xlabel('Year')\n",
    "axes[1].set_ylabel('Negative net wealth (%)')\n",
    "axes[1].set_title('Total negative net wealth over time by municipality')\n",
    "axes[1].legend()\n",
    "axes[1].tick_params(axis='x', rotation=0)\n",
    "\n",
    "plt.tight_layout()\n",
    "plt.show()\n"
   ]
  },
  {
   "cell_type": "markdown",
   "metadata": {},
   "source": [
    "**4.2 Analysis of the negative net wealth and relative poverty by age groups in Denmark (2019 & 2022)**"
   ]
  },
  {
   "cell_type": "markdown",
   "metadata": {},
   "source": [
    "We can plot the negative net wealth and the relative poverty across age groups in all Denmark. In the graph below be compared pre-Covid and post-Covid data and the results show that younger people are the ones most affected by relative poverty. In particular people in the age group between 18-29 are the highest affected by it, almost doubling the average rate for all ages. For them, in the post-Covid years we can see a trend of decreasing relative poverty, while for most of the other age groups there is no difference over time.\n",
    "\n",
    "A similar pattern is also found with regards to negative net wealth, with again younger people displaying higher values. Summarizing younger people are the one that are more in risk of relative poverty and they are also the one with the highest share of negative net wealth."
   ]
  },
  {
   "cell_type": "code",
   "execution_count": 16,
   "metadata": {},
   "outputs": [
    {
     "data": {
      "image/png": "[encoded data removed]",
      "text/plain": [
       "<Figure size 1500x600 with 2 Axes>"
      ]
     },
     "metadata": {},
     "output_type": "display_data"
    }
   ],
   "source": [
    "import seaborn as sns\n",
    "# Filter the DataFrame to include only observations for \"All Denmark\" and years 2019 and 2022 for negative net wealth\n",
    "all_denmark_data = nnw_long[(nnw_long['location'] == 'All Denmark') & (nnw_long['year'].isin([2019, 2022]))].copy()\n",
    "# Convert 'year' column to categorical\n",
    "all_denmark_data['year'] = all_denmark_data['year'].astype(str)\n",
    "\n",
    "# Filter the DataFrame to include only observations for \"All Denmark\" and years 2019 and 2022 for relative poverty\n",
    "all_denmark_data2 = rp_long[(rp_long['location'] == 'All Denmark') & (rp_long['year'].isin([2019, 2022]))].copy()\n",
    "# Convert 'year' column to categorical\n",
    "all_denmark_data2['year'] = all_denmark_data2['year'].astype(str)\n",
    "\n",
    "# Set custom palette and labels\n",
    "custom_palette = [\"blue\", \"red\"]\n",
    "custom_labels1 = ['18+', '18-29', '30-39', '40-49', '50-59', '60-69', '70-79', '80+']\n",
    "custom_labels2 = ['All Ages','0-17', '18-29', '30-39', '40-49', '50-59', '60-69', '70-79', '80+']\n",
    "\n",
    "# Create subplots\n",
    "fig, axs = plt.subplots(1, 2, figsize=(15, 6))\n",
    "\n",
    "# Plot for negative net wealth\n",
    "sns.barplot(x='age_group', y='negative_net_wealth', hue='year', data=all_denmark_data, palette=custom_palette, ax=axs[0])\n",
    "axs[0].set_xlabel('Age group')\n",
    "axs[0].set_ylabel('Negative net wealth')\n",
    "axs[0].set_title('Negative net wealth across age groups in Denmark (Years 2019 and 2022)')\n",
    "axs[0].set_xticks(range(len(custom_labels1)))\n",
    "axs[0].set_xticklabels(custom_labels1, rotation=0)\n",
    "\n",
    "# Plot for relative poverty\n",
    "sns.barplot(x='age_group', y='relative_poverty', hue='year', data=all_denmark_data2, palette=custom_palette, ax=axs[1])\n",
    "axs[1].set_xlabel('Age group')\n",
    "axs[1].set_ylabel('Relative poverty')\n",
    "axs[1].set_title('Relative poverty across age groups in Denmark (Years 2019 and 2022)')\n",
    "axs[1].set_xticks(range(len(custom_labels2)))\n",
    "axs[1].set_xticklabels(custom_labels2, rotation=0)\n",
    "\n",
    "# Add legend to the second plot with both years\n",
    "handles, _ = axs[1].get_legend_handles_labels()\n",
    "axs[1].legend(handles, ['2019', '2022'], title='Year', loc='best')\n",
    "\n",
    "# Adjust layout\n",
    "plt.tight_layout()\n",
    "\n",
    "# Show plot\n",
    "plt.show()"
   ]
  },
  {
   "cell_type": "markdown",
   "metadata": {},
   "source": [
    "**4.3 Relation between relative poverty and negative net wealth by groups of municipalities (2019 & 2022)**"
   ]
  },
  {
   "cell_type": "markdown",
   "metadata": {},
   "source": [
    "This section compared the variation of the relative poverty and the debt accumulation mainly comparing the year before and after COVID-19."
   ]
  },
  {
   "cell_type": "code",
   "execution_count": 17,
   "metadata": {},
   "outputs": [
    {
     "name": "stderr",
     "output_type": "stream",
     "text": [
      "/var/folders/0x/ldhnxm1x2mx_k4f4xzjl26fm0000gn/T/ipykernel_94612/3283776496.py:9: FutureWarning: Setting an item of incompatible dtype is deprecated and will raise in a future error of pandas. Value '2019' has dtype incompatible with int64, please explicitly cast to a compatible dtype first.\n",
      "  df.loc[df['year'] == '2019_nnw_18_over', 'year'] = '2019'\n",
      "/var/folders/0x/ldhnxm1x2mx_k4f4xzjl26fm0000gn/T/ipykernel_94612/3283776496.py:22: FutureWarning: Setting an item of incompatible dtype is deprecated and will raise in a future error of pandas. Value '2019' has dtype incompatible with int64, please explicitly cast to a compatible dtype first.\n",
      "  df.loc[df['year'] == '2019_rp_tot', 'year'] = '2019'\n"
     ]
    }
   ],
   "source": [
    "#Separeting the data bases and show 2019 and 2022 (negative net wealth)\n",
    "nnw_long\n",
    "nnw_long_2019_2022 = nnw_long.iloc[[35, 36, 37, 38, 39, 40, 41, 56, 57, 58, 59, 60, 61, 62]]\n",
    "\n",
    "#Droping the unnecesary variable for the analysis\n",
    "nnw_long_2019_2022 = nnw_long_2019_2022.drop('age_group', axis=1)\n",
    "\n",
    "df=nnw_long_2019_2022\n",
    "df.loc[df['year'] == '2019_nnw_18_over', 'year'] = '2019'\n",
    "df.loc[df['year'] == '2022_nnw_18_over', 'year'] = '2022'\n",
    "df.to_csv('nnw_yrs.csv', index=False)\n",
    "nnw= pd.read_csv('nnw_yrs.csv')\n",
    "#print(nnw)\n",
    "\n",
    "#Separeting the data bases and show 2019 and 2022 (relative poverty)\n",
    "rp_long\n",
    "rp_long_2019_2022 = rp_long.iloc[[28, 29, 30, 31, 32, 33, 34, 49, 50, 51, 52, 53, 54, 55]]\n",
    "\n",
    "#Droping the unnecesary variable for the analysis\n",
    "rp_long_2019_2022 = rp_long_2019_2022.drop('age_group', axis=1)\n",
    "df=rp_long_2019_2022\n",
    "df.loc[df['year'] == '2019_rp_tot', 'year'] = '2019'\n",
    "df.loc[df['year'] == '2022_rp_tot', 'year'] = '2022'\n",
    "df.to_csv('rp_yrs.csv', index=False)\n",
    "rp= pd.read_csv('rp_yrs.csv')\n",
    "#print(rp)\n",
    "\n",
    "# Merging the relative poverty and negative net wealth data base\n",
    "merged_rp_nnw = pd.merge(rp, nnw, on=['location', 'year'])\n",
    "merged_rp_nnw.to_csv('rp_nnw_yrs.csv', index=False)\n",
    "#print(merged_rp_nnw)"
   ]
  },
  {
   "cell_type": "code",
   "execution_count": 18,
   "metadata": {},
   "outputs": [
    {
     "data": {
      "image/png": "[encoded data removed]",
      "text/plain": [
       "<Figure size 1000x600 with 1 Axes>"
      ]
     },
     "metadata": {},
     "output_type": "display_data"
    }
   ],
   "source": [
    "#Ploting the relative poverty and negative net wealth for 2019 and 2022\n",
    "rp_nnw = merged_rp_nnw\n",
    "rp_nnw_2019 = merged_rp_nnw[merged_rp_nnw['year'] == 2019]\n",
    "rp_nnw_2022 = merged_rp_nnw[merged_rp_nnw['year'] == 2022]\n",
    "\n",
    "# Extract variables for 2019\n",
    "location_2019 = rp_nnw_2019['location']\n",
    "relative_poverty_2019 = rp_nnw_2019['relative_poverty']\n",
    "negative_net_wealth_2019 = rp_nnw_2019['negative_net_wealth']\n",
    "\n",
    "# Extract variables for 2022\n",
    "location_2022 = rp_nnw_2022['location']\n",
    "relative_poverty_2022 = rp_nnw_2022['relative_poverty']\n",
    "negative_net_wealth_2022 = rp_nnw_2022['negative_net_wealth']\n",
    "\n",
    "# Plot scatter plot for 2019 (blue color)\n",
    "plt.figure(figsize=(10, 6))\n",
    "plt.scatter(relative_poverty_2019, negative_net_wealth_2019, color='blue', label='2019')\n",
    "\n",
    "# Plot scatter plot for 2022 (red color)\n",
    "plt.scatter(relative_poverty_2022, negative_net_wealth_2022, color='red', label='2022')\n",
    "\n",
    "for i, txt in enumerate(location_2019):\n",
    "    plt.annotate(txt.split()[0], (relative_poverty_2019.iloc[i], negative_net_wealth_2019.iloc[i]), fontsize=6, xytext=(5,-1), textcoords='offset points')\n",
    "\n",
    "# Annotate each point with the corresponding location for 2022\n",
    "for i, txt in enumerate(location_2022):\n",
    "    plt.annotate(txt.split()[0], (relative_poverty_2022.iloc[i], negative_net_wealth_2022.iloc[i]), fontsize=6, xytext=(5,-1), textcoords='offset points')\n",
    "\n",
    "plt.grid(True)\n",
    "plt.title('Figure 5. Relation between the Relative Poverty and Negative Net Wealth in 2019 and 2022')\n",
    "plt.xlabel('Relative Poverty')\n",
    "plt.ylabel('Negative Net Wealth')\n",
    "plt.legend(loc='upper left', bbox_to_anchor=(1, 1))\n",
    "plt.show()"
   ]
  },
  {
   "cell_type": "markdown",
   "metadata": {},
   "source": [
    "Figure 5 shows that although relative poverty reduced in 2022 before COVID-19 compared to 2019 (previous COVID-19), the negative net wealth increased in all group municipalities and the country: Relative poverty from 4.4% to 3.7% and the accumulation of debt from 9.0% to 9.6% in 2019 and 2022, respectively.\n",
    "\n",
    "The changes could be explained because Denmark experienced an economic recovery in 2022 because of the increase in consumer spending, investment, effective social welfare programs, and reduced poverty levels even in the face of economic challenges. However, debt accumulation increased mainly in younger generations (see Figure X) because of different factors: rising mortgage debt in housing, difficulties in accessing a job, and increasing cost of living. An example of this is Copenhagen municipality which experienced an increase of negative net wealth in comparison to other municipalities (from 10.8% in 2019 to 11.6% in 2022)."
   ]
  },
  {
   "cell_type": "markdown",
   "metadata": {},
   "source": [
    "**4.4 Relation between relative poverty and net wealth by groups of municipalities (2019 & 2022)**"
   ]
  },
  {
   "cell_type": "code",
   "execution_count": 19,
   "metadata": {},
   "outputs": [
    {
     "name": "stderr",
     "output_type": "stream",
     "text": [
      "/var/folders/0x/ldhnxm1x2mx_k4f4xzjl26fm0000gn/T/ipykernel_94612/624476849.py:9: FutureWarning: Setting an item of incompatible dtype is deprecated and will raise in a future error of pandas. Value '2019' has dtype incompatible with int64, please explicitly cast to a compatible dtype first.\n",
      "  df.loc[df['year'] == '2019_nw_18_over', 'year'] = '2019'\n"
     ]
    }
   ],
   "source": [
    "#Separeting the data bases and show 2019 and 2022 (net wealth)\n",
    "nw_long\n",
    "nw_long_2019_2022 = nw_long.iloc[[35, 36, 37, 38, 39, 40, 41, 56, 57, 58, 59, 60, 61, 62]]\n",
    "\n",
    "#Droping the unnecesary variable for the analysis\n",
    "#nnw_long_2019_2022 = nnw_long_2019_2022.drop('age_group', axis=1)\n",
    "\n",
    "df=nw_long_2019_2022\n",
    "df.loc[df['year'] == '2019_nw_18_over', 'year'] = '2019'\n",
    "df.loc[df['year'] == '2022_nw_18_over', 'year'] = '2022'\n",
    "df.to_csv('nw_yrs.csv', index=False)\n",
    "nw= pd.read_csv('nw_yrs.csv')\n",
    "#print(nw)\n",
    "\n",
    "#SUsing the realtive poverty data bases (2019 to 2022)\n",
    "rp= pd.read_csv('rp_yrs.csv')\n",
    "#print(rp)\n",
    "\n",
    "# Merging the relative poverty and net wealth\n",
    "merged_rp_nw = pd.merge(rp, nw, on=['location', 'year'])\n",
    "merged_rp_nw.to_csv('rp_nw_yrs.csv', index=False)\n",
    "#print(merged_rp_nw)"
   ]
  },
  {
   "cell_type": "code",
   "execution_count": 20,
   "metadata": {},
   "outputs": [
    {
     "data": {
      "image/png": "[encoded data removed]",
      "text/plain": [
       "<Figure size 1000x600 with 1 Axes>"
      ]
     },
     "metadata": {},
     "output_type": "display_data"
    }
   ],
   "source": [
    "#Plotting the relative poverty and negative net wealth for 2019 and 2022\n",
    "import matplotlib.ticker as ticker\n",
    "rp_nw = merged_rp_nw\n",
    "rp_nw_2019 = merged_rp_nw[merged_rp_nw['year'] == 2019]\n",
    "rp_nw_2022 = merged_rp_nw[merged_rp_nw['year'] == 2022]\n",
    "\n",
    "# Extracting variables for 2019\n",
    "location_2019 = rp_nw_2019['location']\n",
    "relative_poverty_2019 = rp_nw_2019['relative_poverty']\n",
    "net_wealth_2019 = rp_nw_2019['net_wealth']\n",
    "\n",
    "# Extracting variables for 2022\n",
    "location_2022 = rp_nw_2022['location']\n",
    "relative_poverty_2022 = rp_nw_2022['relative_poverty']\n",
    "net_wealth_2022 = rp_nw_2022['net_wealth']\n",
    "\n",
    "# Plotting scatter plot for 2019 (blue color)\n",
    "plt.figure(figsize=(10,6))\n",
    "plt.scatter(relative_poverty_2019, net_wealth_2019, color='blue', label='2019')\n",
    "\n",
    "# Plotting scatter plot for 2022 (red color)\n",
    "plt.scatter(relative_poverty_2022, net_wealth_2022, color='red', label='2022')\n",
    "plt.gca().yaxis.set_major_formatter(ticker.StrMethodFormatter('{x:,.0f}'))\n",
    "\n",
    "# Annotating each point with the corresponding location for 2022\n",
    "for i, txt in enumerate(location_2019):\n",
    "    plt.annotate(txt.split()[0], (relative_poverty_2019.iloc[i], net_wealth_2019.iloc[i]), fontsize=6, xytext=(5,-1), textcoords='offset points')\n",
    "for i, txt in enumerate(location_2022):\n",
    "    plt.annotate(txt.split()[0], (relative_poverty_2022.iloc[i], net_wealth_2022.iloc[i]), fontsize=6, xytext=(5,-1), textcoords='offset points')\n",
    "\n",
    "plt.grid(True)\n",
    "plt.title('Figure 6. Relation between the Relative Poverty and Net Wealth in 2019 and 2022')\n",
    "plt.xlabel('Relative Poverty (%)')\n",
    "plt.ylabel('Net Wealth (DKK)')\n",
    "plt.legend(loc='upper left', bbox_to_anchor=(1, 1))\n",
    "plt.show()"
   ]
  },
  {
   "cell_type": "markdown",
   "metadata": {},
   "source": [
    "Line graphs to show Distribution of wealth across ages & Distribution of wealth in different group of municipalities"
   ]
  },
  {
   "cell_type": "code",
   "execution_count": 24,
   "metadata": {},
   "outputs": [
    {
     "name": "stdout",
     "output_type": "stream",
     "text": [
      "                      location  year  net_wealth       age_group\n",
      "0                  All Denmark  2014      424030  All age groups\n",
      "1       Capital municipalities  2014      445701  All age groups\n",
      "2  Metropolitan municipalities  2014      263825  All age groups\n",
      "3    Provincial municipalities  2014      426021  All age groups\n",
      "4      Commuter municipalities  2014      502740  All age groups\n"
     ]
    }
   ],
   "source": [
    "#Here we change rows and columns for easier visual analysis. \n",
    "nw_long = pd.melt(merged_nw_final, id_vars=['location'], var_name='year', value_name='net_wealth')\n",
    "nw_long\n",
    "\n",
    "# Perform the split operation and assign it to a temporary variable\n",
    "split_columns = nw_long['year'].str.split('_', expand=True)\n",
    "\n",
    "# Combine the last two parts for the 'age_group'\n",
    "split_columns['age_group'] = split_columns[1] + \"_\" + split_columns[2]\n",
    "\n",
    "# Now, assign the first part to 'year' and the combined part to 'age_group'\n",
    "nw_long['year'] = split_columns[0].astype(int)  # Convert 'year' to an integer\n",
    "nw_long['age_group'] = split_columns['age_group']\n",
    "\n",
    "# Create a dictionary to map the current 'age_group' values to the new names.\n",
    "age_group_renames = {\n",
    "    'nw_18': 'All age groups',\n",
    "    'nw_29': '18 - 29',\n",
    "    'nw_39': '30 - 39',\n",
    "    'nw_49': '40 - 49',\n",
    "    'nw_59': '50 - 59',\n",
    "    'nw_69': '60 - 69',\n",
    "    'nw_79': '70 - 79',\n",
    "    'nw_80': '80+'\n",
    "}\n",
    "\n",
    "# Update the 'age_group' column in the data for the most recent year.\n",
    "nw_long['age_group'] = nw_long['age_group'].replace(age_group_renames)\n",
    "\n",
    "# Check the DataFrame to ensure the changes are as expected\n",
    "print(nw_long.head())"
   ]
  },
  {
   "cell_type": "code",
   "execution_count": 25,
   "metadata": {},
   "outputs": [
    {
     "data": {
      "image/png": "[encoded data removed]",
      "text/plain": [
       "<Figure size 1200x800 with 1 Axes>"
      ]
     },
     "metadata": {},
     "output_type": "display_data"
    },
    {
     "data": {
      "image/png": "[encoded data removed]",
      "text/plain": [
       "<Figure size 1200x800 with 1 Axes>"
      ]
     },
     "metadata": {},
     "output_type": "display_data"
    }
   ],
   "source": [
    "# First graph: Distribution of wealth across ages + time\n",
    "# Filter the DataFrame for 'All Denmark' to focus on age groups across the entire country\n",
    "nw_denmark = nw_long[nw_long['location'] == 'All Denmark']\n",
    "\n",
    "plt.figure(figsize=(12, 8))\n",
    "for age_group in nw_denmark['age_group'].unique():\n",
    "    # Select data for each age group\n",
    "    data = nw_denmark[nw_denmark['age_group'] == age_group]\n",
    "    plt.plot(data['year'], data['net_wealth'], marker='o', label=age_group)\n",
    "\n",
    "plt.title('Distribution of wealth across different age groups over time in Denmark')\n",
    "plt.xlabel('Year')\n",
    "plt.ylabel('Net Wealth')\n",
    "plt.legend(title='Age Group')\n",
    "plt.grid(True)\n",
    "plt.tight_layout()\n",
    "plt.show()\n",
    "\n",
    "# Second graph: Distribution of wealth in different groups of municipalities for all age groups\n",
    "# Filter for 'all age groups' across selected municipalities\n",
    "nw_age_18 = nw_long[(nw_long['location'] != 'All Denmark') & (nw_long['age_group'] == 'All age groups')]\n",
    "\n",
    "plt.figure(figsize=(12, 8))\n",
    "for location in nw_age_18['location'].unique():\n",
    "    # Select data for each municipality group\n",
    "    data = nw_age_18[nw_age_18['location'] == location]\n",
    "    plt.plot(data['year'], data['net_wealth'], marker='o', label=location)\n",
    "\n",
    "plt.title('Distribution of Wealth for All Ages in Different Groups of Municipalities Over Time')\n",
    "plt.xlabel('Year')\n",
    "plt.ylabel('Net Wealth')\n",
    "plt.legend(title='Municipality Group')\n",
    "plt.grid(True)\n",
    "plt.tight_layout()\n",
    "plt.show()"
   ]
  },
  {
   "cell_type": "markdown",
   "metadata": {},
   "source": [
    "For both graphs: the values on the Y-axis are represented in \"1e6\". This means that the Y-axis values are scaled to represent millions. For instance, a value of 1.0 on the graph corresponds to a net wealth of 1,000,000 in Danish kroner.\n",
    "The first graph displays the distribution of wealth across different age groups over time in Denmark.\n",
    "The second graph shows the distribution of wealth for all age groups in different groups of municipalities over time.\n",
    "\n",
    "The first graph displays a clear progression of wealth accumulation with age, highlighting an expected life-cycle pattern in personal finance: as individuals age, they tend to accumulate wealth, peaking in the 60-69 age bracket. Interestingly, there is a noticeable dip for the 80+ age group, which could indicate a decumulation phase in the later stages of life or possibly generational wealth transfer.\n",
    "\n",
    "The second graph complements the first by showcasing the disparity in wealth not between ages, but between geographical and political divisions within the country. \n",
    "\n",
    "Combined, these graphs illustrate the complexities of wealth accumulation in Denmark, influenced by both age and residential patterns. The rising wealth in commuter municipalities could be interlinked with the wealth accumulation seen in the older age groups, possibly indicating that these areas are favored by individuals who are in the wealth-accumulating phase of their lives."
   ]
  },
  {
   "cell_type": "markdown",
   "metadata": {},
   "source": [
    "Bubble graph to show net-wealth across all municipalities "
   ]
  },
  {
   "cell_type": "code",
   "execution_count": 26,
   "metadata": {},
   "outputs": [],
   "source": [
    "#Here we change rows and columns for easier visual analysis. \n",
    "nw_bubbles = pd.melt(merged_nw, id_vars=['location'], var_name='year', value_name='net_wealth')\n",
    "nw_bubbles\n",
    "\n",
    "# Perform the split operation and assign it to a temporary variable\n",
    "split_columns = nw_bubbles['year'].str.split('_', expand=True)\n",
    "\n",
    "# Combine the last two parts for the 'age_group'\n",
    "split_columns['age_group'] = split_columns[1] + \"_\" + split_columns[2]\n",
    "\n",
    "# Now, assign the first part to 'year' and the combined part to 'age_group'\n",
    "nw_bubbles['year'] = split_columns[0].astype(int)  # Convert 'year' to an integer\n",
    "nw_bubbles['age_group'] = split_columns['age_group']\n",
    "\n",
    "# Create a dictionary to map the current 'age_group' values to the new names.\n",
    "age_group_renames = {\n",
    "    'nw_18': 'All age groups',\n",
    "    'nw_29': '18 - 29',\n",
    "    'nw_39': '30 - 39',\n",
    "    'nw_49': '40 - 49',\n",
    "    'nw_59': '50 - 59',\n",
    "    'nw_69': '60 - 69',\n",
    "    'nw_79': '70 - 79',\n",
    "    'nw_80': '80+'\n",
    "}\n",
    "\n",
    "# Update the 'age_group' column in the data for the most recent year.\n",
    "nw_bubbles['age_group'] = nw_bubbles['age_group'].replace(age_group_renames)\n",
    "\n",
    "# Check the DataFrame to ensure the changes are as expected\n",
    "# print(nw_bubbles.head())"
   ]
  },
  {
   "cell_type": "code",
   "execution_count": 29,
   "metadata": {},
   "outputs": [
    {
     "data": {
      "application/vnd.plotly.v1+json": {
       "config": {
        "plotlyServerURL": "https://plot.ly"
       },
       "data": [
        {
         "hovertemplate": "<b>%{hovertext}</b><br><br>location=%{x}<br>net_wealth_jitter=%{y}<br>area=%{marker.size}<extra></extra>",
         "hovertext": [
          "All Denmark"
         ],
         "legendgroup": "All Denmark",
         "marker": {
          "color": "#636efa",
          "size": [
           7.93979210490162
          ],
          "sizemode": "area",
          "sizeref": 0.025737642390739113,
          "symbol": "circle"
         },
         "mode": "markers",
         "name": "All Denmark",
         "orientation": "v",
         "showlegend": true,
         "type": "scatter",
         "x": [
          "All Denmark"
         ],
         "xaxis": "x",
         "y": [
          701429
         ],
         "yaxis": "y"
        },
        {
         "hovertemplate": "<b>%{hovertext}</b><br><br>location=%{x}<br>net_wealth_jitter=%{y}<br>area=%{marker.size}<extra></extra>",
         "hovertext": [
          "Capital municipalities"
         ],
         "legendgroup": "Capital municipalities",
         "marker": {
          "color": "#EF553B",
          "size": [
           7.634947935103814
          ],
          "sizemode": "area",
          "sizeref": 0.025737642390739113,
          "symbol": "circle"
         },
         "mode": "markers",
         "name": "Capital municipalities",
         "orientation": "v",
         "showlegend": true,
         "type": "scatter",
         "x": [
          "Capital municipalities"
         ],
         "xaxis": "x",
         "y": [
          674498
         ],
         "yaxis": "y"
        },
        {
         "hovertemplate": "<b>%{hovertext}</b><br><br>location=%{x}<br>net_wealth_jitter=%{y}<br>area=%{marker.size}<extra></extra>",
         "hovertext": [
          "Metropolitan municipalities"
         ],
         "legendgroup": "Metropolitan municipalities",
         "marker": {
          "color": "#00cc96",
          "size": [
           4.63342536689486
          ],
          "sizemode": "area",
          "sizeref": 0.025737642390739113,
          "symbol": "circle"
         },
         "mode": "markers",
         "name": "Metropolitan municipalities",
         "orientation": "v",
         "showlegend": true,
         "type": "scatter",
         "x": [
          "Metropolitan municipalities"
         ],
         "xaxis": "x",
         "y": [
          409333
         ],
         "yaxis": "y"
        },
        {
         "hovertemplate": "<b>%{hovertext}</b><br><br>location=%{x}<br>net_wealth_jitter=%{y}<br>area=%{marker.size}<extra></extra>",
         "hovertext": [
          "Provincial municipalities"
         ],
         "legendgroup": "Provincial municipalities",
         "marker": {
          "color": "#ab63fa",
          "size": [
           8.363660315597423
          ],
          "sizemode": "area",
          "sizeref": 0.025737642390739113,
          "symbol": "circle"
         },
         "mode": "markers",
         "name": "Provincial municipalities",
         "orientation": "v",
         "showlegend": true,
         "type": "scatter",
         "x": [
          "Provincial municipalities"
         ],
         "xaxis": "x",
         "y": [
          738875
         ],
         "yaxis": "y"
        },
        {
         "hovertemplate": "<b>%{hovertext}</b><br><br>location=%{x}<br>net_wealth_jitter=%{y}<br>area=%{marker.size}<extra></extra>",
         "hovertext": [
          "Commuter municipalities"
         ],
         "legendgroup": "Commuter municipalities",
         "marker": {
          "color": "#FFA15A",
          "size": [
           9.965872190909534
          ],
          "sizemode": "area",
          "sizeref": 0.025737642390739113,
          "symbol": "circle"
         },
         "mode": "markers",
         "name": "Commuter municipalities",
         "orientation": "v",
         "showlegend": true,
         "type": "scatter",
         "x": [
          "Commuter municipalities"
         ],
         "xaxis": "x",
         "y": [
          880420
         ],
         "yaxis": "y"
        },
        {
         "hovertemplate": "<b>%{hovertext}</b><br><br>location=%{x}<br>net_wealth_jitter=%{y}<br>area=%{marker.size}<extra></extra>",
         "hovertext": [
          "Rural municipalities"
         ],
         "legendgroup": "Rural municipalities",
         "marker": {
          "color": "#19d3f3",
          "size": [
           8.205255900159804
          ],
          "sizemode": "area",
          "sizeref": 0.025737642390739113,
          "symbol": "circle"
         },
         "mode": "markers",
         "name": "Rural municipalities",
         "orientation": "v",
         "showlegend": true,
         "type": "scatter",
         "x": [
          "Rural municipalities"
         ],
         "xaxis": "x",
         "y": [
          724881
         ],
         "yaxis": "y"
        },
        {
         "hovertemplate": "<b>%{hovertext}</b><br><br>location=%{x}<br>net_wealth_jitter=%{y}<br>area=%{marker.size}<extra></extra>",
         "hovertext": [
          "Copenhagen"
         ],
         "legendgroup": "Copenhagen",
         "marker": {
          "color": "#FF6692",
          "size": [
           4.5279507103958085
          ],
          "sizemode": "area",
          "sizeref": 0.025737642390739113,
          "symbol": "circle"
         },
         "mode": "markers",
         "name": "Copenhagen",
         "orientation": "v",
         "showlegend": true,
         "type": "scatter",
         "x": [
          "Copenhagen"
         ],
         "xaxis": "x",
         "y": [
          400015
         ],
         "yaxis": "y"
        },
        {
         "hovertemplate": "<b>%{hovertext}</b><br><br>location=%{x}<br>net_wealth_jitter=%{y}<br>area=%{marker.size}<extra></extra>",
         "hovertext": [
          "Frederiksberg"
         ],
         "legendgroup": "Frederiksberg",
         "marker": {
          "color": "#B6E880",
          "size": [
           9.498344852706023
          ],
          "sizemode": "area",
          "sizeref": 0.025737642390739113,
          "symbol": "circle"
         },
         "mode": "markers",
         "name": "Frederiksberg",
         "orientation": "v",
         "showlegend": true,
         "type": "scatter",
         "x": [
          "Frederiksberg"
         ],
         "xaxis": "x",
         "y": [
          839117
         ],
         "yaxis": "y"
        },
        {
         "hovertemplate": "<b>%{hovertext}</b><br><br>location=%{x}<br>net_wealth_jitter=%{y}<br>area=%{marker.size}<extra></extra>",
         "hovertext": [
          "Dragør"
         ],
         "legendgroup": "Dragør",
         "marker": {
          "color": "#FF97FF",
          "size": [
           22.462751276418228
          ],
          "sizemode": "area",
          "sizeref": 0.025737642390739113,
          "symbol": "circle"
         },
         "mode": "markers",
         "name": "Dragør",
         "orientation": "v",
         "showlegend": true,
         "type": "scatter",
         "x": [
          "Dragør"
         ],
         "xaxis": "x",
         "y": [
          1984438
         ],
         "yaxis": "y"
        },
        {
         "hovertemplate": "<b>%{hovertext}</b><br><br>location=%{x}<br>net_wealth_jitter=%{y}<br>area=%{marker.size}<extra></extra>",
         "hovertext": [
          "Tårnby"
         ],
         "legendgroup": "Tårnby",
         "marker": {
          "color": "#FECB52",
          "size": [
           11.420772714034628
          ],
          "sizemode": "area",
          "sizeref": 0.025737642390739113,
          "symbol": "circle"
         },
         "mode": "markers",
         "name": "Tårnby",
         "orientation": "v",
         "showlegend": true,
         "type": "scatter",
         "x": [
          "Tårnby"
         ],
         "xaxis": "x",
         "y": [
          1008951
         ],
         "yaxis": "y"
        },
        {
         "hovertemplate": "<b>%{hovertext}</b><br><br>location=%{x}<br>net_wealth_jitter=%{y}<br>area=%{marker.size}<extra></extra>",
         "hovertext": [
          "Albertslund"
         ],
         "legendgroup": "Albertslund",
         "marker": {
          "color": "#636efa",
          "size": [
           5.225964736261233
          ],
          "sizemode": "area",
          "sizeref": 0.025737642390739113,
          "symbol": "circle"
         },
         "mode": "markers",
         "name": "Albertslund",
         "orientation": "v",
         "showlegend": true,
         "type": "scatter",
         "x": [
          "Albertslund"
         ],
         "xaxis": "x",
         "y": [
          461680
         ],
         "yaxis": "y"
        },
        {
         "hovertemplate": "<b>%{hovertext}</b><br><br>location=%{x}<br>net_wealth_jitter=%{y}<br>area=%{marker.size}<extra></extra>",
         "hovertext": [
          "Ballerup"
         ],
         "legendgroup": "Ballerup",
         "marker": {
          "color": "#EF553B",
          "size": [
           7.6086754863235715
          ],
          "sizemode": "area",
          "sizeref": 0.025737642390739113,
          "symbol": "circle"
         },
         "mode": "markers",
         "name": "Ballerup",
         "orientation": "v",
         "showlegend": true,
         "type": "scatter",
         "x": [
          "Ballerup"
         ],
         "xaxis": "x",
         "y": [
          672177
         ],
         "yaxis": "y"
        },
        {
         "hovertemplate": "<b>%{hovertext}</b><br><br>location=%{x}<br>net_wealth_jitter=%{y}<br>area=%{marker.size}<extra></extra>",
         "hovertext": [
          "Brøndby"
         ],
         "legendgroup": "Brøndby",
         "marker": {
          "color": "#00cc96",
          "size": [
           4.12295202667832
          ],
          "sizemode": "area",
          "sizeref": 0.025737642390739113,
          "symbol": "circle"
         },
         "mode": "markers",
         "name": "Brøndby",
         "orientation": "v",
         "showlegend": true,
         "type": "scatter",
         "x": [
          "Brøndby"
         ],
         "xaxis": "x",
         "y": [
          364236
         ],
         "yaxis": "y"
        },
        {
         "hovertemplate": "<b>%{hovertext}</b><br><br>location=%{x}<br>net_wealth_jitter=%{y}<br>area=%{marker.size}<extra></extra>",
         "hovertext": [
          "Gentofte"
         ],
         "legendgroup": "Gentofte",
         "marker": {
          "color": "#ab63fa",
          "size": [
           22.761007524979455
          ],
          "sizemode": "area",
          "sizeref": 0.025737642390739113,
          "symbol": "circle"
         },
         "mode": "markers",
         "name": "Gentofte",
         "orientation": "v",
         "showlegend": true,
         "type": "scatter",
         "x": [
          "Gentofte"
         ],
         "xaxis": "x",
         "y": [
          2010787
         ],
         "yaxis": "y"
        },
        {
         "hovertemplate": "<b>%{hovertext}</b><br><br>location=%{x}<br>net_wealth_jitter=%{y}<br>area=%{marker.size}<extra></extra>",
         "hovertext": [
          "Gladsaxe"
         ],
         "legendgroup": "Gladsaxe",
         "marker": {
          "color": "#FFA15A",
          "size": [
           8.259736424062996
          ],
          "sizemode": "area",
          "sizeref": 0.025737642390739113,
          "symbol": "circle"
         },
         "mode": "markers",
         "name": "Gladsaxe",
         "orientation": "v",
         "showlegend": true,
         "type": "scatter",
         "x": [
          "Gladsaxe"
         ],
         "xaxis": "x",
         "y": [
          729694
         ],
         "yaxis": "y"
        },
        {
         "hovertemplate": "<b>%{hovertext}</b><br><br>location=%{x}<br>net_wealth_jitter=%{y}<br>area=%{marker.size}<extra></extra>",
         "hovertext": [
          "Glostrup"
         ],
         "legendgroup": "Glostrup",
         "marker": {
          "color": "#19d3f3",
          "size": [
           7.109589515117338
          ],
          "sizemode": "area",
          "sizeref": 0.025737642390739113,
          "symbol": "circle"
         },
         "mode": "markers",
         "name": "Glostrup",
         "orientation": "v",
         "showlegend": true,
         "type": "scatter",
         "x": [
          "Glostrup"
         ],
         "xaxis": "x",
         "y": [
          628086
         ],
         "yaxis": "y"
        },
        {
         "hovertemplate": "<b>%{hovertext}</b><br><br>location=%{x}<br>net_wealth_jitter=%{y}<br>area=%{marker.size}<extra></extra>",
         "hovertext": [
          "Herlev"
         ],
         "legendgroup": "Herlev",
         "marker": {
          "color": "#FF6692",
          "size": [
           7.45846635434864
          ],
          "sizemode": "area",
          "sizeref": 0.025737642390739113,
          "symbol": "circle"
         },
         "mode": "markers",
         "name": "Herlev",
         "orientation": "v",
         "showlegend": true,
         "type": "scatter",
         "x": [
          "Herlev"
         ],
         "xaxis": "x",
         "y": [
          658907
         ],
         "yaxis": "y"
        },
        {
         "hovertemplate": "<b>%{hovertext}</b><br><br>location=%{x}<br>net_wealth_jitter=%{y}<br>area=%{marker.size}<extra></extra>",
         "hovertext": [
          "Hvidovre"
         ],
         "legendgroup": "Hvidovre",
         "marker": {
          "color": "#B6E880",
          "size": [
           8.259781701872182
          ],
          "sizemode": "area",
          "sizeref": 0.025737642390739113,
          "symbol": "circle"
         },
         "mode": "markers",
         "name": "Hvidovre",
         "orientation": "v",
         "showlegend": true,
         "type": "scatter",
         "x": [
          "Hvidovre"
         ],
         "xaxis": "x",
         "y": [
          729698
         ],
         "yaxis": "y"
        },
        {
         "hovertemplate": "<b>%{hovertext}</b><br><br>location=%{x}<br>net_wealth_jitter=%{y}<br>area=%{marker.size}<extra></extra>",
         "hovertext": [
          "Høje-Taastrup"
         ],
         "legendgroup": "Høje-Taastrup",
         "marker": {
          "color": "#FF97FF",
          "size": [
           6.325468415632222
          ],
          "sizemode": "area",
          "sizeref": 0.025737642390739113,
          "symbol": "circle"
         },
         "mode": "markers",
         "name": "Høje-Taastrup",
         "orientation": "v",
         "showlegend": true,
         "type": "scatter",
         "x": [
          "Høje-Taastrup"
         ],
         "xaxis": "x",
         "y": [
          558814
         ],
         "yaxis": "y"
        },
        {
         "hovertemplate": "<b>%{hovertext}</b><br><br>location=%{x}<br>net_wealth_jitter=%{y}<br>area=%{marker.size}<extra></extra>",
         "hovertext": [
          "Ishøj"
         ],
         "legendgroup": "Ishøj",
         "marker": {
          "color": "#FECB52",
          "size": [
           4.213451047789063
          ],
          "sizemode": "area",
          "sizeref": 0.025737642390739113,
          "symbol": "circle"
         },
         "mode": "markers",
         "name": "Ishøj",
         "orientation": "v",
         "showlegend": true,
         "type": "scatter",
         "x": [
          "Ishøj"
         ],
         "xaxis": "x",
         "y": [
          372231
         ],
         "yaxis": "y"
        },
        {
         "hovertemplate": "<b>%{hovertext}</b><br><br>location=%{x}<br>net_wealth_jitter=%{y}<br>area=%{marker.size}<extra></extra>",
         "hovertext": [
          "Lyngby-Taarbæk"
         ],
         "legendgroup": "Lyngby-Taarbæk",
         "marker": {
          "color": "#636efa",
          "size": [
           13.420048337004364
          ],
          "sizemode": "area",
          "sizeref": 0.025737642390739113,
          "symbol": "circle"
         },
         "mode": "markers",
         "name": "Lyngby-Taarbæk",
         "orientation": "v",
         "showlegend": true,
         "type": "scatter",
         "x": [
          "Lyngby-Taarbæk"
         ],
         "xaxis": "x",
         "y": [
          1185574
         ],
         "yaxis": "y"
        },
        {
         "hovertemplate": "<b>%{hovertext}</b><br><br>location=%{x}<br>net_wealth_jitter=%{y}<br>area=%{marker.size}<extra></extra>",
         "hovertext": [
          "Rødovre"
         ],
         "legendgroup": "Rødovre",
         "marker": {
          "color": "#EF553B",
          "size": [
           6.844872803710725
          ],
          "sizemode": "area",
          "sizeref": 0.025737642390739113,
          "symbol": "circle"
         },
         "mode": "markers",
         "name": "Rødovre",
         "orientation": "v",
         "showlegend": true,
         "type": "scatter",
         "x": [
          "Rødovre"
         ],
         "xaxis": "x",
         "y": [
          604700
         ],
         "yaxis": "y"
        },
        {
         "hovertemplate": "<b>%{hovertext}</b><br><br>location=%{x}<br>net_wealth_jitter=%{y}<br>area=%{marker.size}<extra></extra>",
         "hovertext": [
          "Vallensbæk"
         ],
         "legendgroup": "Vallensbæk",
         "marker": {
          "color": "#00cc96",
          "size": [
           11.853809681090619
          ],
          "sizemode": "area",
          "sizeref": 0.025737642390739113,
          "symbol": "circle"
         },
         "mode": "markers",
         "name": "Vallensbæk",
         "orientation": "v",
         "showlegend": true,
         "type": "scatter",
         "x": [
          "Vallensbæk"
         ],
         "xaxis": "x",
         "y": [
          1047207
         ],
         "yaxis": "y"
        },
        {
         "hovertemplate": "<b>%{hovertext}</b><br><br>location=%{x}<br>net_wealth_jitter=%{y}<br>area=%{marker.size}<extra></extra>",
         "hovertext": [
          "Allerød"
         ],
         "legendgroup": "Allerød",
         "marker": {
          "color": "#ab63fa",
          "size": [
           20.686853725068183
          ],
          "sizemode": "area",
          "sizeref": 0.025737642390739113,
          "symbol": "circle"
         },
         "mode": "markers",
         "name": "Allerød",
         "orientation": "v",
         "showlegend": true,
         "type": "scatter",
         "x": [
          "Allerød"
         ],
         "xaxis": "x",
         "y": [
          1827549
         ],
         "yaxis": "y"
        },
        {
         "hovertemplate": "<b>%{hovertext}</b><br><br>location=%{x}<br>net_wealth_jitter=%{y}<br>area=%{marker.size}<extra></extra>",
         "hovertext": [
          "Egedal"
         ],
         "legendgroup": "Egedal",
         "marker": {
          "color": "#FFA15A",
          "size": [
           15.196455263707753
          ],
          "sizemode": "area",
          "sizeref": 0.025737642390739113,
          "symbol": "circle"
         },
         "mode": "markers",
         "name": "Egedal",
         "orientation": "v",
         "showlegend": true,
         "type": "scatter",
         "x": [
          "Egedal"
         ],
         "xaxis": "x",
         "y": [
          1342508
         ],
         "yaxis": "y"
        },
        {
         "hovertemplate": "<b>%{hovertext}</b><br><br>location=%{x}<br>net_wealth_jitter=%{y}<br>area=%{marker.size}<extra></extra>",
         "hovertext": [
          "Fredensborg"
         ],
         "legendgroup": "Fredensborg",
         "marker": {
          "color": "#19d3f3",
          "size": [
           13.07414851372705
          ],
          "sizemode": "area",
          "sizeref": 0.025737642390739113,
          "symbol": "circle"
         },
         "mode": "markers",
         "name": "Fredensborg",
         "orientation": "v",
         "showlegend": true,
         "type": "scatter",
         "x": [
          "Fredensborg"
         ],
         "xaxis": "x",
         "y": [
          1155016
         ],
         "yaxis": "y"
        },
        {
         "hovertemplate": "<b>%{hovertext}</b><br><br>location=%{x}<br>net_wealth_jitter=%{y}<br>area=%{marker.size}<extra></extra>",
         "hovertext": [
          "Frederikssund"
         ],
         "legendgroup": "Frederikssund",
         "marker": {
          "color": "#FF6692",
          "size": [
           11.860363643970308
          ],
          "sizemode": "area",
          "sizeref": 0.025737642390739113,
          "symbol": "circle"
         },
         "mode": "markers",
         "name": "Frederikssund",
         "orientation": "v",
         "showlegend": true,
         "type": "scatter",
         "x": [
          "Frederikssund"
         ],
         "xaxis": "x",
         "y": [
          1047786
         ],
         "yaxis": "y"
        },
        {
         "hovertemplate": "<b>%{hovertext}</b><br><br>location=%{x}<br>net_wealth_jitter=%{y}<br>area=%{marker.size}<extra></extra>",
         "hovertext": [
          "Furesø"
         ],
         "legendgroup": "Furesø",
         "marker": {
          "color": "#B6E880",
          "size": [
           18.12890653400329
          ],
          "sizemode": "area",
          "sizeref": 0.025737642390739113,
          "symbol": "circle"
         },
         "mode": "markers",
         "name": "Furesø",
         "orientation": "v",
         "showlegend": true,
         "type": "scatter",
         "x": [
          "Furesø"
         ],
         "xaxis": "x",
         "y": [
          1601571
         ],
         "yaxis": "y"
        },
        {
         "hovertemplate": "<b>%{hovertext}</b><br><br>location=%{x}<br>net_wealth_jitter=%{y}<br>area=%{marker.size}<extra></extra>",
         "hovertext": [
          "Gribskov"
         ],
         "legendgroup": "Gribskov",
         "marker": {
          "color": "#FF97FF",
          "size": [
           13.650738774807612
          ],
          "sizemode": "area",
          "sizeref": 0.025737642390739113,
          "symbol": "circle"
         },
         "mode": "markers",
         "name": "Gribskov",
         "orientation": "v",
         "showlegend": true,
         "type": "scatter",
         "x": [
          "Gribskov"
         ],
         "xaxis": "x",
         "y": [
          1205954
         ],
         "yaxis": "y"
        },
        {
         "hovertemplate": "<b>%{hovertext}</b><br><br>location=%{x}<br>net_wealth_jitter=%{y}<br>area=%{marker.size}<extra></extra>",
         "hovertext": [
          "Halsnæs"
         ],
         "legendgroup": "Halsnæs",
         "marker": {
          "color": "#FECB52",
          "size": [
           10.27320664021258
          ],
          "sizemode": "area",
          "sizeref": 0.025737642390739113,
          "symbol": "circle"
         },
         "mode": "markers",
         "name": "Halsnæs",
         "orientation": "v",
         "showlegend": true,
         "type": "scatter",
         "x": [
          "Halsnæs"
         ],
         "xaxis": "x",
         "y": [
          907571
         ],
         "yaxis": "y"
        },
        {
         "hovertemplate": "<b>%{hovertext}</b><br><br>location=%{x}<br>net_wealth_jitter=%{y}<br>area=%{marker.size}<extra></extra>",
         "hovertext": [
          "Helsingør"
         ],
         "legendgroup": "Helsingør",
         "marker": {
          "color": "#636efa",
          "size": [
           10.618246185115357
          ],
          "sizemode": "area",
          "sizeref": 0.025737642390739113,
          "symbol": "circle"
         },
         "mode": "markers",
         "name": "Helsingør",
         "orientation": "v",
         "showlegend": true,
         "type": "scatter",
         "x": [
          "Helsingør"
         ],
         "xaxis": "x",
         "y": [
          938053
         ],
         "yaxis": "y"
        },
        {
         "hovertemplate": "<b>%{hovertext}</b><br><br>location=%{x}<br>net_wealth_jitter=%{y}<br>area=%{marker.size}<extra></extra>",
         "hovertext": [
          "Hillerød"
         ],
         "legendgroup": "Hillerød",
         "marker": {
          "color": "#EF553B",
          "size": [
           11.639068351573178
          ],
          "sizemode": "area",
          "sizeref": 0.025737642390739113,
          "symbol": "circle"
         },
         "mode": "markers",
         "name": "Hillerød",
         "orientation": "v",
         "showlegend": true,
         "type": "scatter",
         "x": [
          "Hillerød"
         ],
         "xaxis": "x",
         "y": [
          1028236
         ],
         "yaxis": "y"
        },
        {
         "hovertemplate": "<b>%{hovertext}</b><br><br>location=%{x}<br>net_wealth_jitter=%{y}<br>area=%{marker.size}<extra></extra>",
         "hovertext": [
          "Hørsholm"
         ],
         "legendgroup": "Hørsholm",
         "marker": {
          "color": "#00cc96",
          "size": [
           22.40669734864582
          ],
          "sizemode": "area",
          "sizeref": 0.025737642390739113,
          "symbol": "circle"
         },
         "mode": "markers",
         "name": "Hørsholm",
         "orientation": "v",
         "showlegend": true,
         "type": "scatter",
         "x": [
          "Hørsholm"
         ],
         "xaxis": "x",
         "y": [
          1979486
         ],
         "yaxis": "y"
        },
        {
         "hovertemplate": "<b>%{hovertext}</b><br><br>location=%{x}<br>net_wealth_jitter=%{y}<br>area=%{marker.size}<extra></extra>",
         "hovertext": [
          "Rudersdal"
         ],
         "legendgroup": "Rudersdal",
         "marker": {
          "color": "#ab63fa",
          "size": [
           23.1638781516652
          ],
          "sizemode": "area",
          "sizeref": 0.025737642390739113,
          "symbol": "circle"
         },
         "mode": "markers",
         "name": "Rudersdal",
         "orientation": "v",
         "showlegend": true,
         "type": "scatter",
         "x": [
          "Rudersdal"
         ],
         "xaxis": "x",
         "y": [
          2046378
         ],
         "yaxis": "y"
        },
        {
         "hovertemplate": "<b>%{hovertext}</b><br><br>location=%{x}<br>net_wealth_jitter=%{y}<br>area=%{marker.size}<extra></extra>",
         "hovertext": [
          "Bornholm"
         ],
         "legendgroup": "Bornholm",
         "marker": {
          "color": "#FFA15A",
          "size": [
           8.799515826275249
          ],
          "sizemode": "area",
          "sizeref": 0.025737642390739113,
          "symbol": "circle"
         },
         "mode": "markers",
         "name": "Bornholm",
         "orientation": "v",
         "showlegend": true,
         "type": "scatter",
         "x": [
          "Bornholm"
         ],
         "xaxis": "x",
         "y": [
          777380
         ],
         "yaxis": "y"
        },
        {
         "hovertemplate": "<b>%{hovertext}</b><br><br>location=%{x}<br>net_wealth_jitter=%{y}<br>area=%{marker.size}<extra></extra>",
         "hovertext": [
          "Greve"
         ],
         "legendgroup": "Greve",
         "marker": {
          "color": "#19d3f3",
          "size": [
           12.33330168037156
          ],
          "sizemode": "area",
          "sizeref": 0.025737642390739113,
          "symbol": "circle"
         },
         "mode": "markers",
         "name": "Greve",
         "orientation": "v",
         "showlegend": true,
         "type": "scatter",
         "x": [
          "Greve"
         ],
         "xaxis": "x",
         "y": [
          1089567
         ],
         "yaxis": "y"
        },
        {
         "hovertemplate": "<b>%{hovertext}</b><br><br>location=%{x}<br>net_wealth_jitter=%{y}<br>area=%{marker.size}<extra></extra>",
         "hovertext": [
          "Køge"
         ],
         "legendgroup": "Køge",
         "marker": {
          "color": "#FF6692",
          "size": [
           8.97186580694219
          ],
          "sizemode": "area",
          "sizeref": 0.025737642390739113,
          "symbol": "circle"
         },
         "mode": "markers",
         "name": "Køge",
         "orientation": "v",
         "showlegend": true,
         "type": "scatter",
         "x": [
          "Køge"
         ],
         "xaxis": "x",
         "y": [
          792606
         ],
         "yaxis": "y"
        },
        {
         "hovertemplate": "<b>%{hovertext}</b><br><br>location=%{x}<br>net_wealth_jitter=%{y}<br>area=%{marker.size}<extra></extra>",
         "hovertext": [
          "Lejre"
         ],
         "legendgroup": "Lejre",
         "marker": {
          "color": "#B6E880",
          "size": [
           13.001511588340225
          ],
          "sizemode": "area",
          "sizeref": 0.025737642390739113,
          "symbol": "circle"
         },
         "mode": "markers",
         "name": "Lejre",
         "orientation": "v",
         "showlegend": true,
         "type": "scatter",
         "x": [
          "Lejre"
         ],
         "xaxis": "x",
         "y": [
          1148599
         ],
         "yaxis": "y"
        },
        {
         "hovertemplate": "<b>%{hovertext}</b><br><br>location=%{x}<br>net_wealth_jitter=%{y}<br>area=%{marker.size}<extra></extra>",
         "hovertext": [
          "Roskilde"
         ],
         "legendgroup": "Roskilde",
         "marker": {
          "color": "#FF97FF",
          "size": [
           12.426098550298502
          ],
          "sizemode": "area",
          "sizeref": 0.025737642390739113,
          "symbol": "circle"
         },
         "mode": "markers",
         "name": "Roskilde",
         "orientation": "v",
         "showlegend": true,
         "type": "scatter",
         "x": [
          "Roskilde"
         ],
         "xaxis": "x",
         "y": [
          1097765
         ],
         "yaxis": "y"
        },
        {
         "hovertemplate": "<b>%{hovertext}</b><br><br>location=%{x}<br>net_wealth_jitter=%{y}<br>area=%{marker.size}<extra></extra>",
         "hovertext": [
          "Solrød"
         ],
         "legendgroup": "Solrød",
         "marker": {
          "color": "#FECB52",
          "size": [
           15.49098741246342
          ],
          "sizemode": "area",
          "sizeref": 0.025737642390739113,
          "symbol": "circle"
         },
         "mode": "markers",
         "name": "Solrød",
         "orientation": "v",
         "showlegend": true,
         "type": "scatter",
         "x": [
          "Solrød"
         ],
         "xaxis": "x",
         "y": [
          1368528
         ],
         "yaxis": "y"
        },
        {
         "hovertemplate": "<b>%{hovertext}</b><br><br>location=%{x}<br>net_wealth_jitter=%{y}<br>area=%{marker.size}<extra></extra>",
         "hovertext": [
          "Faxe"
         ],
         "legendgroup": "Faxe",
         "marker": {
          "color": "#636efa",
          "size": [
           8.602681870290917
          ],
          "sizemode": "area",
          "sizeref": 0.025737642390739113,
          "symbol": "circle"
         },
         "mode": "markers",
         "name": "Faxe",
         "orientation": "v",
         "showlegend": true,
         "type": "scatter",
         "x": [
          "Faxe"
         ],
         "xaxis": "x",
         "y": [
          759991
         ],
         "yaxis": "y"
        },
        {
         "hovertemplate": "<b>%{hovertext}</b><br><br>location=%{x}<br>net_wealth_jitter=%{y}<br>area=%{marker.size}<extra></extra>",
         "hovertext": [
          "Guldborgsund"
         ],
         "legendgroup": "Guldborgsund",
         "marker": {
          "color": "#EF553B",
          "size": [
           7.312241669582086
          ],
          "sizemode": "area",
          "sizeref": 0.025737642390739113,
          "symbol": "circle"
         },
         "mode": "markers",
         "name": "Guldborgsund",
         "orientation": "v",
         "showlegend": true,
         "type": "scatter",
         "x": [
          "Guldborgsund"
         ],
         "xaxis": "x",
         "y": [
          645989
         ],
         "yaxis": "y"
        },
        {
         "hovertemplate": "<b>%{hovertext}</b><br><br>location=%{x}<br>net_wealth_jitter=%{y}<br>area=%{marker.size}<extra></extra>",
         "hovertext": [
          "Holbæk"
         ],
         "legendgroup": "Holbæk",
         "marker": {
          "color": "#00cc96",
          "size": [
           9.07591421245188
          ],
          "sizemode": "area",
          "sizeref": 0.025737642390739113,
          "symbol": "circle"
         },
         "mode": "markers",
         "name": "Holbæk",
         "orientation": "v",
         "showlegend": true,
         "type": "scatter",
         "x": [
          "Holbæk"
         ],
         "xaxis": "x",
         "y": [
          801798
         ],
         "yaxis": "y"
        },
        {
         "hovertemplate": "<b>%{hovertext}</b><br><br>location=%{x}<br>net_wealth_jitter=%{y}<br>area=%{marker.size}<extra></extra>",
         "hovertext": [
          "Kalundborg"
         ],
         "legendgroup": "Kalundborg",
         "marker": {
          "color": "#ab63fa",
          "size": [
           8.69021519489997
          ],
          "sizemode": "area",
          "sizeref": 0.025737642390739113,
          "symbol": "circle"
         },
         "mode": "markers",
         "name": "Kalundborg",
         "orientation": "v",
         "showlegend": true,
         "type": "scatter",
         "x": [
          "Kalundborg"
         ],
         "xaxis": "x",
         "y": [
          767724
         ],
         "yaxis": "y"
        },
        {
         "hovertemplate": "<b>%{hovertext}</b><br><br>location=%{x}<br>net_wealth_jitter=%{y}<br>area=%{marker.size}<extra></extra>",
         "hovertext": [
          "Lolland"
         ],
         "legendgroup": "Lolland",
         "marker": {
          "color": "#FFA15A",
          "size": [
           6.224555498408671
          ],
          "sizemode": "area",
          "sizeref": 0.025737642390739113,
          "symbol": "circle"
         },
         "mode": "markers",
         "name": "Lolland",
         "orientation": "v",
         "showlegend": true,
         "type": "scatter",
         "x": [
          "Lolland"
         ],
         "xaxis": "x",
         "y": [
          549899
         ],
         "yaxis": "y"
        },
        {
         "hovertemplate": "<b>%{hovertext}</b><br><br>location=%{x}<br>net_wealth_jitter=%{y}<br>area=%{marker.size}<extra></extra>",
         "hovertext": [
          "Næstved"
         ],
         "legendgroup": "Næstved",
         "marker": {
          "color": "#19d3f3",
          "size": [
           7.99196346053632
          ],
          "sizemode": "area",
          "sizeref": 0.025737642390739113,
          "symbol": "circle"
         },
         "mode": "markers",
         "name": "Næstved",
         "orientation": "v",
         "showlegend": true,
         "type": "scatter",
         "x": [
          "Næstved"
         ],
         "xaxis": "x",
         "y": [
          706038
         ],
         "yaxis": "y"
        },
        {
         "hovertemplate": "<b>%{hovertext}</b><br><br>location=%{x}<br>net_wealth_jitter=%{y}<br>area=%{marker.size}<extra></extra>",
         "hovertext": [
          "Odsherred"
         ],
         "legendgroup": "Odsherred",
         "marker": {
          "color": "#FF6692",
          "size": [
           9.78397991195662
          ],
          "sizemode": "area",
          "sizeref": 0.025737642390739113,
          "symbol": "circle"
         },
         "mode": "markers",
         "name": "Odsherred",
         "orientation": "v",
         "showlegend": true,
         "type": "scatter",
         "x": [
          "Odsherred"
         ],
         "xaxis": "x",
         "y": [
          864351
         ],
         "yaxis": "y"
        },
        {
         "hovertemplate": "<b>%{hovertext}</b><br><br>location=%{x}<br>net_wealth_jitter=%{y}<br>area=%{marker.size}<extra></extra>",
         "hovertext": [
          "Ringsted"
         ],
         "legendgroup": "Ringsted",
         "marker": {
          "color": "#B6E880",
          "size": [
           8.117858408978309
          ],
          "sizemode": "area",
          "sizeref": 0.025737642390739113,
          "symbol": "circle"
         },
         "mode": "markers",
         "name": "Ringsted",
         "orientation": "v",
         "showlegend": true,
         "type": "scatter",
         "x": [
          "Ringsted"
         ],
         "xaxis": "x",
         "y": [
          717160
         ],
         "yaxis": "y"
        },
        {
         "hovertemplate": "<b>%{hovertext}</b><br><br>location=%{x}<br>net_wealth_jitter=%{y}<br>area=%{marker.size}<extra></extra>",
         "hovertext": [
          "Slagelse"
         ],
         "legendgroup": "Slagelse",
         "marker": {
          "color": "#FF97FF",
          "size": [
           6.910661460458147
          ],
          "sizemode": "area",
          "sizeref": 0.025737642390739113,
          "symbol": "circle"
         },
         "mode": "markers",
         "name": "Slagelse",
         "orientation": "v",
         "showlegend": true,
         "type": "scatter",
         "x": [
          "Slagelse"
         ],
         "xaxis": "x",
         "y": [
          610512
         ],
         "yaxis": "y"
        },
        {
         "hovertemplate": "<b>%{hovertext}</b><br><br>location=%{x}<br>net_wealth_jitter=%{y}<br>area=%{marker.size}<extra></extra>",
         "hovertext": [
          "Sorø"
         ],
         "legendgroup": "Sorø",
         "marker": {
          "color": "#FECB52",
          "size": [
           9.598148463604515
          ],
          "sizemode": "area",
          "sizeref": 0.025737642390739113,
          "symbol": "circle"
         },
         "mode": "markers",
         "name": "Sorø",
         "orientation": "v",
         "showlegend": true,
         "type": "scatter",
         "x": [
          "Sorø"
         ],
         "xaxis": "x",
         "y": [
          847934
         ],
         "yaxis": "y"
        },
        {
         "hovertemplate": "<b>%{hovertext}</b><br><br>location=%{x}<br>net_wealth_jitter=%{y}<br>area=%{marker.size}<extra></extra>",
         "hovertext": [
          "Stevns"
         ],
         "legendgroup": "Stevns",
         "marker": {
          "color": "#636efa",
          "size": [
           10.910140901485935
          ],
          "sizemode": "area",
          "sizeref": 0.025737642390739113,
          "symbol": "circle"
         },
         "mode": "markers",
         "name": "Stevns",
         "orientation": "v",
         "showlegend": true,
         "type": "scatter",
         "x": [
          "Stevns"
         ],
         "xaxis": "x",
         "y": [
          963840
         ],
         "yaxis": "y"
        },
        {
         "hovertemplate": "<b>%{hovertext}</b><br><br>location=%{x}<br>net_wealth_jitter=%{y}<br>area=%{marker.size}<extra></extra>",
         "hovertext": [
          "Vordingborg"
         ],
         "legendgroup": "Vordingborg",
         "marker": {
          "color": "#EF553B",
          "size": [
           8.177579839294792
          ],
          "sizemode": "area",
          "sizeref": 0.025737642390739113,
          "symbol": "circle"
         },
         "mode": "markers",
         "name": "Vordingborg",
         "orientation": "v",
         "showlegend": true,
         "type": "scatter",
         "x": [
          "Vordingborg"
         ],
         "xaxis": "x",
         "y": [
          722436
         ],
         "yaxis": "y"
        },
        {
         "hovertemplate": "<b>%{hovertext}</b><br><br>location=%{x}<br>net_wealth_jitter=%{y}<br>area=%{marker.size}<extra></extra>",
         "hovertext": [
          "Assens"
         ],
         "legendgroup": "Assens",
         "marker": {
          "color": "#00cc96",
          "size": [
           7.968136013452127
          ],
          "sizemode": "area",
          "sizeref": 0.025737642390739113,
          "symbol": "circle"
         },
         "mode": "markers",
         "name": "Assens",
         "orientation": "v",
         "showlegend": true,
         "type": "scatter",
         "x": [
          "Assens"
         ],
         "xaxis": "x",
         "y": [
          703933
         ],
         "yaxis": "y"
        },
        {
         "hovertemplate": "<b>%{hovertext}</b><br><br>location=%{x}<br>net_wealth_jitter=%{y}<br>area=%{marker.size}<extra></extra>",
         "hovertext": [
          "Faaborg-Midtfyn"
         ],
         "legendgroup": "Faaborg-Midtfyn",
         "marker": {
          "color": "#ab63fa",
          "size": [
           8.597599436209777
          ],
          "sizemode": "area",
          "sizeref": 0.025737642390739113,
          "symbol": "circle"
         },
         "mode": "markers",
         "name": "Faaborg-Midtfyn",
         "orientation": "v",
         "showlegend": true,
         "type": "scatter",
         "x": [
          "Faaborg-Midtfyn"
         ],
         "xaxis": "x",
         "y": [
          759542
         ],
         "yaxis": "y"
        },
        {
         "hovertemplate": "<b>%{hovertext}</b><br><br>location=%{x}<br>net_wealth_jitter=%{y}<br>area=%{marker.size}<extra></extra>",
         "hovertext": [
          "Kerteminde"
         ],
         "legendgroup": "Kerteminde",
         "marker": {
          "color": "#FFA15A",
          "size": [
           8.923554384540608
          ],
          "sizemode": "area",
          "sizeref": 0.025737642390739113,
          "symbol": "circle"
         },
         "mode": "markers",
         "name": "Kerteminde",
         "orientation": "v",
         "showlegend": true,
         "type": "scatter",
         "x": [
          "Kerteminde"
         ],
         "xaxis": "x",
         "y": [
          788338
         ],
         "yaxis": "y"
        },
        {
         "hovertemplate": "<b>%{hovertext}</b><br><br>location=%{x}<br>net_wealth_jitter=%{y}<br>area=%{marker.size}<extra></extra>",
         "hovertext": [
          "Langeland"
         ],
         "legendgroup": "Langeland",
         "marker": {
          "color": "#19d3f3",
          "size": [
           8.070339348237484
          ],
          "sizemode": "area",
          "sizeref": 0.025737642390739113,
          "symbol": "circle"
         },
         "mode": "markers",
         "name": "Langeland",
         "orientation": "v",
         "showlegend": true,
         "type": "scatter",
         "x": [
          "Langeland"
         ],
         "xaxis": "x",
         "y": [
          712962
         ],
         "yaxis": "y"
        },
        {
         "hovertemplate": "<b>%{hovertext}</b><br><br>location=%{x}<br>net_wealth_jitter=%{y}<br>area=%{marker.size}<extra></extra>",
         "hovertext": [
          "Middelfart"
         ],
         "legendgroup": "Middelfart",
         "marker": {
          "color": "#FF6692",
          "size": [
           9.70151770197641
          ],
          "sizemode": "area",
          "sizeref": 0.025737642390739113,
          "symbol": "circle"
         },
         "mode": "markers",
         "name": "Middelfart",
         "orientation": "v",
         "showlegend": true,
         "type": "scatter",
         "x": [
          "Middelfart"
         ],
         "xaxis": "x",
         "y": [
          857066
         ],
         "yaxis": "y"
        },
        {
         "hovertemplate": "<b>%{hovertext}</b><br><br>location=%{x}<br>net_wealth_jitter=%{y}<br>area=%{marker.size}<extra></extra>",
         "hovertext": [
          "Nordfyns"
         ],
         "legendgroup": "Nordfyns",
         "marker": {
          "color": "#B6E880",
          "size": [
           8.524328621494346
          ],
          "sizemode": "area",
          "sizeref": 0.025737642390739113,
          "symbol": "circle"
         },
         "mode": "markers",
         "name": "Nordfyns",
         "orientation": "v",
         "showlegend": true,
         "type": "scatter",
         "x": [
          "Nordfyns"
         ],
         "xaxis": "x",
         "y": [
          753069
         ],
         "yaxis": "y"
        },
        {
         "hovertemplate": "<b>%{hovertext}</b><br><br>location=%{x}<br>net_wealth_jitter=%{y}<br>area=%{marker.size}<extra></extra>",
         "hovertext": [
          "Nyborg"
         ],
         "legendgroup": "Nyborg",
         "marker": {
          "color": "#FF97FF",
          "size": [
           8.091812349243996
          ],
          "sizemode": "area",
          "sizeref": 0.025737642390739113,
          "symbol": "circle"
         },
         "mode": "markers",
         "name": "Nyborg",
         "orientation": "v",
         "showlegend": true,
         "type": "scatter",
         "x": [
          "Nyborg"
         ],
         "xaxis": "x",
         "y": [
          714859
         ],
         "yaxis": "y"
        },
        {
         "hovertemplate": "<b>%{hovertext}</b><br><br>location=%{x}<br>net_wealth_jitter=%{y}<br>area=%{marker.size}<extra></extra>",
         "hovertext": [
          "Odense"
         ],
         "legendgroup": "Odense",
         "marker": {
          "color": "#FECB52",
          "size": [
           4.5434017627805705
          ],
          "sizemode": "area",
          "sizeref": 0.025737642390739113,
          "symbol": "circle"
         },
         "mode": "markers",
         "name": "Odense",
         "orientation": "v",
         "showlegend": true,
         "type": "scatter",
         "x": [
          "Odense"
         ],
         "xaxis": "x",
         "y": [
          401380
         ],
         "yaxis": "y"
        },
        {
         "hovertemplate": "<b>%{hovertext}</b><br><br>location=%{x}<br>net_wealth_jitter=%{y}<br>area=%{marker.size}<extra></extra>",
         "hovertext": [
          "Svendborg"
         ],
         "legendgroup": "Svendborg",
         "marker": {
          "color": "#636efa",
          "size": [
           9.013227085633705
          ],
          "sizemode": "area",
          "sizeref": 0.025737642390739113,
          "symbol": "circle"
         },
         "mode": "markers",
         "name": "Svendborg",
         "orientation": "v",
         "showlegend": true,
         "type": "scatter",
         "x": [
          "Svendborg"
         ],
         "xaxis": "x",
         "y": [
          796260
         ],
         "yaxis": "y"
        },
        {
         "hovertemplate": "<b>%{hovertext}</b><br><br>location=%{x}<br>net_wealth_jitter=%{y}<br>area=%{marker.size}<extra></extra>",
         "hovertext": [
          "Ærø"
         ],
         "legendgroup": "Ærø",
         "marker": {
          "color": "#EF553B",
          "size": [
           9.980202617516941
          ],
          "sizemode": "area",
          "sizeref": 0.025737642390739113,
          "symbol": "circle"
         },
         "mode": "markers",
         "name": "Ærø",
         "orientation": "v",
         "showlegend": true,
         "type": "scatter",
         "x": [
          "Ærø"
         ],
         "xaxis": "x",
         "y": [
          881686
         ],
         "yaxis": "y"
        },
        {
         "hovertemplate": "<b>%{hovertext}</b><br><br>location=%{x}<br>net_wealth_jitter=%{y}<br>area=%{marker.size}<extra></extra>",
         "hovertext": [
          "Billund"
         ],
         "legendgroup": "Billund",
         "marker": {
          "color": "#00cc96",
          "size": [
           9.394488877885374
          ],
          "sizemode": "area",
          "sizeref": 0.025737642390739113,
          "symbol": "circle"
         },
         "mode": "markers",
         "name": "Billund",
         "orientation": "v",
         "showlegend": true,
         "type": "scatter",
         "x": [
          "Billund"
         ],
         "xaxis": "x",
         "y": [
          829942
         ],
         "yaxis": "y"
        },
        {
         "hovertemplate": "<b>%{hovertext}</b><br><br>location=%{x}<br>net_wealth_jitter=%{y}<br>area=%{marker.size}<extra></extra>",
         "hovertext": [
          "Esbjerg"
         ],
         "legendgroup": "Esbjerg",
         "marker": {
          "color": "#ab63fa",
          "size": [
           7.488338388959178
          ],
          "sizemode": "area",
          "sizeref": 0.025737642390739113,
          "symbol": "circle"
         },
         "mode": "markers",
         "name": "Esbjerg",
         "orientation": "v",
         "showlegend": true,
         "type": "scatter",
         "x": [
          "Esbjerg"
         ],
         "xaxis": "x",
         "y": [
          661546
         ],
         "yaxis": "y"
        },
        {
         "hovertemplate": "<b>%{hovertext}</b><br><br>location=%{x}<br>net_wealth_jitter=%{y}<br>area=%{marker.size}<extra></extra>",
         "hovertext": [
          "Fanø"
         ],
         "legendgroup": "Fanø",
         "marker": {
          "color": "#FFA15A",
          "size": [
           15.742290572898648
          ],
          "sizemode": "area",
          "sizeref": 0.025737642390739113,
          "symbol": "circle"
         },
         "mode": "markers",
         "name": "Fanø",
         "orientation": "v",
         "showlegend": true,
         "type": "scatter",
         "x": [
          "Fanø"
         ],
         "xaxis": "x",
         "y": [
          1390729
         ],
         "yaxis": "y"
        },
        {
         "hovertemplate": "<b>%{hovertext}</b><br><br>location=%{x}<br>net_wealth_jitter=%{y}<br>area=%{marker.size}<extra></extra>",
         "hovertext": [
          "Fredericia"
         ],
         "legendgroup": "Fredericia",
         "marker": {
          "color": "#19d3f3",
          "size": [
           6.970394210226928
          ],
          "sizemode": "area",
          "sizeref": 0.025737642390739113,
          "symbol": "circle"
         },
         "mode": "markers",
         "name": "Fredericia",
         "orientation": "v",
         "showlegend": true,
         "type": "scatter",
         "x": [
          "Fredericia"
         ],
         "xaxis": "x",
         "y": [
          615789
         ],
         "yaxis": "y"
        },
        {
         "hovertemplate": "<b>%{hovertext}</b><br><br>location=%{x}<br>net_wealth_jitter=%{y}<br>area=%{marker.size}<extra></extra>",
         "hovertext": [
          "Haderslev"
         ],
         "legendgroup": "Haderslev",
         "marker": {
          "color": "#FF6692",
          "size": [
           7.224334803047246
          ],
          "sizemode": "area",
          "sizeref": 0.025737642390739113,
          "symbol": "circle"
         },
         "mode": "markers",
         "name": "Haderslev",
         "orientation": "v",
         "showlegend": true,
         "type": "scatter",
         "x": [
          "Haderslev"
         ],
         "xaxis": "x",
         "y": [
          638223
         ],
         "yaxis": "y"
        },
        {
         "hovertemplate": "<b>%{hovertext}</b><br><br>location=%{x}<br>net_wealth_jitter=%{y}<br>area=%{marker.size}<extra></extra>",
         "hovertext": [
          "Kolding"
         ],
         "legendgroup": "Kolding",
         "marker": {
          "color": "#B6E880",
          "size": [
           7.653670309202272
          ],
          "sizemode": "area",
          "sizeref": 0.025737642390739113,
          "symbol": "circle"
         },
         "mode": "markers",
         "name": "Kolding",
         "orientation": "v",
         "showlegend": true,
         "type": "scatter",
         "x": [
          "Kolding"
         ],
         "xaxis": "x",
         "y": [
          676152
         ],
         "yaxis": "y"
        },
        {
         "hovertemplate": "<b>%{hovertext}</b><br><br>location=%{x}<br>net_wealth_jitter=%{y}<br>area=%{marker.size}<extra></extra>",
         "hovertext": [
          "Sønderborg"
         ],
         "legendgroup": "Sønderborg",
         "marker": {
          "color": "#FF97FF",
          "size": [
           7.738871826638242
          ],
          "sizemode": "area",
          "sizeref": 0.025737642390739113,
          "symbol": "circle"
         },
         "mode": "markers",
         "name": "Sønderborg",
         "orientation": "v",
         "showlegend": true,
         "type": "scatter",
         "x": [
          "Sønderborg"
         ],
         "xaxis": "x",
         "y": [
          683679
         ],
         "yaxis": "y"
        },
        {
         "hovertemplate": "<b>%{hovertext}</b><br><br>location=%{x}<br>net_wealth_jitter=%{y}<br>area=%{marker.size}<extra></extra>",
         "hovertext": [
          "Tønder"
         ],
         "legendgroup": "Tønder",
         "marker": {
          "color": "#FECB52",
          "size": [
           7.69097922397163
          ],
          "sizemode": "area",
          "sizeref": 0.025737642390739113,
          "symbol": "circle"
         },
         "mode": "markers",
         "name": "Tønder",
         "orientation": "v",
         "showlegend": true,
         "type": "scatter",
         "x": [
          "Tønder"
         ],
         "xaxis": "x",
         "y": [
          679448
         ],
         "yaxis": "y"
        },
        {
         "hovertemplate": "<b>%{hovertext}</b><br><br>location=%{x}<br>net_wealth_jitter=%{y}<br>area=%{marker.size}<extra></extra>",
         "hovertext": [
          "Varde"
         ],
         "legendgroup": "Varde",
         "marker": {
          "color": "#636efa",
          "size": [
           8.844725718747583
          ],
          "sizemode": "area",
          "sizeref": 0.025737642390739113,
          "symbol": "circle"
         },
         "mode": "markers",
         "name": "Varde",
         "orientation": "v",
         "showlegend": true,
         "type": "scatter",
         "x": [
          "Varde"
         ],
         "xaxis": "x",
         "y": [
          781374
         ],
         "yaxis": "y"
        },
        {
         "hovertemplate": "<b>%{hovertext}</b><br><br>location=%{x}<br>net_wealth_jitter=%{y}<br>area=%{marker.size}<extra></extra>",
         "hovertext": [
          "Vejen"
         ],
         "legendgroup": "Vejen",
         "marker": {
          "color": "#EF553B",
          "size": [
           7.580003313656466
          ],
          "sizemode": "area",
          "sizeref": 0.025737642390739113,
          "symbol": "circle"
         },
         "mode": "markers",
         "name": "Vejen",
         "orientation": "v",
         "showlegend": true,
         "type": "scatter",
         "x": [
          "Vejen"
         ],
         "xaxis": "x",
         "y": [
          669644
         ],
         "yaxis": "y"
        },
        {
         "hovertemplate": "<b>%{hovertext}</b><br><br>location=%{x}<br>net_wealth_jitter=%{y}<br>area=%{marker.size}<extra></extra>",
         "hovertext": [
          "Vejle"
         ],
         "legendgroup": "Vejle",
         "marker": {
          "color": "#00cc96",
          "size": [
           8.02518605302663
          ],
          "sizemode": "area",
          "sizeref": 0.025737642390739113,
          "symbol": "circle"
         },
         "mode": "markers",
         "name": "Vejle",
         "orientation": "v",
         "showlegend": true,
         "type": "scatter",
         "x": [
          "Vejle"
         ],
         "xaxis": "x",
         "y": [
          708973
         ],
         "yaxis": "y"
        },
        {
         "hovertemplate": "<b>%{hovertext}</b><br><br>location=%{x}<br>net_wealth_jitter=%{y}<br>area=%{marker.size}<extra></extra>",
         "hovertext": [
          "Aabenraa"
         ],
         "legendgroup": "Aabenraa",
         "marker": {
          "color": "#ab63fa",
          "size": [
           7.727744805030754
          ],
          "sizemode": "area",
          "sizeref": 0.025737642390739113,
          "symbol": "circle"
         },
         "mode": "markers",
         "name": "Aabenraa",
         "orientation": "v",
         "showlegend": true,
         "type": "scatter",
         "x": [
          "Aabenraa"
         ],
         "xaxis": "x",
         "y": [
          682696
         ],
         "yaxis": "y"
        },
        {
         "hovertemplate": "<b>%{hovertext}</b><br><br>location=%{x}<br>net_wealth_jitter=%{y}<br>area=%{marker.size}<extra></extra>",
         "hovertext": [
          "Favrskov"
         ],
         "legendgroup": "Favrskov",
         "marker": {
          "color": "#FFA15A",
          "size": [
           11.342204395644425
          ],
          "sizemode": "area",
          "sizeref": 0.025737642390739113,
          "symbol": "circle"
         },
         "mode": "markers",
         "name": "Favrskov",
         "orientation": "v",
         "showlegend": true,
         "type": "scatter",
         "x": [
          "Favrskov"
         ],
         "xaxis": "x",
         "y": [
          1002010
         ],
         "yaxis": "y"
        },
        {
         "hovertemplate": "<b>%{hovertext}</b><br><br>location=%{x}<br>net_wealth_jitter=%{y}<br>area=%{marker.size}<extra></extra>",
         "hovertext": [
          "Hedensted"
         ],
         "legendgroup": "Hedensted",
         "marker": {
          "color": "#19d3f3",
          "size": [
           9.572204278940871
          ],
          "sizemode": "area",
          "sizeref": 0.025737642390739113,
          "symbol": "circle"
         },
         "mode": "markers",
         "name": "Hedensted",
         "orientation": "v",
         "showlegend": true,
         "type": "scatter",
         "x": [
          "Hedensted"
         ],
         "xaxis": "x",
         "y": [
          845642
         ],
         "yaxis": "y"
        },
        {
         "hovertemplate": "<b>%{hovertext}</b><br><br>location=%{x}<br>net_wealth_jitter=%{y}<br>area=%{marker.size}<extra></extra>",
         "hovertext": [
          "Horsens"
         ],
         "legendgroup": "Horsens",
         "marker": {
          "color": "#FF6692",
          "size": [
           7.199907424991339
          ],
          "sizemode": "area",
          "sizeref": 0.025737642390739113,
          "symbol": "circle"
         },
         "mode": "markers",
         "name": "Horsens",
         "orientation": "v",
         "showlegend": true,
         "type": "scatter",
         "x": [
          "Horsens"
         ],
         "xaxis": "x",
         "y": [
          636065
         ],
         "yaxis": "y"
        },
        {
         "hovertemplate": "<b>%{hovertext}</b><br><br>location=%{x}<br>net_wealth_jitter=%{y}<br>area=%{marker.size}<extra></extra>",
         "hovertext": [
          "Norddjurs"
         ],
         "legendgroup": "Norddjurs",
         "marker": {
          "color": "#B6E880",
          "size": [
           7.602415829203592
          ],
          "sizemode": "area",
          "sizeref": 0.025737642390739113,
          "symbol": "circle"
         },
         "mode": "markers",
         "name": "Norddjurs",
         "orientation": "v",
         "showlegend": true,
         "type": "scatter",
         "x": [
          "Norddjurs"
         ],
         "xaxis": "x",
         "y": [
          671624
         ],
         "yaxis": "y"
        },
        {
         "hovertemplate": "<b>%{hovertext}</b><br><br>location=%{x}<br>net_wealth_jitter=%{y}<br>area=%{marker.size}<extra></extra>",
         "hovertext": [
          "Odder"
         ],
         "legendgroup": "Odder",
         "marker": {
          "color": "#FF97FF",
          "size": [
           11.498118531576807
          ],
          "sizemode": "area",
          "sizeref": 0.025737642390739113,
          "symbol": "circle"
         },
         "mode": "markers",
         "name": "Odder",
         "orientation": "v",
         "showlegend": true,
         "type": "scatter",
         "x": [
          "Odder"
         ],
         "xaxis": "x",
         "y": [
          1015784
         ],
         "yaxis": "y"
        },
        {
         "hovertemplate": "<b>%{hovertext}</b><br><br>location=%{x}<br>net_wealth_jitter=%{y}<br>area=%{marker.size}<extra></extra>",
         "hovertext": [
          "Randers"
         ],
         "legendgroup": "Randers",
         "marker": {
          "color": "#FECB52",
          "size": [
           6.638926688627687
          ],
          "sizemode": "area",
          "sizeref": 0.025737642390739113,
          "symbol": "circle"
         },
         "mode": "markers",
         "name": "Randers",
         "orientation": "v",
         "showlegend": true,
         "type": "scatter",
         "x": [
          "Randers"
         ],
         "xaxis": "x",
         "y": [
          586506
         ],
         "yaxis": "y"
        },
        {
         "hovertemplate": "<b>%{hovertext}</b><br><br>location=%{x}<br>net_wealth_jitter=%{y}<br>area=%{marker.size}<extra></extra>",
         "hovertext": [
          "Samsø"
         ],
         "legendgroup": "Samsø",
         "marker": {
          "color": "#636efa",
          "size": [
           10.703640133240366
          ],
          "sizemode": "area",
          "sizeref": 0.025737642390739113,
          "symbol": "circle"
         },
         "mode": "markers",
         "name": "Samsø",
         "orientation": "v",
         "showlegend": true,
         "type": "scatter",
         "x": [
          "Samsø"
         ],
         "xaxis": "x",
         "y": [
          945597
         ],
         "yaxis": "y"
        },
        {
         "hovertemplate": "<b>%{hovertext}</b><br><br>location=%{x}<br>net_wealth_jitter=%{y}<br>area=%{marker.size}<extra></extra>",
         "hovertext": [
          "Silkeborg"
         ],
         "legendgroup": "Silkeborg",
         "marker": {
          "color": "#EF553B",
          "size": [
           9.806686733263458
          ],
          "sizemode": "area",
          "sizeref": 0.025737642390739113,
          "symbol": "circle"
         },
         "mode": "markers",
         "name": "Silkeborg",
         "orientation": "v",
         "showlegend": true,
         "type": "scatter",
         "x": [
          "Silkeborg"
         ],
         "xaxis": "x",
         "y": [
          866357
         ],
         "yaxis": "y"
        },
        {
         "hovertemplate": "<b>%{hovertext}</b><br><br>location=%{x}<br>net_wealth_jitter=%{y}<br>area=%{marker.size}<extra></extra>",
         "hovertext": [
          "Skanderborg"
         ],
         "legendgroup": "Skanderborg",
         "marker": {
          "color": "#00cc96",
          "size": [
           13.10662402236579
          ],
          "sizemode": "area",
          "sizeref": 0.025737642390739113,
          "symbol": "circle"
         },
         "mode": "markers",
         "name": "Skanderborg",
         "orientation": "v",
         "showlegend": true,
         "type": "scatter",
         "x": [
          "Skanderborg"
         ],
         "xaxis": "x",
         "y": [
          1157885
         ],
         "yaxis": "y"
        },
        {
         "hovertemplate": "<b>%{hovertext}</b><br><br>location=%{x}<br>net_wealth_jitter=%{y}<br>area=%{marker.size}<extra></extra>",
         "hovertext": [
          "Syddjurs"
         ],
         "legendgroup": "Syddjurs",
         "marker": {
          "color": "#ab63fa",
          "size": [
           11.178966574076188
          ],
          "sizemode": "area",
          "sizeref": 0.025737642390739113,
          "symbol": "circle"
         },
         "mode": "markers",
         "name": "Syddjurs",
         "orientation": "v",
         "showlegend": true,
         "type": "scatter",
         "x": [
          "Syddjurs"
         ],
         "xaxis": "x",
         "y": [
          987589
         ],
         "yaxis": "y"
        },
        {
         "hovertemplate": "<b>%{hovertext}</b><br><br>location=%{x}<br>net_wealth_jitter=%{y}<br>area=%{marker.size}<extra></extra>",
         "hovertext": [
          "Aarhus"
         ],
         "legendgroup": "Aarhus",
         "marker": {
          "color": "#FFA15A",
          "size": [
           4.279251023988784
          ],
          "sizemode": "area",
          "sizeref": 0.025737642390739113,
          "symbol": "circle"
         },
         "mode": "markers",
         "name": "Aarhus",
         "orientation": "v",
         "showlegend": true,
         "type": "scatter",
         "x": [
          "Aarhus"
         ],
         "xaxis": "x",
         "y": [
          378044
         ],
         "yaxis": "y"
        },
        {
         "hovertemplate": "<b>%{hovertext}</b><br><br>location=%{x}<br>net_wealth_jitter=%{y}<br>area=%{marker.size}<extra></extra>",
         "hovertext": [
          "Herning"
         ],
         "legendgroup": "Herning",
         "marker": {
          "color": "#19d3f3",
          "size": [
           8.367893790756325
          ],
          "sizemode": "area",
          "sizeref": 0.025737642390739113,
          "symbol": "circle"
         },
         "mode": "markers",
         "name": "Herning",
         "orientation": "v",
         "showlegend": true,
         "type": "scatter",
         "x": [
          "Herning"
         ],
         "xaxis": "x",
         "y": [
          739249
         ],
         "yaxis": "y"
        },
        {
         "hovertemplate": "<b>%{hovertext}</b><br><br>location=%{x}<br>net_wealth_jitter=%{y}<br>area=%{marker.size}<extra></extra>",
         "hovertext": [
          "Holstebro"
         ],
         "legendgroup": "Holstebro",
         "marker": {
          "color": "#FF6692",
          "size": [
           8.833145919048235
          ],
          "sizemode": "area",
          "sizeref": 0.025737642390739113,
          "symbol": "circle"
         },
         "mode": "markers",
         "name": "Holstebro",
         "orientation": "v",
         "showlegend": true,
         "type": "scatter",
         "x": [
          "Holstebro"
         ],
         "xaxis": "x",
         "y": [
          780351
         ],
         "yaxis": "y"
        },
        {
         "hovertemplate": "<b>%{hovertext}</b><br><br>location=%{x}<br>net_wealth_jitter=%{y}<br>area=%{marker.size}<extra></extra>",
         "hovertext": [
          "Ikast-Brande"
         ],
         "legendgroup": "Ikast-Brande",
         "marker": {
          "color": "#B6E880",
          "size": [
           8.054831698591238
          ],
          "sizemode": "area",
          "sizeref": 0.025737642390739113,
          "symbol": "circle"
         },
         "mode": "markers",
         "name": "Ikast-Brande",
         "orientation": "v",
         "showlegend": true,
         "type": "scatter",
         "x": [
          "Ikast-Brande"
         ],
         "xaxis": "x",
         "y": [
          711592
         ],
         "yaxis": "y"
        },
        {
         "hovertemplate": "<b>%{hovertext}</b><br><br>location=%{x}<br>net_wealth_jitter=%{y}<br>area=%{marker.size}<extra></extra>",
         "hovertext": [
          "Lemvig"
         ],
         "legendgroup": "Lemvig",
         "marker": {
          "color": "#FF97FF",
          "size": [
           9.21859590864962
          ],
          "sizemode": "area",
          "sizeref": 0.025737642390739113,
          "symbol": "circle"
         },
         "mode": "markers",
         "name": "Lemvig",
         "orientation": "v",
         "showlegend": true,
         "type": "scatter",
         "x": [
          "Lemvig"
         ],
         "xaxis": "x",
         "y": [
          814403
         ],
         "yaxis": "y"
        },
        {
         "hovertemplate": "<b>%{hovertext}</b><br><br>location=%{x}<br>net_wealth_jitter=%{y}<br>area=%{marker.size}<extra></extra>",
         "hovertext": [
          "Ringkøbing-Skjern"
         ],
         "legendgroup": "Ringkøbing-Skjern",
         "marker": {
          "color": "#FECB52",
          "size": [
           8.954286697525681
          ],
          "sizemode": "area",
          "sizeref": 0.025737642390739113,
          "symbol": "circle"
         },
         "mode": "markers",
         "name": "Ringkøbing-Skjern",
         "orientation": "v",
         "showlegend": true,
         "type": "scatter",
         "x": [
          "Ringkøbing-Skjern"
         ],
         "xaxis": "x",
         "y": [
          791053
         ],
         "yaxis": "y"
        },
        {
         "hovertemplate": "<b>%{hovertext}</b><br><br>location=%{x}<br>net_wealth_jitter=%{y}<br>area=%{marker.size}<extra></extra>",
         "hovertext": [
          "Skive"
         ],
         "legendgroup": "Skive",
         "marker": {
          "color": "#636efa",
          "size": [
           8.583982135097052
          ],
          "sizemode": "area",
          "sizeref": 0.025737642390739113,
          "symbol": "circle"
         },
         "mode": "markers",
         "name": "Skive",
         "orientation": "v",
         "showlegend": true,
         "type": "scatter",
         "x": [
          "Skive"
         ],
         "xaxis": "x",
         "y": [
          758339
         ],
         "yaxis": "y"
        },
        {
         "hovertemplate": "<b>%{hovertext}</b><br><br>location=%{x}<br>net_wealth_jitter=%{y}<br>area=%{marker.size}<extra></extra>",
         "hovertext": [
          "Struer"
         ],
         "legendgroup": "Struer",
         "marker": {
          "color": "#EF553B",
          "size": [
           8.198147284117585
          ],
          "sizemode": "area",
          "sizeref": 0.025737642390739113,
          "symbol": "circle"
         },
         "mode": "markers",
         "name": "Struer",
         "orientation": "v",
         "showlegend": true,
         "type": "scatter",
         "x": [
          "Struer"
         ],
         "xaxis": "x",
         "y": [
          724253
         ],
         "yaxis": "y"
        },
        {
         "hovertemplate": "<b>%{hovertext}</b><br><br>location=%{x}<br>net_wealth_jitter=%{y}<br>area=%{marker.size}<extra></extra>",
         "hovertext": [
          "Viborg"
         ],
         "legendgroup": "Viborg",
         "marker": {
          "color": "#00cc96",
          "size": [
           8.731293487284072
          ],
          "sizemode": "area",
          "sizeref": 0.025737642390739113,
          "symbol": "circle"
         },
         "mode": "markers",
         "name": "Viborg",
         "orientation": "v",
         "showlegend": true,
         "type": "scatter",
         "x": [
          "Viborg"
         ],
         "xaxis": "x",
         "y": [
          771353
         ],
         "yaxis": "y"
        },
        {
         "hovertemplate": "<b>%{hovertext}</b><br><br>location=%{x}<br>net_wealth_jitter=%{y}<br>area=%{marker.size}<extra></extra>",
         "hovertext": [
          "Brønderslev"
         ],
         "legendgroup": "Brønderslev",
         "marker": {
          "color": "#ab63fa",
          "size": [
           7.713165350472825
          ],
          "sizemode": "area",
          "sizeref": 0.025737642390739113,
          "symbol": "circle"
         },
         "mode": "markers",
         "name": "Brønderslev",
         "orientation": "v",
         "showlegend": true,
         "type": "scatter",
         "x": [
          "Brønderslev"
         ],
         "xaxis": "x",
         "y": [
          681408
         ],
         "yaxis": "y"
        },
        {
         "hovertemplate": "<b>%{hovertext}</b><br><br>location=%{x}<br>net_wealth_jitter=%{y}<br>area=%{marker.size}<extra></extra>",
         "hovertext": [
          "Frederikshavn"
         ],
         "legendgroup": "Frederikshavn",
         "marker": {
          "color": "#FFA15A",
          "size": [
           8.113590975462518
          ],
          "sizemode": "area",
          "sizeref": 0.025737642390739113,
          "symbol": "circle"
         },
         "mode": "markers",
         "name": "Frederikshavn",
         "orientation": "v",
         "showlegend": true,
         "type": "scatter",
         "x": [
          "Frederikshavn"
         ],
         "xaxis": "x",
         "y": [
          716783
         ],
         "yaxis": "y"
        },
        {
         "hovertemplate": "<b>%{hovertext}</b><br><br>location=%{x}<br>net_wealth_jitter=%{y}<br>area=%{marker.size}<extra></extra>",
         "hovertext": [
          "Hjørring"
         ],
         "legendgroup": "Hjørring",
         "marker": {
          "color": "#19d3f3",
          "size": [
           7.970365945554544
          ],
          "sizemode": "area",
          "sizeref": 0.025737642390739113,
          "symbol": "circle"
         },
         "mode": "markers",
         "name": "Hjørring",
         "orientation": "v",
         "showlegend": true,
         "type": "scatter",
         "x": [
          "Hjørring"
         ],
         "xaxis": "x",
         "y": [
          704130
         ],
         "yaxis": "y"
        },
        {
         "hovertemplate": "<b>%{hovertext}</b><br><br>location=%{x}<br>net_wealth_jitter=%{y}<br>area=%{marker.size}<extra></extra>",
         "hovertext": [
          "Jammerbugt"
         ],
         "legendgroup": "Jammerbugt",
         "marker": {
          "color": "#FF6692",
          "size": [
           8.858456214383272
          ],
          "sizemode": "area",
          "sizeref": 0.025737642390739113,
          "symbol": "circle"
         },
         "mode": "markers",
         "name": "Jammerbugt",
         "orientation": "v",
         "showlegend": true,
         "type": "scatter",
         "x": [
          "Jammerbugt"
         ],
         "xaxis": "x",
         "y": [
          782587
         ],
         "yaxis": "y"
        },
        {
         "hovertemplate": "<b>%{hovertext}</b><br><br>location=%{x}<br>net_wealth_jitter=%{y}<br>area=%{marker.size}<extra></extra>",
         "hovertext": [
          "Læsø"
         ],
         "legendgroup": "Læsø",
         "marker": {
          "color": "#B6E880",
          "size": [
           10.251711000301471
          ],
          "sizemode": "area",
          "sizeref": 0.025737642390739113,
          "symbol": "circle"
         },
         "mode": "markers",
         "name": "Læsø",
         "orientation": "v",
         "showlegend": true,
         "type": "scatter",
         "x": [
          "Læsø"
         ],
         "xaxis": "x",
         "y": [
          905672
         ],
         "yaxis": "y"
        },
        {
         "hovertemplate": "<b>%{hovertext}</b><br><br>location=%{x}<br>net_wealth_jitter=%{y}<br>area=%{marker.size}<extra></extra>",
         "hovertext": [
          "Mariagerfjord"
         ],
         "legendgroup": "Mariagerfjord",
         "marker": {
          "color": "#FF97FF",
          "size": [
           8.560007535133005
          ],
          "sizemode": "area",
          "sizeref": 0.025737642390739113,
          "symbol": "circle"
         },
         "mode": "markers",
         "name": "Mariagerfjord",
         "orientation": "v",
         "showlegend": true,
         "type": "scatter",
         "x": [
          "Mariagerfjord"
         ],
         "xaxis": "x",
         "y": [
          756221
         ],
         "yaxis": "y"
        },
        {
         "hovertemplate": "<b>%{hovertext}</b><br><br>location=%{x}<br>net_wealth_jitter=%{y}<br>area=%{marker.size}<extra></extra>",
         "hovertext": [
          "Morsø"
         ],
         "legendgroup": "Morsø",
         "marker": {
          "color": "#FECB52",
          "size": [
           7.96200087030741
          ],
          "sizemode": "area",
          "sizeref": 0.025737642390739113,
          "symbol": "circle"
         },
         "mode": "markers",
         "name": "Morsø",
         "orientation": "v",
         "showlegend": true,
         "type": "scatter",
         "x": [
          "Morsø"
         ],
         "xaxis": "x",
         "y": [
          703391
         ],
         "yaxis": "y"
        },
        {
         "hovertemplate": "<b>%{hovertext}</b><br><br>location=%{x}<br>net_wealth_jitter=%{y}<br>area=%{marker.size}<extra></extra>",
         "hovertext": [
          "Rebild"
         ],
         "legendgroup": "Rebild",
         "marker": {
          "color": "#636efa",
          "size": [
           10.283348869470268
          ],
          "sizemode": "area",
          "sizeref": 0.025737642390739113,
          "symbol": "circle"
         },
         "mode": "markers",
         "name": "Rebild",
         "orientation": "v",
         "showlegend": true,
         "type": "scatter",
         "x": [
          "Rebild"
         ],
         "xaxis": "x",
         "y": [
          908467
         ],
         "yaxis": "y"
        },
        {
         "hovertemplate": "<b>%{hovertext}</b><br><br>location=%{x}<br>net_wealth_jitter=%{y}<br>area=%{marker.size}<extra></extra>",
         "hovertext": [
          "Thisted"
         ],
         "legendgroup": "Thisted",
         "marker": {
          "color": "#EF553B",
          "size": [
           8.228540013533763
          ],
          "sizemode": "area",
          "sizeref": 0.025737642390739113,
          "symbol": "circle"
         },
         "mode": "markers",
         "name": "Thisted",
         "orientation": "v",
         "showlegend": true,
         "type": "scatter",
         "x": [
          "Thisted"
         ],
         "xaxis": "x",
         "y": [
          726938
         ],
         "yaxis": "y"
        },
        {
         "hovertemplate": "<b>%{hovertext}</b><br><br>location=%{x}<br>net_wealth_jitter=%{y}<br>area=%{marker.size}<extra></extra>",
         "hovertext": [
          "Vesthimmerlands"
         ],
         "legendgroup": "Vesthimmerlands",
         "marker": {
          "color": "#00cc96",
          "size": [
           8.189057763923472
          ],
          "sizemode": "area",
          "sizeref": 0.025737642390739113,
          "symbol": "circle"
         },
         "mode": "markers",
         "name": "Vesthimmerlands",
         "orientation": "v",
         "showlegend": true,
         "type": "scatter",
         "x": [
          "Vesthimmerlands"
         ],
         "xaxis": "x",
         "y": [
          723450
         ],
         "yaxis": "y"
        },
        {
         "hovertemplate": "<b>%{hovertext}</b><br><br>location=%{x}<br>net_wealth_jitter=%{y}<br>area=%{marker.size}<extra></extra>",
         "hovertext": [
          "Aalborg"
         ],
         "legendgroup": "Aalborg",
         "marker": {
          "color": "#ab63fa",
          "size": [
           5.269103168963302
          ],
          "sizemode": "area",
          "sizeref": 0.025737642390739113,
          "symbol": "circle"
         },
         "mode": "markers",
         "name": "Aalborg",
         "orientation": "v",
         "showlegend": true,
         "type": "scatter",
         "x": [
          "Aalborg"
         ],
         "xaxis": "x",
         "y": [
          465491
         ],
         "yaxis": "y"
        }
       ],
       "layout": {
        "height": 800,
        "legend": {
         "itemsizing": "constant",
         "title": {
          "text": "location"
         },
         "tracegroupgap": 0
        },
        "margin": {
         "t": 60
        },
        "template": {
         "data": {
          "bar": [
           {
            "error_x": {
             "color": "#2a3f5f"
            },
            "error_y": {
             "color": "#2a3f5f"
            },
            "marker": {
             "line": {
              "color": "#E5ECF6",
              "width": 0.5
             },
             "pattern": {
              "fillmode": "overlay",
              "size": 10,
              "solidity": 0.2
             }
            },
            "type": "bar"
           }
          ],
          "barpolar": [
           {
            "marker": {
             "line": {
              "color": "#E5ECF6",
              "width": 0.5
             },
             "pattern": {
              "fillmode": "overlay",
              "size": 10,
              "solidity": 0.2
             }
            },
            "type": "barpolar"
           }
          ],
          "carpet": [
           {
            "aaxis": {
             "endlinecolor": "#2a3f5f",
             "gridcolor": "white",
             "linecolor": "white",
             "minorgridcolor": "white",
             "startlinecolor": "#2a3f5f"
            },
            "baxis": {
             "endlinecolor": "#2a3f5f",
             "gridcolor": "white",
             "linecolor": "white",
             "minorgridcolor": "white",
             "startlinecolor": "#2a3f5f"
            },
            "type": "carpet"
           }
          ],
          "choropleth": [
           {
            "colorbar": {
             "outlinewidth": 0,
             "ticks": ""
            },
            "type": "choropleth"
           }
          ],
          "contour": [
           {
            "colorbar": {
             "outlinewidth": 0,
             "ticks": ""
            },
            "colorscale": [
             [
              0,
              "#0d0887"
             ],
             [
              0.1111111111111111,
              "#46039f"
             ],
             [
              0.2222222222222222,
              "#7201a8"
             ],
             [
              0.3333333333333333,
              "#9c179e"
             ],
             [
              0.4444444444444444,
              "#bd3786"
             ],
             [
              0.5555555555555556,
              "#d8576b"
             ],
             [
              0.6666666666666666,
              "#ed7953"
             ],
             [
              0.7777777777777778,
              "#fb9f3a"
             ],
             [
              0.8888888888888888,
              "#fdca26"
             ],
             [
              1,
              "#f0f921"
             ]
            ],
            "type": "contour"
           }
          ],
          "contourcarpet": [
           {
            "colorbar": {
             "outlinewidth": 0,
             "ticks": ""
            },
            "type": "contourcarpet"
           }
          ],
          "heatmap": [
           {
            "colorbar": {
             "outlinewidth": 0,
             "ticks": ""
            },
            "colorscale": [
             [
              0,
              "#0d0887"
             ],
             [
              0.1111111111111111,
              "#46039f"
             ],
             [
              0.2222222222222222,
              "#7201a8"
             ],
             [
              0.3333333333333333,
              "#9c179e"
             ],
             [
              0.4444444444444444,
              "#bd3786"
             ],
             [
              0.5555555555555556,
              "#d8576b"
             ],
             [
              0.6666666666666666,
              "#ed7953"
             ],
             [
              0.7777777777777778,
              "#fb9f3a"
             ],
             [
              0.8888888888888888,
              "#fdca26"
             ],
             [
              1,
              "#f0f921"
             ]
            ],
            "type": "heatmap"
           }
          ],
          "heatmapgl": [
           {
            "colorbar": {
             "outlinewidth": 0,
             "ticks": ""
            },
            "colorscale": [
             [
              0,
              "#0d0887"
             ],
             [
              0.1111111111111111,
              "#46039f"
             ],
             [
              0.2222222222222222,
              "#7201a8"
             ],
             [
              0.3333333333333333,
              "#9c179e"
             ],
             [
              0.4444444444444444,
              "#bd3786"
             ],
             [
              0.5555555555555556,
              "#d8576b"
             ],
             [
              0.6666666666666666,
              "#ed7953"
             ],
             [
              0.7777777777777778,
              "#fb9f3a"
             ],
             [
              0.8888888888888888,
              "#fdca26"
             ],
             [
              1,
              "#f0f921"
             ]
            ],
            "type": "heatmapgl"
           }
          ],
          "histogram": [
           {
            "marker": {
             "pattern": {
              "fillmode": "overlay",
              "size": 10,
              "solidity": 0.2
             }
            },
            "type": "histogram"
           }
          ],
          "histogram2d": [
           {
            "colorbar": {
             "outlinewidth": 0,
             "ticks": ""
            },
            "colorscale": [
             [
              0,
              "#0d0887"
             ],
             [
              0.1111111111111111,
              "#46039f"
             ],
             [
              0.2222222222222222,
              "#7201a8"
             ],
             [
              0.3333333333333333,
              "#9c179e"
             ],
             [
              0.4444444444444444,
              "#bd3786"
             ],
             [
              0.5555555555555556,
              "#d8576b"
             ],
             [
              0.6666666666666666,
              "#ed7953"
             ],
             [
              0.7777777777777778,
              "#fb9f3a"
             ],
             [
              0.8888888888888888,
              "#fdca26"
             ],
             [
              1,
              "#f0f921"
             ]
            ],
            "type": "histogram2d"
           }
          ],
          "histogram2dcontour": [
           {
            "colorbar": {
             "outlinewidth": 0,
             "ticks": ""
            },
            "colorscale": [
             [
              0,
              "#0d0887"
             ],
             [
              0.1111111111111111,
              "#46039f"
             ],
             [
              0.2222222222222222,
              "#7201a8"
             ],
             [
              0.3333333333333333,
              "#9c179e"
             ],
             [
              0.4444444444444444,
              "#bd3786"
             ],
             [
              0.5555555555555556,
              "#d8576b"
             ],
             [
              0.6666666666666666,
              "#ed7953"
             ],
             [
              0.7777777777777778,
              "#fb9f3a"
             ],
             [
              0.8888888888888888,
              "#fdca26"
             ],
             [
              1,
              "#f0f921"
             ]
            ],
            "type": "histogram2dcontour"
           }
          ],
          "mesh3d": [
           {
            "colorbar": {
             "outlinewidth": 0,
             "ticks": ""
            },
            "type": "mesh3d"
           }
          ],
          "parcoords": [
           {
            "line": {
             "colorbar": {
              "outlinewidth": 0,
              "ticks": ""
             }
            },
            "type": "parcoords"
           }
          ],
          "pie": [
           {
            "automargin": true,
            "type": "pie"
           }
          ],
          "scatter": [
           {
            "fillpattern": {
             "fillmode": "overlay",
             "size": 10,
             "solidity": 0.2
            },
            "type": "scatter"
           }
          ],
          "scatter3d": [
           {
            "line": {
             "colorbar": {
              "outlinewidth": 0,
              "ticks": ""
             }
            },
            "marker": {
             "colorbar": {
              "outlinewidth": 0,
              "ticks": ""
             }
            },
            "type": "scatter3d"
           }
          ],
          "scattercarpet": [
           {
            "marker": {
             "colorbar": {
              "outlinewidth": 0,
              "ticks": ""
             }
            },
            "type": "scattercarpet"
           }
          ],
          "scattergeo": [
           {
            "marker": {
             "colorbar": {
              "outlinewidth": 0,
              "ticks": ""
             }
            },
            "type": "scattergeo"
           }
          ],
          "scattergl": [
           {
            "marker": {
             "colorbar": {
              "outlinewidth": 0,
              "ticks": ""
             }
            },
            "type": "scattergl"
           }
          ],
          "scattermapbox": [
           {
            "marker": {
             "colorbar": {
              "outlinewidth": 0,
              "ticks": ""
             }
            },
            "type": "scattermapbox"
           }
          ],
          "scatterpolar": [
           {
            "marker": {
             "colorbar": {
              "outlinewidth": 0,
              "ticks": ""
             }
            },
            "type": "scatterpolar"
           }
          ],
          "scatterpolargl": [
           {
            "marker": {
             "colorbar": {
              "outlinewidth": 0,
              "ticks": ""
             }
            },
            "type": "scatterpolargl"
           }
          ],
          "scatterternary": [
           {
            "marker": {
             "colorbar": {
              "outlinewidth": 0,
              "ticks": ""
             }
            },
            "type": "scatterternary"
           }
          ],
          "surface": [
           {
            "colorbar": {
             "outlinewidth": 0,
             "ticks": ""
            },
            "colorscale": [
             [
              0,
              "#0d0887"
             ],
             [
              0.1111111111111111,
              "#46039f"
             ],
             [
              0.2222222222222222,
              "#7201a8"
             ],
             [
              0.3333333333333333,
              "#9c179e"
             ],
             [
              0.4444444444444444,
              "#bd3786"
             ],
             [
              0.5555555555555556,
              "#d8576b"
             ],
             [
              0.6666666666666666,
              "#ed7953"
             ],
             [
              0.7777777777777778,
              "#fb9f3a"
             ],
             [
              0.8888888888888888,
              "#fdca26"
             ],
             [
              1,
              "#f0f921"
             ]
            ],
            "type": "surface"
           }
          ],
          "table": [
           {
            "cells": {
             "fill": {
              "color": "#EBF0F8"
             },
             "line": {
              "color": "white"
             }
            },
            "header": {
             "fill": {
              "color": "#C8D4E3"
             },
             "line": {
              "color": "white"
             }
            },
            "type": "table"
           }
          ]
         },
         "layout": {
          "annotationdefaults": {
           "arrowcolor": "#2a3f5f",
           "arrowhead": 0,
           "arrowwidth": 1
          },
          "autotypenumbers": "strict",
          "coloraxis": {
           "colorbar": {
            "outlinewidth": 0,
            "ticks": ""
           }
          },
          "colorscale": {
           "diverging": [
            [
             0,
             "#8e0152"
            ],
            [
             0.1,
             "#c51b7d"
            ],
            [
             0.2,
             "#de77ae"
            ],
            [
             0.3,
             "#f1b6da"
            ],
            [
             0.4,
             "#fde0ef"
            ],
            [
             0.5,
             "#f7f7f7"
            ],
            [
             0.6,
             "#e6f5d0"
            ],
            [
             0.7,
             "#b8e186"
            ],
            [
             0.8,
             "#7fbc41"
            ],
            [
             0.9,
             "#4d9221"
            ],
            [
             1,
             "#276419"
            ]
           ],
           "sequential": [
            [
             0,
             "#0d0887"
            ],
            [
             0.1111111111111111,
             "#46039f"
            ],
            [
             0.2222222222222222,
             "#7201a8"
            ],
            [
             0.3333333333333333,
             "#9c179e"
            ],
            [
             0.4444444444444444,
             "#bd3786"
            ],
            [
             0.5555555555555556,
             "#d8576b"
            ],
            [
             0.6666666666666666,
             "#ed7953"
            ],
            [
             0.7777777777777778,
             "#fb9f3a"
            ],
            [
             0.8888888888888888,
             "#fdca26"
            ],
            [
             1,
             "#f0f921"
            ]
           ],
           "sequentialminus": [
            [
             0,
             "#0d0887"
            ],
            [
             0.1111111111111111,
             "#46039f"
            ],
            [
             0.2222222222222222,
             "#7201a8"
            ],
            [
             0.3333333333333333,
             "#9c179e"
            ],
            [
             0.4444444444444444,
             "#bd3786"
            ],
            [
             0.5555555555555556,
             "#d8576b"
            ],
            [
             0.6666666666666666,
             "#ed7953"
            ],
            [
             0.7777777777777778,
             "#fb9f3a"
            ],
            [
             0.8888888888888888,
             "#fdca26"
            ],
            [
             1,
             "#f0f921"
            ]
           ]
          },
          "colorway": [
           "#636efa",
           "#EF553B",
           "#00cc96",
           "#ab63fa",
           "#FFA15A",
           "#19d3f3",
           "#FF6692",
           "#B6E880",
           "#FF97FF",
           "#FECB52"
          ],
          "font": {
           "color": "#2a3f5f"
          },
          "geo": {
           "bgcolor": "white",
           "lakecolor": "white",
           "landcolor": "#E5ECF6",
           "showlakes": true,
           "showland": true,
           "subunitcolor": "white"
          },
          "hoverlabel": {
           "align": "left"
          },
          "hovermode": "closest",
          "mapbox": {
           "style": "light"
          },
          "paper_bgcolor": "white",
          "plot_bgcolor": "#E5ECF6",
          "polar": {
           "angularaxis": {
            "gridcolor": "white",
            "linecolor": "white",
            "ticks": ""
           },
           "bgcolor": "#E5ECF6",
           "radialaxis": {
            "gridcolor": "white",
            "linecolor": "white",
            "ticks": ""
           }
          },
          "scene": {
           "xaxis": {
            "backgroundcolor": "#E5ECF6",
            "gridcolor": "white",
            "gridwidth": 2,
            "linecolor": "white",
            "showbackground": true,
            "ticks": "",
            "zerolinecolor": "white"
           },
           "yaxis": {
            "backgroundcolor": "#E5ECF6",
            "gridcolor": "white",
            "gridwidth": 2,
            "linecolor": "white",
            "showbackground": true,
            "ticks": "",
            "zerolinecolor": "white"
           },
           "zaxis": {
            "backgroundcolor": "#E5ECF6",
            "gridcolor": "white",
            "gridwidth": 2,
            "linecolor": "white",
            "showbackground": true,
            "ticks": "",
            "zerolinecolor": "white"
           }
          },
          "shapedefaults": {
           "line": {
            "color": "#2a3f5f"
           }
          },
          "ternary": {
           "aaxis": {
            "gridcolor": "white",
            "linecolor": "white",
            "ticks": ""
           },
           "baxis": {
            "gridcolor": "white",
            "linecolor": "white",
            "ticks": ""
           },
           "bgcolor": "#E5ECF6",
           "caxis": {
            "gridcolor": "white",
            "linecolor": "white",
            "ticks": ""
           }
          },
          "title": {
           "x": 0.05
          },
          "xaxis": {
           "automargin": true,
           "gridcolor": "white",
           "linecolor": "white",
           "ticks": "",
           "title": {
            "standoff": 15
           },
           "zerolinecolor": "white",
           "zerolinewidth": 2
          },
          "yaxis": {
           "automargin": true,
           "gridcolor": "white",
           "linecolor": "white",
           "ticks": "",
           "title": {
            "standoff": 15
           },
           "zerolinecolor": "white",
           "zerolinewidth": 2
          }
         }
        },
        "title": {
         "text": "Net Wealth Proportional Area Chart (2022)"
        },
        "width": 1200,
        "xaxis": {
         "anchor": "y",
         "categoryarray": [
          "All Denmark",
          "Capital municipalities",
          "Metropolitan municipalities",
          "Provincial municipalities",
          "Commuter municipalities",
          "Rural municipalities",
          "Copenhagen",
          "Frederiksberg",
          "Dragør",
          "Tårnby",
          "Albertslund",
          "Ballerup",
          "Brøndby",
          "Gentofte",
          "Gladsaxe",
          "Glostrup",
          "Herlev",
          "Hvidovre",
          "Høje-Taastrup",
          "Ishøj",
          "Lyngby-Taarbæk",
          "Rødovre",
          "Vallensbæk",
          "Allerød",
          "Egedal",
          "Fredensborg",
          "Frederikssund",
          "Furesø",
          "Gribskov",
          "Halsnæs",
          "Helsingør",
          "Hillerød",
          "Hørsholm",
          "Rudersdal",
          "Bornholm",
          "Greve",
          "Køge",
          "Lejre",
          "Roskilde",
          "Solrød",
          "Faxe",
          "Guldborgsund",
          "Holbæk",
          "Kalundborg",
          "Lolland",
          "Næstved",
          "Odsherred",
          "Ringsted",
          "Slagelse",
          "Sorø",
          "Stevns",
          "Vordingborg",
          "Assens",
          "Faaborg-Midtfyn",
          "Kerteminde",
          "Langeland",
          "Middelfart",
          "Nordfyns",
          "Nyborg",
          "Odense",
          "Svendborg",
          "Ærø",
          "Billund",
          "Esbjerg",
          "Fanø",
          "Fredericia",
          "Haderslev",
          "Kolding",
          "Sønderborg",
          "Tønder",
          "Varde",
          "Vejen",
          "Vejle",
          "Aabenraa",
          "Favrskov",
          "Hedensted",
          "Horsens",
          "Norddjurs",
          "Odder",
          "Randers",
          "Samsø",
          "Silkeborg",
          "Skanderborg",
          "Syddjurs",
          "Aarhus",
          "Herning",
          "Holstebro",
          "Ikast-Brande",
          "Lemvig",
          "Ringkøbing-Skjern",
          "Skive",
          "Struer",
          "Viborg",
          "Brønderslev",
          "Frederikshavn",
          "Hjørring",
          "Jammerbugt",
          "Læsø",
          "Mariagerfjord",
          "Morsø",
          "Rebild",
          "Thisted",
          "Vesthimmerlands",
          "Aalborg"
         ],
         "categoryorder": "total descending",
         "domain": [
          0,
          1
         ],
         "title": {
          "text": "Location"
         }
        },
        "yaxis": {
         "anchor": "x",
         "domain": [
          0,
          1
         ],
         "title": {
          "text": "Net Wealth"
         },
         "type": "log"
        }
       }
      }
     },
     "metadata": {},
     "output_type": "display_data"
    }
   ],
   "source": [
    "import plotly.express as px\n",
    "\n",
    "year = 2022\n",
    "\n",
    "# Use .copy() to ensure that we have a separate DataFrame to avoid SettingWithCopyWarning\n",
    "nw_all_ages = nw_bubbles[(nw_bubbles['age_group'] == 'All age groups') & (nw_bubbles['year'] == year)].copy()\n",
    "\n",
    "# Calculate the total net wealth for the year to normalize bubble sizes\n",
    "total_wealth = nw_all_ages['net_wealth'].sum()\n",
    "\n",
    "# We use .loc to make sure we're operating on the DataFrame and not on a copy of it\n",
    "nw_all_ages.loc[:, 'area'] = (nw_all_ages['net_wealth'] / total_wealth) * 1000\n",
    "nw_all_ages.loc[:, 'net_wealth_jitter'] = nw_all_ages['net_wealth']\n",
    "\n",
    "# Plot\n",
    "fig = px.scatter(nw_all_ages, x='location', y='net_wealth_jitter',\n",
    "                 size='area', color='location',\n",
    "                 hover_name='location', size_max=30)\n",
    "\n",
    "# Layout with chart dimensions and log scale\n",
    "fig.update_layout(title=f'Net Wealth Proportional Area Chart ({year})',\n",
    "                  xaxis_title=\"Location\",\n",
    "                  yaxis_title=\"Net Wealth\",\n",
    "                  xaxis={'categoryorder':'total descending'},\n",
    "                  height=800, \n",
    "                  width=1200,\n",
    "                  yaxis_type=\"log\")  # Log scale for y-axis\n",
    "\n",
    "# Show the figure\n",
    "fig.show()"
   ]
  },
  {
   "cell_type": "markdown",
   "metadata": {},
   "source": [
    "The graph is a net wealth proportional area chart for the year 2022, illustrating the distribution of net wealth across different municipalities. Each bubble represents a location, and its size corresponds to the location's share of the total net wealth for that year. The larger the bubble, the higher the net wealth in that location. The chart underscores wealth concentration in certain municipalities, reflecting economic inequality within the country."
   ]
  },
  {
   "cell_type": "markdown",
   "metadata": {},
   "source": [
    "# V. Conclusion"
   ]
  },
  {
   "cell_type": "markdown",
   "metadata": {},
   "source": [
    "ADD CONCISE CONLUSION."
   ]
  }
 ],
 "metadata": {
  "kernelspec": {
   "display_name": "base",
   "language": "python",
   "name": "python3"
  },
  "language_info": {
   "codemirror_mode": {
    "name": "ipython",
    "version": 3
   },
   "file_extension": ".py",
   "mimetype": "text/x-python",
   "name": "python",
   "nbconvert_exporter": "python",
   "pygments_lexer": "ipython3",
   "version": "3.9.0"
  },
  "toc-autonumbering": true,
  "vscode": {
   "interpreter": {
    "hash": "47ef90cdf3004d3f859f1fb202523c65c07ba7c22eefd261b181f4744e2d0403"
   }
  }
 },
 "nbformat": 4,
 "nbformat_minor": 4
}
