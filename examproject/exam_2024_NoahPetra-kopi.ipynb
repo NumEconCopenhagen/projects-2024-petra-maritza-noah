{
 "cells": [
  {
   "cell_type": "markdown",
   "metadata": {},
   "source": [
    "**Table of contents**<a id='toc0_'></a>    \n",
    "- 1. [Problem 1: Production economy and CO2 taxation](#toc1_)    \n",
    "- 2. [Problem 2: Career choice model](#toc2_)    \n",
    "- 3. [Problem 3: Barycentric interpolation](#toc3_)    \n",
    "\n",
    "<!-- vscode-jupyter-toc-config\n",
    "\tnumbering=true\n",
    "\tanchor=true\n",
    "\tflat=false\n",
    "\tminLevel=2\n",
    "\tmaxLevel=6\n",
    "\t/vscode-jupyter-toc-config -->\n",
    "<!-- THIS CELL WILL BE REPLACED ON TOC UPDATE. DO NOT WRITE YOUR TEXT IN THIS CELL -->"
   ]
  },
  {
   "cell_type": "code",
   "execution_count": 1,
   "metadata": {},
   "outputs": [],
   "source": [
    "import numpy as np\n",
    "from types import SimpleNamespace\n",
    "from scipy.optimize import minimize\n",
    "from exam_2024_NoahPetra import MarketClearing\n",
    "from exam_2024_NoahPetra import MarketClearing2\n",
    "%load_ext autoreload\n",
    "%autoreload 2"
   ]
  },
  {
   "cell_type": "markdown",
   "metadata": {},
   "source": [
    "## 1. <a id='toc1_'></a>[Problem 1: Production economy and CO2 taxation](#toc0_)"
   ]
  },
  {
   "cell_type": "markdown",
   "metadata": {},
   "source": [
    "Consider a production economy with two firms indexed by $j \\in \\{1,2\\}$. Each produce its own good. They solve\n",
    "\n",
    "$$\n",
    "\\begin{align*}\n",
    "\\max_{y_{j}}\\pi_{j}&=p_{j}y_{j}-w_{j}\\ell_{j}\\\\\\text{s.t.}\\;&y_{j}=A\\ell_{j}^{\\gamma}.\n",
    "\\end{align*}\n",
    "$$\n",
    "\n",
    "Optimal firm behavior is\n",
    "\n",
    "$$\n",
    "\\begin{align*}\n",
    "\\ell_{j}^{\\star}(w,p_{j})&=\\left(\\frac{p_{j}A\\gamma}{w}\\right)^{\\frac{1}{1-\\gamma}} \\\\\n",
    "y_{j}^{\\star}(w,p_{j})&=A\\left(\\ell_{j}^{\\star}(w,p_{j})\\right)^{\\gamma}\n",
    "\\end{align*}\n",
    "$$\n",
    "\n",
    "The implied profits are\n",
    "\n",
    "$$\n",
    "\\pi_{j}^*(w,p_{j})=\\frac{1-\\gamma}{\\gamma}w\\cdot\\left(\\frac{p_{j}A\\gamma}{w}\\right)^{\\frac{1}{1-\\gamma}}\n",
    "$$\n",
    "\n",
    "A single consumer supplies labor, and consumes the goods the firms produce. She also recieves the implied profits of the firm.<br>\n",
    "She solves:\n",
    "\n",
    "$$\n",
    "\\begin{align*}\n",
    "U(p_1,p_2,w,\\tau,T) = \\max_{c_{1},c_{2},\\ell} & \\log(c_{1}^{\\alpha}c_{2}^{1-\\alpha})-\\nu\\frac{\\ell^{1+\\epsilon}}{1+\\epsilon} \\\\\n",
    "\\text{s.t.}\\,\\,\\,&p_{1}c_{1}+(p_{2}+\\tau)c_{2}=w\\ell+T+\\pi_{1}^*(w,p_{1})+\\pi_{2}^*(w,p_{2})\n",
    "\\end{align*}\n",
    "$$\n",
    "\n",
    "where $\\tau$ is a tax and $T$ is lump-sum transfer. <br>\n",
    "For a given $\\ell$, it can be shown that optimal behavior is\n",
    "\n",
    "$$\n",
    "\\begin{align*}\n",
    "c_{1}(\\ell)&=\\alpha\\frac{w\\ell+T+\\pi_{1}^*(w,p_{1})+\\pi_{2}^*(w,p_{2})}{p_{1}} \\\\\n",
    "c_{2}(\\ell)&=(1-\\alpha)\\frac{w\\ell+T+\\pi_{1}^*(w,p_{1})+\\pi_{2}^*(w,p_{2})}{p_{2}+\\tau} \\\\\n",
    "\\end{align*}\n",
    "$$\n",
    "Such that optimal behavior is:\n",
    "$$\n",
    "\\ell^* = \\underset{\\ell}{\\arg\\max} \\log(\\left(c_{1}(\\ell)\\right)^{\\alpha}\\cdot \\left(c_{2}(\\ell)\\right)^{1-\\alpha})-\\nu\\frac{\\ell^{1+\\epsilon}}{1+\\epsilon} \n",
    "$$\n",
    "With optimal consumption:\n",
    "$$\n",
    "\\begin{align*}\n",
    "c_1^*=c_{1}(\\ell^*) \\\\\n",
    "c_2^*=c_{2}(\\ell^*)\\\\\n",
    "\\end{align*}\n",
    "$$\n",
    "\n",
    "\n",
    "The government chooses $\\tau$ and balances its budget so $T=\\tau c_2^*$. We initially set $\\tau,T=0$.\n",
    "\n",
    "Market clearing requires:\n",
    "\n",
    "1. Labor market: $\\ell^* = \\ell_1^* + \\ell_2^*$\n",
    "1. Good market 1: $c_1^* = y_1^*$\n",
    "1. Good market 2: $c_2^* = y_2^*$\n"
   ]
  },
  {
   "cell_type": "markdown",
   "metadata": {},
   "source": [
    "**Question 1:** Check market clearing conditions for $p_1$ in `linspace(0.1,2.0,10)` and $p_2$ in `linspace(0.1,2.0,10)`. We choose $w=1$ as numeraire."
   ]
  },
  {
   "cell_type": "code",
   "execution_count": 2,
   "metadata": {},
   "outputs": [],
   "source": [
    "par = SimpleNamespace()\n",
    "\n",
    "# firms\n",
    "par.A = 1.0\n",
    "par.gamma = 0.5\n",
    "\n",
    "# households\n",
    "par.alpha = 0.3\n",
    "par.nu = 1.0\n",
    "par.epsilon = 2.0\n",
    "\n",
    "# government\n",
    "par.tau = 0.0\n",
    "par.T = 0.0\n",
    "\n",
    "# Question 3\n",
    "par.kappa = 0.1\n",
    "\n",
    "w = 1.0  # Numeraire"
   ]
  },
  {
   "cell_type": "code",
   "execution_count": 3,
   "metadata": {},
   "outputs": [
    {
     "name": "stdout",
     "output_type": "stream",
     "text": [
      "p1: 0.10, p2: 0.10 | Labor Clearing: True | Good 1 Clearing: False | Good 2 Clearing: False\n",
      "p1: 0.10, p2: 0.31 | Labor Clearing: True | Good 1 Clearing: False | Good 2 Clearing: False\n",
      "p1: 0.10, p2: 0.52 | Labor Clearing: True | Good 1 Clearing: False | Good 2 Clearing: False\n",
      "p1: 0.10, p2: 0.73 | Labor Clearing: True | Good 1 Clearing: False | Good 2 Clearing: False\n",
      "p1: 0.10, p2: 0.94 | Labor Clearing: True | Good 1 Clearing: False | Good 2 Clearing: False\n",
      "p1: 0.10, p2: 1.16 | Labor Clearing: True | Good 1 Clearing: False | Good 2 Clearing: False\n",
      "p1: 0.10, p2: 1.37 | Labor Clearing: True | Good 1 Clearing: False | Good 2 Clearing: False\n",
      "p1: 0.10, p2: 1.58 | Labor Clearing: True | Good 1 Clearing: False | Good 2 Clearing: False\n",
      "p1: 0.10, p2: 1.79 | Labor Clearing: True | Good 1 Clearing: False | Good 2 Clearing: False\n",
      "p1: 0.10, p2: 2.00 | Labor Clearing: True | Good 1 Clearing: False | Good 2 Clearing: False\n",
      "p1: 0.31, p2: 0.10 | Labor Clearing: True | Good 1 Clearing: False | Good 2 Clearing: False\n",
      "p1: 0.31, p2: 0.31 | Labor Clearing: True | Good 1 Clearing: False | Good 2 Clearing: False\n",
      "p1: 0.31, p2: 0.52 | Labor Clearing: True | Good 1 Clearing: False | Good 2 Clearing: False\n",
      "p1: 0.31, p2: 0.73 | Labor Clearing: True | Good 1 Clearing: False | Good 2 Clearing: False\n",
      "p1: 0.31, p2: 0.94 | Labor Clearing: True | Good 1 Clearing: False | Good 2 Clearing: False\n",
      "p1: 0.31, p2: 1.16 | Labor Clearing: True | Good 1 Clearing: False | Good 2 Clearing: False\n",
      "p1: 0.31, p2: 1.37 | Labor Clearing: True | Good 1 Clearing: False | Good 2 Clearing: False\n",
      "p1: 0.31, p2: 1.58 | Labor Clearing: True | Good 1 Clearing: False | Good 2 Clearing: False\n",
      "p1: 0.31, p2: 1.79 | Labor Clearing: True | Good 1 Clearing: False | Good 2 Clearing: False\n",
      "p1: 0.31, p2: 2.00 | Labor Clearing: True | Good 1 Clearing: False | Good 2 Clearing: False\n",
      "p1: 0.52, p2: 0.10 | Labor Clearing: True | Good 1 Clearing: False | Good 2 Clearing: False\n",
      "p1: 0.52, p2: 0.31 | Labor Clearing: True | Good 1 Clearing: False | Good 2 Clearing: False\n",
      "p1: 0.52, p2: 0.52 | Labor Clearing: True | Good 1 Clearing: False | Good 2 Clearing: False\n",
      "p1: 0.52, p2: 0.73 | Labor Clearing: True | Good 1 Clearing: False | Good 2 Clearing: False\n",
      "p1: 0.52, p2: 0.94 | Labor Clearing: True | Good 1 Clearing: False | Good 2 Clearing: False\n",
      "p1: 0.52, p2: 1.16 | Labor Clearing: True | Good 1 Clearing: False | Good 2 Clearing: False\n",
      "p1: 0.52, p2: 1.37 | Labor Clearing: True | Good 1 Clearing: False | Good 2 Clearing: False\n",
      "p1: 0.52, p2: 1.58 | Labor Clearing: True | Good 1 Clearing: False | Good 2 Clearing: False\n",
      "p1: 0.52, p2: 1.79 | Labor Clearing: True | Good 1 Clearing: False | Good 2 Clearing: False\n",
      "p1: 0.52, p2: 2.00 | Labor Clearing: True | Good 1 Clearing: False | Good 2 Clearing: False\n",
      "p1: 0.73, p2: 0.10 | Labor Clearing: True | Good 1 Clearing: False | Good 2 Clearing: False\n",
      "p1: 0.73, p2: 0.31 | Labor Clearing: True | Good 1 Clearing: False | Good 2 Clearing: False\n",
      "p1: 0.73, p2: 0.52 | Labor Clearing: True | Good 1 Clearing: False | Good 2 Clearing: False\n",
      "p1: 0.73, p2: 0.73 | Labor Clearing: True | Good 1 Clearing: False | Good 2 Clearing: False\n",
      "p1: 0.73, p2: 0.94 | Labor Clearing: True | Good 1 Clearing: False | Good 2 Clearing: False\n",
      "p1: 0.73, p2: 1.16 | Labor Clearing: True | Good 1 Clearing: False | Good 2 Clearing: False\n",
      "p1: 0.73, p2: 1.37 | Labor Clearing: True | Good 1 Clearing: False | Good 2 Clearing: False\n",
      "p1: 0.73, p2: 1.58 | Labor Clearing: True | Good 1 Clearing: False | Good 2 Clearing: False\n",
      "p1: 0.73, p2: 1.79 | Labor Clearing: True | Good 1 Clearing: False | Good 2 Clearing: False\n",
      "p1: 0.73, p2: 2.00 | Labor Clearing: True | Good 1 Clearing: False | Good 2 Clearing: False\n",
      "p1: 0.94, p2: 0.10 | Labor Clearing: True | Good 1 Clearing: False | Good 2 Clearing: False\n",
      "p1: 0.94, p2: 0.31 | Labor Clearing: True | Good 1 Clearing: False | Good 2 Clearing: False\n",
      "p1: 0.94, p2: 0.52 | Labor Clearing: True | Good 1 Clearing: False | Good 2 Clearing: False\n",
      "p1: 0.94, p2: 0.73 | Labor Clearing: True | Good 1 Clearing: False | Good 2 Clearing: False\n",
      "p1: 0.94, p2: 0.94 | Labor Clearing: True | Good 1 Clearing: False | Good 2 Clearing: False\n",
      "p1: 0.94, p2: 1.16 | Labor Clearing: True | Good 1 Clearing: False | Good 2 Clearing: False\n",
      "p1: 0.94, p2: 1.37 | Labor Clearing: True | Good 1 Clearing: False | Good 2 Clearing: False\n",
      "p1: 0.94, p2: 1.58 | Labor Clearing: True | Good 1 Clearing: False | Good 2 Clearing: False\n",
      "p1: 0.94, p2: 1.79 | Labor Clearing: True | Good 1 Clearing: False | Good 2 Clearing: False\n",
      "p1: 0.94, p2: 2.00 | Labor Clearing: True | Good 1 Clearing: False | Good 2 Clearing: False\n",
      "p1: 1.16, p2: 0.10 | Labor Clearing: True | Good 1 Clearing: False | Good 2 Clearing: False\n",
      "p1: 1.16, p2: 0.31 | Labor Clearing: True | Good 1 Clearing: False | Good 2 Clearing: False\n",
      "p1: 1.16, p2: 0.52 | Labor Clearing: True | Good 1 Clearing: False | Good 2 Clearing: False\n",
      "p1: 1.16, p2: 0.73 | Labor Clearing: True | Good 1 Clearing: False | Good 2 Clearing: False\n",
      "p1: 1.16, p2: 0.94 | Labor Clearing: True | Good 1 Clearing: False | Good 2 Clearing: False\n",
      "p1: 1.16, p2: 1.16 | Labor Clearing: True | Good 1 Clearing: False | Good 2 Clearing: False\n",
      "p1: 1.16, p2: 1.37 | Labor Clearing: True | Good 1 Clearing: False | Good 2 Clearing: False\n",
      "p1: 1.16, p2: 1.58 | Labor Clearing: True | Good 1 Clearing: False | Good 2 Clearing: False\n",
      "p1: 1.16, p2: 1.79 | Labor Clearing: True | Good 1 Clearing: False | Good 2 Clearing: False\n",
      "p1: 1.16, p2: 2.00 | Labor Clearing: True | Good 1 Clearing: False | Good 2 Clearing: False\n",
      "p1: 1.37, p2: 0.10 | Labor Clearing: True | Good 1 Clearing: False | Good 2 Clearing: False\n",
      "p1: 1.37, p2: 0.31 | Labor Clearing: True | Good 1 Clearing: False | Good 2 Clearing: False\n",
      "p1: 1.37, p2: 0.52 | Labor Clearing: True | Good 1 Clearing: False | Good 2 Clearing: False\n",
      "p1: 1.37, p2: 0.73 | Labor Clearing: True | Good 1 Clearing: False | Good 2 Clearing: False\n",
      "p1: 1.37, p2: 0.94 | Labor Clearing: True | Good 1 Clearing: False | Good 2 Clearing: False\n",
      "p1: 1.37, p2: 1.16 | Labor Clearing: True | Good 1 Clearing: False | Good 2 Clearing: False\n",
      "p1: 1.37, p2: 1.37 | Labor Clearing: True | Good 1 Clearing: False | Good 2 Clearing: False\n",
      "p1: 1.37, p2: 1.58 | Labor Clearing: True | Good 1 Clearing: False | Good 2 Clearing: False\n",
      "p1: 1.37, p2: 1.79 | Labor Clearing: True | Good 1 Clearing: False | Good 2 Clearing: False\n",
      "p1: 1.37, p2: 2.00 | Labor Clearing: True | Good 1 Clearing: False | Good 2 Clearing: False\n",
      "p1: 1.58, p2: 0.10 | Labor Clearing: True | Good 1 Clearing: False | Good 2 Clearing: False\n",
      "p1: 1.58, p2: 0.31 | Labor Clearing: True | Good 1 Clearing: False | Good 2 Clearing: False\n",
      "p1: 1.58, p2: 0.52 | Labor Clearing: True | Good 1 Clearing: False | Good 2 Clearing: False\n",
      "p1: 1.58, p2: 0.73 | Labor Clearing: True | Good 1 Clearing: False | Good 2 Clearing: False\n",
      "p1: 1.58, p2: 0.94 | Labor Clearing: True | Good 1 Clearing: False | Good 2 Clearing: False\n",
      "p1: 1.58, p2: 1.16 | Labor Clearing: True | Good 1 Clearing: False | Good 2 Clearing: False\n",
      "p1: 1.58, p2: 1.37 | Labor Clearing: True | Good 1 Clearing: False | Good 2 Clearing: False\n",
      "p1: 1.58, p2: 1.58 | Labor Clearing: True | Good 1 Clearing: False | Good 2 Clearing: False\n",
      "p1: 1.58, p2: 1.79 | Labor Clearing: True | Good 1 Clearing: False | Good 2 Clearing: False\n",
      "p1: 1.58, p2: 2.00 | Labor Clearing: True | Good 1 Clearing: False | Good 2 Clearing: False\n",
      "p1: 1.79, p2: 0.10 | Labor Clearing: True | Good 1 Clearing: False | Good 2 Clearing: False\n",
      "p1: 1.79, p2: 0.31 | Labor Clearing: True | Good 1 Clearing: False | Good 2 Clearing: False\n",
      "p1: 1.79, p2: 0.52 | Labor Clearing: True | Good 1 Clearing: False | Good 2 Clearing: False\n",
      "p1: 1.79, p2: 0.73 | Labor Clearing: True | Good 1 Clearing: False | Good 2 Clearing: False\n",
      "p1: 1.79, p2: 0.94 | Labor Clearing: True | Good 1 Clearing: False | Good 2 Clearing: False\n",
      "p1: 1.79, p2: 1.16 | Labor Clearing: True | Good 1 Clearing: False | Good 2 Clearing: False\n",
      "p1: 1.79, p2: 1.37 | Labor Clearing: True | Good 1 Clearing: False | Good 2 Clearing: False\n",
      "p1: 1.79, p2: 1.58 | Labor Clearing: True | Good 1 Clearing: False | Good 2 Clearing: False\n",
      "p1: 1.79, p2: 1.79 | Labor Clearing: True | Good 1 Clearing: False | Good 2 Clearing: False\n",
      "p1: 1.79, p2: 2.00 | Labor Clearing: True | Good 1 Clearing: False | Good 2 Clearing: False\n",
      "p1: 2.00, p2: 0.10 | Labor Clearing: True | Good 1 Clearing: False | Good 2 Clearing: False\n",
      "p1: 2.00, p2: 0.31 | Labor Clearing: True | Good 1 Clearing: False | Good 2 Clearing: False\n",
      "p1: 2.00, p2: 0.52 | Labor Clearing: True | Good 1 Clearing: False | Good 2 Clearing: False\n",
      "p1: 2.00, p2: 0.73 | Labor Clearing: True | Good 1 Clearing: False | Good 2 Clearing: False\n",
      "p1: 2.00, p2: 0.94 | Labor Clearing: True | Good 1 Clearing: False | Good 2 Clearing: False\n",
      "p1: 2.00, p2: 1.16 | Labor Clearing: True | Good 1 Clearing: False | Good 2 Clearing: False\n",
      "p1: 2.00, p2: 1.37 | Labor Clearing: True | Good 1 Clearing: False | Good 2 Clearing: False\n",
      "p1: 2.00, p2: 1.58 | Labor Clearing: True | Good 1 Clearing: False | Good 2 Clearing: False\n",
      "p1: 2.00, p2: 1.79 | Labor Clearing: True | Good 1 Clearing: False | Good 2 Clearing: False\n",
      "p1: 2.00, p2: 2.00 | Labor Clearing: True | Good 1 Clearing: False | Good 2 Clearing: False\n"
     ]
    }
   ],
   "source": [
    "# Instantiate the MarketClearing class\n",
    "market = MarketClearing(par.A, par.gamma, par.alpha, par.nu, par.epsilon, par.tau, par.T, w)\n",
    "\n",
    "# Check market clearing conditions\n",
    "results = market.check_market_clearing(par)\n",
    "\n",
    "# Print results\n",
    "market.print_results(results)"
   ]
  },
  {
   "cell_type": "markdown",
   "metadata": {},
   "source": [
    "Within the range specified by the linspace of the question, there is no combination of $p1$ and $p2$ that clears the market for good 1 or good 2. However, the labor market clears for every value in the specified range."
   ]
  },
  {
   "cell_type": "markdown",
   "metadata": {},
   "source": [
    "**Question 2:** Find the equilibrium prices $p_1$ and $p_2$.<br>\n",
    "*Hint: you can use Walras' law to only check 2 of the market clearings*"
   ]
  },
  {
   "cell_type": "code",
   "execution_count": 4,
   "metadata": {},
   "outputs": [
    {
     "name": "stdout",
     "output_type": "stream",
     "text": [
      "Equilibrium Prices: p1 = 0.7816943854085492, p2 = 1.194057897274884\n"
     ]
    }
   ],
   "source": [
    "# Instantiate the MarketClearing class\n",
    "market = MarketClearing(par.A, par.gamma, par.alpha, par.nu, par.epsilon, par.tau, par.T, w)\n",
    "\n",
    "# Solve for equilibrium prices\n",
    "equilibrium_prices = market.solve_equilibrium(par)\n",
    "print(f\"Equilibrium Prices: p1 = {equilibrium_prices[0]}, p2 = {equilibrium_prices[1]}\")"
   ]
  },
  {
   "cell_type": "code",
   "execution_count": 5,
   "metadata": {},
   "outputs": [
    {
     "name": "stdout",
     "output_type": "stream",
     "text": [
      "Equilibrium Prices: p1 = 0.7816943854085492, p2 = 1.194057897274884\n",
      "Equilibrium Values:\n",
      "ell1_star: 0.15276152804481236\n",
      "ell2_star: 0.35644356551112943\n",
      "ell_star: 0.5092050935559418\n",
      "y1_star: 0.3908471927042746\n",
      "y2_star: 0.597028948637442\n",
      "pi1_star: 0.15276152804481236\n",
      "pi2_star: 0.35644356551112943\n",
      "income: 1.0184101871118836\n",
      "c1_star: 0.39084719276048624\n",
      "c2_star: 0.5970289486006428\n",
      "labor_clearing: True\n",
      "good1_clearing: True\n",
      "good2_clearing: True\n"
     ]
    }
   ],
   "source": [
    "# Instantiate the MarketClearing class\n",
    "market = MarketClearing(par.A, par.gamma, par.alpha, par.nu, par.epsilon, par.tau, par.T, w)\n",
    "\n",
    "# Solve for equilibrium prices\n",
    "equilibrium_prices = market.solve_equilibrium(par)\n",
    "print(f\"Equilibrium Prices: p1 = {equilibrium_prices[0]}, p2 = {equilibrium_prices[1]}\")\n",
    "\n",
    "# Calculate equilibrium values at the obtained prices\n",
    "equilibrium_values = market.calculate_equilibrium_values(equilibrium_prices, par)\n",
    "\n",
    "# Print equilibrium values\n",
    "print(\"Equilibrium Values:\")\n",
    "for key, value in equilibrium_values.items():\n",
    "    print(f\"{key}: {value}\")\n",
    "\n",
    "# Check market clearing\n",
    "labor_clearing = equilibrium_values['labor_clearing']\n",
    "good1_clearing = equilibrium_values['good1_clearing']\n",
    "good2_clearing = equilibrium_values['good2_clearing']"
   ]
  },
  {
   "cell_type": "markdown",
   "metadata": {},
   "source": [
    "The verification results confirm that the markets do clear with the obtained equilibrium prices:\n",
    "\n",
    "- **Labor Market Clearing**: True\n",
    "- **Good 1 Market Clearing**: True\n",
    "- **Good 2 Market Clearing**: True\n",
    "\n",
    "Here are the detailed intermediate values at the equilibrium prices:\n",
    "\n",
    "1. **Optimal Labor Supply**:\n",
    "   \\[\n",
    "   \\begin{align*}\n",
    "   \\ell_1^* &\\approx 0.153 \\\\\n",
    "   \\ell_2^* &\\approx 0.356 \\\\\n",
    "   \\ell^* &\\approx 0.509 \\text{ (Total Labor)}\n",
    "   \\end{align*}\n",
    "   \\]\n",
    "\n",
    "2. **Optimal Output**:\n",
    "   \\[\n",
    "   \\begin{align*}\n",
    "   y_1^* &\\approx 0.391 \\\\\n",
    "   y_2^* &\\approx 0.597\n",
    "   \\end{align*}\n",
    "   \\]\n",
    "\n",
    "3. **Implied Profits**:\n",
    "   \\[\n",
    "   \\begin{align*}\n",
    "   \\pi_1^* &\\approx 0.153 \\\\\n",
    "   \\pi_2^* &\\approx 0.356\n",
    "   \\end{align*}\n",
    "   \\]\n",
    "\n",
    "4. **Optimal Consumption**:\n",
    "   \\[\n",
    "   \\begin{align*}\n",
    "   \\text{Total Income} &\\approx 1.018 \\\\\n",
    "   c_1^* &\\approx 0.391 \\\\\n",
    "   c_2^* &\\approx 0.597\n",
    "   \\end{align*}\n",
    "   \\]\n",
    "\n",
    "### Conclusion\n",
    "\n",
    "The equilibrium prices $p_1$ = 0.7816943854085492 and $p_2$ = 1.194057897274884 lead to market clearing for labor and both goods, confirming the correctness of the solution. This indicates that the model and parameters used can achieve equilibrium under these conditions."
   ]
  },
  {
   "cell_type": "markdown",
   "metadata": {},
   "source": [
    "Assume the government care about the social welfare function:\n",
    "\n",
    "$$\n",
    "SWF = U - \\kappa y_2^*\n",
    "$$"
   ]
  },
  {
   "cell_type": "markdown",
   "metadata": {},
   "source": [
    "Here $\\kappa$ measures the social cost of carbon emitted by the production of $y_2$ in equilibrium."
   ]
  },
  {
   "cell_type": "markdown",
   "metadata": {},
   "source": [
    "**Question 3:** What values of $\\tau$ and (implied) $T$ should the government choose to maximize $SWF$?"
   ]
  },
  {
   "cell_type": "code",
   "execution_count": 6,
   "metadata": {},
   "outputs": [
    {
     "name": "stdout",
     "output_type": "stream",
     "text": [
      "Equilibrium prices: p1 = 0.7816943854085492, p2 = 1.194057897274884\n",
      "Optimal tau: 0.1\n",
      "Optimal T: 2.0\n",
      "SWF Value: 0.28359187215663206\n"
     ]
    }
   ],
   "source": [
    "# Initialize parameters\n",
    "par = SimpleNamespace()\n",
    "par.A = 1.0\n",
    "par.gamma = 0.5\n",
    "par.alpha = 0.3\n",
    "par.nu = 1.0\n",
    "par.epsilon = 2.0\n",
    "par.w = 1.0    # Initial value for w\n",
    "par.kappa = 0.1\n",
    "\n",
    "# Create an instance of the MarketClearing class\n",
    "market = MarketClearing2(par.A, par.gamma, par.alpha, par.nu, par.epsilon, 0.0, 0.0, par.w)\n",
    "\n",
    "# Define equilibrium prices\n",
    "equilibrium_prices = (0.7816943854085492, 1.194057897274884)\n",
    "\n",
    "# Solve for the optimal tau and T with the constraint\n",
    "optimal_tau_revised, optimal_T_revised = market.solve_continuous_with_constraint(equilibrium_prices)\n",
    "\n",
    "# Calculate the SWF value using the new optimal tau and T\n",
    "SWF_value_revised = -market.objective_SWF_with_constraint((optimal_tau_revised, optimal_T_revised))\n",
    "\n",
    "print(f\"SWF Value: {SWF_value_revised}\")"
   ]
  }
 ],
 "metadata": {
  "kernelspec": {
   "display_name": "base",
   "language": "python",
   "name": "python3"
  },
  "language_info": {
   "codemirror_mode": {
    "name": "ipython",
    "version": 3
   },
   "file_extension": ".py",
   "mimetype": "text/x-python",
   "name": "python",
   "nbconvert_exporter": "python",
   "pygments_lexer": "ipython3",
   "version": "3.11.7"
  }
 },
 "nbformat": 4,
 "nbformat_minor": 2
}
