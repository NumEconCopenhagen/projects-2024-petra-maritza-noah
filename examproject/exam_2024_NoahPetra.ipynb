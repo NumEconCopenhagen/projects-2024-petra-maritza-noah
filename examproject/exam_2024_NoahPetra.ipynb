{
 "cells": [
  {
   "cell_type": "markdown",
   "metadata": {},
   "source": [
    "**Table of contents**<a id='toc0_'></a>    \n",
    "- 1. [Problem 1: Production economy and CO2 taxation](#toc1_)    \n",
    "- 2. [Problem 2: Career choice model](#toc2_)    \n",
    "- 3. [Problem 3: Barycentric interpolation](#toc3_)    \n",
    "\n",
    "<!-- vscode-jupyter-toc-config\n",
    "\tnumbering=true\n",
    "\tanchor=true\n",
    "\tflat=false\n",
    "\tminLevel=2\n",
    "\tmaxLevel=6\n",
    "\t/vscode-jupyter-toc-config -->\n",
    "<!-- THIS CELL WILL BE REPLACED ON TOC UPDATE. DO NOT WRITE YOUR TEXT IN THIS CELL -->"
   ]
  },
  {
   "cell_type": "code",
   "execution_count": 169,
   "metadata": {},
   "outputs": [
    {
     "name": "stdout",
     "output_type": "stream",
     "text": [
      "The autoreload extension is already loaded. To reload it, use:\n",
      "  %reload_ext autoreload\n"
     ]
    }
   ],
   "source": [
    "import numpy as np\n",
    "from types import SimpleNamespace\n",
    "from scipy.optimize import minimize\n",
    "from exam_2024_NoahPetra import MarketClearing\n",
    "%load_ext autoreload\n",
    "%autoreload 2"
   ]
  },
  {
   "cell_type": "markdown",
   "metadata": {},
   "source": [
    "## 1. <a id='toc1_'></a>[Problem 1: Production economy and CO2 taxation](#toc0_)"
   ]
  },
  {
   "cell_type": "markdown",
   "metadata": {},
   "source": [
    "Consider a production economy with two firms indexed by $j \\in \\{1,2\\}$. Each produce its own good. They solve\n",
    "\n",
    "$$\n",
    "\\begin{align*}\n",
    "\\max_{y_{j}}\\pi_{j}&=p_{j}y_{j}-w_{j}\\ell_{j}\\\\\\text{s.t.}\\;&y_{j}=A\\ell_{j}^{\\gamma}.\n",
    "\\end{align*}\n",
    "$$\n",
    "\n",
    "Optimal firm behavior is\n",
    "\n",
    "$$\n",
    "\\begin{align*}\n",
    "\\ell_{j}^{\\star}(w,p_{j})&=\\left(\\frac{p_{j}A\\gamma}{w}\\right)^{\\frac{1}{1-\\gamma}} \\\\\n",
    "y_{j}^{\\star}(w,p_{j})&=A\\left(\\ell_{j}^{\\star}(w,p_{j})\\right)^{\\gamma}\n",
    "\\end{align*}\n",
    "$$\n",
    "\n",
    "The implied profits are\n",
    "\n",
    "$$\n",
    "\\pi_{j}^*(w,p_{j})=\\frac{1-\\gamma}{\\gamma}w\\cdot\\left(\\frac{p_{j}A\\gamma}{w}\\right)^{\\frac{1}{1-\\gamma}}\n",
    "$$\n",
    "\n",
    "A single consumer supplies labor, and consumes the goods the firms produce. She also recieves the implied profits of the firm.<br>\n",
    "She solves:\n",
    "\n",
    "$$\n",
    "\\begin{align*}\n",
    "U(p_1,p_2,w,\\tau,T) = \\max_{c_{1},c_{2},\\ell} & \\log(c_{1}^{\\alpha}c_{2}^{1-\\alpha})-\\nu\\frac{\\ell^{1+\\epsilon}}{1+\\epsilon} \\\\\n",
    "\\text{s.t.}\\,\\,\\,&p_{1}c_{1}+(p_{2}+\\tau)c_{2}=w\\ell+T+\\pi_{1}^*(w,p_{1})+\\pi_{2}^*(w,p_{2})\n",
    "\\end{align*}\n",
    "$$\n",
    "\n",
    "where $\\tau$ is a tax and $T$ is lump-sum transfer. <br>\n",
    "For a given $\\ell$, it can be shown that optimal behavior is\n",
    "\n",
    "$$\n",
    "\\begin{align*}\n",
    "c_{1}(\\ell)&=\\alpha\\frac{w\\ell+T+\\pi_{1}^*(w,p_{1})+\\pi_{2}^*(w,p_{2})}{p_{1}} \\\\\n",
    "c_{2}(\\ell)&=(1-\\alpha)\\frac{w\\ell+T+\\pi_{1}^*(w,p_{1})+\\pi_{2}^*(w,p_{2})}{p_{2}+\\tau} \\\\\n",
    "\\end{align*}\n",
    "$$\n",
    "Such that optimal behavior is:\n",
    "$$\n",
    "\\ell^* = \\underset{\\ell}{\\arg\\max} \\log(\\left(c_{1}(\\ell)\\right)^{\\alpha}\\cdot \\left(c_{2}(\\ell)\\right)^{1-\\alpha})-\\nu\\frac{\\ell^{1+\\epsilon}}{1+\\epsilon} \n",
    "$$\n",
    "With optimal consumption:\n",
    "$$\n",
    "\\begin{align*}\n",
    "c_1^*=c_{1}(\\ell^*) \\\\\n",
    "c_2^*=c_{2}(\\ell^*)\\\\\n",
    "\\end{align*}\n",
    "$$\n",
    "\n",
    "\n",
    "The government chooses $\\tau$ and balances its budget so $T=\\tau c_2^*$. We initially set $\\tau,T=0$.\n",
    "\n",
    "Market clearing requires:\n",
    "\n",
    "1. Labor market: $\\ell^* = \\ell_1^* + \\ell_2^*$\n",
    "1. Good market 1: $c_1^* = y_1^*$\n",
    "1. Good market 2: $c_2^* = y_2^*$\n"
   ]
  },
  {
   "cell_type": "markdown",
   "metadata": {},
   "source": [
    "**Question 1:** Check market clearing conditions for $p_1$ in `linspace(0.1,2.0,10)` and $p_2$ in `linspace(0.1,2.0,10)`. We choose $w=1$ as numeraire."
   ]
  },
  {
   "cell_type": "code",
   "execution_count": 170,
   "metadata": {},
   "outputs": [],
   "source": [
    "par = SimpleNamespace()\n",
    "\n",
    "# firms\n",
    "par.A = 1.0\n",
    "par.gamma = 0.5\n",
    "\n",
    "# households\n",
    "par.alpha = 0.3\n",
    "par.nu = 1.0\n",
    "par.epsilon = 2.0\n",
    "\n",
    "# government\n",
    "par.tau = 0.0\n",
    "par.T = 0.0\n",
    "\n",
    "# Question 3\n",
    "par.kappa = 0.1\n",
    "\n",
    "w = 1.0  # Numeraire"
   ]
  },
  {
   "cell_type": "code",
   "execution_count": 171,
   "metadata": {},
   "outputs": [
    {
     "name": "stdout",
     "output_type": "stream",
     "text": [
      "p1: 0.10, p2: 0.10 | Labor Clearing: True | Good 1 Clearing: False | Good 2 Clearing: False\n",
      "p1: 0.10, p2: 0.31 | Labor Clearing: True | Good 1 Clearing: False | Good 2 Clearing: False\n",
      "p1: 0.10, p2: 0.52 | Labor Clearing: True | Good 1 Clearing: False | Good 2 Clearing: False\n",
      "p1: 0.10, p2: 0.73 | Labor Clearing: True | Good 1 Clearing: False | Good 2 Clearing: False\n",
      "p1: 0.10, p2: 0.94 | Labor Clearing: True | Good 1 Clearing: False | Good 2 Clearing: False\n",
      "p1: 0.10, p2: 1.16 | Labor Clearing: True | Good 1 Clearing: False | Good 2 Clearing: False\n",
      "p1: 0.10, p2: 1.37 | Labor Clearing: True | Good 1 Clearing: False | Good 2 Clearing: False\n",
      "p1: 0.10, p2: 1.58 | Labor Clearing: True | Good 1 Clearing: False | Good 2 Clearing: False\n",
      "p1: 0.10, p2: 1.79 | Labor Clearing: True | Good 1 Clearing: False | Good 2 Clearing: False\n",
      "p1: 0.10, p2: 2.00 | Labor Clearing: True | Good 1 Clearing: False | Good 2 Clearing: False\n",
      "p1: 0.31, p2: 0.10 | Labor Clearing: True | Good 1 Clearing: False | Good 2 Clearing: False\n",
      "p1: 0.31, p2: 0.31 | Labor Clearing: True | Good 1 Clearing: False | Good 2 Clearing: False\n",
      "p1: 0.31, p2: 0.52 | Labor Clearing: True | Good 1 Clearing: False | Good 2 Clearing: False\n",
      "p1: 0.31, p2: 0.73 | Labor Clearing: True | Good 1 Clearing: False | Good 2 Clearing: False\n",
      "p1: 0.31, p2: 0.94 | Labor Clearing: True | Good 1 Clearing: False | Good 2 Clearing: False\n",
      "p1: 0.31, p2: 1.16 | Labor Clearing: True | Good 1 Clearing: False | Good 2 Clearing: False\n",
      "p1: 0.31, p2: 1.37 | Labor Clearing: True | Good 1 Clearing: False | Good 2 Clearing: False\n",
      "p1: 0.31, p2: 1.58 | Labor Clearing: True | Good 1 Clearing: False | Good 2 Clearing: False\n",
      "p1: 0.31, p2: 1.79 | Labor Clearing: True | Good 1 Clearing: False | Good 2 Clearing: False\n",
      "p1: 0.31, p2: 2.00 | Labor Clearing: True | Good 1 Clearing: False | Good 2 Clearing: False\n",
      "p1: 0.52, p2: 0.10 | Labor Clearing: True | Good 1 Clearing: False | Good 2 Clearing: False\n",
      "p1: 0.52, p2: 0.31 | Labor Clearing: True | Good 1 Clearing: False | Good 2 Clearing: False\n",
      "p1: 0.52, p2: 0.52 | Labor Clearing: True | Good 1 Clearing: False | Good 2 Clearing: False\n",
      "p1: 0.52, p2: 0.73 | Labor Clearing: True | Good 1 Clearing: False | Good 2 Clearing: False\n",
      "p1: 0.52, p2: 0.94 | Labor Clearing: True | Good 1 Clearing: False | Good 2 Clearing: False\n",
      "p1: 0.52, p2: 1.16 | Labor Clearing: True | Good 1 Clearing: False | Good 2 Clearing: False\n",
      "p1: 0.52, p2: 1.37 | Labor Clearing: True | Good 1 Clearing: False | Good 2 Clearing: False\n",
      "p1: 0.52, p2: 1.58 | Labor Clearing: True | Good 1 Clearing: False | Good 2 Clearing: False\n",
      "p1: 0.52, p2: 1.79 | Labor Clearing: True | Good 1 Clearing: False | Good 2 Clearing: False\n",
      "p1: 0.52, p2: 2.00 | Labor Clearing: True | Good 1 Clearing: False | Good 2 Clearing: False\n",
      "p1: 0.73, p2: 0.10 | Labor Clearing: True | Good 1 Clearing: False | Good 2 Clearing: False\n",
      "p1: 0.73, p2: 0.31 | Labor Clearing: True | Good 1 Clearing: False | Good 2 Clearing: False\n",
      "p1: 0.73, p2: 0.52 | Labor Clearing: True | Good 1 Clearing: False | Good 2 Clearing: False\n",
      "p1: 0.73, p2: 0.73 | Labor Clearing: True | Good 1 Clearing: False | Good 2 Clearing: False\n",
      "p1: 0.73, p2: 0.94 | Labor Clearing: True | Good 1 Clearing: False | Good 2 Clearing: False\n",
      "p1: 0.73, p2: 1.16 | Labor Clearing: True | Good 1 Clearing: False | Good 2 Clearing: False\n",
      "p1: 0.73, p2: 1.37 | Labor Clearing: True | Good 1 Clearing: False | Good 2 Clearing: False\n",
      "p1: 0.73, p2: 1.58 | Labor Clearing: True | Good 1 Clearing: False | Good 2 Clearing: False\n",
      "p1: 0.73, p2: 1.79 | Labor Clearing: True | Good 1 Clearing: False | Good 2 Clearing: False\n",
      "p1: 0.73, p2: 2.00 | Labor Clearing: True | Good 1 Clearing: False | Good 2 Clearing: False\n",
      "p1: 0.94, p2: 0.10 | Labor Clearing: True | Good 1 Clearing: False | Good 2 Clearing: False\n",
      "p1: 0.94, p2: 0.31 | Labor Clearing: True | Good 1 Clearing: False | Good 2 Clearing: False\n",
      "p1: 0.94, p2: 0.52 | Labor Clearing: True | Good 1 Clearing: False | Good 2 Clearing: False\n",
      "p1: 0.94, p2: 0.73 | Labor Clearing: True | Good 1 Clearing: False | Good 2 Clearing: False\n",
      "p1: 0.94, p2: 0.94 | Labor Clearing: True | Good 1 Clearing: False | Good 2 Clearing: False\n",
      "p1: 0.94, p2: 1.16 | Labor Clearing: True | Good 1 Clearing: False | Good 2 Clearing: False\n",
      "p1: 0.94, p2: 1.37 | Labor Clearing: True | Good 1 Clearing: False | Good 2 Clearing: False\n",
      "p1: 0.94, p2: 1.58 | Labor Clearing: True | Good 1 Clearing: False | Good 2 Clearing: False\n",
      "p1: 0.94, p2: 1.79 | Labor Clearing: True | Good 1 Clearing: False | Good 2 Clearing: False\n",
      "p1: 0.94, p2: 2.00 | Labor Clearing: True | Good 1 Clearing: False | Good 2 Clearing: False\n",
      "p1: 1.16, p2: 0.10 | Labor Clearing: True | Good 1 Clearing: False | Good 2 Clearing: False\n",
      "p1: 1.16, p2: 0.31 | Labor Clearing: True | Good 1 Clearing: False | Good 2 Clearing: False\n",
      "p1: 1.16, p2: 0.52 | Labor Clearing: True | Good 1 Clearing: False | Good 2 Clearing: False\n",
      "p1: 1.16, p2: 0.73 | Labor Clearing: True | Good 1 Clearing: False | Good 2 Clearing: False\n",
      "p1: 1.16, p2: 0.94 | Labor Clearing: True | Good 1 Clearing: False | Good 2 Clearing: False\n",
      "p1: 1.16, p2: 1.16 | Labor Clearing: True | Good 1 Clearing: False | Good 2 Clearing: False\n",
      "p1: 1.16, p2: 1.37 | Labor Clearing: True | Good 1 Clearing: False | Good 2 Clearing: False\n",
      "p1: 1.16, p2: 1.58 | Labor Clearing: True | Good 1 Clearing: False | Good 2 Clearing: False\n",
      "p1: 1.16, p2: 1.79 | Labor Clearing: True | Good 1 Clearing: False | Good 2 Clearing: False\n",
      "p1: 1.16, p2: 2.00 | Labor Clearing: True | Good 1 Clearing: False | Good 2 Clearing: False\n",
      "p1: 1.37, p2: 0.10 | Labor Clearing: True | Good 1 Clearing: False | Good 2 Clearing: False\n",
      "p1: 1.37, p2: 0.31 | Labor Clearing: True | Good 1 Clearing: False | Good 2 Clearing: False\n",
      "p1: 1.37, p2: 0.52 | Labor Clearing: True | Good 1 Clearing: False | Good 2 Clearing: False\n",
      "p1: 1.37, p2: 0.73 | Labor Clearing: True | Good 1 Clearing: False | Good 2 Clearing: False\n",
      "p1: 1.37, p2: 0.94 | Labor Clearing: True | Good 1 Clearing: False | Good 2 Clearing: False\n",
      "p1: 1.37, p2: 1.16 | Labor Clearing: True | Good 1 Clearing: False | Good 2 Clearing: False\n",
      "p1: 1.37, p2: 1.37 | Labor Clearing: True | Good 1 Clearing: False | Good 2 Clearing: False\n",
      "p1: 1.37, p2: 1.58 | Labor Clearing: True | Good 1 Clearing: False | Good 2 Clearing: False\n",
      "p1: 1.37, p2: 1.79 | Labor Clearing: True | Good 1 Clearing: False | Good 2 Clearing: False\n",
      "p1: 1.37, p2: 2.00 | Labor Clearing: True | Good 1 Clearing: False | Good 2 Clearing: False\n",
      "p1: 1.58, p2: 0.10 | Labor Clearing: True | Good 1 Clearing: False | Good 2 Clearing: False\n",
      "p1: 1.58, p2: 0.31 | Labor Clearing: True | Good 1 Clearing: False | Good 2 Clearing: False\n",
      "p1: 1.58, p2: 0.52 | Labor Clearing: True | Good 1 Clearing: False | Good 2 Clearing: False\n",
      "p1: 1.58, p2: 0.73 | Labor Clearing: True | Good 1 Clearing: False | Good 2 Clearing: False\n",
      "p1: 1.58, p2: 0.94 | Labor Clearing: True | Good 1 Clearing: False | Good 2 Clearing: False\n",
      "p1: 1.58, p2: 1.16 | Labor Clearing: True | Good 1 Clearing: False | Good 2 Clearing: False\n",
      "p1: 1.58, p2: 1.37 | Labor Clearing: True | Good 1 Clearing: False | Good 2 Clearing: False\n",
      "p1: 1.58, p2: 1.58 | Labor Clearing: True | Good 1 Clearing: False | Good 2 Clearing: False\n",
      "p1: 1.58, p2: 1.79 | Labor Clearing: True | Good 1 Clearing: False | Good 2 Clearing: False\n",
      "p1: 1.58, p2: 2.00 | Labor Clearing: True | Good 1 Clearing: False | Good 2 Clearing: False\n",
      "p1: 1.79, p2: 0.10 | Labor Clearing: True | Good 1 Clearing: False | Good 2 Clearing: False\n",
      "p1: 1.79, p2: 0.31 | Labor Clearing: True | Good 1 Clearing: False | Good 2 Clearing: False\n",
      "p1: 1.79, p2: 0.52 | Labor Clearing: True | Good 1 Clearing: False | Good 2 Clearing: False\n",
      "p1: 1.79, p2: 0.73 | Labor Clearing: True | Good 1 Clearing: False | Good 2 Clearing: False\n",
      "p1: 1.79, p2: 0.94 | Labor Clearing: True | Good 1 Clearing: False | Good 2 Clearing: False\n",
      "p1: 1.79, p2: 1.16 | Labor Clearing: True | Good 1 Clearing: False | Good 2 Clearing: False\n",
      "p1: 1.79, p2: 1.37 | Labor Clearing: True | Good 1 Clearing: False | Good 2 Clearing: False\n",
      "p1: 1.79, p2: 1.58 | Labor Clearing: True | Good 1 Clearing: False | Good 2 Clearing: False\n",
      "p1: 1.79, p2: 1.79 | Labor Clearing: True | Good 1 Clearing: False | Good 2 Clearing: False\n",
      "p1: 1.79, p2: 2.00 | Labor Clearing: True | Good 1 Clearing: False | Good 2 Clearing: False\n",
      "p1: 2.00, p2: 0.10 | Labor Clearing: True | Good 1 Clearing: False | Good 2 Clearing: False\n",
      "p1: 2.00, p2: 0.31 | Labor Clearing: True | Good 1 Clearing: False | Good 2 Clearing: False\n",
      "p1: 2.00, p2: 0.52 | Labor Clearing: True | Good 1 Clearing: False | Good 2 Clearing: False\n",
      "p1: 2.00, p2: 0.73 | Labor Clearing: True | Good 1 Clearing: False | Good 2 Clearing: False\n",
      "p1: 2.00, p2: 0.94 | Labor Clearing: True | Good 1 Clearing: False | Good 2 Clearing: False\n",
      "p1: 2.00, p2: 1.16 | Labor Clearing: True | Good 1 Clearing: False | Good 2 Clearing: False\n",
      "p1: 2.00, p2: 1.37 | Labor Clearing: True | Good 1 Clearing: False | Good 2 Clearing: False\n",
      "p1: 2.00, p2: 1.58 | Labor Clearing: True | Good 1 Clearing: False | Good 2 Clearing: False\n",
      "p1: 2.00, p2: 1.79 | Labor Clearing: True | Good 1 Clearing: False | Good 2 Clearing: False\n",
      "p1: 2.00, p2: 2.00 | Labor Clearing: True | Good 1 Clearing: False | Good 2 Clearing: False\n"
     ]
    }
   ],
   "source": [
    "# Instantiate the MarketClearing class\n",
    "market = MarketClearing(par.A, par.gamma, par.alpha, par.nu, par.epsilon, par.tau, par.T, w)\n",
    "\n",
    "# Check market clearing conditions\n",
    "results = market.check_market_clearing(par)\n",
    "\n",
    "# Print results\n",
    "market.print_results(results)"
   ]
  },
  {
   "cell_type": "markdown",
   "metadata": {},
   "source": [
    "Within the range specified by the linspace of the question, there is no combination of $p1$ and $p2$ that clears the market for good 1 or good 2. However, the labor market clears for every value in the specified range."
   ]
  },
  {
   "cell_type": "markdown",
   "metadata": {},
   "source": [
    "**Question 2:** Find the equilibrium prices $p_1$ and $p_2$.<br>\n",
    "*Hint: you can use Walras' law to only check 2 of the market clearings*"
   ]
  },
  {
   "cell_type": "code",
   "execution_count": 172,
   "metadata": {},
   "outputs": [
    {
     "name": "stdout",
     "output_type": "stream",
     "text": [
      "Equilibrium Prices: p1 = 0.7816943854085492, p2 = 1.194057897274884\n"
     ]
    }
   ],
   "source": [
    "# Instantiate the MarketClearing class\n",
    "market = MarketClearing(par.A, par.gamma, par.alpha, par.nu, par.epsilon, par.tau, par.T, w)\n",
    "\n",
    "# Solve for equilibrium prices\n",
    "equilibrium_prices = market.solve_equilibrium(par)\n",
    "print(f\"Equilibrium Prices: p1 = {equilibrium_prices[0]}, p2 = {equilibrium_prices[1]}\")"
   ]
  },
  {
   "cell_type": "code",
   "execution_count": 173,
   "metadata": {},
   "outputs": [
    {
     "name": "stdout",
     "output_type": "stream",
     "text": [
      "Equilibrium Prices: p1 = 0.7816943854085492, p2 = 1.194057897274884\n",
      "Equilibrium Values:\n",
      "ell1_star: 0.15276152804481236\n",
      "ell2_star: 0.35644356551112943\n",
      "ell_star: 0.5092050935559418\n",
      "y1_star: 0.3908471927042746\n",
      "y2_star: 0.597028948637442\n",
      "pi1_star: 0.15276152804481236\n",
      "pi2_star: 0.35644356551112943\n",
      "income: 1.0184101871118836\n",
      "c1_star: 0.39084719276048624\n",
      "c2_star: 0.5970289486006428\n",
      "labor_clearing: True\n",
      "good1_clearing: True\n",
      "good2_clearing: True\n"
     ]
    }
   ],
   "source": [
    "# Instantiate the MarketClearing class\n",
    "market = MarketClearing(par.A, par.gamma, par.alpha, par.nu, par.epsilon, par.tau, par.T, w)\n",
    "\n",
    "# Solve for equilibrium prices\n",
    "equilibrium_prices = market.solve_equilibrium(par)\n",
    "print(f\"Equilibrium Prices: p1 = {equilibrium_prices[0]}, p2 = {equilibrium_prices[1]}\")\n",
    "\n",
    "# Calculate equilibrium values at the obtained prices\n",
    "equilibrium_values = market.calculate_equilibrium_values(equilibrium_prices, par)\n",
    "\n",
    "# Print equilibrium values\n",
    "print(\"Equilibrium Values:\")\n",
    "for key, value in equilibrium_values.items():\n",
    "    print(f\"{key}: {value}\")\n",
    "\n",
    "# Check market clearing\n",
    "labor_clearing = equilibrium_values['labor_clearing']\n",
    "good1_clearing = equilibrium_values['good1_clearing']\n",
    "good2_clearing = equilibrium_values['good2_clearing']"
   ]
  },
  {
   "cell_type": "markdown",
   "metadata": {},
   "source": [
    "The verification results confirm that the markets do clear with the obtained equilibrium prices:\n",
    "\n",
    "- **Labor Market Clearing**: True\n",
    "- **Good 1 Market Clearing**: True\n",
    "- **Good 2 Market Clearing**: True\n",
    "\n",
    "Here are the detailed intermediate values at the equilibrium prices:\n",
    "\n",
    "1. **Optimal Labor Supply**:\n",
    "   \\[\n",
    "   \\begin{align*}\n",
    "   \\ell_1^* &\\approx 0.153 \\\\\n",
    "   \\ell_2^* &\\approx 0.356 \\\\\n",
    "   \\ell^* &\\approx 0.509 \\text{ (Total Labor)}\n",
    "   \\end{align*}\n",
    "   \\]\n",
    "\n",
    "2. **Optimal Output**:\n",
    "   \\[\n",
    "   \\begin{align*}\n",
    "   y_1^* &\\approx 0.391 \\\\\n",
    "   y_2^* &\\approx 0.597\n",
    "   \\end{align*}\n",
    "   \\]\n",
    "\n",
    "3. **Implied Profits**:\n",
    "   \\[\n",
    "   \\begin{align*}\n",
    "   \\pi_1^* &\\approx 0.153 \\\\\n",
    "   \\pi_2^* &\\approx 0.356\n",
    "   \\end{align*}\n",
    "   \\]\n",
    "\n",
    "4. **Optimal Consumption**:\n",
    "   \\[\n",
    "   \\begin{align*}\n",
    "   \\text{Total Income} &\\approx 1.018 \\\\\n",
    "   c_1^* &\\approx 0.391 \\\\\n",
    "   c_2^* &\\approx 0.597\n",
    "   \\end{align*}\n",
    "   \\]\n",
    "\n",
    "### Conclusion\n",
    "\n",
    "The equilibrium prices $p_1$ = 0.7816943854085492 and $p_2$ = 1.194057897274884 lead to market clearing for labor and both goods, confirming the correctness of the solution. This indicates that the model and parameters used can achieve equilibrium under these conditions."
   ]
  },
  {
   "cell_type": "markdown",
   "metadata": {},
   "source": [
    "Assume the government care about the social welfare function:\n",
    "\n",
    "$$\n",
    "SWF = U - \\kappa y_2^*\n",
    "$$"
   ]
  },
  {
   "cell_type": "markdown",
   "metadata": {},
   "source": [
    "Here $\\kappa$ measures the social cost of carbon emitted by the production of $y_2$ in equilibrium."
   ]
  },
  {
   "cell_type": "markdown",
   "metadata": {},
   "source": [
    "**Question 3:** What values of $\\tau$ and (implied) $T$ should the government choose to maximize $SWF$?"
   ]
  },
  {
   "cell_type": "code",
   "execution_count": 180,
   "metadata": {},
   "outputs": [
    {
     "name": "stdout",
     "output_type": "stream",
     "text": [
      "Equilibrium prices: p1 = 0.7816943854085492, p2 = 1.194057897274884\n"
     ]
    },
    {
     "ename": "AttributeError",
     "evalue": "'MarketClearing' object has no attribute 'par'",
     "output_type": "error",
     "traceback": [
      "\u001b[0;31m---------------------------------------------------------------------------\u001b[0m",
      "\u001b[0;31mAttributeError\u001b[0m                            Traceback (most recent call last)",
      "\u001b[0;32m/var/folders/zp/l2pspvtd73b7q_05pxndhbpm0000gp/T/ipykernel_16382/1960131723.py\u001b[0m in \u001b[0;36m<module>\u001b[0;34m\u001b[0m\n\u001b[1;32m      7\u001b[0m \u001b[0;34m\u001b[0m\u001b[0m\n\u001b[1;32m      8\u001b[0m \u001b[0;31m# Solve for optimal tau and T using the given equilibrium prices\u001b[0m\u001b[0;34m\u001b[0m\u001b[0;34m\u001b[0m\u001b[0m\n\u001b[0;32m----> 9\u001b[0;31m \u001b[0moptimal_tau\u001b[0m\u001b[0;34m,\u001b[0m \u001b[0moptimal_T\u001b[0m \u001b[0;34m=\u001b[0m \u001b[0mmarket\u001b[0m\u001b[0;34m.\u001b[0m\u001b[0msolve_continuous\u001b[0m\u001b[0;34m(\u001b[0m\u001b[0mmarket\u001b[0m\u001b[0;34m.\u001b[0m\u001b[0mequilibrium_prices\u001b[0m\u001b[0;34m)\u001b[0m\u001b[0;34m\u001b[0m\u001b[0;34m\u001b[0m\u001b[0m\n\u001b[0m\u001b[1;32m     10\u001b[0m \u001b[0mprint\u001b[0m\u001b[0;34m(\u001b[0m\u001b[0;34mf\"Optimal tau: {optimal_tau}, Optimal T: {optimal_T}\"\u001b[0m\u001b[0;34m)\u001b[0m\u001b[0;34m\u001b[0m\u001b[0;34m\u001b[0m\u001b[0m\n",
      "\u001b[0;32m~/Desktop/KU/Introduction to Programming/Intro to Prog /projects-2024-petra-maritza-noah/examproject/exam_2024_NoahPetra.py\u001b[0m in \u001b[0;36msolve_continuous\u001b[0;34m(self, equilibrium_prices)\u001b[0m\n\u001b[1;32m    209\u001b[0m         \u001b[0;31m# Now optimize tau and T to maximize the social welfare function\u001b[0m\u001b[0;34m\u001b[0m\u001b[0;34m\u001b[0m\u001b[0m\n\u001b[1;32m    210\u001b[0m         \u001b[0mbounds\u001b[0m \u001b[0;34m=\u001b[0m \u001b[0;34m[\u001b[0m\u001b[0;34m(\u001b[0m\u001b[0;36m0.0\u001b[0m\u001b[0;34m,\u001b[0m \u001b[0;32mNone\u001b[0m\u001b[0;34m)\u001b[0m\u001b[0;34m,\u001b[0m \u001b[0;34m(\u001b[0m\u001b[0;36m0.0\u001b[0m\u001b[0;34m,\u001b[0m \u001b[0;32mNone\u001b[0m\u001b[0;34m)\u001b[0m\u001b[0;34m]\u001b[0m  \u001b[0;31m# Non-negative bounds for tau and T\u001b[0m\u001b[0;34m\u001b[0m\u001b[0;34m\u001b[0m\u001b[0m\n\u001b[0;32m--> 211\u001b[0;31m         \u001b[0mresult\u001b[0m \u001b[0;34m=\u001b[0m \u001b[0mminimize\u001b[0m\u001b[0;34m(\u001b[0m\u001b[0mself\u001b[0m\u001b[0;34m.\u001b[0m\u001b[0mobjective_SWF\u001b[0m\u001b[0;34m,\u001b[0m \u001b[0mself\u001b[0m\u001b[0;34m.\u001b[0m\u001b[0mX0\u001b[0m\u001b[0;34m,\u001b[0m \u001b[0mbounds\u001b[0m\u001b[0;34m=\u001b[0m\u001b[0mbounds\u001b[0m\u001b[0;34m,\u001b[0m \u001b[0mmethod\u001b[0m\u001b[0;34m=\u001b[0m\u001b[0;34m'SLSQP'\u001b[0m\u001b[0;34m)\u001b[0m\u001b[0;34m\u001b[0m\u001b[0;34m\u001b[0m\u001b[0m\n\u001b[0m\u001b[1;32m    212\u001b[0m         \u001b[0moptimal_tau\u001b[0m\u001b[0;34m,\u001b[0m \u001b[0moptimal_T\u001b[0m \u001b[0;34m=\u001b[0m \u001b[0mresult\u001b[0m\u001b[0;34m.\u001b[0m\u001b[0mx\u001b[0m\u001b[0;34m\u001b[0m\u001b[0;34m\u001b[0m\u001b[0m\n\u001b[1;32m    213\u001b[0m \u001b[0;34m\u001b[0m\u001b[0m\n",
      "\u001b[0;32m/opt/anaconda3/lib/python3.9/site-packages/scipy/optimize/_minimize.py\u001b[0m in \u001b[0;36mminimize\u001b[0;34m(fun, x0, args, method, jac, hess, hessp, bounds, constraints, tol, callback, options)\u001b[0m\n\u001b[1;32m    717\u001b[0m                                bounds=bounds, **options)\n\u001b[1;32m    718\u001b[0m     \u001b[0;32melif\u001b[0m \u001b[0mmeth\u001b[0m \u001b[0;34m==\u001b[0m \u001b[0;34m'slsqp'\u001b[0m\u001b[0;34m:\u001b[0m\u001b[0;34m\u001b[0m\u001b[0;34m\u001b[0m\u001b[0m\n\u001b[0;32m--> 719\u001b[0;31m         res = _minimize_slsqp(fun, x0, args, jac, bounds,\n\u001b[0m\u001b[1;32m    720\u001b[0m                               constraints, callback=callback, **options)\n\u001b[1;32m    721\u001b[0m     \u001b[0;32melif\u001b[0m \u001b[0mmeth\u001b[0m \u001b[0;34m==\u001b[0m \u001b[0;34m'trust-constr'\u001b[0m\u001b[0;34m:\u001b[0m\u001b[0;34m\u001b[0m\u001b[0;34m\u001b[0m\u001b[0m\n",
      "\u001b[0;32m/opt/anaconda3/lib/python3.9/site-packages/scipy/optimize/_slsqp_py.py\u001b[0m in \u001b[0;36m_minimize_slsqp\u001b[0;34m(func, x0, args, jac, bounds, constraints, maxiter, ftol, iprint, disp, eps, callback, finite_diff_rel_step, **unknown_options)\u001b[0m\n\u001b[1;32m    372\u001b[0m \u001b[0;34m\u001b[0m\u001b[0m\n\u001b[1;32m    373\u001b[0m     \u001b[0;31m# ScalarFunction provides function and gradient evaluation\u001b[0m\u001b[0;34m\u001b[0m\u001b[0;34m\u001b[0m\u001b[0m\n\u001b[0;32m--> 374\u001b[0;31m     sf = _prepare_scalar_function(func, x, jac=jac, args=args, epsilon=eps,\n\u001b[0m\u001b[1;32m    375\u001b[0m                                   \u001b[0mfinite_diff_rel_step\u001b[0m\u001b[0;34m=\u001b[0m\u001b[0mfinite_diff_rel_step\u001b[0m\u001b[0;34m,\u001b[0m\u001b[0;34m\u001b[0m\u001b[0;34m\u001b[0m\u001b[0m\n\u001b[1;32m    376\u001b[0m                                   bounds=new_bounds)\n",
      "\u001b[0;32m/opt/anaconda3/lib/python3.9/site-packages/scipy/optimize/_optimize.py\u001b[0m in \u001b[0;36m_prepare_scalar_function\u001b[0;34m(fun, x0, jac, args, bounds, epsilon, finite_diff_rel_step, hess)\u001b[0m\n\u001b[1;32m    381\u001b[0m     \u001b[0;31m# ScalarFunction caches. Reuse of fun(x) during grad\u001b[0m\u001b[0;34m\u001b[0m\u001b[0;34m\u001b[0m\u001b[0m\n\u001b[1;32m    382\u001b[0m     \u001b[0;31m# calculation reduces overall function evaluations.\u001b[0m\u001b[0;34m\u001b[0m\u001b[0;34m\u001b[0m\u001b[0m\n\u001b[0;32m--> 383\u001b[0;31m     sf = ScalarFunction(fun, x0, args, grad, hess,\n\u001b[0m\u001b[1;32m    384\u001b[0m                         finite_diff_rel_step, bounds, epsilon=epsilon)\n\u001b[1;32m    385\u001b[0m \u001b[0;34m\u001b[0m\u001b[0m\n",
      "\u001b[0;32m/opt/anaconda3/lib/python3.9/site-packages/scipy/optimize/_differentiable_functions.py\u001b[0m in \u001b[0;36m__init__\u001b[0;34m(self, fun, x0, args, grad, hess, finite_diff_rel_step, finite_diff_bounds, epsilon)\u001b[0m\n\u001b[1;32m    156\u001b[0m \u001b[0;34m\u001b[0m\u001b[0m\n\u001b[1;32m    157\u001b[0m         \u001b[0mself\u001b[0m\u001b[0;34m.\u001b[0m\u001b[0m_update_fun_impl\u001b[0m \u001b[0;34m=\u001b[0m \u001b[0mupdate_fun\u001b[0m\u001b[0;34m\u001b[0m\u001b[0;34m\u001b[0m\u001b[0m\n\u001b[0;32m--> 158\u001b[0;31m         \u001b[0mself\u001b[0m\u001b[0;34m.\u001b[0m\u001b[0m_update_fun\u001b[0m\u001b[0;34m(\u001b[0m\u001b[0;34m)\u001b[0m\u001b[0;34m\u001b[0m\u001b[0;34m\u001b[0m\u001b[0m\n\u001b[0m\u001b[1;32m    159\u001b[0m \u001b[0;34m\u001b[0m\u001b[0m\n\u001b[1;32m    160\u001b[0m         \u001b[0;31m# Gradient evaluation\u001b[0m\u001b[0;34m\u001b[0m\u001b[0;34m\u001b[0m\u001b[0m\n",
      "\u001b[0;32m/opt/anaconda3/lib/python3.9/site-packages/scipy/optimize/_differentiable_functions.py\u001b[0m in \u001b[0;36m_update_fun\u001b[0;34m(self)\u001b[0m\n\u001b[1;32m    249\u001b[0m     \u001b[0;32mdef\u001b[0m \u001b[0m_update_fun\u001b[0m\u001b[0;34m(\u001b[0m\u001b[0mself\u001b[0m\u001b[0;34m)\u001b[0m\u001b[0;34m:\u001b[0m\u001b[0;34m\u001b[0m\u001b[0;34m\u001b[0m\u001b[0m\n\u001b[1;32m    250\u001b[0m         \u001b[0;32mif\u001b[0m \u001b[0;32mnot\u001b[0m \u001b[0mself\u001b[0m\u001b[0;34m.\u001b[0m\u001b[0mf_updated\u001b[0m\u001b[0;34m:\u001b[0m\u001b[0;34m\u001b[0m\u001b[0;34m\u001b[0m\u001b[0m\n\u001b[0;32m--> 251\u001b[0;31m             \u001b[0mself\u001b[0m\u001b[0;34m.\u001b[0m\u001b[0m_update_fun_impl\u001b[0m\u001b[0;34m(\u001b[0m\u001b[0;34m)\u001b[0m\u001b[0;34m\u001b[0m\u001b[0;34m\u001b[0m\u001b[0m\n\u001b[0m\u001b[1;32m    252\u001b[0m             \u001b[0mself\u001b[0m\u001b[0;34m.\u001b[0m\u001b[0mf_updated\u001b[0m \u001b[0;34m=\u001b[0m \u001b[0;32mTrue\u001b[0m\u001b[0;34m\u001b[0m\u001b[0;34m\u001b[0m\u001b[0m\n\u001b[1;32m    253\u001b[0m \u001b[0;34m\u001b[0m\u001b[0m\n",
      "\u001b[0;32m/opt/anaconda3/lib/python3.9/site-packages/scipy/optimize/_differentiable_functions.py\u001b[0m in \u001b[0;36mupdate_fun\u001b[0;34m()\u001b[0m\n\u001b[1;32m    153\u001b[0m \u001b[0;34m\u001b[0m\u001b[0m\n\u001b[1;32m    154\u001b[0m         \u001b[0;32mdef\u001b[0m \u001b[0mupdate_fun\u001b[0m\u001b[0;34m(\u001b[0m\u001b[0;34m)\u001b[0m\u001b[0;34m:\u001b[0m\u001b[0;34m\u001b[0m\u001b[0;34m\u001b[0m\u001b[0m\n\u001b[0;32m--> 155\u001b[0;31m             \u001b[0mself\u001b[0m\u001b[0;34m.\u001b[0m\u001b[0mf\u001b[0m \u001b[0;34m=\u001b[0m \u001b[0mfun_wrapped\u001b[0m\u001b[0;34m(\u001b[0m\u001b[0mself\u001b[0m\u001b[0;34m.\u001b[0m\u001b[0mx\u001b[0m\u001b[0;34m)\u001b[0m\u001b[0;34m\u001b[0m\u001b[0;34m\u001b[0m\u001b[0m\n\u001b[0m\u001b[1;32m    156\u001b[0m \u001b[0;34m\u001b[0m\u001b[0m\n\u001b[1;32m    157\u001b[0m         \u001b[0mself\u001b[0m\u001b[0;34m.\u001b[0m\u001b[0m_update_fun_impl\u001b[0m \u001b[0;34m=\u001b[0m \u001b[0mupdate_fun\u001b[0m\u001b[0;34m\u001b[0m\u001b[0;34m\u001b[0m\u001b[0m\n",
      "\u001b[0;32m/opt/anaconda3/lib/python3.9/site-packages/scipy/optimize/_differentiable_functions.py\u001b[0m in \u001b[0;36mfun_wrapped\u001b[0;34m(x)\u001b[0m\n\u001b[1;32m    135\u001b[0m             \u001b[0;31m# Overwriting results in undefined behaviour because\u001b[0m\u001b[0;34m\u001b[0m\u001b[0;34m\u001b[0m\u001b[0m\n\u001b[1;32m    136\u001b[0m             \u001b[0;31m# fun(self.x) will change self.x, with the two no longer linked.\u001b[0m\u001b[0;34m\u001b[0m\u001b[0;34m\u001b[0m\u001b[0m\n\u001b[0;32m--> 137\u001b[0;31m             \u001b[0mfx\u001b[0m \u001b[0;34m=\u001b[0m \u001b[0mfun\u001b[0m\u001b[0;34m(\u001b[0m\u001b[0mnp\u001b[0m\u001b[0;34m.\u001b[0m\u001b[0mcopy\u001b[0m\u001b[0;34m(\u001b[0m\u001b[0mx\u001b[0m\u001b[0;34m)\u001b[0m\u001b[0;34m,\u001b[0m \u001b[0;34m*\u001b[0m\u001b[0margs\u001b[0m\u001b[0;34m)\u001b[0m\u001b[0;34m\u001b[0m\u001b[0;34m\u001b[0m\u001b[0m\n\u001b[0m\u001b[1;32m    138\u001b[0m             \u001b[0;31m# Make sure the function returns a true scalar\u001b[0m\u001b[0;34m\u001b[0m\u001b[0;34m\u001b[0m\u001b[0m\n\u001b[1;32m    139\u001b[0m             \u001b[0;32mif\u001b[0m \u001b[0;32mnot\u001b[0m \u001b[0mnp\u001b[0m\u001b[0;34m.\u001b[0m\u001b[0misscalar\u001b[0m\u001b[0;34m(\u001b[0m\u001b[0mfx\u001b[0m\u001b[0;34m)\u001b[0m\u001b[0;34m:\u001b[0m\u001b[0;34m\u001b[0m\u001b[0;34m\u001b[0m\u001b[0m\n",
      "\u001b[0;32m~/Desktop/KU/Introduction to Programming/Intro to Prog /projects-2024-petra-maritza-noah/examproject/exam_2024_NoahPetra.py\u001b[0m in \u001b[0;36mobjective_SWF\u001b[0;34m(self, params)\u001b[0m\n\u001b[1;32m    187\u001b[0m \u001b[0;34m\u001b[0m\u001b[0m\n\u001b[1;32m    188\u001b[0m         \u001b[0;31m# Calculate equilibrium values with the specific prices and parameters\u001b[0m\u001b[0;34m\u001b[0m\u001b[0;34m\u001b[0m\u001b[0m\n\u001b[0;32m--> 189\u001b[0;31m         \u001b[0mequilibrium_values\u001b[0m \u001b[0;34m=\u001b[0m \u001b[0mself\u001b[0m\u001b[0;34m.\u001b[0m\u001b[0mcalculate_equilibrium_values\u001b[0m\u001b[0;34m(\u001b[0m\u001b[0mself\u001b[0m\u001b[0;34m.\u001b[0m\u001b[0mequilibrium_prices\u001b[0m\u001b[0;34m,\u001b[0m \u001b[0mself\u001b[0m\u001b[0;34m.\u001b[0m\u001b[0mpar\u001b[0m\u001b[0;34m)\u001b[0m\u001b[0;34m\u001b[0m\u001b[0;34m\u001b[0m\u001b[0m\n\u001b[0m\u001b[1;32m    190\u001b[0m \u001b[0;34m\u001b[0m\u001b[0m\n\u001b[1;32m    191\u001b[0m         \u001b[0;31m# Extract relevant values\u001b[0m\u001b[0;34m\u001b[0m\u001b[0;34m\u001b[0m\u001b[0m\n",
      "\u001b[0;31mAttributeError\u001b[0m: 'MarketClearing' object has no attribute 'par'"
     ]
    }
   ],
   "source": [
    "par = Parameters()\n",
    "w = 1\n",
    "market = MarketClearing(par.A, par.gamma, par.alpha, par.nu, par.epsilon, par.tau, par.T, w)\n",
    "\n",
    "# Assign equilibrium prices directly\n",
    "market.equilibrium_prices = [0.7816943854085492, 1.194057897274884]  # Replace with your desired equilibrium prices\n",
    "\n",
    "# Solve for optimal tau and T using the given equilibrium prices\n",
    "optimal_tau, optimal_T = market.solve_continuous(market.equilibrium_prices)\n",
    "print(f\"Optimal tau: {optimal_tau}, Optimal T: {optimal_T}\")"
   ]
  },
  {
   "cell_type": "code",
   "execution_count": null,
   "metadata": {},
   "outputs": [],
   "source": [
    "market = MarketClearing(par.A, par.gamma, par.alpha, par.nu, par.epsilon, par.tau, par.T, w)\n",
    "\n",
    "# Solve for equilibrium prices\n",
    "equilibrium_prices = market.solve_equilibrium2()\n",
    "print(f\"Equilibrium Prices: p1 = {equilibrium_prices[0]}, p2 = {equilibrium_prices[1]}\")\n",
    "\n",
    "# Now solve for optimal tau and T using the given equilibrium prices\n",
    "optimal_tau, optimal_T = market.solve_continuous_with_given_prices(equilibrium_prices)\n",
    "print(f\"Optimal tau: {optimal_tau}, Optimal T: {optimal_T}\")"
   ]
  },
  {
   "cell_type": "code",
   "execution_count": null,
   "metadata": {},
   "outputs": [],
   "source": [
    "market = MarketClearing(A=1, gamma=0.5, alpha=0.5, nu=1, epsilon=1, tau=0, T=0, w=1)\n",
    "optimal_tau, optimal_T = market.solve_continuous_with_given_prices()"
   ]
  },
  {
   "cell_type": "code",
   "execution_count": null,
   "metadata": {},
   "outputs": [],
   "source": [
    "mc = MarketClearing(A=1.0, gamma=0.3, alpha=0.6, nu=1.0, epsilon=0.5, tau=0.0, T=0.0, w=1.0)\n",
    "optimal_tau, optimal_T = mc.solve_continuous()"
   ]
  },
  {
   "cell_type": "markdown",
   "metadata": {},
   "source": [
    "## 2. <a id='toc2_'></a>[Problem 2: Career choice model](#toc0_)"
   ]
  },
  {
   "cell_type": "markdown",
   "metadata": {},
   "source": [
    "Consider a graduate $i$ making a choice between entering $J$ different career tracks. <br>\n",
    "Entering career $j$ yields utility $u^k_{ij}$. This value is unknown to the graduate ex ante, but will ex post be: <br>\n",
    "$$\n",
    "    u_{i,j}^k = v_{j} + \\epsilon_{i,j}^k\n",
    "$$\n",
    "\n",
    "They know that $\\epsilon^k_{i,j}\\sim \\mathcal{N}(0,\\sigma^2)$, but they do not observe $\\epsilon^k_{i,j}$ before making their career choice. <br>"
   ]
  },
  {
   "cell_type": "markdown",
   "metadata": {},
   "source": [
    "Consider the concrete case of $J=3$ with:\n",
    "$$\n",
    "\\begin{align*}\n",
    "    v_{1} &= 1 \\\\\n",
    "    v_{2} &= 2 \\\\\n",
    "    v_{3} &= 3\n",
    "\\end{align*}\n",
    "$$"
   ]
  },
  {
   "cell_type": "markdown",
   "metadata": {},
   "source": [
    "If the graduates know the values of $v_j$ and the distribution of $\\epsilon_{i,j}^k$, they can calculate the expected utility of each career track using simulation: <br>\n",
    "$$\n",
    "    \\mathbb{E}\\left[ u^k_{i,j}\\vert v_j \\right] \\approx v_j + \\frac{1}{K}\\sum_{k=1}^K \\epsilon_{i,j}^k\n",
    "$$"
   ]
  },
  {
   "cell_type": "code",
   "execution_count": null,
   "metadata": {},
   "outputs": [],
   "source": [
    "par = SimpleNamespace()\n",
    "par.J = 3\n",
    "par.N = 10\n",
    "par.K = 10000\n",
    "\n",
    "par.F = np.arange(1,par.N+1)\n",
    "par.sigma = 2\n",
    "\n",
    "par.v = np.array([1,2,3])\n",
    "par.c = 1"
   ]
  },
  {
   "cell_type": "markdown",
   "metadata": {},
   "source": [
    "**Question 1:** Simulate and calculate expected utility and the average realised utility for $K=10000$ draws, for each career choice $j$.\n"
   ]
  },
  {
   "cell_type": "code",
   "execution_count": null,
   "metadata": {},
   "outputs": [],
   "source": [
    "# write your answer here"
   ]
  },
  {
   "cell_type": "markdown",
   "metadata": {},
   "source": [
    "Now consider a new scenario: Imagine that the graduate does not know $v_j$. The *only* prior information they have on the value of each job, comes from their $F_{i}$ friends that work in each career $j$. After talking with them, they know the average utility of their friends (which includes their friends' noise term), giving them the prior expecation: <br>\n",
    "$$\n",
    "\\tilde{u}^k_{i,j}\\left( F_{i}\\right) = \\frac{1}{F_{i}}\\sum_{f=1}^{F_{i}} \\left(v_{j} + \\epsilon^k_{f,j}\\right), \\; \\epsilon^k_{f,j}\\sim \\mathcal{N}(0,\\sigma^2)\n",
    "$$\n",
    "For ease of notation consider that each graduate have $F_{i}=i$ friends in each career. <br>"
   ]
  },
  {
   "cell_type": "markdown",
   "metadata": {},
   "source": [
    "For $K$ times do the following: <br>\n",
    "1. For each person $i$ draw $J\\cdot F_i$ values of $\\epsilon_{f,j}^{k}$, and calculate the prior expected utility of each career track, $\\tilde{u}^k_{i,j}\\left( F_{i}\\right)$. <br>\n",
    "Also draw their own $J$ noise terms, $\\epsilon_{i,j}^k$\n",
    "1. Each person $i$ chooses the career track with the highest expected utility: $$j_i^{k*}= \\arg\\max_{j\\in{1,2\\dots,J}}\\left\\{ \\tilde{u}^k_{i,j}\\left( F_{i}\\right)\\right\\} $$\n",
    "1. Store the chosen careers: $j_i^{k*}$, the prior expectation of the value of their chosen career: $\\tilde{u}^k_{i,j=j_i^{k*}}\\left( F_{i}\\right)$, and the realized value of their chosen career track: $u^k_{i,j=j_i^{k*}}=v_{j=j_i^{k*}}+\\epsilon_{i,j=j_i^{k*}}^k$."
   ]
  },
  {
   "cell_type": "markdown",
   "metadata": {},
   "source": [
    "Chosen values will be: <br>\n",
    "$i\\in\\left\\{1,2\\dots,N\\right\\}, N=10$ <br>\n",
    "$F_i = i$<br>\n",
    "So there are 10 graduates. The first has 1 friend in each career, the second has 2 friends, ... the tenth has 10 friends."
   ]
  },
  {
   "cell_type": "markdown",
   "metadata": {},
   "source": [
    "**Question 2:** Simulate and visualize: For each type of graduate, $i$, the share of graduates choosing each career, the average subjective expected utility of the graduates, and the average ex post realized utility given their choice. <br>\n",
    "That is, calculate and visualize: <br>\n",
    "$$\n",
    "\\begin{align*}\n",
    "    \\frac{1}{K} \\sum_{k=1}^{K} \\mathbb{I}\\left\\{ j=j_i^{k*} \\right\\}  \\;\\forall j\\in\\left\\{1,2,\\dots,J\\right\\}\n",
    "\\end{align*}\n",
    "$$\n",
    "$$\n",
    "\\begin{align*}\n",
    "    \\frac{1}{K} \\sum_{k=1}^{K} \\tilde{u}^k_{ij=j_i^{k*}}\\left( F_{i}\\right)\n",
    "\\end{align*}\n",
    "$$\n",
    "And \n",
    "$$\n",
    "\\begin{align*}\n",
    "    \\frac{1}{K} \\sum_{k=1}^{K} u^k_{ij=j_i^{k*}} \n",
    "\\end{align*}\n",
    "$$\n",
    "For each graduate $i$."
   ]
  },
  {
   "cell_type": "code",
   "execution_count": null,
   "metadata": {},
   "outputs": [],
   "source": [
    "# Write your answer here "
   ]
  },
  {
   "cell_type": "markdown",
   "metadata": {},
   "source": [
    "After a year of working in their career, the graduates learn $u^k_{ij}$ for their chosen job $j_i^{k*}$ perfectly. <br>\n",
    "The can switch to one of the two remaining careers, for which they have the same prior as before, but it will now include a switching cost of $c$ which is known.\n",
    "Their new priors can be written as: \n",
    "$$\n",
    "\\tilde{u}^{k,2}_{ij}\\left( F_{i}\\right) = \\begin{cases}\n",
    "            \\tilde{u}^k_{ij}\\left( F_{i}\\right)-c & \\text{if } j \\neq j_i^{k*} \\\\\n",
    "            u_{ij=j_i^{k*}} & \\text{if } j = j_i^{k*}\n",
    "        \\end{cases}\n",
    "$$"
   ]
  },
  {
   "cell_type": "markdown",
   "metadata": {},
   "source": [
    "We will set $c=1$."
   ]
  },
  {
   "cell_type": "markdown",
   "metadata": {},
   "source": [
    "Their realized utility will be: <br>\n",
    "$$\n",
    "u^{k,2}_{ij}= \\begin{cases}\n",
    "            u_{ij}^k -c & \\text{if } j \\neq j_i^{k*} \\\\\n",
    "            u_{ij=j_i^{k*}} & \\text{if } j = j_i^{k*}\n",
    "        \\end{cases}\n",
    "$$"
   ]
  },
  {
   "cell_type": "markdown",
   "metadata": {},
   "source": [
    "**Question 3:** Following the same approach as in question 2, find the new optimal career choice for each $i$, $k$. Then for each $i$, calculate the average subjective expected utility from their new optimal career choice, and the ex post realized utility of that career. Also, for each $i$, calculate the share of graduates that chooses to switch careers, conditional on which career they chose in the first year. <br>"
   ]
  },
  {
   "cell_type": "code",
   "execution_count": null,
   "metadata": {},
   "outputs": [],
   "source": [
    "# write your answer here"
   ]
  },
  {
   "cell_type": "markdown",
   "metadata": {},
   "source": [
    "## 3. <a id='toc3_'></a>[Problem 3: Barycentric interpolation](#toc0_)"
   ]
  },
  {
   "cell_type": "markdown",
   "metadata": {},
   "source": [
    "**Problem:** We have a set of random points in the unit square,\n",
    "\n",
    "$$\n",
    "\\mathcal{X} = \\{(x_1,x_2)\\,|\\,x_1\\sim\\mathcal{U}(0,1),x_2\\sim\\mathcal{U}(0,1)\\}.\n",
    "$$\n",
    "\n",
    "For these points, we know the value of some function $f(x_1,x_2)$,\n",
    "\n",
    "$$\n",
    "\\mathcal{F} = \\{f(x_1,x_2) \\,|\\, (x_1,x_2) \\in \\mathcal{X}\\}.\n",
    "$$\n",
    "\n",
    "Now we want to approximate the value $f(y_1,y_2)$ for some  $y=(y_1,y_2)$, where $y_1\\sim\\mathcal{U}(0,1)$ and $y_2\\sim\\mathcal{U}(0,1)$.\n",
    "\n",
    "**Building block I**\n",
    "\n",
    "For an arbitrary triangle $ABC$ and a point $y$, define the so-called barycentric coordinates as:\n",
    "\n",
    "$$\n",
    "\\begin{align*}\n",
    "  r^{ABC}_1 &= \\frac{(B_2-C_2)(y_1-C_1) + (C_1-B_1)(y_2-C_2)}{(B_2-C_2)(A_1-C_1) + (C_1-B_1)(A_2-C_2)} \\\\\n",
    "  r^{ABC}_2 &= \\frac{(C_2-A_2)(y_1-C_1) + (A_1-C_1)(y_2-C_2)}{(B_2-C_2)(A_1-C_1) + (C_1-B_1)(A_2-C_2)} \\\\\n",
    "  r^{ABC}_3 &= 1 - r_1 - r_2.\n",
    "\\end{align*}\n",
    "$$\n",
    "\n",
    "If $r^{ABC}_1 \\in [0,1]$, $r^{ABC}_2 \\in [0,1]$, and $r^{ABC}_3 \\in [0,1]$, then the point is inside the triangle.\n",
    "\n",
    "We always have $y = r^{ABC}_1 A + r^{ABC}_2 B + r^{ABC}_3 C$.\n",
    "\n",
    "**Building block II**\n",
    "\n",
    "Define the following points:\n",
    "\n",
    "$$\n",
    "\\begin{align*}\n",
    "A&=\\arg\\min_{(x_{1},x_{2})\\in\\mathcal{X}}\\sqrt{\\left(x_{1}-y_{1}\\right)^{2}+\\left(x_{2}-y_{2}\\right)^{2}}\\text{ s.t. }x_{1}>y_{1}\\text{ and }x_{2}>y_{2}\\\\\n",
    "B&=\\arg\\min_{(x_{1},x_{2})\\in\\mathcal{X}}\\sqrt{\\left(x_{1}-y_{1}\\right)^{2}+\\left(x_{2}-y_{2}\\right)^{2}}\\text{ s.t. }x_{1}>y_{1}\\text{ and }x_{2}<y_{2}\\\\\n",
    "C&=\\arg\\min_{(x_{1},x_{2})\\in\\mathcal{X}}\\sqrt{\\left(x_{1}-y_{1}\\right)^{2}+\\left(x_{2}-y_{2}\\right)^{2}}\\text{ s.t. }x_{1}<y_{1}\\text{ and }x_{2}<y_{2}\\\\\n",
    "D&=\\arg\\min_{(x_{1},x_{2})\\in\\mathcal{X}}\\sqrt{\\left(x_{1}-y_{1}\\right)^{2}+\\left(x_{2}-y_{2}\\right)^{2}}\\text{ s.t. }x_{1}<y_{1}\\text{ and }x_{2}>y_{2}.\n",
    "\\end{align*}\n",
    "$$\n",
    "\n",
    "**Algorithm:**\n",
    "\n",
    "1. Compute $A$, $B$, $C$, and $D$. If not possible return `NaN`.\n",
    "1. If $y$ is inside the triangle $ABC$ return $r^{ABC}_1 f(A) + r^{ABC}_2 f(B) + r^{ABC}_3 f(C)$.\n",
    "1. If $y$ is inside the triangle $CDA$ return $r^{CDA}_1 f(C) + r^{CDA}_2 f(D) + r^{CDA}_3 f(A)$.\n",
    "1. Return `NaN`.\n",
    "\n"
   ]
  },
  {
   "cell_type": "markdown",
   "metadata": {},
   "source": [
    "**Sample:**"
   ]
  },
  {
   "cell_type": "code",
   "execution_count": null,
   "metadata": {},
   "outputs": [],
   "source": [
    "rng = np.random.default_rng(2024)\n",
    "\n",
    "X = rng.uniform(size=(50,2))\n",
    "y = rng.uniform(size=(2,))\n"
   ]
  },
  {
   "cell_type": "markdown",
   "metadata": {},
   "source": [
    "**Questions 1:** Find $A$, $B$, $C$ and $D$. Illustrate these together with $X$, $y$ and the triangles $ABC$ and $CDA$."
   ]
  },
  {
   "cell_type": "code",
   "execution_count": null,
   "metadata": {},
   "outputs": [],
   "source": [
    "# write your answer here"
   ]
  },
  {
   "cell_type": "markdown",
   "metadata": {},
   "source": [
    "**Question 2:** Compute the barycentric coordinates of the point $y$ with respect to the triangles $ABC$ and $CDA$. Which triangle is $y$ located inside?"
   ]
  },
  {
   "cell_type": "code",
   "execution_count": null,
   "metadata": {},
   "outputs": [],
   "source": [
    "# write your answer here"
   ]
  },
  {
   "cell_type": "markdown",
   "metadata": {},
   "source": [
    "Now consider the function:\n",
    "$$\n",
    "f(x_1,x_2) = x_1 \\cdot x_2\n",
    "$$"
   ]
  },
  {
   "cell_type": "code",
   "execution_count": null,
   "metadata": {},
   "outputs": [],
   "source": [
    "f = lambda x: x[0]*x[1]\n",
    "F = np.array([f(x) for x in X])"
   ]
  },
  {
   "cell_type": "markdown",
   "metadata": {},
   "source": [
    "**Question 3:** Compute the approximation of $f(y)$ using the full algorithm. Compare with the true value."
   ]
  },
  {
   "cell_type": "code",
   "execution_count": null,
   "metadata": {},
   "outputs": [],
   "source": [
    "# write your answer here"
   ]
  },
  {
   "cell_type": "markdown",
   "metadata": {},
   "source": [
    "**Question 4:** Repeat question 3 for all points in the set $Y$."
   ]
  },
  {
   "cell_type": "code",
   "execution_count": null,
   "metadata": {},
   "outputs": [],
   "source": [
    "Y = [(0.2,0.2),(0.8,0.2),(0.8,0.8),(0.8,0.2),(0.5,0.5)]"
   ]
  },
  {
   "cell_type": "code",
   "execution_count": null,
   "metadata": {},
   "outputs": [],
   "source": [
    "# write your answer here"
   ]
  }
 ],
 "metadata": {
  "kernelspec": {
   "display_name": "base",
   "language": "python",
   "name": "python3"
  },
  "language_info": {
   "codemirror_mode": {
    "name": "ipython",
    "version": 3
   },
   "file_extension": ".py",
   "mimetype": "text/x-python",
   "name": "python",
   "nbconvert_exporter": "python",
   "pygments_lexer": "ipython3",
   "version": "3.9.18"
  }
 },
 "nbformat": 4,
 "nbformat_minor": 2
}
