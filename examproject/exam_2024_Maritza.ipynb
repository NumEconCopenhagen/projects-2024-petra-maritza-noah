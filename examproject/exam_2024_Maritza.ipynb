{
 "cells": [
  {
   "cell_type": "markdown",
   "metadata": {},
   "source": [
    "**Table of contents**<a id='toc0_'></a>    \n",
    "- 1. [Problem 1: Production economy and CO2 taxation](#toc1_)    \n",
    "- 2. [Problem 2: Career choice model](#toc2_)    \n",
    "- 3. [Problem 3: Barycentric interpolation](#toc3_)    \n",
    "\n",
    "<!-- vscode-jupyter-toc-config\n",
    "\tnumbering=true\n",
    "\tanchor=true\n",
    "\tflat=false\n",
    "\tminLevel=2\n",
    "\tmaxLevel=6\n",
    "\t/vscode-jupyter-toc-config -->\n",
    "<!-- THIS CELL WILL BE REPLACED ON TOC UPDATE. DO NOT WRITE YOUR TEXT IN THIS CELL -->"
   ]
  },
  {
   "cell_type": "code",
   "execution_count": 11,
   "metadata": {},
   "outputs": [],
   "source": [
    "# Write your code here\n",
    "import numpy as np\n",
    "from types import SimpleNamespace\n",
    "import matplotlib.pyplot as plt"
   ]
  },
  {
   "cell_type": "markdown",
   "metadata": {},
   "source": [
    "## 1. <a id='toc1_'></a>[Problem 1: Production economy and CO2 taxation](#toc0_)"
   ]
  },
  {
   "cell_type": "markdown",
   "metadata": {},
   "source": [
    "Consider a production economy with two firms indexed by $j \\in \\{1,2\\}$. Each produce its own good. They solve\n",
    "\n",
    "$$\n",
    "\\begin{align*}\n",
    "\\max_{y_{j}}\\pi_{j}&=p_{j}y_{j}-w_{j}\\ell_{j}\\\\\\text{s.t.}\\;&y_{j}=A\\ell_{j}^{\\gamma}.\n",
    "\\end{align*}\n",
    "$$\n",
    "\n",
    "Optimal firm behavior is\n",
    "\n",
    "$$\n",
    "\\begin{align*}\n",
    "\\ell_{j}^{\\star}(w,p_{j})&=\\left(\\frac{p_{j}A\\gamma}{w}\\right)^{\\frac{1}{1-\\gamma}} \\\\\n",
    "y_{j}^{\\star}(w,p_{j})&=A\\left(\\ell_{j}^{\\star}(w,p_{j})\\right)^{\\gamma}\n",
    "\\end{align*}\n",
    "$$\n",
    "\n",
    "The implied profits are\n",
    "\n",
    "$$\n",
    "\\pi_{j}^*(w,p_{j})=\\frac{1-\\gamma}{\\gamma}w\\cdot\\left(\\frac{p_{j}A\\gamma}{w}\\right)^{\\frac{1}{1-\\gamma}}\n",
    "$$\n",
    "\n",
    "A single consumer supplies labor, and consumes the goods the firms produce. She also recieves the implied profits of the firm.<br>\n",
    "She solves:\n",
    "\n",
    "$$\n",
    "\\begin{align*}\n",
    "U(p_1,p_2,w,\\tau,T) = \\max_{c_{1},c_{2},\\ell} & \\log(c_{1}^{\\alpha}c_{2}^{1-\\alpha})-\\nu\\frac{\\ell^{1+\\epsilon}}{1+\\epsilon} \\\\\n",
    "\\text{s.t.}\\,\\,\\,&p_{1}c_{1}+(p_{2}+\\tau)c_{2}=w\\ell+T+\\pi_{1}^*(w,p_{1})+\\pi_{2}^*(w,p_{2})\n",
    "\\end{align*}\n",
    "$$\n",
    "\n",
    "where $\\tau$ is a tax and $T$ is lump-sum transfer. <br>\n",
    "For a given $\\ell$, it can be shown that optimal behavior is\n",
    "\n",
    "$$\n",
    "\\begin{align*}\n",
    "c_{1}(\\ell)&=\\alpha\\frac{w\\ell+T+\\pi_{1}^*(w,p_{1})+\\pi_{2}^*(w,p_{2})}{p_{1}} \\\\\n",
    "c_{2}(\\ell)&=(1-\\alpha)\\frac{w\\ell+T+\\pi_{1}^*(w,p_{1})+\\pi_{2}^*(w,p_{2})}{p_{2}+\\tau} \\\\\n",
    "\\end{align*}\n",
    "$$\n",
    "Such that optimal behavior is:\n",
    "$$\n",
    "\\ell^* = \\underset{\\ell}{\\arg\\max} \\log(\\left(c_{1}(\\ell)\\right)^{\\alpha}\\cdot \\left(c_{2}(\\ell)\\right)^{1-\\alpha})-\\nu\\frac{\\ell^{1+\\epsilon}}{1+\\epsilon} \n",
    "$$\n",
    "With optimal consumption:\n",
    "$$\n",
    "\\begin{align*}\n",
    "c_1^*=c_{1}(\\ell^*) \\\\\n",
    "c_2^*=c_{2}(\\ell^*)\\\\\n",
    "\\end{align*}\n",
    "$$\n",
    "\n",
    "\n",
    "The government chooses $\\tau$ and balances its budget so $T=\\tau c_2^*$. We initially set $\\tau,T=0$.\n",
    "\n",
    "Market clearing requires:\n",
    "\n",
    "1. Labor market: $\\ell^* = \\ell_1^* + \\ell_2^*$\n",
    "1. Good market 1: $c_1^* = y_1^*$\n",
    "1. Good market 2: $c_2^* = y_2^*$\n"
   ]
  },
  {
   "cell_type": "markdown",
   "metadata": {},
   "source": [
    "**Question 1:** Check market clearing conditions for $p_1$ in `linspace(0.1,2.0,10)` and $p_2$ in `linspace(0.1,2.0,10)`. We choose $w=1$ as numeraire."
   ]
  },
  {
   "cell_type": "code",
   "execution_count": 12,
   "metadata": {},
   "outputs": [],
   "source": [
    "par = SimpleNamespace()\n",
    "\n",
    "# firms\n",
    "par.A = 1.0\n",
    "par.gamma = 0.5\n",
    "\n",
    "# households\n",
    "par.alpha = 0.3\n",
    "par.nu = 1.0\n",
    "par.epsilon = 2.0\n",
    "\n",
    "# government\n",
    "par.tau = 0.0\n",
    "par.T = 0.0\n",
    "\n",
    "# Question 3\n",
    "par.kappa = 0.1"
   ]
  },
  {
   "cell_type": "code",
   "execution_count": 13,
   "metadata": {},
   "outputs": [],
   "source": [
    "# write you answer here"
   ]
  },
  {
   "cell_type": "markdown",
   "metadata": {},
   "source": [
    "**Question 2:** Find the equilibrium prices $p_1$ and $p_2$.<br>\n",
    "*Hint: you can use Walras' law to only check 2 of the market clearings*"
   ]
  },
  {
   "cell_type": "code",
   "execution_count": 14,
   "metadata": {},
   "outputs": [],
   "source": [
    "# write your answer here"
   ]
  },
  {
   "cell_type": "markdown",
   "metadata": {},
   "source": [
    "Assume the government care about the social welfare function:\n",
    "\n",
    "$$\n",
    "SWF = U - \\kappa y_2^*\n",
    "$$"
   ]
  },
  {
   "cell_type": "markdown",
   "metadata": {},
   "source": [
    "Here $\\kappa$ measures the social cost of carbon emitted by the production of $y_2$ in equilibrium."
   ]
  },
  {
   "cell_type": "markdown",
   "metadata": {},
   "source": [
    "**Question 3:** What values of $\\tau$ and (implied) $T$ should the government choose to maximize $SWF$?"
   ]
  },
  {
   "cell_type": "code",
   "execution_count": 15,
   "metadata": {},
   "outputs": [],
   "source": [
    "# write your answer here"
   ]
  },
  {
   "cell_type": "markdown",
   "metadata": {},
   "source": [
    "## 2. <a id='toc2_'></a>[Problem 2: Career choice model](#toc0_)"
   ]
  },
  {
   "cell_type": "markdown",
   "metadata": {},
   "source": [
    "Consider a graduate $i$ making a choice between entering $J$ different career tracks. <br>\n",
    "Entering career $j$ yields utility $u^k_{ij}$. This value is unknown to the graduate ex ante, but will ex post be: <br>\n",
    "$$\n",
    "    u_{i,j}^k = v_{j} + \\epsilon_{i,j}^k\n",
    "$$\n",
    "\n",
    "They know that $\\epsilon^k_{i,j}\\sim \\mathcal{N}(0,\\sigma^2)$, but they do not observe $\\epsilon^k_{i,j}$ before making their career choice. <br>"
   ]
  },
  {
   "cell_type": "markdown",
   "metadata": {},
   "source": [
    "Consider the concrete case of $J=3$ with:\n",
    "$$\n",
    "\\begin{align*}\n",
    "    v_{1} &= 1 \\\\\n",
    "    v_{2} &= 2 \\\\\n",
    "    v_{3} &= 3\n",
    "\\end{align*}\n",
    "$$"
   ]
  },
  {
   "cell_type": "markdown",
   "metadata": {},
   "source": [
    "If the graduates know the values of $v_j$ and the distribution of $\\epsilon_{i,j}^k$, they can calculate the expected utility of each career track using simulation: <br>\n",
    "$$\n",
    "    \\mathbb{E}\\left[ u^k_{i,j}\\vert v_j \\right] \\approx v_j + \\frac{1}{K}\\sum_{k=1}^K \\epsilon_{i,j}^k\n",
    "$$"
   ]
  },
  {
   "cell_type": "code",
   "execution_count": 16,
   "metadata": {},
   "outputs": [],
   "source": [
    "par = SimpleNamespace()\n",
    "par.J = 3\n",
    "par.N = 10\n",
    "par.K = 10000\n",
    "\n",
    "par.F = np.arange(1,par.N+1)\n",
    "par.sigma = 2\n",
    "\n",
    "par.v = np.array([1,2,3])\n",
    "par.c = 1"
   ]
  },
  {
   "cell_type": "markdown",
   "metadata": {},
   "source": [
    "**Question 1:** Simulate and calculate expected utility and the average realised utility for $K=10000$ draws, for each career choice $j$.\n"
   ]
  },
  {
   "cell_type": "code",
   "execution_count": 17,
   "metadata": {},
   "outputs": [
    {
     "name": "stdout",
     "output_type": "stream",
     "text": [
      "Career Track 1:\n",
      "  Expected Utility: 1.0153916595866406\n",
      "  Average Realized Utility: 1.0153916595866406\n",
      "Career Track 2:\n",
      "  Expected Utility: 2.006377883330794\n",
      "  Average Realized Utility: 2.006377883330794\n",
      "Career Track 3:\n",
      "  Expected Utility: 3.002969605976466\n",
      "  Average Realized Utility: 3.0029696059764666\n"
     ]
    }
   ],
   "source": [
    "np.random.seed(2024)\n",
    "\n",
    "# Initialize storage for expected and realized utilities\n",
    "expected_utilities = np.zeros(par.J)\n",
    "realized_utilities = np.zeros(par.J)\n",
    "\n",
    "# Simulate and calculate the utilities\n",
    "for j in range(par.J):\n",
    "    # Simulate the error terms\n",
    "    eps = np.random.normal(0, par.sigma, par.K)\n",
    "    \n",
    "    # Calculate the expected utility\n",
    "    expected_utility = par.v[j] + np.mean(eps)\n",
    "    expected_utilities[j] = expected_utility\n",
    "    \n",
    "    # Calculate the realized utility for each simulation and then take the average\n",
    "    realized_utility = par.v[j] + eps\n",
    "    average_realized_utility = np.mean(realized_utility)\n",
    "    realized_utilities[j] = average_realized_utility\n",
    "\n",
    "# Print the results: expected utility and the average realized utility for each career track.\n",
    "for j in range(par.J):\n",
    "    print(f'Career Track {j+1}:')\n",
    "    print(f'  Expected Utility: {expected_utilities[j]}')\n",
    "    print(f'  Average Realized Utility: {realized_utilities[j]}')"
   ]
  },
  {
   "cell_type": "markdown",
   "metadata": {},
   "source": [
    "Now consider a new scenario: Imagine that the graduate does not know $v_j$. The *only* prior information they have on the value of each job, comes from their $F_{i}$ friends that work in each career $j$. After talking with them, they know the average utility of their friends (which includes their friends' noise term), giving them the prior expecation: <br>\n",
    "$$\n",
    "\\tilde{u}^k_{i,j}\\left( F_{i}\\right) = \\frac{1}{F_{i}}\\sum_{f=1}^{F_{i}} \\left(v_{j} + \\epsilon^k_{f,j}\\right), \\; \\epsilon^k_{f,j}\\sim \\mathcal{N}(0,\\sigma^2)\n",
    "$$\n",
    "For ease of notation consider that each graduate have $F_{i}=i$ friends in each career. <br>"
   ]
  },
  {
   "cell_type": "markdown",
   "metadata": {},
   "source": [
    "For $K$ times do the following: <br>\n",
    "1. For each person $i$ draw $J\\cdot F_i$ values of $\\epsilon_{f,j}^{k}$, and calculate the prior expected utility of each career track, $\\tilde{u}^k_{i,j}\\left( F_{i}\\right)$. <br>\n",
    "Also draw their own $J$ noise terms, $\\epsilon_{i,j}^k$\n",
    "1. Each person $i$ chooses the career track with the highest expected utility: $$j_i^{k*}= \\arg\\max_{j\\in{1,2\\dots,J}}\\left\\{ \\tilde{u}^k_{i,j}\\left( F_{i}\\right)\\right\\} $$\n",
    "1. Store the chosen careers: $j_i^{k*}$, the prior expectation of the value of their chosen career: $\\tilde{u}^k_{i,j=j_i^{k*}}\\left( F_{i}\\right)$, and the realized value of their chosen career track: $u^k_{i,j=j_i^{k*}}=v_{j=j_i^{k*}}+\\epsilon_{i,j=j_i^{k*}}^k$."
   ]
  },
  {
   "cell_type": "markdown",
   "metadata": {},
   "source": [
    "Chosen values will be: <br>\n",
    "$i\\in\\left\\{1,2\\dots,N\\right\\}, N=10$ <br>\n",
    "$F_i = i$<br>\n",
    "So there are 10 graduates. The first has 1 friend in each career, the second has 2 friends, ... the tenth has 10 friends."
   ]
  },
  {
   "cell_type": "markdown",
   "metadata": {},
   "source": [
    "**Question 2:** Simulate and visualize: For each type of graduate, $i$, the share of graduates choosing each career, the average subjective expected utility of the graduates, and the average ex post realized utility given their choice. <br>\n",
    "That is, calculate and visualize: <br>\n",
    "$$\n",
    "\\begin{align*}\n",
    "    \\frac{1}{K} \\sum_{k=1}^{K} \\mathbb{I}\\left\\{ j=j_i^{k*} \\right\\}  \\;\\forall j\\in\\left\\{1,2,\\dots,J\\right\\}\n",
    "\\end{align*}\n",
    "$$\n",
    "$$\n",
    "\\begin{align*}\n",
    "    \\frac{1}{K} \\sum_{k=1}^{K} \\tilde{u}^k_{ij=j_i^{k*}}\\left( F_{i}\\right)\n",
    "\\end{align*}\n",
    "$$\n",
    "And \n",
    "$$\n",
    "\\begin{align*}\n",
    "    \\frac{1}{K} \\sum_{k=1}^{K} u^k_{ij=j_i^{k*}} \n",
    "\\end{align*}\n",
    "$$\n",
    "For each graduate $i$."
   ]
  },
  {
   "cell_type": "code",
   "execution_count": 21,
   "metadata": {},
   "outputs": [],
   "source": [
    "np.random.seed(2024)\n",
    "\n",
    "# Initialize arrays to store results\n",
    "share_of_graduates = np.zeros((par.N, par.J))\n",
    "avg_subjective_expected_utility = np.zeros(par.N)\n",
    "avg_realized_utility = np.zeros(par.N)\n",
    "\n",
    "# New scenario with friends' influence\n",
    "for i in range(1, par.N + 1):\n",
    "    # Draw F_i = i friends' utilities for each career\n",
    "    Fi = i\n",
    "    prior_utilities = np.zeros((par.K, par.J))\n",
    "    \n",
    "    for j in range(par.J):\n",
    "        epsilon_friends = np.random.normal(0, par.sigma, (par.K, Fi))\n",
    "        prior_utilities[:, j] = par. v[j] + np.mean(epsilon_friends, axis=1)\n",
    "    \n",
    "    # Draw own noise terms\n",
    "    epsilon_own = np.random.normal(0, par.sigma, (par.K, par.J))\n",
    "    \n",
    "    # Calculate prior expected utilities and choose the career with the highest utility\n",
    "    expected_utilities_own = prior_utilities + epsilon_own\n",
    "    chosen_careers = np.argmax(expected_utilities_own, axis=1)\n",
    "    \n",
    "    # Calculate shares of graduates choosing each career\n",
    "    for j in range(par.J):\n",
    "        share_of_graduates[i-1, j] = np.mean(chosen_careers == j)\n",
    "    \n",
    "    # Calculate the average subjective expected utility\n",
    "    avg_subjective_expected_utility[i-1] = np.mean(expected_utilities_own[np.arange(par.K), chosen_careers])\n",
    "    \n",
    "    # Calculate the average realized utility\n",
    "    realized_utilities = par.v[chosen_careers] + epsilon_own[np.arange(par.K), chosen_careers]\n",
    "    avg_realized_utility[i-1] = np.mean(realized_utilities)"
   ]
  },
  {
   "cell_type": "code",
   "execution_count": 24,
   "metadata": {},
   "outputs": [
    {
     "name": "stdout",
     "output_type": "stream",
     "text": [
      "Share of graduates choosing each career for each type of graduate:\n",
      "[[0.196  0.3235 0.4805]\n",
      " [0.1752 0.3112 0.5136]\n",
      " [0.1669 0.3114 0.5217]\n",
      " [0.1697 0.307  0.5233]\n",
      " [0.1622 0.3081 0.5297]\n",
      " [0.1586 0.304  0.5374]\n",
      " [0.1657 0.299  0.5353]\n",
      " [0.162  0.2996 0.5384]\n",
      " [0.1616 0.2968 0.5416]\n",
      " [0.1616 0.3065 0.5319]]\n"
     ]
    },
    {
     "data": {
      "image/png": "[encoded data removed]",
      "text/plain": [
       "<Figure size 1200x800 with 1 Axes>"
      ]
     },
     "metadata": {},
     "output_type": "display_data"
    }
   ],
   "source": [
    "# Plot results\n",
    "plt.figure(figsize=(12, 8))\n",
    "\n",
    "# Plot share of graduates choosing each career\n",
    "plt.subplot(3, 1, 1)\n",
    "for j in range(par.J):\n",
    "    plt.plot(range(1, par.N + 1), share_of_graduates[:, j], label=f'Career {j+1}', marker='o')\n",
    "plt.title('Share of Graduates Choosing Each Career')\n",
    "plt.xlabel('Graduate Type (i)')\n",
    "plt.ylabel('Share')\n",
    "# Adding a legend\n",
    "plt.legend(frameon=True, loc='right', bbox_to_anchor=(1.3,1.0));\n",
    "# Print out the results for clarity\n",
    "print(\"Share of graduates choosing each career for each type of graduate:\")\n",
    "print(share_of_graduates)"
   ]
  },
  {
   "cell_type": "code",
   "execution_count": 25,
   "metadata": {},
   "outputs": [
    {
     "name": "stdout",
     "output_type": "stream",
     "text": [
      "\n",
      "Average subjective expected utility for each type of graduate:\n",
      "[4.56336777 4.26488992 4.1492162  4.06849667 4.04078508 3.99833694\n",
      " 3.9923021  3.98452306 3.98891623 3.98847247]\n"
     ]
    },
    {
     "data": {
      "image/png": "[encoded data removed]",
      "text/plain": [
       "<Figure size 640x480 with 1 Axes>"
      ]
     },
     "metadata": {},
     "output_type": "display_data"
    }
   ],
   "source": [
    "# Plot average subjective expected utility\n",
    "plt.subplot(3, 1, 2)\n",
    "plt.plot(range(1, par.N + 1), avg_subjective_expected_utility, marker='o')\n",
    "plt.title('Average Subjective Expected Utility')\n",
    "plt.xlabel('Graduate Type (i)')\n",
    "plt.ylabel('Utility')\n",
    "# Print out the results for clarity\n",
    "print(\"\\nAverage subjective expected utility for each type of graduate:\")\n",
    "print(avg_subjective_expected_utility)"
   ]
  },
  {
   "cell_type": "code",
   "execution_count": 26,
   "metadata": {},
   "outputs": [
    {
     "data": {
      "image/png": "[encoded data removed]",
      "text/plain": [
       "<Figure size 640x480 with 1 Axes>"
      ]
     },
     "metadata": {},
     "output_type": "display_data"
    },
    {
     "name": "stdout",
     "output_type": "stream",
     "text": [
      "\n",
      "Average ex post realized utility for each type of graduate:\n",
      "[3.4255741  3.6291485  3.69691302 3.72225365 3.76010758 3.78027092\n",
      " 3.7832216  3.8102099  3.83073694 3.85351672]\n"
     ]
    }
   ],
   "source": [
    "# Plot average ex post realized utility\n",
    "plt.subplot(3, 1, 3)\n",
    "plt.plot(range(1, par.N + 1), avg_realized_utility, marker='o')\n",
    "plt.title('Average Ex Post Realized Utility')\n",
    "plt.xlabel('Graduate Type (i)')\n",
    "plt.ylabel('Utility')\n",
    "plt.tight_layout()\n",
    "plt.show()\n",
    "# Print out the results for clarity\n",
    "print(\"\\nAverage ex post realized utility for each type of graduate:\")\n",
    "print(avg_realized_utility)  "
   ]
  },
  {
   "cell_type": "markdown",
   "metadata": {},
   "source": [
    "After a year of working in their career, the graduates learn $u^k_{ij}$ for their chosen job $j_i^{k*}$ perfectly. <br>\n",
    "The can switch to one of the two remaining careers, for which they have the same prior as before, but it will now include a switching cost of $c$ which is known.\n",
    "Their new priors can be written as: \n",
    "$$\n",
    "\\tilde{u}^{k,2}_{ij}\\left( F_{i}\\right) = \\begin{cases}\n",
    "            \\tilde{u}^k_{ij}\\left( F_{i}\\right)-c & \\text{if } j \\neq j_i^{k*} \\\\\n",
    "            u_{ij=j_i^{k*}} & \\text{if } j = j_i^{k*}\n",
    "        \\end{cases}\n",
    "$$"
   ]
  },
  {
   "cell_type": "markdown",
   "metadata": {},
   "source": [
    "We will set $c=1$."
   ]
  },
  {
   "cell_type": "markdown",
   "metadata": {},
   "source": [
    "Their realized utility will be: <br>\n",
    "$$\n",
    "u^{k,2}_{ij}= \\begin{cases}\n",
    "            u_{ij}^k -c & \\text{if } j \\neq j_i^{k*} \\\\\n",
    "            u_{ij=j_i^{k*}} & \\text{if } j = j_i^{k*}\n",
    "        \\end{cases}\n",
    "$$"
   ]
  },
  {
   "cell_type": "markdown",
   "metadata": {},
   "source": [
    "**Question 3:** Following the same approach as in question 2, find the new optimal career choice for each $i$, $k$. Then for each $i$, calculate the average subjective expected utility from their new optimal career choice, and the ex post realized utility of that career. Also, for each $i$, calculate the share of graduates that chooses to switch careers, conditional on which career they chose in the first year. <br>"
   ]
  },
  {
   "cell_type": "code",
   "execution_count": 19,
   "metadata": {},
   "outputs": [
    {
     "ename": "NameError",
     "evalue": "name 'N' is not defined",
     "output_type": "error",
     "traceback": [
      "\u001b[1;31m---------------------------------------------------------------------------\u001b[0m",
      "\u001b[1;31mNameError\u001b[0m                                 Traceback (most recent call last)",
      "Cell \u001b[1;32mIn[19], line 4\u001b[0m\n\u001b[0;32m      1\u001b[0m c \u001b[38;5;241m=\u001b[39m \u001b[38;5;241m1\u001b[39m  \u001b[38;5;66;03m# Switching cost\u001b[39;00m\n\u001b[0;32m      3\u001b[0m \u001b[38;5;66;03m# Initialize arrays to store results\u001b[39;00m\n\u001b[1;32m----> 4\u001b[0m share_of_graduates_first_year \u001b[38;5;241m=\u001b[39m np\u001b[38;5;241m.\u001b[39mzeros((N, J))\n\u001b[0;32m      5\u001b[0m share_of_graduates_switching \u001b[38;5;241m=\u001b[39m np\u001b[38;5;241m.\u001b[39mzeros((N, J))\n\u001b[0;32m      6\u001b[0m avg_subjective_expected_utility_first_year \u001b[38;5;241m=\u001b[39m np\u001b[38;5;241m.\u001b[39mzeros(N)\n",
      "\u001b[1;31mNameError\u001b[0m: name 'N' is not defined"
     ]
    }
   ],
   "source": [
    "c = 1  # Switching cost\n",
    "\n",
    "# Initialize arrays to store results\n",
    "share_of_graduates_first_year = np.zeros((N, J))\n",
    "share_of_graduates_switching = np.zeros((N, J))\n",
    "avg_subjective_expected_utility_first_year = np.zeros(N)\n",
    "avg_realized_utility_first_year = np.zeros(N)\n",
    "avg_subjective_expected_utility_second_year = np.zeros(N)\n",
    "avg_realized_utility_second_year = np.zeros(N)\n",
    "\n",
    "# New scenario with friends' influence\n",
    "for i in range(1, N + 1):\n",
    "    # Draw F_i = i friends' utilities for each career\n",
    "    Fi = i\n",
    "    prior_utilities = np.zeros((K, J))\n",
    "    \n",
    "    for j in range(J):\n",
    "        epsilon_friends = np.random.normal(0, sigma, (K, Fi))\n",
    "        prior_utilities[:, j] = v[j] + np.mean(epsilon_friends, axis=1)\n",
    "    \n",
    "    # Draw own noise terms for first year\n",
    "    epsilon_own_first_year = np.random.normal(0, sigma, (K, J))\n",
    "    \n",
    "    # Calculate prior expected utilities for the first year\n",
    "    expected_utilities_first_year = prior_utilities + epsilon_own_first_year\n",
    "    chosen_careers_first_year = np.argmax(expected_utilities_first_year, axis=1)\n",
    "    \n",
    "    # Calculate shares of graduates choosing each career in the first year\n",
    "    for j in range(J):\n",
    "        share_of_graduates_first_year[i-1, j] = np.mean(chosen_careers_first_year == j)\n",
    "    \n",
    "    # Calculate the average subjective expected utility in the first year\n",
    "    avg_subjective_expected_utility_first_year[i-1] = np.mean(expected_utilities_first_year[np.arange(K), chosen_careers_first_year])\n",
    "    \n",
    "    # Calculate the average realized utility in the first year\n",
    "    realized_utilities_first_year = v[chosen_careers_first_year] + epsilon_own_first_year[np.arange(K), chosen_careers_first_year]\n",
    "    avg_realized_utility_first_year[i-1] = np.mean(realized_utilities_first_year)\n",
    "    \n",
    "    # Calculate new priors for the second year with the switching cost\n",
    "    for k in range(K):\n",
    "        for j in range(J):\n",
    "            if j == chosen_careers_first_year[k]:\n",
    "                prior_utilities[k, j] = realized_utilities_first_year[k]  # No cost for staying in the same career\n",
    "            else:\n",
    "                prior_utilities[k, j] -= c  # Include switching cost\n",
    "    \n",
    "    # Calculate new expected utilities for the second year\n",
    "    epsilon_own_second_year = np.random.normal(0, sigma, (K, J))\n",
    "    expected_utilities_second_year = prior_utilities + epsilon_own_second_year\n",
    "    chosen_careers_second_year = np.argmax(expected_utilities_second_year, axis=1)\n",
    "    \n",
    "    # Calculate shares of graduates choosing to switch careers\n",
    "    for j in range(J):\n",
    "        switching_graduates = (chosen_careers_first_year == j) & (chosen_careers_second_year != j)\n",
    "        share_of_graduates_switching[i-1, j] = np.mean(switching_graduates)\n",
    "    \n",
    "    # Calculate the average subjective expected utility in the second year\n",
    "    avg_subjective_expected_utility_second_year[i-1] = np.mean(expected_utilities_second_year[np.arange(K), chosen_careers_second_year])\n",
    "    \n",
    "    # Calculate the average realized utility in the second year\n",
    "    realized_utilities_second_year = np.zeros(K)\n",
    "    for k in range(K):\n",
    "        if chosen_careers_second_year[k] == chosen_careers_first_year[k]:\n",
    "            realized_utilities_second_year[k] = realized_utilities_first_year[k]\n",
    "        else:\n",
    "            realized_utilities_second_year[k] = v[chosen_careers_second_year[k]] + epsilon_own_second_year[k, chosen_careers_second_year[k]] - c\n",
    "    avg_realized_utility_second_year[i-1] = np.mean(realized_utilities_second_year)\n",
    "\n",
    "# Plot results\n",
    "plt.figure(figsize=(12, 12))\n",
    "\n",
    "# Plot share of graduates choosing each career in the first year\n",
    "plt.subplot(4, 1, 1)\n",
    "for j in range(J):\n",
    "    plt.plot(range(1, N + 1), share_of_graduates_first_year[:, j], label=f'Career {j+1}')\n",
    "plt.title('Share of Graduates Choosing Each Career (First Year)')\n",
    "plt.xlabel('Graduate Type (i)')\n",
    "plt.ylabel('Share')\n",
    "plt.legend()\n",
    "\n",
    "# Plot average subjective expected utility in the first year\n",
    "plt.subplot(4, 1, 2)\n",
    "plt.plot(range(1, N + 1), avg_subjective_expected_utility_first_year, marker='o')\n",
    "plt.title('Average Subjective Expected Utility (First Year)')\n",
    "plt.xlabel('Graduate Type (i)')\n",
    "plt.ylabel('Utility')\n",
    "\n",
    "# Plot average ex post realized utility in the first year\n",
    "plt.subplot(4, 1, 3)\n",
    "plt.plot(range(1, N + 1), avg_realized_utility_first_year, marker='o')\n",
    "plt.title('Average Ex Post Realized Utility (First Year)')\n",
    "plt.xlabel('Graduate Type (i)')\n",
    "plt.ylabel('Utility')\n",
    "\n",
    "# Plot share of graduates choosing to switch careers\n",
    "plt.subplot(4, 1, 4)\n",
    "for j in range(J):\n",
    "    plt.plot(range(1, N + 1), share_of_graduates_switching[:, j], label=f'Switching from Career {j+1}')\n",
    "plt.title('Share of Graduates Choosing to Switch Careers')\n",
    "plt.xlabel('Graduate Type (i)')\n",
    "plt.ylabel('Share')\n",
    "plt.legend()\n",
    "\n",
    "plt.tight_layout()\n",
    "plt.show()\n",
    "\n",
    "# Print out the results for clarity\n",
    "print(\"Share of graduates choosing each career in the first year for each type of graduate:\")\n",
    "print(share_of_graduates_first_year)\n",
    "print(\"\\nAverage subjective expected utility in the first year for each type of graduate:\")\n",
    "print(avg_subjective_expected_utility_first_year)\n",
    "print(\"\\nAverage ex post realized utility in the first year for each type of graduate:\")\n",
    "print(avg_realized_utility_first_year)\n",
    "print(\"\\nShare of graduates choosing to switch careers for each type of graduate:\")\n",
    "print(share_of_graduates_switching)\n",
    "print(\"\\nAverage subjective expected utility in the second year for each type of graduate:\")\n",
    "print(avg_subjective_expected_utility_second_year)\n",
    "print(\"\\nAverage ex post realized utility in the second year for each type of graduate:\")\n",
    "print(avg_realized_utility_second_year)"
   ]
  },
  {
   "cell_type": "markdown",
   "metadata": {},
   "source": [
    "## 3. <a id='toc3_'></a>[Problem 3: Barycentric interpolation](#toc0_)"
   ]
  },
  {
   "cell_type": "markdown",
   "metadata": {},
   "source": [
    "**Problem:** We have a set of random points in the unit square,\n",
    "\n",
    "$$\n",
    "\\mathcal{X} = \\{(x_1,x_2)\\,|\\,x_1\\sim\\mathcal{U}(0,1),x_2\\sim\\mathcal{U}(0,1)\\}.\n",
    "$$\n",
    "\n",
    "For these points, we know the value of some function $f(x_1,x_2)$,\n",
    "\n",
    "$$\n",
    "\\mathcal{F} = \\{f(x_1,x_2) \\,|\\, (x_1,x_2) \\in \\mathcal{X}\\}.\n",
    "$$\n",
    "\n",
    "Now we want to approximate the value $f(y_1,y_2)$ for some  $y=(y_1,y_2)$, where $y_1\\sim\\mathcal{U}(0,1)$ and $y_2\\sim\\mathcal{U}(0,1)$.\n",
    "\n",
    "**Building block I**\n",
    "\n",
    "For an arbitrary triangle $ABC$ and a point $y$, define the so-called barycentric coordinates as:\n",
    "\n",
    "$$\n",
    "\\begin{align*}\n",
    "  r^{ABC}_1 &= \\frac{(B_2-C_2)(y_1-C_1) + (C_1-B_1)(y_2-C_2)}{(B_2-C_2)(A_1-C_1) + (C_1-B_1)(A_2-C_2)} \\\\\n",
    "  r^{ABC}_2 &= \\frac{(C_2-A_2)(y_1-C_1) + (A_1-C_1)(y_2-C_2)}{(B_2-C_2)(A_1-C_1) + (C_1-B_1)(A_2-C_2)} \\\\\n",
    "  r^{ABC}_3 &= 1 - r_1 - r_2.\n",
    "\\end{align*}\n",
    "$$\n",
    "\n",
    "If $r^{ABC}_1 \\in [0,1]$, $r^{ABC}_2 \\in [0,1]$, and $r^{ABC}_3 \\in [0,1]$, then the point is inside the triangle.\n",
    "\n",
    "We always have $y = r^{ABC}_1 A + r^{ABC}_2 B + r^{ABC}_3 C$.\n",
    "\n",
    "**Building block II**\n",
    "\n",
    "Define the following points:\n",
    "\n",
    "$$\n",
    "\\begin{align*}\n",
    "A&=\\arg\\min_{(x_{1},x_{2})\\in\\mathcal{X}}\\sqrt{\\left(x_{1}-y_{1}\\right)^{2}+\\left(x_{2}-y_{2}\\right)^{2}}\\text{ s.t. }x_{1}>y_{1}\\text{ and }x_{2}>y_{2}\\\\\n",
    "B&=\\arg\\min_{(x_{1},x_{2})\\in\\mathcal{X}}\\sqrt{\\left(x_{1}-y_{1}\\right)^{2}+\\left(x_{2}-y_{2}\\right)^{2}}\\text{ s.t. }x_{1}>y_{1}\\text{ and }x_{2}<y_{2}\\\\\n",
    "C&=\\arg\\min_{(x_{1},x_{2})\\in\\mathcal{X}}\\sqrt{\\left(x_{1}-y_{1}\\right)^{2}+\\left(x_{2}-y_{2}\\right)^{2}}\\text{ s.t. }x_{1}<y_{1}\\text{ and }x_{2}<y_{2}\\\\\n",
    "D&=\\arg\\min_{(x_{1},x_{2})\\in\\mathcal{X}}\\sqrt{\\left(x_{1}-y_{1}\\right)^{2}+\\left(x_{2}-y_{2}\\right)^{2}}\\text{ s.t. }x_{1}<y_{1}\\text{ and }x_{2}>y_{2}.\n",
    "\\end{align*}\n",
    "$$\n",
    "\n",
    "**Algorithm:**\n",
    "\n",
    "1. Compute $A$, $B$, $C$, and $D$. If not possible return `NaN`.\n",
    "1. If $y$ is inside the triangle $ABC$ return $r^{ABC}_1 f(A) + r^{ABC}_2 f(B) + r^{ABC}_3 f(C)$.\n",
    "1. If $y$ is inside the triangle $CDA$ return $r^{CDA}_1 f(C) + r^{CDA}_2 f(D) + r^{CDA}_3 f(A)$.\n",
    "1. Return `NaN`.\n",
    "\n"
   ]
  },
  {
   "cell_type": "markdown",
   "metadata": {},
   "source": [
    "**Sample:**"
   ]
  },
  {
   "cell_type": "code",
   "execution_count": null,
   "metadata": {},
   "outputs": [],
   "source": [
    "rng = np.random.default_rng(2024)\n",
    "\n",
    "X = rng.uniform(size=(50,2))\n",
    "y = rng.uniform(size=(2,))\n"
   ]
  },
  {
   "cell_type": "markdown",
   "metadata": {},
   "source": [
    "**Questions 1:** Find $A$, $B$, $C$ and $D$. Illustrate these together with $X$, $y$ and the triangles $ABC$ and $CDA$."
   ]
  },
  {
   "cell_type": "code",
   "execution_count": null,
   "metadata": {},
   "outputs": [],
   "source": [
    "# write your answer here"
   ]
  },
  {
   "cell_type": "markdown",
   "metadata": {},
   "source": [
    "**Question 2:** Compute the barycentric coordinates of the point $y$ with respect to the triangles $ABC$ and $CDA$. Which triangle is $y$ located inside?"
   ]
  },
  {
   "cell_type": "code",
   "execution_count": null,
   "metadata": {},
   "outputs": [],
   "source": [
    "# write your answer here"
   ]
  },
  {
   "cell_type": "markdown",
   "metadata": {},
   "source": [
    "Now consider the function:\n",
    "$$\n",
    "f(x_1,x_2) = x_1 \\cdot x_2\n",
    "$$"
   ]
  },
  {
   "cell_type": "code",
   "execution_count": null,
   "metadata": {},
   "outputs": [],
   "source": [
    "f = lambda x: x[0]*x[1]\n",
    "F = np.array([f(x) for x in X])"
   ]
  },
  {
   "cell_type": "markdown",
   "metadata": {},
   "source": [
    "**Question 3:** Compute the approximation of $f(y)$ using the full algorithm. Compare with the true value."
   ]
  },
  {
   "cell_type": "code",
   "execution_count": null,
   "metadata": {},
   "outputs": [],
   "source": [
    "# write your answer here"
   ]
  },
  {
   "cell_type": "markdown",
   "metadata": {},
   "source": [
    "**Question 4:** Repeat question 3 for all points in the set $Y$."
   ]
  },
  {
   "cell_type": "code",
   "execution_count": null,
   "metadata": {},
   "outputs": [],
   "source": [
    "Y = [(0.2,0.2),(0.8,0.2),(0.8,0.8),(0.8,0.2),(0.5,0.5)]"
   ]
  },
  {
   "cell_type": "code",
   "execution_count": null,
   "metadata": {},
   "outputs": [],
   "source": [
    "# write your answer here"
   ]
  }
 ],
 "metadata": {
  "kernelspec": {
   "display_name": "base",
   "language": "python",
   "name": "python3"
  },
  "language_info": {
   "codemirror_mode": {
    "name": "ipython",
    "version": 3
   },
   "file_extension": ".py",
   "mimetype": "text/x-python",
   "name": "python",
   "nbconvert_exporter": "python",
   "pygments_lexer": "ipython3",
   "version": "3.11.7"
  }
 },
 "nbformat": 4,
 "nbformat_minor": 2
}
