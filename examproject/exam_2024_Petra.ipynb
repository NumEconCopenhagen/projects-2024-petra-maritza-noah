{
 "cells": [
  {
   "cell_type": "markdown",
   "metadata": {},
   "source": [
    "**Table of contents**<a id='toc0_'></a>    \n",
    "- 1. [Problem 1: Production economy and CO2 taxation](#toc1_)    \n",
    "- 2. [Problem 2: Career choice model](#toc2_)    \n",
    "- 3. [Problem 3: Barycentric interpolation](#toc3_)    \n",
    "\n",
    "<!-- vscode-jupyter-toc-config\n",
    "\tnumbering=true\n",
    "\tanchor=true\n",
    "\tflat=false\n",
    "\tminLevel=2\n",
    "\tmaxLevel=6\n",
    "\t/vscode-jupyter-toc-config -->\n",
    "<!-- THIS CELL WILL BE REPLACED ON TOC UPDATE. DO NOT WRITE YOUR TEXT IN THIS CELL -->"
   ]
  },
  {
   "cell_type": "code",
   "execution_count": 13,
   "metadata": {},
   "outputs": [
    {
     "name": "stdout",
     "output_type": "stream",
     "text": [
      "The autoreload extension is already loaded. To reload it, use:\n",
      "  %reload_ext autoreload\n"
     ]
    }
   ],
   "source": [
    "# Write your code here\n",
    "import numpy as np\n",
    "from types import SimpleNamespace\n",
    "# Ensure modules are reloaded on each run\n",
    "%load_ext autoreload\n",
    "%autoreload 2"
   ]
  },
  {
   "cell_type": "markdown",
   "metadata": {},
   "source": [
    "## 1. <a id='toc1_'></a>[Problem 1: Production economy and CO2 taxation](#toc0_)"
   ]
  },
  {
   "cell_type": "markdown",
   "metadata": {},
   "source": [
    "Consider a production economy with two firms indexed by $j \\in \\{1,2\\}$. Each produce its own good. They solve\n",
    "\n",
    "$$\n",
    "\\begin{align*}\n",
    "\\max_{y_{j}}\\pi_{j}&=p_{j}y_{j}-w_{j}\\ell_{j}\\\\\\text{s.t.}\\;&y_{j}=A\\ell_{j}^{\\gamma}.\n",
    "\\end{align*}\n",
    "$$\n",
    "\n",
    "Optimal firm behavior is\n",
    "\n",
    "$$\n",
    "\\begin{align*}\n",
    "\\ell_{j}^{\\star}(w,p_{j})&=\\left(\\frac{p_{j}A\\gamma}{w}\\right)^{\\frac{1}{1-\\gamma}} \\\\\n",
    "y_{j}^{\\star}(w,p_{j})&=A\\left(\\ell_{j}^{\\star}(w,p_{j})\\right)^{\\gamma}\n",
    "\\end{align*}\n",
    "$$\n",
    "\n",
    "The implied profits are\n",
    "\n",
    "$$\n",
    "\\pi_{j}^*(w,p_{j})=\\frac{1-\\gamma}{\\gamma}w\\cdot\\left(\\frac{p_{j}A\\gamma}{w}\\right)^{\\frac{1}{1-\\gamma}}\n",
    "$$\n",
    "\n",
    "A single consumer supplies labor, and consumes the goods the firms produce. She also recieves the implied profits of the firm.<br>\n",
    "She solves:\n",
    "\n",
    "$$\n",
    "\\begin{align*}\n",
    "U(p_1,p_2,w,\\tau,T) = \\max_{c_{1},c_{2},\\ell} & \\log(c_{1}^{\\alpha}c_{2}^{1-\\alpha})-\\nu\\frac{\\ell^{1+\\epsilon}}{1+\\epsilon} \\\\\n",
    "\\text{s.t.}\\,\\,\\,&p_{1}c_{1}+(p_{2}+\\tau)c_{2}=w\\ell+T+\\pi_{1}^*(w,p_{1})+\\pi_{2}^*(w,p_{2})\n",
    "\\end{align*}\n",
    "$$\n",
    "\n",
    "where $\\tau$ is a tax and $T$ is lump-sum transfer. <br>\n",
    "For a given $\\ell$, it can be shown that optimal behavior is\n",
    "\n",
    "$$\n",
    "\\begin{align*}\n",
    "c_{1}(\\ell)&=\\alpha\\frac{w\\ell+T+\\pi_{1}^*(w,p_{1})+\\pi_{2}^*(w,p_{2})}{p_{1}} \\\\\n",
    "c_{2}(\\ell)&=(1-\\alpha)\\frac{w\\ell+T+\\pi_{1}^*(w,p_{1})+\\pi_{2}^*(w,p_{2})}{p_{2}+\\tau} \\\\\n",
    "\\end{align*}\n",
    "$$\n",
    "Such that optimal behavior is:\n",
    "$$\n",
    "\\ell^* = \\underset{\\ell}{\\arg\\max} \\log(\\left(c_{1}(\\ell)\\right)^{\\alpha}\\cdot \\left(c_{2}(\\ell)\\right)^{1-\\alpha})-\\nu\\frac{\\ell^{1+\\epsilon}}{1+\\epsilon} \n",
    "$$\n",
    "With optimal consumption:\n",
    "$$\n",
    "\\begin{align*}\n",
    "c_1^*=c_{1}(\\ell^*) \\\\\n",
    "c_2^*=c_{2}(\\ell^*)\\\\\n",
    "\\end{align*}\n",
    "$$\n",
    "\n",
    "\n",
    "The government chooses $\\tau$ and balances its budget so $T=\\tau c_2^*$. We initially set $\\tau,T=0$.\n",
    "\n",
    "Market clearing requires:\n",
    "\n",
    "1. Labor market: $\\ell^* = \\ell_1^* + \\ell_2^*$\n",
    "1. Good market 1: $c_1^* = y_1^*$\n",
    "1. Good market 2: $c_2^* = y_2^*$\n"
   ]
  },
  {
   "cell_type": "markdown",
   "metadata": {},
   "source": [
    "**Question 1:** Check market clearing conditions for $p_1$ in `linspace(0.1,2.0,10)` and $p_2$ in `linspace(0.1,2.0,10)`. We choose $w=1$ as numeraire."
   ]
  },
  {
   "cell_type": "code",
   "execution_count": 14,
   "metadata": {},
   "outputs": [],
   "source": [
    "par = SimpleNamespace()\n",
    "\n",
    "# firms\n",
    "par.A = 1.0\n",
    "par.gamma = 0.5\n",
    "\n",
    "# households\n",
    "par.alpha = 0.3\n",
    "par.nu = 1.0\n",
    "par.epsilon = 2.0\n",
    "\n",
    "# government\n",
    "par.tau = 0.0\n",
    "par.T = 0.0\n",
    "\n",
    "# Question 3\n",
    "par.kappa = 0.1"
   ]
  },
  {
   "cell_type": "code",
   "execution_count": 15,
   "metadata": {},
   "outputs": [
    {
     "ename": "ImportError",
     "evalue": "cannot import name 'Firm' from 'exam_2024_Petra' (/Users/petra/Desktop/KU/Introduction to Programming/Intro to Prog /projects-2024-petra-maritza-noah/examproject/exam_2024_Petra.py)",
     "output_type": "error",
     "traceback": [
      "\u001b[0;31m---------------------------------------------------------------------------\u001b[0m",
      "\u001b[0;31mImportError\u001b[0m                               Traceback (most recent call last)",
      "\u001b[0;32m/var/folders/zp/l2pspvtd73b7q_05pxndhbpm0000gp/T/ipykernel_11504/16965224.py\u001b[0m in \u001b[0;36m<module>\u001b[0;34m\u001b[0m\n\u001b[0;32m----> 1\u001b[0;31m \u001b[0;32mfrom\u001b[0m \u001b[0mexam_2024_Petra\u001b[0m \u001b[0;32mimport\u001b[0m \u001b[0mFirm\u001b[0m\u001b[0;34m,\u001b[0m \u001b[0mConsumer\u001b[0m\u001b[0;34m,\u001b[0m \u001b[0mMarketClearing\u001b[0m\u001b[0;34m\u001b[0m\u001b[0;34m\u001b[0m\u001b[0m\n\u001b[0m\u001b[1;32m      2\u001b[0m \u001b[0;34m\u001b[0m\u001b[0m\n\u001b[1;32m      3\u001b[0m \u001b[0;32mif\u001b[0m \u001b[0m__name__\u001b[0m \u001b[0;34m==\u001b[0m \u001b[0;34m\"__main__\"\u001b[0m\u001b[0;34m:\u001b[0m\u001b[0;34m\u001b[0m\u001b[0;34m\u001b[0m\u001b[0m\n\u001b[1;32m      4\u001b[0m     \u001b[0mfirm1\u001b[0m \u001b[0;34m=\u001b[0m \u001b[0mFirm\u001b[0m\u001b[0;34m(\u001b[0m\u001b[0mA\u001b[0m\u001b[0;34m=\u001b[0m\u001b[0;36m1\u001b[0m\u001b[0;34m,\u001b[0m \u001b[0mgamma\u001b[0m\u001b[0;34m=\u001b[0m\u001b[0;36m0.5\u001b[0m\u001b[0;34m)\u001b[0m\u001b[0;34m\u001b[0m\u001b[0;34m\u001b[0m\u001b[0m\n\u001b[1;32m      5\u001b[0m     \u001b[0mfirm2\u001b[0m \u001b[0;34m=\u001b[0m \u001b[0mFirm\u001b[0m\u001b[0;34m(\u001b[0m\u001b[0mA\u001b[0m\u001b[0;34m=\u001b[0m\u001b[0;36m1\u001b[0m\u001b[0;34m,\u001b[0m \u001b[0mgamma\u001b[0m\u001b[0;34m=\u001b[0m\u001b[0;36m0.5\u001b[0m\u001b[0;34m)\u001b[0m\u001b[0;34m\u001b[0m\u001b[0;34m\u001b[0m\u001b[0m\n",
      "\u001b[0;31mImportError\u001b[0m: cannot import name 'Firm' from 'exam_2024_Petra' (/Users/petra/Desktop/KU/Introduction to Programming/Intro to Prog /projects-2024-petra-maritza-noah/examproject/exam_2024_Petra.py)"
     ]
    }
   ],
   "source": [
    "from exam_2024_Petra import Firm, Consumer, MarketClearing\n",
    "\n",
    "if __name__ == \"__main__\":\n",
    "    firm1 = Firm(A=1, gamma=0.5)\n",
    "    firm2 = Firm(A=1, gamma=0.5)\n",
    "    consumer = Consumer(nu=1, epsilon=1, alpha=0.5)\n",
    "\n",
    "    model = MarketClearing(firm1, firm2, consumer)\n",
    "    w = 1  # Wage rate\n",
    "    p1 = 1  # Price of good 1\n",
    "    p2 = 1  # Price of good 2\n",
    "\n",
    "    labor_market_clears, good1_market_clears, good2_market_clears = model.check_market_clearing(w, p1, p2)\n",
    "\n",
    "    if labor_market_clears and good1_market_clears and good2_market_clears:\n",
    "        print(\"Market clearing conditions satisfied.\")\n",
    "    else:\n",
    "        print(\"Market clearing conditions not satisfied.\")"
   ]
  },
  {
   "cell_type": "code",
   "execution_count": null,
   "metadata": {},
   "outputs": [],
   "source": [
    "from exam_2024_Petra import MarketClearing\n",
    "\n",
    "# Create an instance of the class\n",
    "market = MarketClearing()\n",
    "\n",
    "# Define the price grids\n",
    "p1_grid = np.linspace(0.1, 2.0, 10)\n",
    "p2_grid = np.linspace(0.1, 2.0, 10)\n",
    "\n",
    "# Check market clearing conditions\n",
    "results = market.check_market_clearing(p1_grid, p2_grid)\n",
    "\n",
    "# Print results\n",
    "for (p1, p2, lmc, g1mc, g2mc) in results:\n",
    "    print(f\"p1={p1}, p2={p2}: Labor Market Clears: {lmc}, Good1 Market Clears: {g1mc}, Good2 Market Clears: {g2mc}\")"
   ]
  },
  {
   "cell_type": "markdown",
   "metadata": {},
   "source": [
    "**Question 2:** Find the equilibrium prices $p_1$ and $p_2$.<br>\n",
    "*Hint: you can use Walras' law to only check 2 of the market clearings*"
   ]
  },
  {
   "cell_type": "code",
   "execution_count": null,
   "metadata": {},
   "outputs": [],
   "source": [
    "from exam_2024_Petra import MarketClearing\n",
    "\n",
    "# Create an instance of the class\n",
    "market = MarketClearing()\n",
    "\n",
    "equilibrium_prices = market.find_market_clearing_prices()\n",
    "\n",
    "if equilibrium_prices is not None:\n",
    "    p1, p2 = equilibrium_prices\n",
    "    print(f\"Market clearing prices found: p1={p1}, p2={p2}\")\n",
    "else:\n",
    "    print(\"Market clearing prices not found.\")"
   ]
  },
  {
   "cell_type": "markdown",
   "metadata": {},
   "source": [
    "Assume the government care about the social welfare function:\n",
    "\n",
    "$$\n",
    "SWF = U - \\kappa y_2^*\n",
    "$$"
   ]
  },
  {
   "cell_type": "markdown",
   "metadata": {},
   "source": [
    "Here $\\kappa$ measures the social cost of carbon emitted by the production of $y_2$ in equilibrium."
   ]
  },
  {
   "cell_type": "markdown",
   "metadata": {},
   "source": [
    "**Question 3:** What values of $\\tau$ and (implied) $T$ should the government choose to maximize $SWF$?"
   ]
  },
  {
   "cell_type": "code",
   "execution_count": null,
   "metadata": {},
   "outputs": [],
   "source": [
    "# write your answer here"
   ]
  },
  {
   "cell_type": "markdown",
   "metadata": {},
   "source": [
    "## 2. <a id='toc2_'></a>[Problem 2: Career choice model](#toc0_)"
   ]
  },
  {
   "cell_type": "markdown",
   "metadata": {},
   "source": [
    "Consider a graduate $i$ making a choice between entering $J$ different career tracks. <br>\n",
    "Entering career $j$ yields utility $u^k_{ij}$. This value is unknown to the graduate ex ante, but will ex post be: <br>\n",
    "$$\n",
    "    u_{i,j}^k = v_{j} + \\epsilon_{i,j}^k\n",
    "$$\n",
    "\n",
    "They know that $\\epsilon^k_{i,j}\\sim \\mathcal{N}(0,\\sigma^2)$, but they do not observe $\\epsilon^k_{i,j}$ before making their career choice. <br>"
   ]
  },
  {
   "cell_type": "markdown",
   "metadata": {},
   "source": [
    "Consider the concrete case of $J=3$ with:\n",
    "$$\n",
    "\\begin{align*}\n",
    "    v_{1} &= 1 \\\\\n",
    "    v_{2} &= 2 \\\\\n",
    "    v_{3} &= 3\n",
    "\\end{align*}\n",
    "$$"
   ]
  },
  {
   "cell_type": "markdown",
   "metadata": {},
   "source": [
    "If the graduates know the values of $v_j$ and the distribution of $\\epsilon_{i,j}^k$, they can calculate the expected utility of each career track using simulation: <br>\n",
    "$$\n",
    "    \\mathbb{E}\\left[ u^k_{i,j}\\vert v_j \\right] \\approx v_j + \\frac{1}{K}\\sum_{k=1}^K \\epsilon_{i,j}^k\n",
    "$$"
   ]
  },
  {
   "cell_type": "code",
   "execution_count": null,
   "metadata": {},
   "outputs": [],
   "source": [
    "par = SimpleNamespace()\n",
    "par.J = 3\n",
    "par.N = 10\n",
    "par.K = 10000\n",
    "\n",
    "par.F = np.arange(1,par.N+1)\n",
    "par.sigma = 2\n",
    "\n",
    "par.v = np.array([1,2,3])\n",
    "par.c = 1"
   ]
  },
  {
   "cell_type": "markdown",
   "metadata": {},
   "source": [
    "**Question 1:** Simulate and calculate expected utility and the average realised utility for $K=10000$ draws, for each career choice $j$.\n"
   ]
  },
  {
   "cell_type": "code",
   "execution_count": null,
   "metadata": {},
   "outputs": [],
   "source": [
    "# write your answer here"
   ]
  },
  {
   "cell_type": "markdown",
   "metadata": {},
   "source": [
    "Now consider a new scenario: Imagine that the graduate does not know $v_j$. The *only* prior information they have on the value of each job, comes from their $F_{i}$ friends that work in each career $j$. After talking with them, they know the average utility of their friends (which includes their friends' noise term), giving them the prior expecation: <br>\n",
    "$$\n",
    "\\tilde{u}^k_{i,j}\\left( F_{i}\\right) = \\frac{1}{F_{i}}\\sum_{f=1}^{F_{i}} \\left(v_{j} + \\epsilon^k_{f,j}\\right), \\; \\epsilon^k_{f,j}\\sim \\mathcal{N}(0,\\sigma^2)\n",
    "$$\n",
    "For ease of notation consider that each graduate have $F_{i}=i$ friends in each career. <br>"
   ]
  },
  {
   "cell_type": "markdown",
   "metadata": {},
   "source": [
    "For $K$ times do the following: <br>\n",
    "1. For each person $i$ draw $J\\cdot F_i$ values of $\\epsilon_{f,j}^{k}$, and calculate the prior expected utility of each career track, $\\tilde{u}^k_{i,j}\\left( F_{i}\\right)$. <br>\n",
    "Also draw their own $J$ noise terms, $\\epsilon_{i,j}^k$\n",
    "1. Each person $i$ chooses the career track with the highest expected utility: $$j_i^{k*}= \\arg\\max_{j\\in{1,2\\dots,J}}\\left\\{ \\tilde{u}^k_{i,j}\\left( F_{i}\\right)\\right\\} $$\n",
    "1. Store the chosen careers: $j_i^{k*}$, the prior expectation of the value of their chosen career: $\\tilde{u}^k_{i,j=j_i^{k*}}\\left( F_{i}\\right)$, and the realized value of their chosen career track: $u^k_{i,j=j_i^{k*}}=v_{j=j_i^{k*}}+\\epsilon_{i,j=j_i^{k*}}^k$."
   ]
  },
  {
   "cell_type": "markdown",
   "metadata": {},
   "source": [
    "Chosen values will be: <br>\n",
    "$i\\in\\left\\{1,2\\dots,N\\right\\}, N=10$ <br>\n",
    "$F_i = i$<br>\n",
    "So there are 10 graduates. The first has 1 friend in each career, the second has 2 friends, ... the tenth has 10 friends."
   ]
  },
  {
   "cell_type": "markdown",
   "metadata": {},
   "source": [
    "**Question 2:** Simulate and visualize: For each type of graduate, $i$, the share of graduates choosing each career, the average subjective expected utility of the graduates, and the average ex post realized utility given their choice. <br>\n",
    "That is, calculate and visualize: <br>\n",
    "$$\n",
    "\\begin{align*}\n",
    "    \\frac{1}{K} \\sum_{k=1}^{K} \\mathbb{I}\\left\\{ j=j_i^{k*} \\right\\}  \\;\\forall j\\in\\left\\{1,2,\\dots,J\\right\\}\n",
    "\\end{align*}\n",
    "$$\n",
    "$$\n",
    "\\begin{align*}\n",
    "    \\frac{1}{K} \\sum_{k=1}^{K} \\tilde{u}^k_{ij=j_i^{k*}}\\left( F_{i}\\right)\n",
    "\\end{align*}\n",
    "$$\n",
    "And \n",
    "$$\n",
    "\\begin{align*}\n",
    "    \\frac{1}{K} \\sum_{k=1}^{K} u^k_{ij=j_i^{k*}} \n",
    "\\end{align*}\n",
    "$$\n",
    "For each graduate $i$."
   ]
  },
  {
   "cell_type": "code",
   "execution_count": null,
   "metadata": {},
   "outputs": [],
   "source": [
    "# Write your answer here "
   ]
  },
  {
   "cell_type": "markdown",
   "metadata": {},
   "source": [
    "After a year of working in their career, the graduates learn $u^k_{ij}$ for their chosen job $j_i^{k*}$ perfectly. <br>\n",
    "The can switch to one of the two remaining careers, for which they have the same prior as before, but it will now include a switching cost of $c$ which is known.\n",
    "Their new priors can be written as: \n",
    "$$\n",
    "\\tilde{u}^{k,2}_{ij}\\left( F_{i}\\right) = \\begin{cases}\n",
    "            \\tilde{u}^k_{ij}\\left( F_{i}\\right)-c & \\text{if } j \\neq j_i^{k*} \\\\\n",
    "            u_{ij=j_i^{k*}} & \\text{if } j = j_i^{k*}\n",
    "        \\end{cases}\n",
    "$$"
   ]
  },
  {
   "cell_type": "markdown",
   "metadata": {},
   "source": [
    "We will set $c=1$."
   ]
  },
  {
   "cell_type": "markdown",
   "metadata": {},
   "source": [
    "Their realized utility will be: <br>\n",
    "$$\n",
    "u^{k,2}_{ij}= \\begin{cases}\n",
    "            u_{ij}^k -c & \\text{if } j \\neq j_i^{k*} \\\\\n",
    "            u_{ij=j_i^{k*}} & \\text{if } j = j_i^{k*}\n",
    "        \\end{cases}\n",
    "$$"
   ]
  },
  {
   "cell_type": "markdown",
   "metadata": {},
   "source": [
    "**Question 3:** Following the same approach as in question 2, find the new optimal career choice for each $i$, $k$. Then for each $i$, calculate the average subjective expected utility from their new optimal career choice, and the ex post realized utility of that career. Also, for each $i$, calculate the share of graduates that chooses to switch careers, conditional on which career they chose in the first year. <br>"
   ]
  },
  {
   "cell_type": "code",
   "execution_count": null,
   "metadata": {},
   "outputs": [],
   "source": [
    "# write your answer here"
   ]
  },
  {
   "cell_type": "markdown",
   "metadata": {},
   "source": [
    "## 3. <a id='toc3_'></a>[Problem 3: Barycentric interpolation](#toc0_)"
   ]
  },
  {
   "cell_type": "markdown",
   "metadata": {},
   "source": [
    "**Problem:** We have a set of random points in the unit square,\n",
    "\n",
    "$$\n",
    "\\mathcal{X} = \\{(x_1,x_2)\\,|\\,x_1\\sim\\mathcal{U}(0,1),x_2\\sim\\mathcal{U}(0,1)\\}.\n",
    "$$\n",
    "\n",
    "For these points, we know the value of some function $f(x_1,x_2)$,\n",
    "\n",
    "$$\n",
    "\\mathcal{F} = \\{f(x_1,x_2) \\,|\\, (x_1,x_2) \\in \\mathcal{X}\\}.\n",
    "$$\n",
    "\n",
    "Now we want to approximate the value $f(y_1,y_2)$ for some  $y=(y_1,y_2)$, where $y_1\\sim\\mathcal{U}(0,1)$ and $y_2\\sim\\mathcal{U}(0,1)$.\n",
    "\n",
    "**Building block I**\n",
    "\n",
    "For an arbitrary triangle $ABC$ and a point $y$, define the so-called barycentric coordinates as:\n",
    "\n",
    "$$\n",
    "\\begin{align*}\n",
    "  r^{ABC}_1 &= \\frac{(B_2-C_2)(y_1-C_1) + (C_1-B_1)(y_2-C_2)}{(B_2-C_2)(A_1-C_1) + (C_1-B_1)(A_2-C_2)} \\\\\n",
    "  r^{ABC}_2 &= \\frac{(C_2-A_2)(y_1-C_1) + (A_1-C_1)(y_2-C_2)}{(B_2-C_2)(A_1-C_1) + (C_1-B_1)(A_2-C_2)} \\\\\n",
    "  r^{ABC}_3 &= 1 - r_1 - r_2.\n",
    "\\end{align*}\n",
    "$$\n",
    "\n",
    "If $r^{ABC}_1 \\in [0,1]$, $r^{ABC}_2 \\in [0,1]$, and $r^{ABC}_3 \\in [0,1]$, then the point is inside the triangle.\n",
    "\n",
    "We always have $y = r^{ABC}_1 A + r^{ABC}_2 B + r^{ABC}_3 C$.\n",
    "\n",
    "**Building block II**\n",
    "\n",
    "Define the following points:\n",
    "\n",
    "$$\n",
    "\\begin{align*}\n",
    "A&=\\arg\\min_{(x_{1},x_{2})\\in\\mathcal{X}}\\sqrt{\\left(x_{1}-y_{1}\\right)^{2}+\\left(x_{2}-y_{2}\\right)^{2}}\\text{ s.t. }x_{1}>y_{1}\\text{ and }x_{2}>y_{2}\\\\\n",
    "B&=\\arg\\min_{(x_{1},x_{2})\\in\\mathcal{X}}\\sqrt{\\left(x_{1}-y_{1}\\right)^{2}+\\left(x_{2}-y_{2}\\right)^{2}}\\text{ s.t. }x_{1}>y_{1}\\text{ and }x_{2}<y_{2}\\\\\n",
    "C&=\\arg\\min_{(x_{1},x_{2})\\in\\mathcal{X}}\\sqrt{\\left(x_{1}-y_{1}\\right)^{2}+\\left(x_{2}-y_{2}\\right)^{2}}\\text{ s.t. }x_{1}<y_{1}\\text{ and }x_{2}<y_{2}\\\\\n",
    "D&=\\arg\\min_{(x_{1},x_{2})\\in\\mathcal{X}}\\sqrt{\\left(x_{1}-y_{1}\\right)^{2}+\\left(x_{2}-y_{2}\\right)^{2}}\\text{ s.t. }x_{1}<y_{1}\\text{ and }x_{2}>y_{2}.\n",
    "\\end{align*}\n",
    "$$\n",
    "\n",
    "**Algorithm:**\n",
    "\n",
    "1. Compute $A$, $B$, $C$, and $D$. If not possible return `NaN`.\n",
    "1. If $y$ is inside the triangle $ABC$ return $r^{ABC}_1 f(A) + r^{ABC}_2 f(B) + r^{ABC}_3 f(C)$.\n",
    "1. If $y$ is inside the triangle $CDA$ return $r^{CDA}_1 f(C) + r^{CDA}_2 f(D) + r^{CDA}_3 f(A)$.\n",
    "1. Return `NaN`.\n",
    "\n"
   ]
  },
  {
   "cell_type": "markdown",
   "metadata": {},
   "source": [
    "**Sample:**"
   ]
  },
  {
   "cell_type": "code",
   "execution_count": null,
   "metadata": {},
   "outputs": [],
   "source": [
    "rng = np.random.default_rng(2024)\n",
    "\n",
    "X = rng.uniform(size=(50,2))\n",
    "y = rng.uniform(size=(2,))\n"
   ]
  },
  {
   "cell_type": "markdown",
   "metadata": {},
   "source": [
    "**Questions 1:** Find $A$, $B$, $C$ and $D$. Illustrate these together with $X$, $y$ and the triangles $ABC$ and $CDA$."
   ]
  },
  {
   "cell_type": "code",
   "execution_count": null,
   "metadata": {},
   "outputs": [],
   "source": [
    "def find_nearest_point(X, y, quadrant):\n",
    "    \"\"\"\n",
    "    Find the nearest point in X relative to y based on the specified quadrant.\n",
    "    Quadrant numbering:\n",
    "    1: x1 > y1, x2 > y2\n",
    "    2: x1 > y1, x2 < y2\n",
    "    3: x1 < y1, x2 < y2\n",
    "    4: x1 < y1, x2 > y2\n",
    "    \"\"\"\n",
    "    x1, x2 = X[:, 0], X[:, 1]\n",
    "    y1, y2 = y[0], y[1]\n",
    "    \n",
    "    if quadrant == 1:\n",
    "        mask = (x1 > y1) & (x2 > y2)\n",
    "    elif quadrant == 2:\n",
    "        mask = (x1 > y1) & (x2 < y2)\n",
    "    elif quadrant == 3:\n",
    "        mask = (x1 < y1) & (x2 < y2)\n",
    "    elif quadrant == 4:\n",
    "        mask = (x1 < y1) & (x2 > y2)\n",
    "    else:\n",
    "        raise ValueError(\"Quadrant must be between 1 and 4.\")\n",
    "    \n",
    "    # Filter points in the specified quadrant\n",
    "    X_quadrant = X[mask]\n",
    "    \n",
    "    if len(X_quadrant) == 0:\n",
    "        return None\n",
    "    \n",
    "    # Find the nearest point in the quadrant\n",
    "    distances = np.sqrt((X_quadrant[:, 0] - y1)**2 + (X_quadrant[:, 1] - y2)**2)\n",
    "    nearest_index = np.argmin(distances)\n",
    "    \n",
    "    return X_quadrant[nearest_index]\n",
    "\n",
    "# Find A, B, C, D\n",
    "A = find_nearest_point(X, y, 1)\n",
    "B = find_nearest_point(X, y, 2)\n",
    "C = find_nearest_point(X, y, 3)\n",
    "D = find_nearest_point(X, y, 4)\n",
    "\n",
    "if A is None or B is None or C is None or D is None:\n",
    "    print(\"Cannot form the required quadrilateral. Return NaN.\")\n",
    "    exit()"
   ]
  },
  {
   "cell_type": "code",
   "execution_count": null,
   "metadata": {},
   "outputs": [],
   "source": [
    "def compute_barycentric_coordinates(y, A, B, C):\n",
    "    \"\"\"\n",
    "    Compute the barycentric coordinates of point y with respect to triangle ABC.\n",
    "    \"\"\"\n",
    "    A1, A2 = A[0], A[1]\n",
    "    B1, B2 = B[0], B[1]\n",
    "    C1, C2 = C[0], C[1]\n",
    "    y1, y2 = y[0], y[1]\n",
    "    \n",
    "    denominator = (B2 - C2) * (A1 - C1) + (C1 - B1) * (A2 - C2)\n",
    "    \n",
    "    r1 = ((B2 - C2) * (y1 - C1) + (C1 - B1) * (y2 - C2)) / denominator\n",
    "    r2 = ((C2 - A2) * (y1 - C1) + (A1 - C1) * (y2 - C2)) / denominator\n",
    "    r3 = 1 - r1 - r2\n",
    "    \n",
    "    return r1, r2, r3"
   ]
  },
  {
   "cell_type": "code",
   "execution_count": null,
   "metadata": {},
   "outputs": [],
   "source": [
    "def interpolate_value(X, y, A, B, C, D):\n",
    "    \"\"\"\n",
    "    Interpolate the value of f(y) based on the nearest points A, B, C, D.\n",
    "    \"\"\"\n",
    "    if A is None or B is None or C is None or D is None:\n",
    "        return np.nan\n",
    "    \n",
    "    r_ABC = compute_barycentric_coordinates(y, A, B, C)\n",
    "    r_CDA = compute_barycentric_coordinates(y, C, D, A)\n",
    "    \n",
    "    if all(0 <= r <= 1 for r in r_ABC):\n",
    "        interpolated_value = r_ABC[0] * f(A) + r_ABC[1] * f(B) + r_ABC[2] * f(C)\n",
    "        return interpolated_value\n",
    "    elif all(0 <= r <= 1 for r in r_CDA):\n",
    "        interpolated_value = r_CDA[0] * f(C) + r_CDA[1] * f(D) + r_CDA[2] * f(A)\n",
    "        return interpolated_value\n",
    "    else:\n",
    "        return np.nan\n",
    "\n",
    "# Dummy function f(x, y) - replace this with your actual function\n",
    "def f(point):\n",
    "    return np.sum(point)\n",
    "\n",
    "# Interpolate f(y)\n",
    "interpolated_value = interpolate_value(X, y, A, B, C, D)\n",
    "print(f\"The interpolated value of f(y) at y = {y} is: {interpolated_value}\")\n"
   ]
  },
  {
   "cell_type": "code",
   "execution_count": null,
   "metadata": {},
   "outputs": [],
   "source": [
    "import matplotlib.pyplot as plt\n",
    "\n",
    "# Plot points X and y\n",
    "plt.scatter(X[:, 0], X[:, 1], label='X points')\n",
    "plt.scatter(y[0], y[1], color='red', label='y')\n",
    "\n",
    "# Plot triangles ABC and CDA\n",
    "plt.plot([A[0], B[0], C[0], A[0]], [A[1], B[1], C[1], A[1]], 'b-', label='ABC')\n",
    "plt.plot([C[0], D[0], A[0], C[0]], [C[1], D[1], A[1], C[1]], 'g-', label='CDA')\n",
    "\n",
    "plt.xlabel('x1')\n",
    "plt.ylabel('x2')\n",
    "plt.title('Points X, y, and triangles ABC, CDA')\n",
    "plt.legend()\n",
    "plt.grid(True)\n",
    "plt.show()"
   ]
  },
  {
   "cell_type": "code",
   "execution_count": null,
   "metadata": {},
   "outputs": [],
   "source": [
    "from exam_2024_Petra import InterpolationSolver\n",
    "import numpy as np\n",
    "import matplotlib.pyplot as plt\n",
    "\n",
    "# Generate random points in the unit square\n",
    "rng = np.random.default_rng(2024)\n",
    "X = rng.uniform(size=(50, 2))\n",
    "y = rng.uniform(size=(2,))\n",
    "\n",
    "# Create an instance of InterpolationSolver\n",
    "solver = InterpolationSolver(X, y)\n",
    "\n",
    "# Solve and display results (print statements and plot)\n",
    "solver.solve()"
   ]
  },
  {
   "cell_type": "code",
   "execution_count": null,
   "metadata": {},
   "outputs": [],
   "source": [
    "from exam_2024_Petra import InterpolationSolver\n",
    "import numpy as np\n",
    "\n",
    "# Generate random points in the unit square\n",
    "rng = np.random.default_rng(2024)\n",
    "X = rng.uniform(size=(50, 2))\n",
    "y = rng.uniform(size=(2,))\n",
    "\n",
    "# Create an instance of InterpolationSolver\n",
    "solver = InterpolationSolver(X, y)\n",
    "\n",
    "# Solve for A, B, C, D and plot\n",
    "solver.solve_question1()"
   ]
  },
  {
   "cell_type": "code",
   "execution_count": null,
   "metadata": {},
   "outputs": [],
   "source": [
    "from exam_2024_Petra import InterpolationSolver\n",
    "import numpy as np\n",
    "\n",
    "# Generate random points in the unit square\n",
    "rng = np.random.default_rng(2024)\n",
    "X = rng.uniform(size=(50, 2))\n",
    "y = rng.uniform(size=(2,))\n",
    "\n",
    "# Create an instance of InterpolationSolver\n",
    "solver = InterpolationSolver(X, y)\n",
    "\n",
    "# Solve for barycentric coordinates and determine triangle\n",
    "solver.solve_question2()"
   ]
  },
  {
   "cell_type": "code",
   "execution_count": null,
   "metadata": {},
   "outputs": [],
   "source": []
  },
  {
   "cell_type": "code",
   "execution_count": null,
   "metadata": {},
   "outputs": [],
   "source": []
  },
  {
   "cell_type": "code",
   "execution_count": null,
   "metadata": {},
   "outputs": [],
   "source": [
    "import numpy as np\n",
    "import matplotlib.pyplot as plt\n",
    "from scipy.spatial.distance import cdist\n",
    "\n",
    "# Generate random points in the unit square\n",
    "rng = np.random.default_rng(2024)\n",
    "X = rng.uniform(size=(50, 2))\n",
    "y = rng.uniform(size=(2,))\n",
    "\n",
    "# Define functions\n",
    "def find_nearest_points(X, y):\n",
    "    # Calculate distances from y to all points in X\n",
    "    distances = cdist(np.array([y]), X)\n",
    "    indices = np.argsort(distances)[0]  # Sort indices by distance\n",
    "    sorted_X = X[indices]  # Sorted points in X by distance to y\n",
    "    return sorted_X[:4]  # Return the 4 closest points\n",
    "\n",
    "def compute_barycentric_coordinates(y, A, B, C):\n",
    "    # Compute barycentric coordinates for triangle ABC\n",
    "    denom = (B[1] - C[1]) * (A[0] - C[0]) + (C[0] - B[0]) * (A[1] - C[1])\n",
    "    r1 = ((B[1] - C[1]) * (y[0] - C[0]) + (C[0] - B[0]) * (y[1] - C[1])) / denom\n",
    "    r2 = ((C[1] - A[1]) * (y[0] - C[0]) + (A[0] - C[0]) * (y[1] - C[1])) / denom\n",
    "    r3 = 1.0 - r1 - r2\n",
    "    return r1, r2, r3\n",
    "\n",
    "# Step 1: Find nearest points A, B, C, D\n",
    "try:\n",
    "    A, B, C, D = find_nearest_points(X, y)\n",
    "except IndexError:\n",
    "    print(\"Not enough points in X to form quadrilateral ABCD.\")\n",
    "    A, B, C, D = None, None, None, None\n",
    "\n",
    "# Step 2: Compute barycentric coordinates for triangles ABC and CDA\n",
    "if A is not None and B is not None and C is not None:\n",
    "    r1_ABC, r2_ABC, r3_ABC = compute_barycentric_coordinates(y, A, B, C)\n",
    "    r1_CDA, r2_CDA, r3_CDA = compute_barycentric_coordinates(y, C, D, A)\n",
    "    \n",
    "    # Step 3: Interpolate f(y[0], y[1])\n",
    "    def f(x1, x2):\n",
    "        # Define your function here, for example:\n",
    "        return np.sin(2*np.pi*x1) * np.cos(2*np.pi*x2)\n",
    "    \n",
    "    if 0 <= r1_ABC <= 1 and 0 <= r2_ABC <= 1 and 0 <= r3_ABC <= 1:\n",
    "        interpolated_value_ABC = r1_ABC * f(A[0], A[1]) + r2_ABC * f(B[0], B[1]) + r3_ABC * f(C[0], C[1])\n",
    "        print(f\"Interpolated value using triangle ABC: {interpolated_value_ABC}\")\n",
    "    elif 0 <= r1_CDA <= 1 and 0 <= r2_CDA <= 1 and 0 <= r3_CDA <= 1:\n",
    "        interpolated_value_CDA = r1_CDA * f(C[0], C[1]) + r2_CDA * f(D[0], D[1]) + r3_CDA * f(A[0], A[1])\n",
    "        print(f\"Interpolated value using triangle CDA: {interpolated_value_CDA}\")\n",
    "    else:\n",
    "        print(\"Point y is not inside triangles ABC or CDA.\")\n",
    "\n",
    "    # Step 4: Visualization (optional)\n",
    "    plt.figure(figsize=(8, 6))\n",
    "    plt.scatter(X[:, 0], X[:, 1], color='blue', label='Points X')\n",
    "    plt.scatter([y[0]], [y[1]], color='red', label='Point y', marker='x', s=100)\n",
    "    if A is not None and B is not None and C is not None:\n",
    "        plt.scatter([A[0], B[0], C[0]], [A[1], B[1], C[1]], color='green', label='A, B, C', marker='o', s=100)\n",
    "        plt.plot([A[0], B[0], C[0], A[0]], [A[1], B[1], C[1], A[1]], color='green', label='ABC triangle')\n",
    "        plt.scatter([D[0]], [D[1]], color='purple', label='Point D', marker='o', s=100)\n",
    "        plt.plot([C[0], D[0], A[0], C[0]], [C[1], D[1], A[1], C[1]], color='purple', label='CDA triangle')\n",
    "    plt.xlabel('x1')\n",
    "    plt.ylabel('x2')\n",
    "    plt.title('Points X, point y, triangles ABC and CDA')\n",
    "    plt.legend()\n",
    "    plt.grid(True)\n",
    "    plt.show()\n",
    "\n",
    "else:\n",
    "    print(\"Error finding nearest points A, B, C, D.\")"
   ]
  },
  {
   "cell_type": "code",
   "execution_count": null,
   "metadata": {},
   "outputs": [],
   "source": [
    "import numpy as np\n",
    "import matplotlib.pyplot as plt\n",
    "from scipy.spatial.distance import cdist\n",
    "\n",
    "# Function to find the nearest points to y in X\n",
    "def find_nearest_points(X, y):\n",
    "    distances = cdist(np.array([y]), X)\n",
    "    indices = np.argsort(distances)[0]\n",
    "    return X[indices[:4]]  # Return the 4 closest points\n",
    "\n",
    "# Generate random points in the unit square\n",
    "rng = np.random.default_rng(2024)\n",
    "X = rng.uniform(size=(50, 2))\n",
    "y = rng.uniform(size=(2,))\n",
    "\n",
    "# Find nearest points A, B, C, D\n",
    "try:\n",
    "    A, B, C, D = find_nearest_points(X, y)\n",
    "except IndexError:\n",
    "    print(\"Not enough points in X to form quadrilateral ABCD.\")\n",
    "    A, B, C, D = None, None, None, None\n",
    "\n",
    "# Plotting the points and triangles\n",
    "plt.figure(figsize=(8, 6))\n",
    "plt.scatter(X[:, 0], X[:, 1], color='blue', label='Points X')\n",
    "plt.scatter([y[0]], [y[1]], color='red', label='Point y', marker='x', s=100)\n",
    "if A is not None and B is not None and C is not None:\n",
    "    plt.scatter([A[0], B[0], C[0]], [A[1], B[1], C[1]], color='green', label='A, B, C', marker='o', s=100)\n",
    "    plt.plot([A[0], B[0], C[0], A[0]], [A[1], B[1], C[1], A[1]], color='green', label='ABC triangle')\n",
    "    if D is not None:\n",
    "        plt.scatter([D[0]], [D[1]], color='purple', label='Point D', marker='o', s=100)\n",
    "        plt.plot([C[0], D[0], A[0], C[0]], [C[1], D[1], A[1], C[1]], color='purple', label='CDA triangle')\n",
    "plt.xlabel('x1')\n",
    "plt.ylabel('x2')\n",
    "plt.title('Points X, point y, triangles ABC and CDA')\n",
    "plt.legend()\n",
    "plt.grid(True)\n",
    "plt.show()"
   ]
  },
  {
   "cell_type": "markdown",
   "metadata": {},
   "source": [
    "**Question 2:** Compute the barycentric coordinates of the point $y$ with respect to the triangles $ABC$ and $CDA$. Which triangle is $y$ located inside?"
   ]
  },
  {
   "cell_type": "code",
   "execution_count": 16,
   "metadata": {},
   "outputs": [
    {
     "name": "stdout",
     "output_type": "stream",
     "text": [
      "Barycentric coordinates for y: ABC(0.6134829803310216, 0.0008797864519075784, 0.3856372332170709), CDA(0.3855821621027246, 0.00041649660997332384, 0.614001341287302)\n",
      "Point y is located inside triangle ABC.\n"
     ]
    }
   ],
   "source": [
    "import numpy as np\n",
    "from scipy.spatial.distance import cdist\n",
    "\n",
    "# Function to find the nearest points to y in X\n",
    "def find_nearest_points(X, y):\n",
    "    distances = cdist(np.array([y]), X)\n",
    "    indices = np.argsort(distances)[0]\n",
    "    return X[indices[:4]]  # Return the 4 closest points\n",
    "\n",
    "# Function to compute barycentric coordinates for triangle ABC\n",
    "def compute_barycentric_coordinates(y, A, B, C):\n",
    "    denom = (B[1] - C[1]) * (A[0] - C[0]) + (C[0] - B[0]) * (A[1] - C[1])\n",
    "    r1 = ((B[1] - C[1]) * (y[0] - C[0]) + (C[0] - B[0]) * (y[1] - C[1])) / denom\n",
    "    r2 = ((C[1] - A[1]) * (y[0] - C[0]) + (A[0] - C[0]) * (y[1] - C[1])) / denom\n",
    "    r3 = 1.0 - r1 - r2\n",
    "    return r1, r2, r3\n",
    "\n",
    "# Generate random points in the unit square\n",
    "rng = np.random.default_rng(2024)\n",
    "X = rng.uniform(size=(50, 2))\n",
    "y = rng.uniform(size=(2,))\n",
    "\n",
    "# Find nearest points A, B, C, D\n",
    "try:\n",
    "    A, B, C, D = find_nearest_points(X, y)\n",
    "except IndexError:\n",
    "    print(\"Not enough points in X to form quadrilateral ABCD.\")\n",
    "    A, B, C, D = None, None, None, None\n",
    "\n",
    "# Compute barycentric coordinates for triangles ABC and CDA\n",
    "if A is not None and B is not None and C is not None:\n",
    "    r1_ABC, r2_ABC, r3_ABC = compute_barycentric_coordinates(y, A, B, C)\n",
    "    r1_CDA, r2_CDA, r3_CDA = compute_barycentric_coordinates(y, C, D, A)\n",
    "    \n",
    "    # Determine which triangle y is located inside\n",
    "    if 0 <= r1_ABC <= 1 and 0 <= r2_ABC <= 1 and 0 <= r3_ABC <= 1:\n",
    "        triangle_name = 'ABC'\n",
    "    elif 0 <= r1_CDA <= 1 and 0 <= r2_CDA <= 1 and 0 <= r3_CDA <= 1:\n",
    "        triangle_name = 'CDA'\n",
    "    else:\n",
    "        triangle_name = 'None'\n",
    "\n",
    "    print(f\"Barycentric coordinates for y: ABC({r1_ABC}, {r2_ABC}, {r3_ABC}), CDA({r1_CDA}, {r2_CDA}, {r3_CDA})\")\n",
    "    print(f\"Point y is located inside triangle {triangle_name}.\")\n",
    "else:\n",
    "    print(\"Error finding nearest points A, B, C, D.\")"
   ]
  },
  {
   "cell_type": "markdown",
   "metadata": {},
   "source": [
    "Now consider the function:\n",
    "$$\n",
    "f(x_1,x_2) = x_1 \\cdot x_2\n",
    "$$"
   ]
  },
  {
   "cell_type": "code",
   "execution_count": null,
   "metadata": {},
   "outputs": [],
   "source": [
    "f = lambda x: x[0]*x[1]\n",
    "F = np.array([f(x) for x in X])"
   ]
  },
  {
   "cell_type": "markdown",
   "metadata": {},
   "source": [
    "**Question 3:** Compute the approximation of $f(y)$ using the full algorithm. Compare with the true value."
   ]
  },
  {
   "cell_type": "code",
   "execution_count": null,
   "metadata": {},
   "outputs": [],
   "source": [
    "\n",
    "# Define the function f(x1, x2) = x1 * x2\n",
    "def f(x1, x2):\n",
    "    return x1 * x2\n",
    "\n",
    "# Function to find the nearest points to y in X\n",
    "def find_nearest_points(X, y):\n",
    "    distances = cdist(np.array([y]), X)\n",
    "    indices = np.argsort(distances)[0]\n",
    "    return X[indices[:4]]  # Return the 4 closest points\n",
    "\n",
    "# Function to compute barycentric coordinates for triangle ABC\n",
    "def compute_barycentric_coordinates(y, A, B, C):\n",
    "    denom = (B[1] - C[1]) * (A[0] - C[0]) + (C[0] - B[0]) * (A[1] - C[1])\n",
    "    r1 = ((B[1] - C[1]) * (y[0] - C[0]) + (C[0] - B[0]) * (y[1] - C[1])) / denom\n",
    "    r2 = ((C[1] - A[1]) * (y[0] - C[0]) + (A[0] - C[0]) * (y[1] - C[1])) / denom\n",
    "    r3 = 1.0 - r1 - r2\n",
    "    return r1, r2, r3\n",
    "\n",
    "# Generate random points in the unit square\n",
    "rng = np.random.default_rng(2024)\n",
    "X = rng.uniform(size=(50, 2))\n",
    "y = rng.uniform(size=(2,))\n",
    "\n",
    "# Find nearest points A, B, C, D\n",
    "try:\n",
    "    A, B, C, D = find_nearest_points(X, y)\n",
    "except IndexError:\n",
    "    print(\"Not enough points in X to form quadrilateral ABCD.\")\n",
    "    A, B, C, D = None, None, None, None\n",
    "\n",
    "# Compute barycentric coordinates for triangles ABC and CDA\n",
    "if A is not None and B is not None and C is not None:\n",
    "    r1_ABC, r2_ABC, r3_ABC = compute_barycentric_coordinates(y, A, B, C)\n",
    "    r1_CDA, r2_CDA, r3_CDA = compute_barycentric_coordinates(y, C, D, A)\n",
    "    \n",
    "    # Define the function values at A, B, C, D\n",
    "    fa = f(A[0], A[1])\n",
    "    fb = f(B[0], B[1])\n",
    "    fc = f(C[0], C[1])\n",
    "    fd = f(D[0], D[1])\n",
    "\n",
    "    # Interpolate f(y)\n",
    "    if 0 <= r1_ABC <= 1 and 0 <= r2_ABC <= 1 and 0 <= r3_ABC <= 1:\n",
    "        interpolated_value_ABC = r1_ABC * fa + r2_ABC * fb + r3_ABC * fc\n",
    "        print(f\"Interpolated value using triangle ABC: {interpolated_value_ABC}\")\n",
    "    elif 0 <= r1_CDA <= 1 and 0 <= r2_CDA <= 1 and 0 <= r3_CDA <= 1:\n",
    "        interpolated_value_CDA = r1_CDA * fc + r2_CDA * fd + r3_CDA * fa\n",
    "        print(f\"Interpolated value using triangle CDA: {interpolated_value_CDA}\")\n",
    "    else:\n",
    "        print(\"Point y is not inside triangles ABC or CDA.\")\n",
    "\n",
    "    # True value of f(y)\n",
    "    true_value = f(y[0], y[1])\n",
    "    print(f\"True value of f(y): {true_value}\")\n",
    "\n",
    "    # Comparison\n",
    "    print(f\"Absolute error: {np.abs(interpolated_value_ABC - true_value)}\")\n",
    "\n",
    "else:\n",
    "    print(\"Error finding nearest points A, B, C, D.\")"
   ]
  },
  {
   "cell_type": "markdown",
   "metadata": {},
   "source": [
    "**Question 4:** Repeat question 3 for all points in the set $Y$."
   ]
  },
  {
   "cell_type": "code",
   "execution_count": 17,
   "metadata": {},
   "outputs": [],
   "source": [
    "Y = [(0.2,0.2),(0.8,0.2),(0.8,0.8),(0.8,0.2),(0.5,0.5)]"
   ]
  },
  {
   "cell_type": "code",
   "execution_count": 18,
   "metadata": {},
   "outputs": [
    {
     "name": "stdout",
     "output_type": "stream",
     "text": [
      "For y=(0.2, 0.2): Interpolated value using triangle CDA: 0.04032631372248057\n",
      "For y=(0.2, 0.2): True value of f(y): 0.04000000000000001\n",
      "For y=(0.2, 0.2): Absolute error: 0.2042224088199591\n",
      "\n",
      "For y=(0.8, 0.2): Point y is not inside triangles ABC or CDA.\n",
      "For y=(0.8, 0.2): True value of f(y): 0.16000000000000003\n",
      "For y=(0.8, 0.2): Absolute error: 0.08422240881995907\n",
      "\n",
      "For y=(0.8, 0.8): Point y is not inside triangles ABC or CDA.\n",
      "For y=(0.8, 0.8): True value of f(y): 0.6400000000000001\n",
      "For y=(0.8, 0.8): Absolute error: 0.395777591180041\n",
      "\n",
      "For y=(0.8, 0.2): Point y is not inside triangles ABC or CDA.\n",
      "For y=(0.8, 0.2): True value of f(y): 0.16000000000000003\n",
      "For y=(0.8, 0.2): Absolute error: 0.08422240881995907\n",
      "\n",
      "For y=(0.5, 0.5): Interpolated value using triangle ABC: 0.2442224088199591\n",
      "For y=(0.5, 0.5): True value of f(y): 0.25\n",
      "For y=(0.5, 0.5): Absolute error: 0.0057775911800408974\n",
      "\n"
     ]
    }
   ],
   "source": [
    "# Define the function f(x1, x2) = x1 * x2\n",
    "def f(x1, x2):\n",
    "    return x1 * x2\n",
    "\n",
    "# Function to find the nearest points to y in X\n",
    "def find_nearest_points(X, y):\n",
    "    distances = cdist(np.array([y]), X)\n",
    "    indices = np.argsort(distances)[0]\n",
    "    return X[indices[:4]]  # Return the 4 closest points\n",
    "\n",
    "# Function to compute barycentric coordinates for triangle ABC\n",
    "def compute_barycentric_coordinates(y, A, B, C):\n",
    "    denom = (B[1] - C[1]) * (A[0] - C[0]) + (C[0] - B[0]) * (A[1] - C[1])\n",
    "    r1 = ((B[1] - C[1]) * (y[0] - C[0]) + (C[0] - B[0]) * (y[1] - C[1])) / denom\n",
    "    r2 = ((C[1] - A[1]) * (y[0] - C[0]) + (A[0] - C[0]) * (y[1] - C[1])) / denom\n",
    "    r3 = 1.0 - r1 - r2\n",
    "    return r1, r2, r3\n",
    "\n",
    "# Generate random points in the unit square\n",
    "rng = np.random.default_rng(2024)\n",
    "X = rng.uniform(size=(50, 2))\n",
    "\n",
    "# Define the set Y\n",
    "Y = [(0.2, 0.2), (0.8, 0.2), (0.8, 0.8), (0.8, 0.2), (0.5, 0.5)]\n",
    "\n",
    "# Iterate over points in Y\n",
    "for y in Y:\n",
    "    # Find nearest points A, B, C, D\n",
    "    try:\n",
    "        A, B, C, D = find_nearest_points(X, y)\n",
    "    except IndexError:\n",
    "        print(f\"Not enough points in X to form quadrilateral ABCD for y={y}.\")\n",
    "        continue\n",
    "\n",
    "    # Compute barycentric coordinates for triangles ABC and CDA\n",
    "    if A is not None and B is not None and C is not None:\n",
    "        r1_ABC, r2_ABC, r3_ABC = compute_barycentric_coordinates(y, A, B, C)\n",
    "        r1_CDA, r2_CDA, r3_CDA = compute_barycentric_coordinates(y, C, D, A)\n",
    "\n",
    "        # Define the function values at A, B, C, D\n",
    "        fa = f(A[0], A[1])\n",
    "        fb = f(B[0], B[1])\n",
    "        fc = f(C[0], C[1])\n",
    "        fd = f(D[0], D[1])\n",
    "\n",
    "        # Interpolate f(y)\n",
    "        if 0 <= r1_ABC <= 1 and 0 <= r2_ABC <= 1 and 0 <= r3_ABC <= 1:\n",
    "            interpolated_value_ABC = r1_ABC * fa + r2_ABC * fb + r3_ABC * fc\n",
    "            print(f\"For y={y}: Interpolated value using triangle ABC: {interpolated_value_ABC}\")\n",
    "        elif 0 <= r1_CDA <= 1 and 0 <= r2_CDA <= 1 and 0 <= r3_CDA <= 1:\n",
    "            interpolated_value_CDA = r1_CDA * fc + r2_CDA * fd + r3_CDA * fa\n",
    "            print(f\"For y={y}: Interpolated value using triangle CDA: {interpolated_value_CDA}\")\n",
    "        else:\n",
    "            print(f\"For y={y}: Point y is not inside triangles ABC or CDA.\")\n",
    "\n",
    "        # True value of f(y)\n",
    "        true_value = f(y[0], y[1])\n",
    "        print(f\"For y={y}: True value of f(y): {true_value}\")\n",
    "\n",
    "        # Comparison\n",
    "        print(f\"For y={y}: Absolute error: {np.abs(interpolated_value_ABC - true_value)}\\n\")\n",
    "\n",
    "    else:\n",
    "        print(f\"Error finding nearest points A, B, C, D for y={y}.\")"
   ]
  },
  {
   "cell_type": "code",
   "execution_count": null,
   "metadata": {},
   "outputs": [],
   "source": []
  }
 ],
 "metadata": {
  "kernelspec": {
   "display_name": "base",
   "language": "python",
   "name": "python3"
  },
  "language_info": {
   "codemirror_mode": {
    "name": "ipython",
    "version": 3
   },
   "file_extension": ".py",
   "mimetype": "text/x-python",
   "name": "python",
   "nbconvert_exporter": "python",
   "pygments_lexer": "ipython3",
   "version": "3.9.18"
  }
 },
 "nbformat": 4,
 "nbformat_minor": 2
}
