{
 "cells": [
  {
   "cell_type": "markdown",
   "metadata": {},
   "source": [
    "**Table of contents**<a id='toc0_'></a>    \n",
    "- 1. [Problem 1: Production economy and CO2 taxation](#toc1_)    \n",
    "- 2. [Problem 2: Career choice model](#toc2_)    \n",
    "- 3. [Problem 3: Barycentric interpolation](#toc3_)    \n",
    "\n",
    "<!-- vscode-jupyter-toc-config\n",
    "\tnumbering=true\n",
    "\tanchor=true\n",
    "\tflat=false\n",
    "\tminLevel=2\n",
    "\tmaxLevel=6\n",
    "\t/vscode-jupyter-toc-config -->\n",
    "<!-- THIS CELL WILL BE REPLACED ON TOC UPDATE. DO NOT WRITE YOUR TEXT IN THIS CELL -->"
   ]
  },
  {
   "cell_type": "code",
   "execution_count": 11,
   "metadata": {},
   "outputs": [
    {
     "name": "stdout",
     "output_type": "stream",
     "text": [
      "The autoreload extension is already loaded. To reload it, use:\n",
      "  %reload_ext autoreload\n"
     ]
    }
   ],
   "source": [
    "import numpy as np\n",
    "from types import SimpleNamespace\n",
    "from scipy.optimize import minimize\n",
    "from exam_2024_Noah import MarketClearing\n",
    "%load_ext autoreload\n",
    "%autoreload 2"
   ]
  },
  {
   "cell_type": "markdown",
   "metadata": {},
   "source": [
    "## 1. <a id='toc1_'></a>[Problem 1: Production economy and CO2 taxation](#toc0_)"
   ]
  },
  {
   "cell_type": "markdown",
   "metadata": {},
   "source": [
    "Consider a production economy with two firms indexed by $j \\in \\{1,2\\}$. Each produce its own good. They solve\n",
    "\n",
    "$$\n",
    "\\begin{align*}\n",
    "\\max_{y_{j}}\\pi_{j}&=p_{j}y_{j}-w_{j}\\ell_{j}\\\\\\text{s.t.}\\;&y_{j}=A\\ell_{j}^{\\gamma}.\n",
    "\\end{align*}\n",
    "$$\n",
    "\n",
    "Optimal firm behavior is\n",
    "\n",
    "$$\n",
    "\\begin{align*}\n",
    "\\ell_{j}^{\\star}(w,p_{j})&=\\left(\\frac{p_{j}A\\gamma}{w}\\right)^{\\frac{1}{1-\\gamma}} \\\\\n",
    "y_{j}^{\\star}(w,p_{j})&=A\\left(\\ell_{j}^{\\star}(w,p_{j})\\right)^{\\gamma}\n",
    "\\end{align*}\n",
    "$$\n",
    "\n",
    "The implied profits are\n",
    "\n",
    "$$\n",
    "\\pi_{j}^*(w,p_{j})=\\frac{1-\\gamma}{\\gamma}w\\cdot\\left(\\frac{p_{j}A\\gamma}{w}\\right)^{\\frac{1}{1-\\gamma}}\n",
    "$$\n",
    "\n",
    "A single consumer supplies labor, and consumes the goods the firms produce. She also recieves the implied profits of the firm.<br>\n",
    "She solves:\n",
    "\n",
    "$$\n",
    "\\begin{align*}\n",
    "U(p_1,p_2,w,\\tau,T) = \\max_{c_{1},c_{2},\\ell} & \\log(c_{1}^{\\alpha}c_{2}^{1-\\alpha})-\\nu\\frac{\\ell^{1+\\epsilon}}{1+\\epsilon} \\\\\n",
    "\\text{s.t.}\\,\\,\\,&p_{1}c_{1}+(p_{2}+\\tau)c_{2}=w\\ell+T+\\pi_{1}^*(w,p_{1})+\\pi_{2}^*(w,p_{2})\n",
    "\\end{align*}\n",
    "$$\n",
    "\n",
    "where $\\tau$ is a tax and $T$ is lump-sum transfer. <br>\n",
    "For a given $\\ell$, it can be shown that optimal behavior is\n",
    "\n",
    "$$\n",
    "\\begin{align*}\n",
    "c_{1}(\\ell)&=\\alpha\\frac{w\\ell+T+\\pi_{1}^*(w,p_{1})+\\pi_{2}^*(w,p_{2})}{p_{1}} \\\\\n",
    "c_{2}(\\ell)&=(1-\\alpha)\\frac{w\\ell+T+\\pi_{1}^*(w,p_{1})+\\pi_{2}^*(w,p_{2})}{p_{2}+\\tau} \\\\\n",
    "\\end{align*}\n",
    "$$\n",
    "Such that optimal behavior is:\n",
    "$$\n",
    "\\ell^* = \\underset{\\ell}{\\arg\\max} \\log(\\left(c_{1}(\\ell)\\right)^{\\alpha}\\cdot \\left(c_{2}(\\ell)\\right)^{1-\\alpha})-\\nu\\frac{\\ell^{1+\\epsilon}}{1+\\epsilon} \n",
    "$$\n",
    "With optimal consumption:\n",
    "$$\n",
    "\\begin{align*}\n",
    "c_1^*=c_{1}(\\ell^*) \\\\\n",
    "c_2^*=c_{2}(\\ell^*)\\\\\n",
    "\\end{align*}\n",
    "$$\n",
    "\n",
    "\n",
    "The government chooses $\\tau$ and balances its budget so $T=\\tau c_2^*$. We initially set $\\tau,T=0$.\n",
    "\n",
    "Market clearing requires:\n",
    "\n",
    "1. Labor market: $\\ell^* = \\ell_1^* + \\ell_2^*$\n",
    "1. Good market 1: $c_1^* = y_1^*$\n",
    "1. Good market 2: $c_2^* = y_2^*$\n"
   ]
  },
  {
   "cell_type": "markdown",
   "metadata": {},
   "source": [
    "**Question 1:** Check market clearing conditions for $p_1$ in `linspace(0.1,2.0,10)` and $p_2$ in `linspace(0.1,2.0,10)`. We choose $w=1$ as numeraire."
   ]
  },
  {
   "cell_type": "code",
   "execution_count": 12,
   "metadata": {},
   "outputs": [],
   "source": [
    "par = SimpleNamespace()\n",
    "\n",
    "# firms\n",
    "par.A = 1.0\n",
    "par.gamma = 0.5\n",
    "\n",
    "# households\n",
    "par.alpha = 0.3\n",
    "par.nu = 1.0\n",
    "par.epsilon = 2.0\n",
    "\n",
    "# government\n",
    "par.tau = 0.0\n",
    "par.T = 0.0\n",
    "\n",
    "# Question 3\n",
    "par.kappa = 0.1\n",
    "\n",
    "w = 1.0  # Numeraire"
   ]
  },
  {
   "cell_type": "code",
   "execution_count": 3,
   "metadata": {},
   "outputs": [
    {
     "name": "stdout",
     "output_type": "stream",
     "text": [
      "p1: 0.10, p2: 0.10 | Labor Clearing: True | Good 1 Clearing: False | Good 2 Clearing: False\n",
      "p1: 0.10, p2: 0.31 | Labor Clearing: True | Good 1 Clearing: False | Good 2 Clearing: False\n",
      "p1: 0.10, p2: 0.52 | Labor Clearing: True | Good 1 Clearing: False | Good 2 Clearing: False\n",
      "p1: 0.10, p2: 0.73 | Labor Clearing: True | Good 1 Clearing: False | Good 2 Clearing: False\n",
      "p1: 0.10, p2: 0.94 | Labor Clearing: True | Good 1 Clearing: False | Good 2 Clearing: False\n",
      "p1: 0.10, p2: 1.16 | Labor Clearing: True | Good 1 Clearing: False | Good 2 Clearing: False\n",
      "p1: 0.10, p2: 1.37 | Labor Clearing: True | Good 1 Clearing: False | Good 2 Clearing: False\n",
      "p1: 0.10, p2: 1.58 | Labor Clearing: True | Good 1 Clearing: False | Good 2 Clearing: False\n",
      "p1: 0.10, p2: 1.79 | Labor Clearing: True | Good 1 Clearing: False | Good 2 Clearing: False\n",
      "p1: 0.10, p2: 2.00 | Labor Clearing: True | Good 1 Clearing: False | Good 2 Clearing: False\n",
      "p1: 0.31, p2: 0.10 | Labor Clearing: True | Good 1 Clearing: False | Good 2 Clearing: False\n",
      "p1: 0.31, p2: 0.31 | Labor Clearing: True | Good 1 Clearing: False | Good 2 Clearing: False\n",
      "p1: 0.31, p2: 0.52 | Labor Clearing: True | Good 1 Clearing: False | Good 2 Clearing: False\n",
      "p1: 0.31, p2: 0.73 | Labor Clearing: True | Good 1 Clearing: False | Good 2 Clearing: False\n",
      "p1: 0.31, p2: 0.94 | Labor Clearing: True | Good 1 Clearing: False | Good 2 Clearing: False\n",
      "p1: 0.31, p2: 1.16 | Labor Clearing: True | Good 1 Clearing: False | Good 2 Clearing: False\n",
      "p1: 0.31, p2: 1.37 | Labor Clearing: True | Good 1 Clearing: False | Good 2 Clearing: False\n",
      "p1: 0.31, p2: 1.58 | Labor Clearing: True | Good 1 Clearing: False | Good 2 Clearing: False\n",
      "p1: 0.31, p2: 1.79 | Labor Clearing: True | Good 1 Clearing: False | Good 2 Clearing: False\n",
      "p1: 0.31, p2: 2.00 | Labor Clearing: True | Good 1 Clearing: False | Good 2 Clearing: False\n",
      "p1: 0.52, p2: 0.10 | Labor Clearing: True | Good 1 Clearing: False | Good 2 Clearing: False\n",
      "p1: 0.52, p2: 0.31 | Labor Clearing: True | Good 1 Clearing: False | Good 2 Clearing: False\n",
      "p1: 0.52, p2: 0.52 | Labor Clearing: True | Good 1 Clearing: False | Good 2 Clearing: False\n",
      "p1: 0.52, p2: 0.73 | Labor Clearing: True | Good 1 Clearing: False | Good 2 Clearing: False\n",
      "p1: 0.52, p2: 0.94 | Labor Clearing: True | Good 1 Clearing: False | Good 2 Clearing: False\n",
      "p1: 0.52, p2: 1.16 | Labor Clearing: True | Good 1 Clearing: False | Good 2 Clearing: False\n",
      "p1: 0.52, p2: 1.37 | Labor Clearing: True | Good 1 Clearing: False | Good 2 Clearing: False\n",
      "p1: 0.52, p2: 1.58 | Labor Clearing: True | Good 1 Clearing: False | Good 2 Clearing: False\n",
      "p1: 0.52, p2: 1.79 | Labor Clearing: True | Good 1 Clearing: False | Good 2 Clearing: False\n",
      "p1: 0.52, p2: 2.00 | Labor Clearing: True | Good 1 Clearing: False | Good 2 Clearing: False\n",
      "p1: 0.73, p2: 0.10 | Labor Clearing: True | Good 1 Clearing: False | Good 2 Clearing: False\n",
      "p1: 0.73, p2: 0.31 | Labor Clearing: True | Good 1 Clearing: False | Good 2 Clearing: False\n",
      "p1: 0.73, p2: 0.52 | Labor Clearing: True | Good 1 Clearing: False | Good 2 Clearing: False\n",
      "p1: 0.73, p2: 0.73 | Labor Clearing: True | Good 1 Clearing: False | Good 2 Clearing: False\n",
      "p1: 0.73, p2: 0.94 | Labor Clearing: True | Good 1 Clearing: False | Good 2 Clearing: False\n",
      "p1: 0.73, p2: 1.16 | Labor Clearing: True | Good 1 Clearing: False | Good 2 Clearing: False\n",
      "p1: 0.73, p2: 1.37 | Labor Clearing: True | Good 1 Clearing: False | Good 2 Clearing: False\n",
      "p1: 0.73, p2: 1.58 | Labor Clearing: True | Good 1 Clearing: False | Good 2 Clearing: False\n",
      "p1: 0.73, p2: 1.79 | Labor Clearing: True | Good 1 Clearing: False | Good 2 Clearing: False\n",
      "p1: 0.73, p2: 2.00 | Labor Clearing: True | Good 1 Clearing: False | Good 2 Clearing: False\n",
      "p1: 0.94, p2: 0.10 | Labor Clearing: True | Good 1 Clearing: False | Good 2 Clearing: False\n",
      "p1: 0.94, p2: 0.31 | Labor Clearing: True | Good 1 Clearing: False | Good 2 Clearing: False\n",
      "p1: 0.94, p2: 0.52 | Labor Clearing: True | Good 1 Clearing: False | Good 2 Clearing: False\n",
      "p1: 0.94, p2: 0.73 | Labor Clearing: True | Good 1 Clearing: False | Good 2 Clearing: False\n",
      "p1: 0.94, p2: 0.94 | Labor Clearing: True | Good 1 Clearing: False | Good 2 Clearing: False\n",
      "p1: 0.94, p2: 1.16 | Labor Clearing: True | Good 1 Clearing: False | Good 2 Clearing: False\n",
      "p1: 0.94, p2: 1.37 | Labor Clearing: True | Good 1 Clearing: False | Good 2 Clearing: False\n",
      "p1: 0.94, p2: 1.58 | Labor Clearing: True | Good 1 Clearing: False | Good 2 Clearing: False\n",
      "p1: 0.94, p2: 1.79 | Labor Clearing: True | Good 1 Clearing: False | Good 2 Clearing: False\n",
      "p1: 0.94, p2: 2.00 | Labor Clearing: True | Good 1 Clearing: False | Good 2 Clearing: False\n",
      "p1: 1.16, p2: 0.10 | Labor Clearing: True | Good 1 Clearing: False | Good 2 Clearing: False\n",
      "p1: 1.16, p2: 0.31 | Labor Clearing: True | Good 1 Clearing: False | Good 2 Clearing: False\n",
      "p1: 1.16, p2: 0.52 | Labor Clearing: True | Good 1 Clearing: False | Good 2 Clearing: False\n",
      "p1: 1.16, p2: 0.73 | Labor Clearing: True | Good 1 Clearing: False | Good 2 Clearing: False\n",
      "p1: 1.16, p2: 0.94 | Labor Clearing: True | Good 1 Clearing: False | Good 2 Clearing: False\n",
      "p1: 1.16, p2: 1.16 | Labor Clearing: True | Good 1 Clearing: False | Good 2 Clearing: False\n",
      "p1: 1.16, p2: 1.37 | Labor Clearing: True | Good 1 Clearing: False | Good 2 Clearing: False\n",
      "p1: 1.16, p2: 1.58 | Labor Clearing: True | Good 1 Clearing: False | Good 2 Clearing: False\n",
      "p1: 1.16, p2: 1.79 | Labor Clearing: True | Good 1 Clearing: False | Good 2 Clearing: False\n",
      "p1: 1.16, p2: 2.00 | Labor Clearing: True | Good 1 Clearing: False | Good 2 Clearing: False\n",
      "p1: 1.37, p2: 0.10 | Labor Clearing: True | Good 1 Clearing: False | Good 2 Clearing: False\n",
      "p1: 1.37, p2: 0.31 | Labor Clearing: True | Good 1 Clearing: False | Good 2 Clearing: False\n",
      "p1: 1.37, p2: 0.52 | Labor Clearing: True | Good 1 Clearing: False | Good 2 Clearing: False\n",
      "p1: 1.37, p2: 0.73 | Labor Clearing: True | Good 1 Clearing: False | Good 2 Clearing: False\n",
      "p1: 1.37, p2: 0.94 | Labor Clearing: True | Good 1 Clearing: False | Good 2 Clearing: False\n",
      "p1: 1.37, p2: 1.16 | Labor Clearing: True | Good 1 Clearing: False | Good 2 Clearing: False\n",
      "p1: 1.37, p2: 1.37 | Labor Clearing: True | Good 1 Clearing: False | Good 2 Clearing: False\n",
      "p1: 1.37, p2: 1.58 | Labor Clearing: True | Good 1 Clearing: False | Good 2 Clearing: False\n",
      "p1: 1.37, p2: 1.79 | Labor Clearing: True | Good 1 Clearing: False | Good 2 Clearing: False\n",
      "p1: 1.37, p2: 2.00 | Labor Clearing: True | Good 1 Clearing: False | Good 2 Clearing: False\n",
      "p1: 1.58, p2: 0.10 | Labor Clearing: True | Good 1 Clearing: False | Good 2 Clearing: False\n",
      "p1: 1.58, p2: 0.31 | Labor Clearing: True | Good 1 Clearing: False | Good 2 Clearing: False\n",
      "p1: 1.58, p2: 0.52 | Labor Clearing: True | Good 1 Clearing: False | Good 2 Clearing: False\n",
      "p1: 1.58, p2: 0.73 | Labor Clearing: True | Good 1 Clearing: False | Good 2 Clearing: False\n",
      "p1: 1.58, p2: 0.94 | Labor Clearing: True | Good 1 Clearing: False | Good 2 Clearing: False\n",
      "p1: 1.58, p2: 1.16 | Labor Clearing: True | Good 1 Clearing: False | Good 2 Clearing: False\n",
      "p1: 1.58, p2: 1.37 | Labor Clearing: True | Good 1 Clearing: False | Good 2 Clearing: False\n",
      "p1: 1.58, p2: 1.58 | Labor Clearing: True | Good 1 Clearing: False | Good 2 Clearing: False\n",
      "p1: 1.58, p2: 1.79 | Labor Clearing: True | Good 1 Clearing: False | Good 2 Clearing: False\n",
      "p1: 1.58, p2: 2.00 | Labor Clearing: True | Good 1 Clearing: False | Good 2 Clearing: False\n",
      "p1: 1.79, p2: 0.10 | Labor Clearing: True | Good 1 Clearing: False | Good 2 Clearing: False\n",
      "p1: 1.79, p2: 0.31 | Labor Clearing: True | Good 1 Clearing: False | Good 2 Clearing: False\n",
      "p1: 1.79, p2: 0.52 | Labor Clearing: True | Good 1 Clearing: False | Good 2 Clearing: False\n",
      "p1: 1.79, p2: 0.73 | Labor Clearing: True | Good 1 Clearing: False | Good 2 Clearing: False\n",
      "p1: 1.79, p2: 0.94 | Labor Clearing: True | Good 1 Clearing: False | Good 2 Clearing: False\n",
      "p1: 1.79, p2: 1.16 | Labor Clearing: True | Good 1 Clearing: False | Good 2 Clearing: False\n",
      "p1: 1.79, p2: 1.37 | Labor Clearing: True | Good 1 Clearing: False | Good 2 Clearing: False\n",
      "p1: 1.79, p2: 1.58 | Labor Clearing: True | Good 1 Clearing: False | Good 2 Clearing: False\n",
      "p1: 1.79, p2: 1.79 | Labor Clearing: True | Good 1 Clearing: False | Good 2 Clearing: False\n",
      "p1: 1.79, p2: 2.00 | Labor Clearing: True | Good 1 Clearing: False | Good 2 Clearing: False\n",
      "p1: 2.00, p2: 0.10 | Labor Clearing: True | Good 1 Clearing: False | Good 2 Clearing: False\n",
      "p1: 2.00, p2: 0.31 | Labor Clearing: True | Good 1 Clearing: False | Good 2 Clearing: False\n",
      "p1: 2.00, p2: 0.52 | Labor Clearing: True | Good 1 Clearing: False | Good 2 Clearing: False\n",
      "p1: 2.00, p2: 0.73 | Labor Clearing: True | Good 1 Clearing: False | Good 2 Clearing: False\n",
      "p1: 2.00, p2: 0.94 | Labor Clearing: True | Good 1 Clearing: False | Good 2 Clearing: False\n",
      "p1: 2.00, p2: 1.16 | Labor Clearing: True | Good 1 Clearing: False | Good 2 Clearing: False\n",
      "p1: 2.00, p2: 1.37 | Labor Clearing: True | Good 1 Clearing: False | Good 2 Clearing: False\n",
      "p1: 2.00, p2: 1.58 | Labor Clearing: True | Good 1 Clearing: False | Good 2 Clearing: False\n",
      "p1: 2.00, p2: 1.79 | Labor Clearing: True | Good 1 Clearing: False | Good 2 Clearing: False\n",
      "p1: 2.00, p2: 2.00 | Labor Clearing: True | Good 1 Clearing: False | Good 2 Clearing: False\n"
     ]
    }
   ],
   "source": [
    "# Instantiate the MarketClearing class\n",
    "market = MarketClearing(par.A, par.gamma, par.alpha, par.nu, par.epsilon, par.tau, par.T, w)\n",
    "\n",
    "# Check market clearing conditions\n",
    "results = market.check_market_clearing(par)\n",
    "\n",
    "# Print results\n",
    "market.print_results(results)"
   ]
  },
  {
   "cell_type": "markdown",
   "metadata": {},
   "source": [
    "Within the range specified by the linspace of the question, there is no combination of $p1$ and $p2$ that clears the market for good 1 or good 2. However, the labor market clears for every value in the specified range."
   ]
  },
  {
   "cell_type": "code",
   "execution_count": 4,
   "metadata": {},
   "outputs": [
    {
     "name": "stdout",
     "output_type": "stream",
     "text": [
      "Equilibrium Prices: p1 = 0.7816943854085492, p2 = 1.194057897274884\n"
     ]
    }
   ],
   "source": [
    "# Instantiate the MarketClearing class\n",
    "market = MarketClearing(par.A, par.gamma, par.alpha, par.nu, par.epsilon, par.tau, par.T, w)\n",
    "\n",
    "# Solve for equilibrium prices\n",
    "equilibrium_prices = market.solve_equilibrium(par)\n",
    "print(f\"Equilibrium Prices: p1 = {equilibrium_prices[0]}, p2 = {equilibrium_prices[1]}\")"
   ]
  },
  {
   "cell_type": "code",
   "execution_count": 9,
   "metadata": {},
   "outputs": [
    {
     "name": "stdout",
     "output_type": "stream",
     "text": [
      "Equilibrium Prices: p1 = 0.7816943854085492, p2 = 1.194057897274884\n",
      "Equilibrium Values:\n",
      "ell1_star: 0.15276152804481236\n",
      "ell2_star: 0.35644356551112943\n",
      "ell_star: 0.5092050935559418\n",
      "y1_star: 0.3908471927042746\n",
      "y2_star: 0.597028948637442\n",
      "pi1_star: 0.15276152804481236\n",
      "pi2_star: 0.35644356551112943\n",
      "income: 1.0184101871118836\n",
      "c1_star: 0.39084719276048624\n",
      "c2_star: 0.5970289486006428\n",
      "labor_clearing: True\n",
      "good1_clearing: True\n",
      "good2_clearing: True\n"
     ]
    }
   ],
   "source": [
    "# Instantiate the MarketClearing class\n",
    "market = MarketClearing(par.A, par.gamma, par.alpha, par.nu, par.epsilon, par.tau, par.T, w)\n",
    "\n",
    "# Solve for equilibrium prices\n",
    "equilibrium_prices = market.solve_equilibrium(par)\n",
    "print(f\"Equilibrium Prices: p1 = {equilibrium_prices[0]}, p2 = {equilibrium_prices[1]}\")\n",
    "\n",
    "# Calculate equilibrium values at the obtained prices\n",
    "equilibrium_values = market.calculate_equilibrium_values(equilibrium_prices, par)\n",
    "\n",
    "# Print equilibrium values\n",
    "print(\"Equilibrium Values:\")\n",
    "for key, value in equilibrium_values.items():\n",
    "    print(f\"{key}: {value}\")\n",
    "\n",
    "# Check market clearing\n",
    "labor_clearing = equilibrium_values['labor_clearing']\n",
    "good1_clearing = equilibrium_values['good1_clearing']\n",
    "good2_clearing = equilibrium_values['good2_clearing']"
   ]
  },
  {
   "cell_type": "markdown",
   "metadata": {},
   "source": [
    "The verification results confirm that the markets do clear with the obtained equilibrium prices:\n",
    "\n",
    "- **Labor Market Clearing**: True\n",
    "- **Good 1 Market Clearing**: True\n",
    "- **Good 2 Market Clearing**: True\n",
    "\n",
    "Here are the detailed intermediate values at the equilibrium prices:\n",
    "\n",
    "1. **Optimal Labor Supply**:\n",
    "   \\[\n",
    "   \\begin{align*}\n",
    "   \\ell_1^* &\\approx 0.153 \\\\\n",
    "   \\ell_2^* &\\approx 0.356 \\\\\n",
    "   \\ell^* &\\approx 0.509 \\text{ (Total Labor)}\n",
    "   \\end{align*}\n",
    "   \\]\n",
    "\n",
    "2. **Optimal Output**:\n",
    "   \\[\n",
    "   \\begin{align*}\n",
    "   y_1^* &\\approx 0.391 \\\\\n",
    "   y_2^* &\\approx 0.597\n",
    "   \\end{align*}\n",
    "   \\]\n",
    "\n",
    "3. **Implied Profits**:\n",
    "   \\[\n",
    "   \\begin{align*}\n",
    "   \\pi_1^* &\\approx 0.153 \\\\\n",
    "   \\pi_2^* &\\approx 0.356\n",
    "   \\end{align*}\n",
    "   \\]\n",
    "\n",
    "4. **Optimal Consumption**:\n",
    "   \\[\n",
    "   \\begin{align*}\n",
    "   \\text{Total Income} &\\approx 1.018 \\\\\n",
    "   c_1^* &\\approx 0.391 \\\\\n",
    "   c_2^* &\\approx 0.597\n",
    "   \\end{align*}\n",
    "   \\]\n",
    "\n",
    "### Conclusion\n",
    "\n",
    "The equilibrium prices $p_1$ = 0.7816943854085492 and $p_2$ = 1.194057897274884 lead to market clearing for labor and both goods, confirming the correctness of the solution. This indicates that the model and parameters used can achieve equilibrium under these conditions."
   ]
  },
  {
   "cell_type": "markdown",
   "metadata": {},
   "source": [
    "**Question 2:** Find the equilibrium prices $p_1$ and $p_2$.<br>\n",
    "*Hint: you can use Walras' law to only check 2 of the market clearings*"
   ]
  },
  {
   "cell_type": "markdown",
   "metadata": {},
   "source": [
    "Assume the government care about the social welfare function:\n",
    "\n",
    "$$\n",
    "SWF = U - \\kappa y_2^*\n",
    "$$"
   ]
  },
  {
   "cell_type": "markdown",
   "metadata": {},
   "source": [
    "Here $\\kappa$ measures the social cost of carbon emitted by the production of $y_2$ in equilibrium."
   ]
  },
  {
   "cell_type": "markdown",
   "metadata": {},
   "source": [
    "**Question 3:** What values of $\\tau$ and (implied) $T$ should the government choose to maximize $SWF$?"
   ]
  },
  {
   "cell_type": "code",
   "execution_count": 13,
   "metadata": {},
   "outputs": [
    {
     "name": "stdout",
     "output_type": "stream",
     "text": [
      "Optimal tau: -0.5314205247163759\n",
      "Optimal T: 0.4185227623581872\n"
     ]
    }
   ],
   "source": [
    "# Utility function\n",
    "def utility(c1, c2, ell):\n",
    "    return np.log(c1**par.alpha * c2**(1 - par.alpha)) - par.nu * (ell**(1 + par.epsilon)) / (1 + par.epsilon)\n",
    "\n",
    "# Firm's behavior\n",
    "def firm_behavior(w, p):\n",
    "    ell_star = (p * par.A**par.gamma / w)**(1 / (1 - par.gamma))\n",
    "    y_star = par.A * ell_star**par.gamma\n",
    "    pi_star = p * y_star - w * ell_star\n",
    "    return ell_star, y_star, pi_star\n",
    "\n",
    "# Objective function to maximize SWF\n",
    "def objective(params):\n",
    "    tau, T = params\n",
    "    w = 1.0  # numeraire\n",
    "    p1 = 1.0  # price of good 1\n",
    "    p2 = 1.0  # initial price of good 2\n",
    "    \n",
    "    # Solve for firm's optimal behavior\n",
    "    ell_star_1, y_star_1, pi_star_1 = firm_behavior(w, p1)\n",
    "    ell_star_2, y_star_2, pi_star_2 = firm_behavior(w, p2 + tau)\n",
    "    \n",
    "    # Calculate total labor supply and consumption\n",
    "    ell_star = ell_star_1 + ell_star_2\n",
    "    c1_star = y_star_1\n",
    "    c2_star = y_star_2\n",
    "    \n",
    "    # Government budget constraint\n",
    "    T = tau * c2_star\n",
    "    \n",
    "    # Calculate utility\n",
    "    U = utility(c1_star, c2_star, ell_star)\n",
    "    \n",
    "    # Calculate SWF\n",
    "    SWF = U - par.kappa * y_star_2\n",
    "    \n",
    "    # Since we are minimizing, return negative SWF\n",
    "    return -SWF\n",
    "\n",
    "# Initial guess for tau and T\n",
    "initial_guess = [0.1, 0.1]\n",
    "\n",
    "# Optimize\n",
    "result = minimize(objective, initial_guess, method='Nelder-Mead')\n",
    "optimal_tau, optimal_T = result.x\n",
    "\n",
    "print(f'Optimal tau: {optimal_tau}')\n",
    "print(f'Optimal T: {optimal_T}')\n"
   ]
  },
  {
   "cell_type": "code",
   "execution_count": 22,
   "metadata": {},
   "outputs": [
    {
     "ename": "NameError",
     "evalue": "name 'firm_behavior' is not defined",
     "output_type": "error",
     "traceback": [
      "\u001b[0;31m---------------------------------------------------------------------------\u001b[0m",
      "\u001b[0;31mNameError\u001b[0m                                 Traceback (most recent call last)",
      "Cell \u001b[0;32mIn[22], line 22\u001b[0m\n\u001b[1;32m     19\u001b[0m p2 \u001b[38;5;241m=\u001b[39m \u001b[38;5;241m1.0\u001b[39m\n\u001b[1;32m     21\u001b[0m \u001b[38;5;66;03m# Find optimal tau and T\u001b[39;00m\n\u001b[0;32m---> 22\u001b[0m tau_opt, T_opt \u001b[38;5;241m=\u001b[39m market\u001b[38;5;241m.\u001b[39moptimize_swf(w, p1, p2)\n\u001b[1;32m     24\u001b[0m \u001b[38;5;66;03m# Print the optimal values of tau and T\u001b[39;00m\n\u001b[1;32m     25\u001b[0m \u001b[38;5;28mprint\u001b[39m(\u001b[38;5;124mf\u001b[39m\u001b[38;5;124m'\u001b[39m\u001b[38;5;124mOptimal tau: \u001b[39m\u001b[38;5;132;01m{\u001b[39;00mtau_opt\u001b[38;5;132;01m}\u001b[39;00m\u001b[38;5;124m, Optimal T: \u001b[39m\u001b[38;5;132;01m{\u001b[39;00mT_opt\u001b[38;5;132;01m}\u001b[39;00m\u001b[38;5;124m'\u001b[39m)\n",
      "File \u001b[0;32m~/Documents/KU Exchange/projects-2024-petra-maritza-noah/examproject/exam_2024_Noah.py:156\u001b[0m, in \u001b[0;36mMarketClearing.optimize_swf\u001b[0;34m(self, w, p1, p2)\u001b[0m\n\u001b[1;32m    153\u001b[0m     \u001b[38;5;28;01mreturn\u001b[39;00m \u001b[38;5;241m-\u001b[39m\u001b[38;5;28mself\u001b[39m\u001b[38;5;241m.\u001b[39msocial_welfare(w, p1, p2, tau, T)\n\u001b[1;32m    155\u001b[0m x0 \u001b[38;5;241m=\u001b[39m np\u001b[38;5;241m.\u001b[39marray([\u001b[38;5;241m0.0\u001b[39m, \u001b[38;5;241m0.0\u001b[39m])\n\u001b[0;32m--> 156\u001b[0m result \u001b[38;5;241m=\u001b[39m minimize(obj, x0, bounds\u001b[38;5;241m=\u001b[39m[(\u001b[38;5;241m0\u001b[39m, \u001b[38;5;28;01mNone\u001b[39;00m), (\u001b[38;5;241m0\u001b[39m, \u001b[38;5;28;01mNone\u001b[39;00m)])\n\u001b[1;32m    157\u001b[0m \u001b[38;5;28;01mreturn\u001b[39;00m result\u001b[38;5;241m.\u001b[39mx\n",
      "File \u001b[0;32m~/anaconda3/lib/python3.11/site-packages/scipy/optimize/_minimize.py:710\u001b[0m, in \u001b[0;36mminimize\u001b[0;34m(fun, x0, args, method, jac, hess, hessp, bounds, constraints, tol, callback, options)\u001b[0m\n\u001b[1;32m    707\u001b[0m     res \u001b[38;5;241m=\u001b[39m _minimize_newtoncg(fun, x0, args, jac, hess, hessp, callback,\n\u001b[1;32m    708\u001b[0m                              \u001b[38;5;241m*\u001b[39m\u001b[38;5;241m*\u001b[39moptions)\n\u001b[1;32m    709\u001b[0m \u001b[38;5;28;01melif\u001b[39;00m meth \u001b[38;5;241m==\u001b[39m \u001b[38;5;124m'\u001b[39m\u001b[38;5;124ml-bfgs-b\u001b[39m\u001b[38;5;124m'\u001b[39m:\n\u001b[0;32m--> 710\u001b[0m     res \u001b[38;5;241m=\u001b[39m _minimize_lbfgsb(fun, x0, args, jac, bounds,\n\u001b[1;32m    711\u001b[0m                            callback\u001b[38;5;241m=\u001b[39mcallback, \u001b[38;5;241m*\u001b[39m\u001b[38;5;241m*\u001b[39moptions)\n\u001b[1;32m    712\u001b[0m \u001b[38;5;28;01melif\u001b[39;00m meth \u001b[38;5;241m==\u001b[39m \u001b[38;5;124m'\u001b[39m\u001b[38;5;124mtnc\u001b[39m\u001b[38;5;124m'\u001b[39m:\n\u001b[1;32m    713\u001b[0m     res \u001b[38;5;241m=\u001b[39m _minimize_tnc(fun, x0, args, jac, bounds, callback\u001b[38;5;241m=\u001b[39mcallback,\n\u001b[1;32m    714\u001b[0m                         \u001b[38;5;241m*\u001b[39m\u001b[38;5;241m*\u001b[39moptions)\n",
      "File \u001b[0;32m~/anaconda3/lib/python3.11/site-packages/scipy/optimize/_lbfgsb_py.py:307\u001b[0m, in \u001b[0;36m_minimize_lbfgsb\u001b[0;34m(fun, x0, args, jac, bounds, disp, maxcor, ftol, gtol, eps, maxfun, maxiter, iprint, callback, maxls, finite_diff_rel_step, **unknown_options)\u001b[0m\n\u001b[1;32m    304\u001b[0m     \u001b[38;5;28;01melse\u001b[39;00m:\n\u001b[1;32m    305\u001b[0m         iprint \u001b[38;5;241m=\u001b[39m disp\n\u001b[0;32m--> 307\u001b[0m sf \u001b[38;5;241m=\u001b[39m _prepare_scalar_function(fun, x0, jac\u001b[38;5;241m=\u001b[39mjac, args\u001b[38;5;241m=\u001b[39margs, epsilon\u001b[38;5;241m=\u001b[39meps,\n\u001b[1;32m    308\u001b[0m                               bounds\u001b[38;5;241m=\u001b[39mnew_bounds,\n\u001b[1;32m    309\u001b[0m                               finite_diff_rel_step\u001b[38;5;241m=\u001b[39mfinite_diff_rel_step)\n\u001b[1;32m    311\u001b[0m func_and_grad \u001b[38;5;241m=\u001b[39m sf\u001b[38;5;241m.\u001b[39mfun_and_grad\n\u001b[1;32m    313\u001b[0m fortran_int \u001b[38;5;241m=\u001b[39m _lbfgsb\u001b[38;5;241m.\u001b[39mtypes\u001b[38;5;241m.\u001b[39mintvar\u001b[38;5;241m.\u001b[39mdtype\n",
      "File \u001b[0;32m~/anaconda3/lib/python3.11/site-packages/scipy/optimize/_optimize.py:383\u001b[0m, in \u001b[0;36m_prepare_scalar_function\u001b[0;34m(fun, x0, jac, args, bounds, epsilon, finite_diff_rel_step, hess)\u001b[0m\n\u001b[1;32m    379\u001b[0m     bounds \u001b[38;5;241m=\u001b[39m (\u001b[38;5;241m-\u001b[39mnp\u001b[38;5;241m.\u001b[39minf, np\u001b[38;5;241m.\u001b[39minf)\n\u001b[1;32m    381\u001b[0m \u001b[38;5;66;03m# ScalarFunction caches. Reuse of fun(x) during grad\u001b[39;00m\n\u001b[1;32m    382\u001b[0m \u001b[38;5;66;03m# calculation reduces overall function evaluations.\u001b[39;00m\n\u001b[0;32m--> 383\u001b[0m sf \u001b[38;5;241m=\u001b[39m ScalarFunction(fun, x0, args, grad, hess,\n\u001b[1;32m    384\u001b[0m                     finite_diff_rel_step, bounds, epsilon\u001b[38;5;241m=\u001b[39mepsilon)\n\u001b[1;32m    386\u001b[0m \u001b[38;5;28;01mreturn\u001b[39;00m sf\n",
      "File \u001b[0;32m~/anaconda3/lib/python3.11/site-packages/scipy/optimize/_differentiable_functions.py:158\u001b[0m, in \u001b[0;36mScalarFunction.__init__\u001b[0;34m(self, fun, x0, args, grad, hess, finite_diff_rel_step, finite_diff_bounds, epsilon)\u001b[0m\n\u001b[1;32m    155\u001b[0m     \u001b[38;5;28mself\u001b[39m\u001b[38;5;241m.\u001b[39mf \u001b[38;5;241m=\u001b[39m fun_wrapped(\u001b[38;5;28mself\u001b[39m\u001b[38;5;241m.\u001b[39mx)\n\u001b[1;32m    157\u001b[0m \u001b[38;5;28mself\u001b[39m\u001b[38;5;241m.\u001b[39m_update_fun_impl \u001b[38;5;241m=\u001b[39m update_fun\n\u001b[0;32m--> 158\u001b[0m \u001b[38;5;28mself\u001b[39m\u001b[38;5;241m.\u001b[39m_update_fun()\n\u001b[1;32m    160\u001b[0m \u001b[38;5;66;03m# Gradient evaluation\u001b[39;00m\n\u001b[1;32m    161\u001b[0m \u001b[38;5;28;01mif\u001b[39;00m \u001b[38;5;28mcallable\u001b[39m(grad):\n",
      "File \u001b[0;32m~/anaconda3/lib/python3.11/site-packages/scipy/optimize/_differentiable_functions.py:251\u001b[0m, in \u001b[0;36mScalarFunction._update_fun\u001b[0;34m(self)\u001b[0m\n\u001b[1;32m    249\u001b[0m \u001b[38;5;28;01mdef\u001b[39;00m \u001b[38;5;21m_update_fun\u001b[39m(\u001b[38;5;28mself\u001b[39m):\n\u001b[1;32m    250\u001b[0m     \u001b[38;5;28;01mif\u001b[39;00m \u001b[38;5;129;01mnot\u001b[39;00m \u001b[38;5;28mself\u001b[39m\u001b[38;5;241m.\u001b[39mf_updated:\n\u001b[0;32m--> 251\u001b[0m         \u001b[38;5;28mself\u001b[39m\u001b[38;5;241m.\u001b[39m_update_fun_impl()\n\u001b[1;32m    252\u001b[0m         \u001b[38;5;28mself\u001b[39m\u001b[38;5;241m.\u001b[39mf_updated \u001b[38;5;241m=\u001b[39m \u001b[38;5;28;01mTrue\u001b[39;00m\n",
      "File \u001b[0;32m~/anaconda3/lib/python3.11/site-packages/scipy/optimize/_differentiable_functions.py:155\u001b[0m, in \u001b[0;36mScalarFunction.__init__.<locals>.update_fun\u001b[0;34m()\u001b[0m\n\u001b[1;32m    154\u001b[0m \u001b[38;5;28;01mdef\u001b[39;00m \u001b[38;5;21mupdate_fun\u001b[39m():\n\u001b[0;32m--> 155\u001b[0m     \u001b[38;5;28mself\u001b[39m\u001b[38;5;241m.\u001b[39mf \u001b[38;5;241m=\u001b[39m fun_wrapped(\u001b[38;5;28mself\u001b[39m\u001b[38;5;241m.\u001b[39mx)\n",
      "File \u001b[0;32m~/anaconda3/lib/python3.11/site-packages/scipy/optimize/_differentiable_functions.py:137\u001b[0m, in \u001b[0;36mScalarFunction.__init__.<locals>.fun_wrapped\u001b[0;34m(x)\u001b[0m\n\u001b[1;32m    133\u001b[0m \u001b[38;5;28mself\u001b[39m\u001b[38;5;241m.\u001b[39mnfev \u001b[38;5;241m+\u001b[39m\u001b[38;5;241m=\u001b[39m \u001b[38;5;241m1\u001b[39m\n\u001b[1;32m    134\u001b[0m \u001b[38;5;66;03m# Send a copy because the user may overwrite it.\u001b[39;00m\n\u001b[1;32m    135\u001b[0m \u001b[38;5;66;03m# Overwriting results in undefined behaviour because\u001b[39;00m\n\u001b[1;32m    136\u001b[0m \u001b[38;5;66;03m# fun(self.x) will change self.x, with the two no longer linked.\u001b[39;00m\n\u001b[0;32m--> 137\u001b[0m fx \u001b[38;5;241m=\u001b[39m fun(np\u001b[38;5;241m.\u001b[39mcopy(x), \u001b[38;5;241m*\u001b[39margs)\n\u001b[1;32m    138\u001b[0m \u001b[38;5;66;03m# Make sure the function returns a true scalar\u001b[39;00m\n\u001b[1;32m    139\u001b[0m \u001b[38;5;28;01mif\u001b[39;00m \u001b[38;5;129;01mnot\u001b[39;00m np\u001b[38;5;241m.\u001b[39misscalar(fx):\n",
      "File \u001b[0;32m~/Documents/KU Exchange/projects-2024-petra-maritza-noah/examproject/exam_2024_Noah.py:153\u001b[0m, in \u001b[0;36mMarketClearing.optimize_swf.<locals>.obj\u001b[0;34m(x)\u001b[0m\n\u001b[1;32m    151\u001b[0m \u001b[38;5;28;01mdef\u001b[39;00m \u001b[38;5;21mobj\u001b[39m(x):\n\u001b[1;32m    152\u001b[0m     tau, T \u001b[38;5;241m=\u001b[39m x\n\u001b[0;32m--> 153\u001b[0m     \u001b[38;5;28;01mreturn\u001b[39;00m \u001b[38;5;241m-\u001b[39m\u001b[38;5;28mself\u001b[39m\u001b[38;5;241m.\u001b[39msocial_welfare(w, p1, p2, tau, T)\n",
      "File \u001b[0;32m~/Documents/KU Exchange/projects-2024-petra-maritza-noah/examproject/exam_2024_Noah.py:143\u001b[0m, in \u001b[0;36mMarketClearing.social_welfare\u001b[0;34m(w, p1, p2, tau, T, par)\u001b[0m\n\u001b[1;32m    142\u001b[0m \u001b[38;5;28;01mdef\u001b[39;00m \u001b[38;5;21msocial_welfare\u001b[39m(w, p1, p2, tau, T, par):\n\u001b[0;32m--> 143\u001b[0m     l1, y1, pi1 \u001b[38;5;241m=\u001b[39m firm_behavior(w, p1, par\u001b[38;5;241m.\u001b[39mA, par\u001b[38;5;241m.\u001b[39mgamma)\n\u001b[1;32m    144\u001b[0m     l2, y2, pi2 \u001b[38;5;241m=\u001b[39m firm_behavior(w, p2 \u001b[38;5;241m+\u001b[39m tau, par\u001b[38;5;241m.\u001b[39mA, par\u001b[38;5;241m.\u001b[39mgamma)\n\u001b[1;32m    145\u001b[0m     c1, c2, L \u001b[38;5;241m=\u001b[39m consumer_behavior(w, p1, p2, tau, T, pi1, pi2, par\u001b[38;5;241m.\u001b[39malpha, par\u001b[38;5;241m.\u001b[39mnu, par\u001b[38;5;241m.\u001b[39mepsilon)\n",
      "\u001b[0;31mNameError\u001b[0m: name 'firm_behavior' is not defined"
     ]
    }
   ],
   "source": [
    "# Import the MarketClearing class from your .py file\n",
    "from exam_2024_Noah import MarketClearing\n",
    "\n",
    "# Set the parameters\n",
    "A = 1.0\n",
    "gamma = 0.5\n",
    "alpha = 0.3\n",
    "nu = 1.0\n",
    "epsilon = 2.0\n",
    "tau = 0.0\n",
    "T = 0.0\n",
    "w = 1.0  # numeraire\n",
    "\n",
    "# Create an instance of the MarketClearing class with the required parameters\n",
    "market = MarketClearing(A, gamma, alpha, nu, epsilon, tau, T, w)\n",
    "\n",
    "# Set the given prices for optimization\n",
    "p1 = 1.0\n",
    "p2 = 1.0\n",
    "\n",
    "# Find optimal tau and T\n",
    "tau_opt, T_opt = market.optimize_swf(w, p1, p2)\n",
    "\n",
    "# Print the optimal values of tau and T\n",
    "print(f'Optimal tau: {tau_opt}, Optimal T: {T_opt}')\n"
   ]
  },
  {
   "cell_type": "markdown",
   "metadata": {},
   "source": [
    "## 2. <a id='toc2_'></a>[Problem 2: Career choice model](#toc0_)"
   ]
  },
  {
   "cell_type": "markdown",
   "metadata": {},
   "source": [
    "Consider a graduate $i$ making a choice between entering $J$ different career tracks. <br>\n",
    "Entering career $j$ yields utility $u^k_{ij}$. This value is unknown to the graduate ex ante, but will ex post be: <br>\n",
    "$$\n",
    "    u_{i,j}^k = v_{j} + \\epsilon_{i,j}^k\n",
    "$$\n",
    "\n",
    "They know that $\\epsilon^k_{i,j}\\sim \\mathcal{N}(0,\\sigma^2)$, but they do not observe $\\epsilon^k_{i,j}$ before making their career choice. <br>"
   ]
  },
  {
   "cell_type": "markdown",
   "metadata": {},
   "source": [
    "Consider the concrete case of $J=3$ with:\n",
    "$$\n",
    "\\begin{align*}\n",
    "    v_{1} &= 1 \\\\\n",
    "    v_{2} &= 2 \\\\\n",
    "    v_{3} &= 3\n",
    "\\end{align*}\n",
    "$$"
   ]
  },
  {
   "cell_type": "markdown",
   "metadata": {},
   "source": [
    "If the graduates know the values of $v_j$ and the distribution of $\\epsilon_{i,j}^k$, they can calculate the expected utility of each career track using simulation: <br>\n",
    "$$\n",
    "    \\mathbb{E}\\left[ u^k_{i,j}\\vert v_j \\right] \\approx v_j + \\frac{1}{K}\\sum_{k=1}^K \\epsilon_{i,j}^k\n",
    "$$"
   ]
  },
  {
   "cell_type": "code",
   "execution_count": null,
   "metadata": {},
   "outputs": [],
   "source": [
    "par = SimpleNamespace()\n",
    "par.J = 3\n",
    "par.N = 10\n",
    "par.K = 10000\n",
    "\n",
    "par.F = np.arange(1,par.N+1)\n",
    "par.sigma = 2\n",
    "\n",
    "par.v = np.array([1,2,3])\n",
    "par.c = 1"
   ]
  },
  {
   "cell_type": "markdown",
   "metadata": {},
   "source": [
    "**Question 1:** Simulate and calculate expected utility and the average realised utility for $K=10000$ draws, for each career choice $j$.\n"
   ]
  },
  {
   "cell_type": "code",
   "execution_count": null,
   "metadata": {},
   "outputs": [],
   "source": [
    "# write your answer here"
   ]
  },
  {
   "cell_type": "markdown",
   "metadata": {},
   "source": [
    "Now consider a new scenario: Imagine that the graduate does not know $v_j$. The *only* prior information they have on the value of each job, comes from their $F_{i}$ friends that work in each career $j$. After talking with them, they know the average utility of their friends (which includes their friends' noise term), giving them the prior expecation: <br>\n",
    "$$\n",
    "\\tilde{u}^k_{i,j}\\left( F_{i}\\right) = \\frac{1}{F_{i}}\\sum_{f=1}^{F_{i}} \\left(v_{j} + \\epsilon^k_{f,j}\\right), \\; \\epsilon^k_{f,j}\\sim \\mathcal{N}(0,\\sigma^2)\n",
    "$$\n",
    "For ease of notation consider that each graduate have $F_{i}=i$ friends in each career. <br>"
   ]
  },
  {
   "cell_type": "markdown",
   "metadata": {},
   "source": [
    "For $K$ times do the following: <br>\n",
    "1. For each person $i$ draw $J\\cdot F_i$ values of $\\epsilon_{f,j}^{k}$, and calculate the prior expected utility of each career track, $\\tilde{u}^k_{i,j}\\left( F_{i}\\right)$. <br>\n",
    "Also draw their own $J$ noise terms, $\\epsilon_{i,j}^k$\n",
    "1. Each person $i$ chooses the career track with the highest expected utility: $$j_i^{k*}= \\arg\\max_{j\\in{1,2\\dots,J}}\\left\\{ \\tilde{u}^k_{i,j}\\left( F_{i}\\right)\\right\\} $$\n",
    "1. Store the chosen careers: $j_i^{k*}$, the prior expectation of the value of their chosen career: $\\tilde{u}^k_{i,j=j_i^{k*}}\\left( F_{i}\\right)$, and the realized value of their chosen career track: $u^k_{i,j=j_i^{k*}}=v_{j=j_i^{k*}}+\\epsilon_{i,j=j_i^{k*}}^k$."
   ]
  },
  {
   "cell_type": "markdown",
   "metadata": {},
   "source": [
    "Chosen values will be: <br>\n",
    "$i\\in\\left\\{1,2\\dots,N\\right\\}, N=10$ <br>\n",
    "$F_i = i$<br>\n",
    "So there are 10 graduates. The first has 1 friend in each career, the second has 2 friends, ... the tenth has 10 friends."
   ]
  },
  {
   "cell_type": "markdown",
   "metadata": {},
   "source": [
    "**Question 2:** Simulate and visualize: For each type of graduate, $i$, the share of graduates choosing each career, the average subjective expected utility of the graduates, and the average ex post realized utility given their choice. <br>\n",
    "That is, calculate and visualize: <br>\n",
    "$$\n",
    "\\begin{align*}\n",
    "    \\frac{1}{K} \\sum_{k=1}^{K} \\mathbb{I}\\left\\{ j=j_i^{k*} \\right\\}  \\;\\forall j\\in\\left\\{1,2,\\dots,J\\right\\}\n",
    "\\end{align*}\n",
    "$$\n",
    "$$\n",
    "\\begin{align*}\n",
    "    \\frac{1}{K} \\sum_{k=1}^{K} \\tilde{u}^k_{ij=j_i^{k*}}\\left( F_{i}\\right)\n",
    "\\end{align*}\n",
    "$$\n",
    "And \n",
    "$$\n",
    "\\begin{align*}\n",
    "    \\frac{1}{K} \\sum_{k=1}^{K} u^k_{ij=j_i^{k*}} \n",
    "\\end{align*}\n",
    "$$\n",
    "For each graduate $i$."
   ]
  },
  {
   "cell_type": "code",
   "execution_count": null,
   "metadata": {},
   "outputs": [],
   "source": [
    "# Write your answer here "
   ]
  },
  {
   "cell_type": "markdown",
   "metadata": {},
   "source": [
    "After a year of working in their career, the graduates learn $u^k_{ij}$ for their chosen job $j_i^{k*}$ perfectly. <br>\n",
    "The can switch to one of the two remaining careers, for which they have the same prior as before, but it will now include a switching cost of $c$ which is known.\n",
    "Their new priors can be written as: \n",
    "$$\n",
    "\\tilde{u}^{k,2}_{ij}\\left( F_{i}\\right) = \\begin{cases}\n",
    "            \\tilde{u}^k_{ij}\\left( F_{i}\\right)-c & \\text{if } j \\neq j_i^{k*} \\\\\n",
    "            u_{ij=j_i^{k*}} & \\text{if } j = j_i^{k*}\n",
    "        \\end{cases}\n",
    "$$"
   ]
  },
  {
   "cell_type": "markdown",
   "metadata": {},
   "source": [
    "We will set $c=1$."
   ]
  },
  {
   "cell_type": "markdown",
   "metadata": {},
   "source": [
    "Their realized utility will be: <br>\n",
    "$$\n",
    "u^{k,2}_{ij}= \\begin{cases}\n",
    "            u_{ij}^k -c & \\text{if } j \\neq j_i^{k*} \\\\\n",
    "            u_{ij=j_i^{k*}} & \\text{if } j = j_i^{k*}\n",
    "        \\end{cases}\n",
    "$$"
   ]
  },
  {
   "cell_type": "markdown",
   "metadata": {},
   "source": [
    "**Question 3:** Following the same approach as in question 2, find the new optimal career choice for each $i$, $k$. Then for each $i$, calculate the average subjective expected utility from their new optimal career choice, and the ex post realized utility of that career. Also, for each $i$, calculate the share of graduates that chooses to switch careers, conditional on which career they chose in the first year. <br>"
   ]
  },
  {
   "cell_type": "code",
   "execution_count": null,
   "metadata": {},
   "outputs": [],
   "source": [
    "# write your answer here"
   ]
  },
  {
   "cell_type": "markdown",
   "metadata": {},
   "source": [
    "## 3. <a id='toc3_'></a>[Problem 3: Barycentric interpolation](#toc0_)"
   ]
  },
  {
   "cell_type": "markdown",
   "metadata": {},
   "source": [
    "**Problem:** We have a set of random points in the unit square,\n",
    "\n",
    "$$\n",
    "\\mathcal{X} = \\{(x_1,x_2)\\,|\\,x_1\\sim\\mathcal{U}(0,1),x_2\\sim\\mathcal{U}(0,1)\\}.\n",
    "$$\n",
    "\n",
    "For these points, we know the value of some function $f(x_1,x_2)$,\n",
    "\n",
    "$$\n",
    "\\mathcal{F} = \\{f(x_1,x_2) \\,|\\, (x_1,x_2) \\in \\mathcal{X}\\}.\n",
    "$$\n",
    "\n",
    "Now we want to approximate the value $f(y_1,y_2)$ for some  $y=(y_1,y_2)$, where $y_1\\sim\\mathcal{U}(0,1)$ and $y_2\\sim\\mathcal{U}(0,1)$.\n",
    "\n",
    "**Building block I**\n",
    "\n",
    "For an arbitrary triangle $ABC$ and a point $y$, define the so-called barycentric coordinates as:\n",
    "\n",
    "$$\n",
    "\\begin{align*}\n",
    "  r^{ABC}_1 &= \\frac{(B_2-C_2)(y_1-C_1) + (C_1-B_1)(y_2-C_2)}{(B_2-C_2)(A_1-C_1) + (C_1-B_1)(A_2-C_2)} \\\\\n",
    "  r^{ABC}_2 &= \\frac{(C_2-A_2)(y_1-C_1) + (A_1-C_1)(y_2-C_2)}{(B_2-C_2)(A_1-C_1) + (C_1-B_1)(A_2-C_2)} \\\\\n",
    "  r^{ABC}_3 &= 1 - r_1 - r_2.\n",
    "\\end{align*}\n",
    "$$\n",
    "\n",
    "If $r^{ABC}_1 \\in [0,1]$, $r^{ABC}_2 \\in [0,1]$, and $r^{ABC}_3 \\in [0,1]$, then the point is inside the triangle.\n",
    "\n",
    "We always have $y = r^{ABC}_1 A + r^{ABC}_2 B + r^{ABC}_3 C$.\n",
    "\n",
    "**Building block II**\n",
    "\n",
    "Define the following points:\n",
    "\n",
    "$$\n",
    "\\begin{align*}\n",
    "A&=\\arg\\min_{(x_{1},x_{2})\\in\\mathcal{X}}\\sqrt{\\left(x_{1}-y_{1}\\right)^{2}+\\left(x_{2}-y_{2}\\right)^{2}}\\text{ s.t. }x_{1}>y_{1}\\text{ and }x_{2}>y_{2}\\\\\n",
    "B&=\\arg\\min_{(x_{1},x_{2})\\in\\mathcal{X}}\\sqrt{\\left(x_{1}-y_{1}\\right)^{2}+\\left(x_{2}-y_{2}\\right)^{2}}\\text{ s.t. }x_{1}>y_{1}\\text{ and }x_{2}<y_{2}\\\\\n",
    "C&=\\arg\\min_{(x_{1},x_{2})\\in\\mathcal{X}}\\sqrt{\\left(x_{1}-y_{1}\\right)^{2}+\\left(x_{2}-y_{2}\\right)^{2}}\\text{ s.t. }x_{1}<y_{1}\\text{ and }x_{2}<y_{2}\\\\\n",
    "D&=\\arg\\min_{(x_{1},x_{2})\\in\\mathcal{X}}\\sqrt{\\left(x_{1}-y_{1}\\right)^{2}+\\left(x_{2}-y_{2}\\right)^{2}}\\text{ s.t. }x_{1}<y_{1}\\text{ and }x_{2}>y_{2}.\n",
    "\\end{align*}\n",
    "$$\n",
    "\n",
    "**Algorithm:**\n",
    "\n",
    "1. Compute $A$, $B$, $C$, and $D$. If not possible return `NaN`.\n",
    "1. If $y$ is inside the triangle $ABC$ return $r^{ABC}_1 f(A) + r^{ABC}_2 f(B) + r^{ABC}_3 f(C)$.\n",
    "1. If $y$ is inside the triangle $CDA$ return $r^{CDA}_1 f(C) + r^{CDA}_2 f(D) + r^{CDA}_3 f(A)$.\n",
    "1. Return `NaN`.\n",
    "\n"
   ]
  },
  {
   "cell_type": "markdown",
   "metadata": {},
   "source": [
    "**Sample:**"
   ]
  },
  {
   "cell_type": "code",
   "execution_count": null,
   "metadata": {},
   "outputs": [],
   "source": [
    "rng = np.random.default_rng(2024)\n",
    "\n",
    "X = rng.uniform(size=(50,2))\n",
    "y = rng.uniform(size=(2,))\n"
   ]
  },
  {
   "cell_type": "markdown",
   "metadata": {},
   "source": [
    "**Questions 1:** Find $A$, $B$, $C$ and $D$. Illustrate these together with $X$, $y$ and the triangles $ABC$ and $CDA$."
   ]
  },
  {
   "cell_type": "code",
   "execution_count": null,
   "metadata": {},
   "outputs": [],
   "source": [
    "# write your answer here"
   ]
  },
  {
   "cell_type": "markdown",
   "metadata": {},
   "source": [
    "**Question 2:** Compute the barycentric coordinates of the point $y$ with respect to the triangles $ABC$ and $CDA$. Which triangle is $y$ located inside?"
   ]
  },
  {
   "cell_type": "code",
   "execution_count": null,
   "metadata": {},
   "outputs": [],
   "source": [
    "# write your answer here"
   ]
  },
  {
   "cell_type": "markdown",
   "metadata": {},
   "source": [
    "Now consider the function:\n",
    "$$\n",
    "f(x_1,x_2) = x_1 \\cdot x_2\n",
    "$$"
   ]
  },
  {
   "cell_type": "code",
   "execution_count": null,
   "metadata": {},
   "outputs": [],
   "source": [
    "f = lambda x: x[0]*x[1]\n",
    "F = np.array([f(x) for x in X])"
   ]
  },
  {
   "cell_type": "markdown",
   "metadata": {},
   "source": [
    "**Question 3:** Compute the approximation of $f(y)$ using the full algorithm. Compare with the true value."
   ]
  },
  {
   "cell_type": "code",
   "execution_count": null,
   "metadata": {},
   "outputs": [],
   "source": [
    "# write your answer here"
   ]
  },
  {
   "cell_type": "markdown",
   "metadata": {},
   "source": [
    "**Question 4:** Repeat question 3 for all points in the set $Y$."
   ]
  },
  {
   "cell_type": "code",
   "execution_count": null,
   "metadata": {},
   "outputs": [],
   "source": [
    "Y = [(0.2,0.2),(0.8,0.2),(0.8,0.8),(0.8,0.2),(0.5,0.5)]"
   ]
  },
  {
   "cell_type": "code",
   "execution_count": null,
   "metadata": {},
   "outputs": [],
   "source": [
    "# write your answer here"
   ]
  }
 ],
 "metadata": {
  "kernelspec": {
   "display_name": "base",
   "language": "python",
   "name": "python3"
  },
  "language_info": {
   "codemirror_mode": {
    "name": "ipython",
    "version": 3
   },
   "file_extension": ".py",
   "mimetype": "text/x-python",
   "name": "python",
   "nbconvert_exporter": "python",
   "pygments_lexer": "ipython3",
   "version": "3.11.7"
  }
 },
 "nbformat": 4,
 "nbformat_minor": 2
}
