{
 "cells": [
  {
   "cell_type": "markdown",
   "metadata": {},
   "source": [
    "# Trying our code"
   ]
  },
  {
   "cell_type": "code",
   "execution_count": null,
   "metadata": {},
   "outputs": [],
   "source": [
    "import matplotlib.pyplot as plt\n",
    "plt.rcParams.update({\"axes.grid\":True,\"grid.color\":\"black\",\"grid.alpha\":\"0.25\",\"grid.linestyle\":\"--\"})\n",
    "plt.rcParams.update({'font.size': 14})\n",
    "\n",
    "%load_ext autoreload\n",
    "%autoreload 2"
   ]
  },
  {
   "cell_type": "code",
   "execution_count": null,
   "metadata": {},
   "outputs": [],
   "source": [
    "import numpy as np\n",
    "\n",
    "# autoreload modules when code is run. Otherwise, python will not see recent changes. \n",
    "%load_ext autoreload\n",
    "%autoreload 2"
   ]
  },
  {
   "cell_type": "code",
   "execution_count": null,
   "metadata": {},
   "outputs": [],
   "source": [
    "# Not sure if we need to define p2 somewhere\n",
    "# # Numeraire\n",
    "# p2 = 1"
   ]
  },
  {
   "cell_type": "code",
   "execution_count": null,
   "metadata": {},
   "outputs": [],
   "source": [
    "from petratrying import ExchangeEconomyClass"
   ]
  },
  {
   "cell_type": "markdown",
   "metadata": {},
   "source": [
    "# Question 1"
   ]
  },
  {
   "cell_type": "code",
   "execution_count": null,
   "metadata": {},
   "outputs": [],
   "source": [
    "model = ExchangeEconomyClass()"
   ]
  },
  {
   "cell_type": "code",
   "execution_count": null,
   "metadata": {},
   "outputs": [],
   "source": [
    "# code for solving the model (remember documentation and comments)\n",
    "\n",
    "#NOT SURE ABOUT WHAT THIS IS!\n",
    "\n",
    "# a = np.array([1,2,3])\n",
    "# b = inauguralproject.square(a)\n",
    "# print(b)"
   ]
  },
  {
   "cell_type": "code",
   "execution_count": null,
   "metadata": {},
   "outputs": [],
   "source": [
    "par = model.par\n",
    "\n",
    "# a. total endowment\n",
    "w1bar = 1.0\n",
    "w2bar = 1.0\n",
    "\n",
    "# b. figure set up\n",
    "fig = plt.figure(frameon=False,figsize=(6,6), dpi=100)\n",
    "ax_A = fig.add_subplot(1, 1, 1)\n",
    "\n",
    "ax_A.set_xlabel(\"$x_1^A$\")\n",
    "ax_A.set_ylabel(\"$x_2^A$\")\n",
    "\n",
    "temp = ax_A.twinx()\n",
    "temp.set_ylabel(\"$x_2^B$\")\n",
    "ax_B = temp.twiny()\n",
    "ax_B.set_xlabel(\"$x_1^B$\")\n",
    "ax_B.invert_xaxis()\n",
    "ax_B.invert_yaxis()\n",
    "\n",
    "# A\n",
    "ax_A.scatter(par.w1A,par.w2A,marker='s',color='black',label='endowment')\n",
    "\n",
    "# limits\n",
    "ax_A.plot([0,w1bar],[0,0],lw=2,color='black')\n",
    "ax_A.plot([0,w1bar],[w2bar,w2bar],lw=2,color='black')\n",
    "ax_A.plot([0,0],[0,w2bar],lw=2,color='black')\n",
    "ax_A.plot([w1bar,w1bar],[0,w2bar],lw=2,color='black')\n",
    "\n",
    "ax_A.set_xlim([-0.1, w1bar + 0.1])\n",
    "ax_A.set_ylim([-0.1, w2bar + 0.1])    \n",
    "ax_B.set_xlim([w1bar + 0.1, -0.1])\n",
    "ax_B.set_ylim([w2bar + 0.1, -0.1])\n",
    "\n",
    "ax_A.legend(frameon=True,loc='upper right',bbox_to_anchor=(1.6,1.0));\n",
    "\n",
    "# Define initial endowments\n",
    "omegaA1 = par.w1A\n",
    "omegaA2 = par.w2A\n",
    "omegaB1 = 1 - par.w1A\n",
    "omegaB2 = 1 - par.w2A\n",
    "\n",
    "# Generate grid of points\n",
    "N = 75\n",
    "xA1_values = np.linspace(0, 1, N+1)\n",
    "xA2_values = np.linspace(0, 1, N+1)\n",
    "\n",
    "# Initialize lists to store valid points\n",
    "valid_points_A = []\n",
    "valid_points_B = []\n",
    "\n",
    "# Check each point\n",
    "for xA1 in xA1_values:\n",
    "    for xA2 in xA2_values:\n",
    "        # Calculate corresponding B goods\n",
    "        xB1 = 1 - xA1\n",
    "        xB2 = 1 - xA2\n",
    "        # Check if point satisfies conditions\n",
    "        if model.utility_A(xA1, xA2) >= model.utility_A(omegaA1, omegaA2) and model.utility_B(xB1, xB2) >= model.utility_B(omegaB1, omegaB2):\n",
    "            valid_points_A.append((xA1, xA2))\n",
    "            valid_points_B.append((xB1, xB2))\n",
    "\n",
    "# Plot valid points\n",
    "ax_A.scatter([point[0] for point in valid_points_A], [point[1] for point in valid_points_A], marker='o', color='red', label='Valid points A')\n",
    "#NOT SURE WHAT THIS ax_A purpose is\n",
    "ax_B.scatter([point[0] for point in valid_points_B], [point[1] for point in valid_points_B], marker='o', color='blue', label='Valid points B')\n"
   ]
  },
  {
   "cell_type": "markdown",
   "metadata": {},
   "source": [
    "# Question 2"
   ]
  },
  {
   "cell_type": "markdown",
   "metadata": {},
   "source": [
    "Calculate the error in the market"
   ]
  },
  {
   "cell_type": "code",
   "execution_count": null,
   "metadata": {},
   "outputs": [],
   "source": [
    "# Define the price set P1\n",
    "N = 75\n",
    "P1 = np.array([0.5+2*i/N for i in range (N+1)])\n",
    "\n",
    "#NOAH P1:\n",
    "#P1 = np.linspace(0.5, 2.5, N+1)  # Using linspace for correct increments\n",
    "\n",
    "# Initialize lists to store errors\n",
    "errors_1 = []\n",
    "errors_2 = []\n",
    "\n",
    "# Iterate over each price level in P1\n",
    "for p1 in P1:\n",
    "    # Calculate p2 based on numeraire condition\n",
    "    p2 = 1.0\n",
    "    \n",
    "    # Calculate demanded quantities for both consumers\n",
    "    xA1, xA2 = model.demand_A(p1, p2)\n",
    "    xB1, xB2 = model.demand_B(p1, p2)\n",
    "    \n",
    "    # Calculate market clearing errors\n",
    "    epsilon1 = xA1 + xB1 - 1\n",
    "    epsilon2 = xA2 + xB2 - 1 \n",
    "\n",
    "    \n",
    "    # Append errors to lists\n",
    "    errors_1.append(epsilon1)\n",
    "    errors_2.append(epsilon2)\n",
    "\n",
    "# Print errors for each price level\n",
    "for i, p1 in enumerate(P1):\n",
    "    print(f\"Price level p1 = {p1}: Error 1 = {errors_1[i]}, Error 2 = {errors_2[i]}\")\n"
   ]
  },
  {
   "cell_type": "markdown",
   "metadata": {},
   "source": [
    "# Question 3"
   ]
  },
  {
   "cell_type": "markdown",
   "metadata": {},
   "source": [
    "What is market clearing price?"
   ]
  },
  {
   "cell_type": "markdown",
   "metadata": {},
   "source": [
    "To get market clearing price we need to have both error terms == 0\n",
    "Walras law: if one market clears also the other will\n",
    "Use iterative method to get the error very close to zero\n",
    "Look at notebook on random numbers example"
   ]
  },
  {
   "cell_type": "code",
   "execution_count": null,
   "metadata": {},
   "outputs": [],
   "source": [
    "#ISSUE: WHATEVER VALUE I ASSIGN TO P1_GUESS IT DOES NOT ADJUST BUT ONLY SAY THAT IT IS RIGHT\n",
    "\n",
    "p2 = 1.0\n",
    "p1_guess = 0.95\n",
    "N = 75 # number of agents --> Not sure why 1000, I just copied the notebook\n",
    "k = 2 # relative endowment of good 1 --> Also copied the notebook, not sure what to put here\n",
    "kappa = 0.1 # Adjustment factor for solving\n",
    "eps = 1e-8 # Tolerance parameter for solving\n",
    "maxiter=500 # Maximum iterations when solving\n",
    "#p2 = 1\n",
    "model.find_equilibrium(p1_guess, p2, N, k, eps, kappa, maxiter)"
   ]
  },
  {
   "cell_type": "code",
   "execution_count": null,
   "metadata": {},
   "outputs": [],
   "source": [
    "model.print_solution()"
   ]
  },
  {
   "cell_type": "code",
   "execution_count": null,
   "metadata": {},
   "outputs": [],
   "source": [
    "print(model.Z1,model.Z2)\n",
    "assert np.abs(model.Z1) < eps\n",
    "assert np.abs(model.Z2) < eps"
   ]
  },
  {
   "cell_type": "markdown",
   "metadata": {},
   "source": [
    "# Question 4a"
   ]
  },
  {
   "cell_type": "markdown",
   "metadata": {},
   "source": [
    "Assume that A chooses the price to maximize her own utility <br>\n",
    "4A: Find the allocation if only prices in P1 can be chosen"
   ]
  },
  {
   "cell_type": "code",
   "execution_count": null,
   "metadata": {},
   "outputs": [],
   "source": [
    "#LOOK AT THE CONSUMER PROBLEM NOTEBOOK"
   ]
  },
  {
   "cell_type": "code",
   "execution_count": null,
   "metadata": {},
   "outputs": [],
   "source": [
    "from types import SimpleNamespace \n",
    "import numpy as np\n",
    "from scipy import optimize\n",
    "import matplotlib.pyplot as plt\n",
    "plt.rcParams.update({\"axes.grid\":True,\"grid.color\":\"black\",\"grid.alpha\":\"0.25\",\"grid.linestyle\":\"--\"})\n",
    "plt.rcParams.update({'font.size': 14})"
   ]
  },
  {
   "cell_type": "markdown",
   "metadata": {},
   "source": [
    "Here p1 can only take value inside the range P1"
   ]
  },
  {
   "cell_type": "code",
   "execution_count": null,
   "metadata": {},
   "outputs": [],
   "source": [
    "#FIRST METHOD: MINIMIZE FUNCTION \n",
    "#IT IS WRONG: THE BOUNCE IS JUST LIMITS, IT DOES NOT CONSIDER ONLY THOSE VALUES"
   ]
  },
  {
   "cell_type": "code",
   "execution_count": null,
   "metadata": {},
   "outputs": [],
   "source": [
    "# Define the range for p1\n",
    "N = 75\n",
    "P1 = np.array([0.5 + 2*i/N for i in range(N+1)])\n",
    "\n",
    "# Define the utility function as a lambda function of p1\n",
    "def objective_function(p1):\n",
    "    p2_fixed = 1.0\n",
    "    return -model.utility_A(1 - model.demand_B(p1, p2_fixed)[0], 1 - model.demand_B(p1, p2_fixed)[1])\n",
    "\n",
    "\n",
    "# Find the maximum of the utility function with respect to p1\n",
    "res = optimize.minimize_scalar(objective_function, bounds=(P1[0], P1[-1]), method='bounded')\n",
    "\n",
    "# Extract the optimal value of p1 and the corresponding utility value\n",
    "p1_optimal = res.x\n",
    "max_utility = -res.fun\n",
    "\n",
    "print(f'Optimal utility is {max_utility:.8f} at p1 = {p1_optimal:.8f}')"
   ]
  },
  {
   "cell_type": "code",
   "execution_count": null,
   "metadata": {},
   "outputs": [],
   "source": [
    "N = 75\n",
    "P1 = np.array([0.5 + 2*i/N for i in range(N+1)])\n",
    "\n",
    "# Define the utility function as a lambda function of p1\n",
    "obj = lambda p1: -model.utility_A(1 - model.demand_B(p1, 1.0)[0], 1 - model.demand_B(p1, 1.0)[1])\n",
    "\n",
    "# Find the maximum of the utility function with respect to p1\n",
    "res = optimize.minimize_scalar(obj, bounds=(P1[0], P1[-1]), method='bounded')\n",
    "\n",
    "# Extract the optimal value of p1 and the corresponding utility value\n",
    "p1_optimal = res.x\n",
    "max_utility = -res.fun\n",
    "\n",
    "print(f'Optimal utility is {max_utility:.8f} at p1 = {p1_optimal:.8f}')"
   ]
  },
  {
   "cell_type": "code",
   "execution_count": null,
   "metadata": {},
   "outputs": [],
   "source": [
    "#SECOND METHOD: iterating loops\n",
    "# I THINK THIS MAY BE THE RIGHT METHOD FOR 4A"
   ]
  },
  {
   "cell_type": "code",
   "execution_count": null,
   "metadata": {},
   "outputs": [],
   "source": [
    "# Define the number of points in the grid\n",
    "N = 75\n",
    "\n",
    "# Define the range of values for p1\n",
    "P1 = np.array([0.5 + 2*i/N for i in range(N+1)])\n",
    "\n",
    "# Initialize variables to store the best utility and corresponding p1 value\n",
    "utility_best = -np.inf  # initial maximum\n",
    "p1_best = np.nan  # not-a-number\n",
    "\n",
    "# Iterate over each value of p1\n",
    "for p1 in P1:\n",
    "    # Calculate the utility for agent A using the given formula\n",
    "    utility = model.utility_A(1 - model.demand_B(p1, 1.0)[0], 1 - model.demand_B(p1, 1.0)[1])\n",
    "    \n",
    "    # Update the best utility and corresponding p1 if the current utility is higher\n",
    "    if utility > utility_best:\n",
    "        utility_best = utility\n",
    "        p1_best = p1\n",
    "\n",
    "# Print the result\n",
    "print(f'Best utility is {utility_best:.8f} at p1 = {p1_best:.8f}')"
   ]
  },
  {
   "cell_type": "code",
   "execution_count": null,
   "metadata": {},
   "outputs": [],
   "source": [
    "# Define the number of points in the grid\n",
    "N = 75\n",
    "\n",
    "# Define the range of values for p1\n",
    "P1 = np.array([0.5 + 2*i/N for i in range(N+1)])\n",
    "\n",
    "# Initialize variables to store the best utility and corresponding p1 value\n",
    "utility_best = -np.inf  # initial maximum\n",
    "p1_best = np.nan  # not-a-number\n",
    "\n",
    "# Iterate over each value of p1\n",
    "for p1 in P1:\n",
    "    # Calculate the utility for agent A using the given formula\n",
    "    arguments = (1 - model.demand_B(p1, 1.0)[0], 1 - model.demand_B(p1, 1.0)[1])\n",
    "    utility = model.utility_A(*arguments)\n",
    "    \n",
    "    # Update the best utility and corresponding p1 if the current utility is higher\n",
    "    if utility > utility_best:\n",
    "        utility_best = utility\n",
    "        p1_best = p1\n",
    "        best_arguments = arguments\n",
    "\n",
    "# Print the result\n",
    "print(f'Best utility is {utility_best:.8f} at p1 = {p1_best:.8f}')\n",
    "print(f'Arguments of utility function at the best point: {best_arguments}')"
   ]
  },
  {
   "cell_type": "markdown",
   "metadata": {},
   "source": [
    "# Question 4b"
   ]
  },
  {
   "cell_type": "code",
   "execution_count": null,
   "metadata": {},
   "outputs": [],
   "source": [
    "#FIRST METHOD:"
   ]
  },
  {
   "cell_type": "code",
   "execution_count": null,
   "metadata": {},
   "outputs": [],
   "source": [
    "# # Define the number of points in the grid for both p1 and p2\n",
    "# N = 100\n",
    "\n",
    "# # Create vectors of price levels for p1 and p2\n",
    "# p1_vec = np.linspace(0.01, 10, N)  # Range for p1 as specified in the problem statement\n",
    "# p2_vec = np.linspace(0.01, 10, N)  # Range for p2\n",
    "\n",
    "# # Initialize variables to store the best utility and corresponding prices\n",
    "# utility_best = -np.inf  # initial maximum\n",
    "# p1_best = np.nan  # not-a-number\n",
    "# p2_best = np.nan\n",
    "\n",
    "# # Iterate over each combination of prices (p1, p2)\n",
    "# for p1 in p1_vec:\n",
    "#     for p2 in p2_vec:\n",
    "#         # Calculate the utility for A at the current p1 and p2\n",
    "#         utility_now = model.utility_A(p1, p2) #THIS DOES NOT WORK, REDEFINE UTILITY BASED ON DEMAND...CONSIDERS DIRECTLY PRICES\n",
    "#         #utility_now = model.utility_A(1 - model.demand_B(p1, p2)[0], 1 - model.demand_B(p1, p2)[1])\n",
    "        \n",
    "#         # Update the best utility and corresponding prices if the current utility is higher\n",
    "#         if utility_now > utility_best:\n",
    "#             p1_best = p1\n",
    "#             p2_best = p2\n",
    "#             utility_best = utility_now\n",
    "\n",
    "# # Print the result\n",
    "# print(f'Best utility is {utility_best:.8f} at p1 = {p1_best:.8f} and p2 = {p2_best:.8f}')"
   ]
  },
  {
   "cell_type": "code",
   "execution_count": null,
   "metadata": {},
   "outputs": [],
   "source": [
    "# # Define the number of points in the grid for both p1 and p2\n",
    "# N = 100\n",
    "\n",
    "# # Create vectors of price levels for p1 and p2\n",
    "# p1_vec = np.linspace(0.01, 10, N)  # Start from 0.01 to avoid division by zero\n",
    "# p2_vec = np.linspace(0.01, 10, N)  # Start from 0.01 to avoid division by zero\n",
    "\n",
    "# # Initialize variables to store the best utility and corresponding prices\n",
    "# utility_best = -np.inf  # initial maximum\n",
    "# p1_best = np.nan  # not-a-number\n",
    "# p2_best = np.nan\n",
    "\n",
    "# # Iterate over each combination of prices (p1, p2)\n",
    "# for p1 in p1_vec:\n",
    "#     for p2 in p2_vec:\n",
    "#         # Calculate the utility for A at the current p1 and p2\n",
    "#         utility_now = model.utility_A(1 - model.demand_B(p1, p2)[0], 1 - model.demand_B(p1, p2)[1])\n",
    "        \n",
    "#         # Update the best utility and corresponding prices if the current utility is higher\n",
    "#         if utility_now > utility_best:\n",
    "#             p1_best = p1\n",
    "#             p2_best = p2\n",
    "#             utility_best = utility_now\n",
    "\n",
    "# # Print the result\n",
    "# print(f'Best utility is {utility_best:.8f} at p1 = {p1_best:.8f} and p2 = {p2_best:.8f}')"
   ]
  },
  {
   "cell_type": "code",
   "execution_count": null,
   "metadata": {},
   "outputs": [],
   "source": [
    "#SECOND METHOD:"
   ]
  },
  {
   "cell_type": "code",
   "execution_count": null,
   "metadata": {},
   "outputs": [],
   "source": [
    "# from scipy.optimize import minimize\n",
    "\n",
    "# # Define the objective function to maximize utility for agent A\n",
    "# def objective_function(prices):\n",
    "#     p1, p2 = prices\n",
    "#     return -model.utility_A(1 - model.demand_B(p1, p2)[0], 1 - model.demand_B(p1, p2)[1])\n",
    "\n",
    "# # Initial guess for prices\n",
    "# initial_prices = [0.5, 0.5]  # Starting from balanced prices\n",
    "\n",
    "# # Set bounds for prices (both should be positive)\n",
    "# bounds = [(0.01, None), (0.01, None)]\n",
    "\n",
    "# # Find the maximum of the utility function with respect to p1 and p2\n",
    "# res = minimize(objective_function, initial_prices, bounds=bounds)\n",
    "\n",
    "# # Extract the optimal values of p1 and p2 and the corresponding utility value\n",
    "# p1_optimal, p2_optimal = res.x\n",
    "# max_utility = -res.fun\n",
    "\n",
    "# print(f'Optimal utility is {max_utility:.8f} at p1 = {p1_optimal:.8f} and p2 = {p2_optimal:.8f}')"
   ]
  },
  {
   "cell_type": "markdown",
   "metadata": {},
   "source": [
    "Here p1 can change and take whatever values"
   ]
  },
  {
   "cell_type": "code",
   "execution_count": null,
   "metadata": {},
   "outputs": [],
   "source": [
    "from scipy.optimize import minimize\n",
    "\n",
    "# Define the objective function to maximize utility for agent A\n",
    "def objective_function(p1):\n",
    "    p2_fixed = 1.0 \n",
    "    return -model.utility_A(1 - model.demand_B(p1, p2_fixed)[0], 1 - model.demand_B(p1, p2_fixed)[1])\n",
    "\n",
    "# Initial guess for p1\n",
    "initial_p1 = 0.1  # Starting from a balanced price for p1\n",
    "\n",
    "# Set bounds for p1 (should be positive)\n",
    "bounds = [(0.01, None)]\n",
    "\n",
    "# Find the maximum of the utility function with respect to p1\n",
    "res = minimize(objective_function, initial_p1, bounds=bounds)\n",
    "\n",
    "# Extract the optimal value of p1 and the corresponding utility value\n",
    "p1_optimal = res.x[0]\n",
    "max_utility = -res.fun\n",
    "\n",
    "print(f'Optimal utility is {max_utility:.8f} at p1 = {p1_optimal:.8f} with p2 fixed at 1.0')"
   ]
  },
  {
   "cell_type": "code",
   "execution_count": null,
   "metadata": {},
   "outputs": [],
   "source": [
    "#SECOND METHOD: defining minimize function"
   ]
  },
  {
   "cell_type": "code",
   "execution_count": null,
   "metadata": {},
   "outputs": [],
   "source": [
    "# Define the utility function as a lambda function of p1\n",
    "p2_fixed = 1.0\n",
    "obj = lambda x: -model.utility_A(1 - model.demand_B(p1, p2_fixed)[0], 1 - model.demand_B(p1, p2_fixed)[1])\n",
    "\n",
    "# Find the maximum of the utility function with respect to p1\n",
    "res = optimize.minimize_scalar(obj, bracket=(0.05, 10), method='brent')\n",
    "\n",
    "# Extract the optimal value of p1 and the corresponding utility value\n",
    "p1_optimal = res.x\n",
    "max_utility = -res.fun\n",
    "\n",
    "print(f'Optimal utility is {max_utility:.8f} at p1 = {p1_optimal:.8f}')"
   ]
  },
  {
   "cell_type": "code",
   "execution_count": null,
   "metadata": {},
   "outputs": [],
   "source": [
    "from scipy.optimize import minimize\n",
    "\n",
    "# Define the objective function to maximize utility for agent A\n",
    "def objective_function(p1):\n",
    "    p2_fixed = 1.0  # Fix p2 at 1.0\n",
    "    return -model.utility_A(1 - model.demand_B(p1, p2_fixed)[0], 1 - model.demand_B(p1, p2_fixed)[1])\n",
    "\n",
    "# Initial guess for p1\n",
    "initial_p1 = 0.05  # Starting from a balanced price for p1\n",
    "\n",
    "# Set bounds for p1 (should be positive)\n",
    "bounds = [(0.01, None)]\n",
    "\n",
    "# Find the maximum of the utility function with respect to p1\n",
    "res = minimize(objective_function, initial_p1, bounds=bounds)\n",
    "\n",
    "# Extract the optimal value of p1 and the corresponding utility value\n",
    "p1_optimal = res.x[0]\n",
    "max_utility = -res.fun\n",
    "\n",
    "print(f'Optimal utility is {max_utility:.8f} at p1 = {p1_optimal:.8f} with p2 fixed at 1.0')"
   ]
  },
  {
   "cell_type": "code",
   "execution_count": null,
   "metadata": {},
   "outputs": [],
   "source": [
    "#SECOND METHOD: iterating loops\n"
   ]
  },
  {
   "cell_type": "code",
   "execution_count": null,
   "metadata": {},
   "outputs": [],
   "source": [
    "N = 75\n",
    "#P1 = np.array([0.5 + 2*i/N for i in range(N+1)])\n",
    "p1_vec = np.linspace(0, 1, N)\n",
    "utility_vec = np.empty(N)\n",
    "\n",
    "utility_best = -np.inf  # initial maximum\n",
    "p1_best = np.nan  # not-a-number\n",
    "\n",
    "for i, x in enumerate(p1_vec):\n",
    "    utility_now = model.utility_A(x, p2)  # Call utility_A4 with x and p2\n",
    "    utility_vec[i] = utility_now  # Store the utility in the vector\n",
    "    if utility_now > utility_best:\n",
    "        p1_best = x  # Update p1_best with the current x value\n",
    "        utility_best = utility_now\n",
    "\n",
    "print(f'best with loop is {utility_best:.8f} at x = {p1_best:.8f}')"
   ]
  },
  {
   "cell_type": "code",
   "execution_count": null,
   "metadata": {},
   "outputs": [],
   "source": [
    "#MAY BE WRONG: I WANT ALL POSSIBLE VALUES\n",
    "\n",
    "# Define the number of points in the grid\n",
    "N = 75\n",
    "\n",
    "# Create a vector of price levels for p1\n",
    "p1_vec = np.linspace(0.01, 10, N)\n",
    "\n",
    "# Initialize variables to store the best utility and corresponding p1 value\n",
    "utility_best = -np.inf  # initial maximum\n",
    "p1_best = np.nan  # not-a-number\n",
    "\n",
    "# Iterate over each price level in p1_vec\n",
    "for p1 in p1_vec:\n",
    "    print(\"Current p1:\", p1)\n",
    "    # Calculate the utility for A at the current p1 and p2\n",
    "    #utility_now = model.utility_A(p1, p2)\n",
    "    #utility_now = model.utility_A(1 - model.demand_B(p1, p2)[0], p2)\n",
    "    utility_now = model.utility_A(1 - model.demand_B(p1, p2)[0], 1 - model.demand_B(p1, p2)[1])\n",
    "    print(\"Current utility:\", utility_now)\n",
    "    \n",
    "    # Update the best utility and corresponding p1 if the current utility is higher\n",
    "    if utility_now > utility_best:\n",
    "        p1_best = p1\n",
    "        utility_best = utility_now\n",
    "\n",
    "# Print the result\n",
    "print(f'Best utility is {utility_best:.8f} at p1 = {p1_best:.8f}')"
   ]
  },
  {
   "cell_type": "markdown",
   "metadata": {},
   "source": [
    "# Question 4a Final"
   ]
  },
  {
   "cell_type": "code",
   "execution_count": null,
   "metadata": {},
   "outputs": [],
   "source": [
    "# Define the number of points in the grid\n",
    "N = 75 #from task\n",
    "\n",
    "# Define the range of values for p1\n",
    "P1 = np.array([0.5 + 2*i/N for i in range(N+1)])\n",
    "\n",
    "# Initialize variables to store the best utility and corresponding p1 value\n",
    "utility_best = -np.inf  # initial maximum\n",
    "p1_best = np.nan  # not-a-number\n",
    "\n",
    "# Iterate over each value of p1\n",
    "for p1 in P1:\n",
    "    # Calculate the utility for agent A using the given formula\n",
    "    arguments = (1 - model.demand_B(p1, 1.0)[0], 1 - model.demand_B(p1, 1.0)[1])\n",
    "    utility = model.utility_A(*arguments)\n",
    "    \n",
    "    # Update the best utility and corresponding p1 if the current utility is higher\n",
    "    if utility > utility_best:\n",
    "        utility_best = utility\n",
    "        p1_best = p1\n",
    "        best_arguments = arguments\n",
    "\n",
    "# Print the result\n",
    "print(f'Best utility is {utility_best:.8f} at p1 = {p1_best:.8f}')\n",
    "print(f'Arguments of utility function at the best point: {best_arguments}')"
   ]
  },
  {
   "cell_type": "code",
   "execution_count": null,
   "metadata": {},
   "outputs": [],
   "source": [
    "#Darja code:\n",
    "negative_utility = -np.inf\n",
    "value = []\n",
    "x1_0 = []\n",
    "x2_0 = []\n",
    "p_solution = np.nan\n",
    "\n",
    "N = 75  ## from task\n",
    "P1 = []\n",
    "for i in range(N + 1):\n",
    "    P1.append( 0.5 + i * (2 / N))\n",
    "P1 = np.round(P1,3)\n",
    "print(P1)\n",
    "\n",
    "\n",
    "for p1 in P1: \n",
    "    x1B, x2B = model.demand_B(p1, 1.0) \n",
    "    x1A = 1 - x1B \n",
    "    x2A = 1 - x2B\n",
    "    utility_A_now = model.utility_A(1-x1B, 1-x2B)\n",
    "    if utility_A_now > negative_utility: \n",
    "        negative_utility = utility_A_now\n",
    "        x1_0.append(x1A)\n",
    "        x2_0.append(x2A)\n",
    "        p_solution = p1\n",
    "\n",
    "print(\"Maximum Utility for A:\", negative_utility)\n",
    "print(\"Optimal x1 for A:\", x1_0)\n",
    "print(\"Optimal x2 for A:\", x2_0)\n",
    "print(\"Optimal price:\", p_solution)\n",
    "print(\"Demand for A at optimal price:\", model.demand_A(p_solution, 1.0))"
   ]
  },
  {
   "cell_type": "markdown",
   "metadata": {},
   "source": [
    "# Question 4b Final"
   ]
  },
  {
   "cell_type": "code",
   "execution_count": null,
   "metadata": {},
   "outputs": [],
   "source": [
    "#NOT SURE ABOUT THIS: IF I CHANGE INITIAL_P1 (NOT 0.5) IT DOES NOT WORK\n",
    "\n",
    "# Define the objective function to maximize utility for agent A\n",
    "def objective_function(p1):\n",
    "    p2_fixed = 1.0  # Fix p2 at 1.0\n",
    "    return -model.utility_A(1 - model.demand_B(p1, p2_fixed)[0], 1 - model.demand_B(p1, p2_fixed)[1])\n",
    "\n",
    "# Initial guess for p1\n",
    "initial_p1 = 0.5 # Starting from a balanced price for p1\n",
    "\n",
    "# Set bounds for p1 (should be positive)\n",
    "bounds = [(0.01, None)]\n",
    "\n",
    "# Find the maximum of the utility function with respect to p1\n",
    "res = minimize(objective_function, initial_p1, bounds=bounds)\n",
    "\n",
    "# Extract the optimal value of p1 and the corresponding utility value\n",
    "p1_optimal = res.x[0]\n",
    "max_utility = -res.fun\n",
    "\n",
    "print(f'Optimal utility is {max_utility:.8f} at p1 = {p1_optimal:.8f} with p2 fixed at 1.0')"
   ]
  },
  {
   "cell_type": "code",
   "execution_count": null,
   "metadata": {},
   "outputs": [],
   "source": [
    "#SECOND METHOD: Iterative for loop:"
   ]
  },
  {
   "cell_type": "code",
   "execution_count": null,
   "metadata": {},
   "outputs": [],
   "source": [
    "# Define the range of values for p1\n",
    "p1_values = np.linspace(0.01, 10, 1000)  # Adjust the range and number of points as needed\n",
    "\n",
    "# Initialize variables to store the best utility and corresponding p1 value\n",
    "max_utility = -np.inf\n",
    "optimal_p1 = None\n",
    "\n",
    "# Iterate over each value of p1\n",
    "for p1 in p1_values:\n",
    "    # Calculate the utility for agent A using the given formula\n",
    "    utility = model.utility_A(1 - model.demand_B(p1, 1.0)[0], 1 - model.demand_B(p1, 1.0)[1])\n",
    "    \n",
    "    # Update the best utility and corresponding p1 if the current utility is higher\n",
    "    if utility > max_utility:\n",
    "        max_utility = utility\n",
    "        optimal_p1 = p1\n",
    "\n",
    "# Print the result\n",
    "print(f'Optimal utility is {max_utility:.8f} at p1 = {optimal_p1:.8f}')"
   ]
  },
  {
   "cell_type": "code",
   "execution_count": null,
   "metadata": {},
   "outputs": [],
   "source": []
  },
  {
   "cell_type": "markdown",
   "metadata": {},
   "source": [
    "# Question 5a"
   ]
  },
  {
   "cell_type": "code",
   "execution_count": null,
   "metadata": {},
   "outputs": [],
   "source": [
    "#code"
   ]
  },
  {
   "cell_type": "markdown",
   "metadata": {},
   "source": [
    "# Question 5b"
   ]
  },
  {
   "cell_type": "code",
   "execution_count": null,
   "metadata": {},
   "outputs": [],
   "source": [
    "#CODE"
   ]
  },
  {
   "cell_type": "markdown",
   "metadata": {},
   "source": [
    "# Question 6a"
   ]
  },
  {
   "cell_type": "markdown",
   "metadata": {},
   "source": [
    "Assume A’s and B’s consumption are chosen by a utilitarian social planner to maximize aggregate utility"
   ]
  },
  {
   "cell_type": "code",
   "execution_count": null,
   "metadata": {},
   "outputs": [],
   "source": [
    "from scipy.optimize import minimize\n",
    "\n",
    "# Define the objective function to maximize utility for everyone\n",
    "def objective_function1(demand):\n",
    "    x1A, x2A = demand\n",
    "    return -model.utility_aggregate(x1A, x2A)\n",
    "\n",
    "# Initial guess for demand\n",
    "initial_demand = [0.5, 0.5]  # Starting from balanced prices\n",
    "\n",
    "# Set bounds for prices (both should be positive)\n",
    "bounds = [(0, 1), (0, 1)]\n",
    "\n",
    "# Find the maximum of the utility function with respect to p1 and p2\n",
    "res = minimize(objective_function1, initial_demand, bounds=bounds)\n",
    "\n",
    "# Extract the optimal values of p1 and p2 and the corresponding utility value\n",
    "x1A_optimal, x2A_optimal = res.x\n",
    "max_utility = -res.fun\n",
    "\n",
    "print(f'Optimal utility is {max_utility:.8f} at x1A = {x1A_optimal:.8f} and x2A = {x2A_optimal:.8f}')\n"
   ]
  },
  {
   "cell_type": "markdown",
   "metadata": {},
   "source": [
    "# Question 6b"
   ]
  },
  {
   "cell_type": "markdown",
   "metadata": {},
   "source": [
    "Illustrate and compare with your results in questions 3)-5). <br>\n",
    "Discuss the pros and cons of the various allocations."
   ]
  },
  {
   "cell_type": "code",
   "execution_count": null,
   "metadata": {},
   "outputs": [],
   "source": [
    "par = model.par\n",
    "\n",
    "# a. total endowment\n",
    "w1bar = 1.0\n",
    "w2bar = 1.0\n",
    "\n",
    "# b. figure set up\n",
    "fig = plt.figure(frameon=False,figsize=(6,6), dpi=100)\n",
    "ax_A = fig.add_subplot(1, 1, 1)\n",
    "\n",
    "ax_A.set_xlabel(\"$x_1^A$\")\n",
    "ax_A.set_ylabel(\"$x_2^A$\")\n",
    "\n",
    "temp = ax_A.twinx()\n",
    "temp.set_ylabel(\"$x_2^B$\")\n",
    "ax_B = temp.twiny()\n",
    "ax_B.set_xlabel(\"$x_1^B$\")\n",
    "ax_B.invert_xaxis()\n",
    "ax_B.invert_yaxis()\n",
    "\n",
    "# A\n",
    "ax_A.scatter(par.w1A,par.w2A,marker='s',color='black',label='endowment')\n",
    "#just added another point here as aggregated_utility\n",
    "ax_A.scatter(x1A_optimal,x2A_optimal,marker='s',color='black',label='aggregated utility')\n",
    "\n",
    "# limits\n",
    "ax_A.plot([0,w1bar],[0,0],lw=2,color='black')\n",
    "ax_A.plot([0,w1bar],[w2bar,w2bar],lw=2,color='black')\n",
    "ax_A.plot([0,0],[0,w2bar],lw=2,color='black')\n",
    "ax_A.plot([w1bar,w1bar],[0,w2bar],lw=2,color='black')\n",
    "\n",
    "ax_A.set_xlim([-0.1, w1bar + 0.1])\n",
    "ax_A.set_ylim([-0.1, w2bar + 0.1])    \n",
    "ax_B.set_xlim([w1bar + 0.1, -0.1])\n",
    "ax_B.set_ylim([w2bar + 0.1, -0.1])\n",
    "\n",
    "ax_A.legend(frameon=True,loc='upper right',bbox_to_anchor=(1.6,1.0));\n",
    "\n",
    "# Define initial endowments\n",
    "omegaA1 = par.w1A\n",
    "omegaA2 = par.w2A\n",
    "omegaB1 = 1 - par.w1A\n",
    "omegaB2 = 1 - par.w2A\n",
    "\n",
    "# Generate grid of points\n",
    "N = 75\n",
    "xA1_values = np.linspace(0, 1, N+1)\n",
    "xA2_values = np.linspace(0, 1, N+1)\n",
    "\n",
    "# Initialize lists to store valid points\n",
    "valid_points_A = []\n",
    "valid_points_B = []\n",
    "\n",
    "# Check each point\n",
    "for xA1 in xA1_values:\n",
    "    for xA2 in xA2_values:\n",
    "        # Calculate corresponding B goods\n",
    "        xB1 = 1 - xA1\n",
    "        xB2 = 1 - xA2\n",
    "        # Check if point satisfies conditions\n",
    "        if model.utility_A(xA1, xA2) >= model.utility_A(omegaA1, omegaA2) and model.utility_B(xB1, xB2) >= model.utility_B(omegaB1, omegaB2):\n",
    "            valid_points_A.append((xA1, xA2))\n",
    "            valid_points_B.append((xB1, xB2))\n",
    "\n",
    "# Plot valid points\n",
    "ax_A.scatter([point[0] for point in valid_points_A], [point[1] for point in valid_points_A], marker='o', color='red', label='Valid points A', alpha=0.2)\n",
    "#NOT SURE WHAT THIS ax_A purpose is\n",
    "ax_B.scatter([point[0] for point in valid_points_B], [point[1] for point in valid_points_B], marker='o', color='blue', label='Valid points B', alpha=0.2)\n"
   ]
  },
  {
   "cell_type": "markdown",
   "metadata": {},
   "source": [
    "# Question 7"
   ]
  },
  {
   "cell_type": "markdown",
   "metadata": {},
   "source": [
    "Draw a set W with 50 elements"
   ]
  },
  {
   "cell_type": "code",
   "execution_count": null,
   "metadata": {},
   "outputs": [],
   "source": [
    "# Define the number of elements in the set\n",
    "num_elements = 50\n",
    "np.random.seed(1657)\n",
    "# Generate random values for omega1A and omega2A\n",
    "omega1A_values = np.random.uniform(0, 1, num_elements)\n",
    "omega2A_values = np.random.uniform(0, 1, num_elements)\n",
    "\n",
    "# Combine omega1A and omega2A into tuples to form the set W\n",
    "W = [(omega1A_values[i], omega2A_values[i]) for i in range(num_elements)]\n",
    "\n",
    "# Print the set W\n",
    "print(\"Set W:\")\n",
    "for pair in W:\n",
    "    print(pair)"
   ]
  },
  {
   "cell_type": "code",
   "execution_count": null,
   "metadata": {},
   "outputs": [],
   "source": []
  },
  {
   "cell_type": "code",
   "execution_count": null,
   "metadata": {},
   "outputs": [],
   "source": []
  }
 ],
 "metadata": {
  "kernelspec": {
   "display_name": "base",
   "language": "python",
   "name": "python3"
  },
  "language_info": {
   "codemirror_mode": {
    "name": "ipython",
    "version": 3
   },
   "file_extension": ".py",
   "mimetype": "text/x-python",
   "name": "python",
   "nbconvert_exporter": "python",
   "pygments_lexer": "ipython3",
   "version": "3.9.18"
  }
 },
 "nbformat": 4,
 "nbformat_minor": 2
}
