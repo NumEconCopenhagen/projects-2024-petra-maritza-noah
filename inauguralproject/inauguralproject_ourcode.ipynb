{
 "cells": [
  {
   "cell_type": "markdown",
   "metadata": {},
   "source": [
    "# Inaugural Project"
   ]
  },
  {
   "attachments": {},
   "cell_type": "markdown",
   "metadata": {},
   "source": [
    "> **Note the following:** \n",
    "> 1. This is an example of how to structure your **inaugural project**.\n",
    "> 1. Remember the general advice on structuring and commenting your code\n",
    "> 1. The `inauguralproject.py` file includes a function which can be used multiple times in this notebook."
   ]
  },
  {
   "cell_type": "markdown",
   "metadata": {},
   "source": [
    "new code"
   ]
  },
  {
   "cell_type": "markdown",
   "metadata": {},
   "source": [
    "Imports and set magics: THIS IS A TEST! "
   ]
  },
  {
   "cell_type": "code",
   "execution_count": 7,
   "metadata": {},
   "outputs": [
    {
     "name": "stdout",
     "output_type": "stream",
     "text": [
      "The autoreload extension is already loaded. To reload it, use:\n",
      "  %reload_ext autoreload\n"
     ]
    }
   ],
   "source": [
    "import matplotlib.pyplot as plt\n",
    "plt.rcParams.update({\"axes.grid\":True,\"grid.color\":\"black\",\"grid.alpha\":\"0.25\",\"grid.linestyle\":\"--\"})\n",
    "plt.rcParams.update({'font.size': 14})\n",
    "\n",
    "%load_ext autoreload\n",
    "%autoreload 2"
   ]
  },
  {
   "cell_type": "code",
   "execution_count": 8,
   "metadata": {},
   "outputs": [
    {
     "name": "stdout",
     "output_type": "stream",
     "text": [
      "The autoreload extension is already loaded. To reload it, use:\n",
      "  %reload_ext autoreload\n"
     ]
    }
   ],
   "source": [
    "import numpy as np\n",
    "\n",
    "# autoreload modules when code is run. Otherwise, python will not see recent changes. \n",
    "%load_ext autoreload\n",
    "%autoreload 2\n",
    "\n",
    "\n",
    "# Import your own code\n",
    "import inauguralproject"
   ]
  },
  {
   "cell_type": "code",
   "execution_count": 9,
   "metadata": {},
   "outputs": [],
   "source": [
    "#I think we can cut this cell, I'm just not sure if we need to define p2 somewhere\n",
    "\n",
    "#def utility functions\n",
    "def utility_A(x1A, x2A, alpha):\n",
    "    return x1A**alpha * x2A**(1 - alpha)\n",
    "\n",
    "def utility_B(x1B, x2B, beta):\n",
    "    return x1B**beta * x2B**(1 - beta)\n",
    "\n",
    "# Define demand functions\n",
    "def demand_A(p1, p2, w1A, w2A, alpha):\n",
    "    x1A = alpha *(p1 * w1A + p2 * w2A) / p1\n",
    "    x2A = (1 - alpha) * (p1 * w1A + p2 * w2A) / p2\n",
    "    return x1, x2\n",
    "\n",
    "def demand_B(p1, p2, w1B, w2B, beta):\n",
    "    x1B = beta * (p1 * w1B + p2 * w2B) / p1\n",
    "    x2B = (1 - beta) * (p1 * w1B + p2 * w2B) / p2\n",
    "    return x1, x2\n",
    "\n",
    "# Define market equilibrium conditions\n",
    "def market_clearing_condition(demand_A, demand_B, w1A, w2A, w1B, w2B):\n",
    "    return (\n",
    "        demand_A[0] + demand_B[0] - w1A - w1B,\n",
    "        demand_A[1] + demand_B[1] - w2A - w2B)\n",
    "\n",
    "# Calibration parameters\n",
    "alpha = 1/3\n",
    "beta = 2/3\n",
    "\n",
    "# Numeraire\n",
    "p2 = 1"
   ]
  },
  {
   "cell_type": "code",
   "execution_count": 10,
   "metadata": {},
   "outputs": [],
   "source": [
    "from exchangeeconomy_ourcode import ExchangeEconomyClass"
   ]
  },
  {
   "cell_type": "markdown",
   "metadata": {},
   "source": [
    "# Question 1"
   ]
  },
  {
   "cell_type": "markdown",
   "metadata": {},
   "source": [
    "**Explain how you solve the model**"
   ]
  },
  {
   "cell_type": "markdown",
   "metadata": {},
   "source": [
    "model = ExchangeEconomyClass()"
   ]
  },
  {
   "cell_type": "code",
   "execution_count": 11,
   "metadata": {},
   "outputs": [
    {
     "name": "stdout",
     "output_type": "stream",
     "text": [
      "[1 4 9]\n"
     ]
    }
   ],
   "source": [
    "# code for solving the model (remember documentation and comments)\n",
    "\n",
    "a = np.array([1,2,3])\n",
    "b = inauguralproject.square(a)\n",
    "print(b)"
   ]
  },
  {
   "cell_type": "code",
   "execution_count": 12,
   "metadata": {},
   "outputs": [
    {
     "ename": "NameError",
     "evalue": "name 'model' is not defined",
     "output_type": "error",
     "traceback": [
      "\u001b[1;31m---------------------------------------------------------------------------\u001b[0m",
      "\u001b[1;31mNameError\u001b[0m                                 Traceback (most recent call last)",
      "Cell \u001b[1;32mIn[12], line 1\u001b[0m\n\u001b[1;32m----> 1\u001b[0m par \u001b[38;5;241m=\u001b[39m model\u001b[38;5;241m.\u001b[39mpar\n\u001b[0;32m      3\u001b[0m \u001b[38;5;66;03m# a. total endowment\u001b[39;00m\n\u001b[0;32m      4\u001b[0m w1bar \u001b[38;5;241m=\u001b[39m \u001b[38;5;241m1.0\u001b[39m\n",
      "\u001b[1;31mNameError\u001b[0m: name 'model' is not defined"
     ]
    }
   ],
   "source": [
    "par = model.par\n",
    "\n",
    "# a. total endowment\n",
    "w1bar = 1.0\n",
    "w2bar = 1.0\n",
    "\n",
    "# b. figure set up\n",
    "fig = plt.figure(frameon=False,figsize=(6,6), dpi=100)\n",
    "ax_A = fig.add_subplot(1, 1, 1)\n",
    "\n",
    "ax_A.set_xlabel(\"$x_1^A$\")\n",
    "ax_A.set_ylabel(\"$x_2^A$\")\n",
    "\n",
    "temp = ax_A.twinx()\n",
    "temp.set_ylabel(\"$x_2^B$\")\n",
    "ax_B = temp.twiny()\n",
    "ax_B.set_xlabel(\"$x_1^B$\")\n",
    "ax_B.invert_xaxis()\n",
    "ax_B.invert_yaxis()\n",
    "\n",
    "# A\n",
    "ax_A.scatter(par.w1A,par.w2A,marker='s',color='black',label='endowment')\n",
    "\n",
    "# limits\n",
    "ax_A.plot([0,w1bar],[0,0],lw=2,color='black')\n",
    "ax_A.plot([0,w1bar],[w2bar,w2bar],lw=2,color='black')\n",
    "ax_A.plot([0,0],[0,w2bar],lw=2,color='black')\n",
    "ax_A.plot([w1bar,w1bar],[0,w2bar],lw=2,color='black')\n",
    "\n",
    "ax_A.set_xlim([-0.1, w1bar + 0.1])\n",
    "ax_A.set_ylim([-0.1, w2bar + 0.1])    \n",
    "ax_B.set_xlim([w1bar + 0.1, -0.1])\n",
    "ax_B.set_ylim([w2bar + 0.1, -0.1])\n",
    "\n",
    "ax_A.legend(frameon=True,loc='upper right',bbox_to_anchor=(1.6,1.0));\n",
    "\n",
    "# Define initial endowments\n",
    "omegaA1 = par.w1A\n",
    "omegaA2 = par.w2A\n",
    "omegaB1 = 1 - par.w1A\n",
    "omegaB2 = 1 - par.w2A\n",
    "\n",
    "# Generate grid of points\n",
    "N = 75\n",
    "xA1_values = np.linspace(0, 1, N+1)\n",
    "xA2_values = np.linspace(0, 1, N+1)\n",
    "\n",
    "# Initialize lists to store valid points\n",
    "valid_points_A = []\n",
    "valid_points_B = []\n",
    "\n",
    "# Check each point\n",
    "for xA1 in xA1_values:\n",
    "    for xA2 in xA2_values:\n",
    "        # Calculate corresponding B goods\n",
    "        xB1 = 1 - xA1\n",
    "        xB2 = 1 - xA2\n",
    "        # Check if point satisfies conditions\n",
    "        if utility_A(xA1, xA2, alpha) >= utility_A(omegaA1, omegaA2, alpha) and utility_B(xB1, xB2, beta) >= utility_B(omegaB1, omegaB2, beta):\n",
    "            valid_points_A.append((xA1, xA2))\n",
    "            valid_points_B.append((xB1, xB2))\n",
    "\n",
    "# Plot valid points\n",
    "ax_A.scatter([point[0] for point in valid_points_A], [point[1] for point in valid_points_A], marker='o', color='red', label='Valid points A')\n",
    "ax_B.scatter([point[0] for point in valid_points_B], [point[1] for point in valid_points_B], marker='o', color='blue', label='Valid points B')\n"
   ]
  },
  {
   "cell_type": "markdown",
   "metadata": {},
   "source": [
    "# Question 2"
   ]
  },
  {
   "cell_type": "markdown",
   "metadata": {},
   "source": [
    "Calculate the error in the market"
   ]
  },
  {
   "cell_type": "code",
   "execution_count": null,
   "metadata": {},
   "outputs": [
    {
     "name": "stdout",
     "output_type": "stream",
     "text": [
      "For p1=0.5:\n",
      "e_1(p, w) = -2.5\n",
      "e_2(p, w) = -2.5\n",
      "---\n",
      "For p1=0.7:\n",
      "e_1(p, w) = -1.5000000000000004\n",
      "e_2(p, w) = -1.5000000000000004\n",
      "---\n",
      "For p1=0.9:\n",
      "e_1(p, w) = -0.4999999999999998\n",
      "e_2(p, w) = -0.4999999999999998\n",
      "---\n",
      "For p1=1.1:\n",
      "e_1(p, w) = 0.5000000000000004\n",
      "e_2(p, w) = 0.5000000000000004\n",
      "---\n",
      "For p1=1.3:\n",
      "e_1(p, w) = 1.5000000000000004\n",
      "e_2(p, w) = 1.5000000000000004\n",
      "---\n",
      "For p1=1.5:\n",
      "e_1(p, w) = 2.5\n",
      "e_2(p, w) = 2.5\n",
      "---\n",
      "For p1=1.7:\n",
      "e_1(p, w) = 3.5\n",
      "e_2(p, w) = 3.5\n",
      "---\n",
      "For p1=1.9:\n",
      "e_1(p, w) = 4.499999999999999\n",
      "e_2(p, w) = 4.499999999999999\n",
      "---\n",
      "For p1=2.1:\n",
      "e_1(p, w) = 5.500000000000001\n",
      "e_2(p, w) = 5.500000000000001\n",
      "---\n",
      "For p1=2.3:\n",
      "e_1(p, w) = 6.5\n",
      "e_2(p, w) = 6.5\n",
      "---\n",
      "For p1=2.5:\n",
      "e_1(p, w) = 7.5\n",
      "e_2(p, w) = 7.5\n",
      "---\n"
     ]
    }
   ],
   "source": [
    "# Given values  \n",
    "N=10\n",
    "P1 = np.array([0.5+2*i/N for i in range (N+1)])\n",
    "wA = np.array([1.0, 2.0])\n",
    "wB = np.array([0.5,1.5])\n",
    "\n",
    "#Define functions for xA and xB\n",
    "def xA (p,w):\n",
    "    return np.array([p,p])* w\n",
    "\n",
    "def xB (p,w):\n",
    "    return np.array([p,p])* w\n",
    "\n",
    "#Calculate error for each p1 in P1\n",
    "for p1 in P1:\n",
    "    #Calculate xA and xB\n",
    "    xA_values = xA(p1,wA)\n",
    "    xB_values = xB(p1,wB)\n",
    "\n",
    "    #Calculate errors e_1 and e_2\n",
    "    error_1 = np.sum(xA_values) - np.sum(wA) + np.sum(xB_values)-np.sum(wB)\n",
    "    error_2 = np.sum(xA_values) - np.sum(wA) + np.sum(xB_values)-np.sum(wB)\n",
    "\n",
    "    #Display results\n",
    "\n",
    "    print(f\"For p1={p1}:\")\n",
    "    print(f\"e_1(p, w) = {error_1}\")\n",
    "    print(f\"e_2(p, w) = {error_2}\")\n",
    "    print(\"---\")"
   ]
  },
  {
   "cell_type": "markdown",
   "metadata": {},
   "source": [
    "# Question 3"
   ]
  },
  {
   "cell_type": "markdown",
   "metadata": {},
   "source": [
    "What is market clearing price?"
   ]
  },
  {
   "cell_type": "code",
   "execution_count": null,
   "metadata": {},
   "outputs": [],
   "source": [
    "# code"
   ]
  },
  {
   "cell_type": "markdown",
   "metadata": {},
   "source": [
    "Assume that A chooses the price to maximize her own utility."
   ]
  },
  {
   "cell_type": "markdown",
   "metadata": {},
   "source": [
    "# Question 4a"
   ]
  },
  {
   "cell_type": "markdown",
   "metadata": {},
   "source": [
    "Find the allocation if only prices in P1 can be chosen"
   ]
  },
  {
   "cell_type": "code",
   "execution_count": null,
   "metadata": {},
   "outputs": [],
   "source": [
    "# code"
   ]
  },
  {
   "cell_type": "markdown",
   "metadata": {},
   "source": [
    "# Question 4b"
   ]
  },
  {
   "cell_type": "markdown",
   "metadata": {},
   "source": [
    "Find the allocation if any positive price can be chosen"
   ]
  },
  {
   "cell_type": "code",
   "execution_count": null,
   "metadata": {},
   "outputs": [],
   "source": [
    "# code"
   ]
  },
  {
   "cell_type": "markdown",
   "metadata": {},
   "source": [
    "Assume that A chooses B’s consumption, but such that B is not worse of than in the initial endowment. A is thus the market maker"
   ]
  },
  {
   "cell_type": "markdown",
   "metadata": {},
   "source": [
    "# Question 5a"
   ]
  },
  {
   "cell_type": "markdown",
   "metadata": {},
   "source": [
    "Find the allocation if the choice set is restricted to C"
   ]
  },
  {
   "cell_type": "code",
   "execution_count": null,
   "metadata": {},
   "outputs": [],
   "source": [
    "# code"
   ]
  },
  {
   "cell_type": "markdown",
   "metadata": {},
   "source": [
    "# Question 5b"
   ]
  },
  {
   "cell_type": "markdown",
   "metadata": {},
   "source": [
    "Find the allocation if no further restrictions are imposed"
   ]
  },
  {
   "cell_type": "code",
   "execution_count": null,
   "metadata": {},
   "outputs": [],
   "source": [
    "# code"
   ]
  },
  {
   "cell_type": "markdown",
   "metadata": {},
   "source": [
    "Assume A’s and B’s consumption are chosen by a utilitarian social planner to maximize aggregate utility"
   ]
  },
  {
   "cell_type": "markdown",
   "metadata": {},
   "source": [
    "# Question 6a"
   ]
  },
  {
   "cell_type": "markdown",
   "metadata": {},
   "source": [
    "Find the resulting allocation"
   ]
  },
  {
   "cell_type": "code",
   "execution_count": null,
   "metadata": {},
   "outputs": [],
   "source": [
    "# code"
   ]
  },
  {
   "cell_type": "markdown",
   "metadata": {},
   "source": [
    "# Question 6b"
   ]
  },
  {
   "cell_type": "markdown",
   "metadata": {},
   "source": [
    "Illustrate and compare with your results in questions 3 - 5.\n",
    "Discuss the pros and cons of the various allocations"
   ]
  },
  {
   "cell_type": "code",
   "execution_count": null,
   "metadata": {},
   "outputs": [],
   "source": [
    "# code"
   ]
  },
  {
   "cell_type": "markdown",
   "metadata": {},
   "source": [
    "# Question 7"
   ]
  },
  {
   "cell_type": "markdown",
   "metadata": {},
   "source": [
    "Draw a set W with 50 elements"
   ]
  },
  {
   "cell_type": "code",
   "execution_count": null,
   "metadata": {},
   "outputs": [],
   "source": [
    "# code"
   ]
  },
  {
   "cell_type": "markdown",
   "metadata": {},
   "source": [
    "# Question 8"
   ]
  },
  {
   "cell_type": "markdown",
   "metadata": {},
   "source": [
    "Find the market equilibrium allocation for each ω_A ∈ C and plot them in the Edgeworth box"
   ]
  },
  {
   "cell_type": "code",
   "execution_count": null,
   "metadata": {},
   "outputs": [],
   "source": [
    "# code"
   ]
  },
  {
   "cell_type": "markdown",
   "metadata": {},
   "source": [
    "ADD CONCISE CONLUSION."
   ]
  }
 ],
 "metadata": {
  "kernelspec": {
   "display_name": "base",
   "language": "python",
   "name": "python3"
  },
  "language_info": {
   "codemirror_mode": {
    "name": "ipython",
    "version": 3
   },
   "file_extension": ".py",
   "mimetype": "text/x-python",
   "name": "python",
   "nbconvert_exporter": "python",
   "pygments_lexer": "ipython3",
   "version": "3.9.18"
  },
  "toc-autonumbering": true,
  "vscode": {
   "interpreter": {
    "hash": "47ef90cdf3004d3f859f1fb202523c65c07ba7c22eefd261b181f4744e2d0403"
   }
  }
 },
 "nbformat": 4,
 "nbformat_minor": 4
}
