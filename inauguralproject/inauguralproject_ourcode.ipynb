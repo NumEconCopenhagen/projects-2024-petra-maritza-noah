{
 "cells": [
  {
   "cell_type": "markdown",
   "metadata": {},
   "source": [
    "# Inaugural Project"
   ]
  },
  {
   "attachments": {},
   "cell_type": "markdown",
   "metadata": {},
   "source": [
    "> **Note the following:** \n",
    "> 1. This is an example of how to structure your **inaugural project**.\n",
    "> 1. Remember the general advice on structuring and commenting your code\n",
    "> 1. The `inauguralproject.py` file includes a function which can be used multiple times in this notebook."
   ]
  },
  {
   "cell_type": "markdown",
   "metadata": {},
   "source": [
    "Imports and set magics: THIS IS A TEST! "
   ]
  },
  {
   "cell_type": "code",
   "execution_count": 1,
   "metadata": {},
   "outputs": [],
   "source": [
    "import matplotlib.pyplot as plt\n",
    "plt.rcParams.update({\"axes.grid\":True,\"grid.color\":\"black\",\"grid.alpha\":\"0.25\",\"grid.linestyle\":\"--\"})\n",
    "plt.rcParams.update({'font.size': 14})\n",
    "\n",
    "%load_ext autoreload\n",
    "%autoreload 2"
   ]
  },
  {
   "cell_type": "code",
   "execution_count": 2,
   "metadata": {},
   "outputs": [
    {
     "name": "stdout",
     "output_type": "stream",
     "text": [
      "The autoreload extension is already loaded. To reload it, use:\n",
      "  %reload_ext autoreload\n"
     ]
    }
   ],
   "source": [
    "import numpy as np\n",
    "\n",
    "# autoreload modules when code is run. Otherwise, python will not see recent changes. \n",
    "%load_ext autoreload\n",
    "%autoreload 2\n",
    "\n",
    "# Import your own code\n",
    "import inauguralproject"
   ]
  },
  {
   "cell_type": "code",
   "execution_count": 3,
   "metadata": {},
   "outputs": [],
   "source": [
    "#def utility functions\n",
    "def utility_A(x1A, x2A, alpha):\n",
    "    return x1A**alpha * x2A**(1 - alpha)\n",
    "\n",
    "def utility_B(x1B, x2B, beta):\n",
    "    return x1B**beta * x2B**(1 - beta)\n",
    "\n",
    "# Define demand functions\n",
    "def demand_A(p1, p2, w1A, w2A, alpha):\n",
    "    x1A = alpha *(p1 * w1A + p2 * w2A) / p1\n",
    "    x2A = (1 - alpha) * (p1 * w1A + p2 * w2A) / p2\n",
    "    return x1, x2\n",
    "\n",
    "def demand_B(p1, p2, w1B, w2B, beta):\n",
    "    x1B = beta * (p1 * w1B + p2 * w2B) / p1\n",
    "    x2B = (1 - beta) * (p1 * w1B + p2 * w2B) / p2\n",
    "    return x1, x2\n",
    "\n",
    "# Define market equilibrium conditions\n",
    "def market_clearing_condition(demand_A, demand_B, w1A, w2A, w1B, w2B):\n",
    "    return (\n",
    "        demand_A[0] + demand_B[0] - w1A - w1B,\n",
    "        demand_A[1] + demand_B[1] - w2A - w2B)\n",
    "\n",
    "# Calibration parameters\n",
    "alpha = 1/3\n",
    "beta = 2/3\n",
    "\n",
    "# Numeraire\n",
    "p2 = 1"
   ]
  },
  {
   "cell_type": "code",
   "execution_count": 4,
   "metadata": {},
   "outputs": [
    {
     "ename": "ModuleNotFoundError",
     "evalue": "No module named 'ExchangeEconomy'",
     "output_type": "error",
     "traceback": [
      "\u001b[1;31m---------------------------------------------------------------------------\u001b[0m",
      "\u001b[1;31mModuleNotFoundError\u001b[0m                       Traceback (most recent call last)",
      "Cell \u001b[1;32mIn[4], line 1\u001b[0m\n\u001b[1;32m----> 1\u001b[0m \u001b[38;5;28;01mfrom\u001b[39;00m \u001b[38;5;21;01mExchangeEconomy\u001b[39;00m \u001b[38;5;28;01mimport\u001b[39;00m ExchangeEconomyClass\n",
      "\u001b[1;31mModuleNotFoundError\u001b[0m: No module named 'ExchangeEconomy'"
     ]
    }
   ],
   "source": [
    "from ExchangeEconomy import ExchangeEconomyClass"
   ]
  },
  {
   "cell_type": "markdown",
   "metadata": {},
   "source": [
    "# Question 1"
   ]
  },
  {
   "cell_type": "markdown",
   "metadata": {},
   "source": [
    "**Explain how you solve the model**"
   ]
  },
  {
   "cell_type": "markdown",
   "metadata": {},
   "source": [
    "model = ExchangeEconomyClass()"
   ]
  },
  {
   "cell_type": "code",
   "execution_count": null,
   "metadata": {},
   "outputs": [
    {
     "name": "stdout",
     "output_type": "stream",
     "text": [
      "[1 4 9]\n"
     ]
    }
   ],
   "source": [
    "# code for solving the model (remember documentation and comments)\n",
    "\n",
    "a = np.array([1,2,3])\n",
    "b = inauguralproject.square(a)\n",
    "print(b)"
   ]
  },
  {
   "cell_type": "code",
   "execution_count": null,
   "metadata": {},
   "outputs": [
    {
     "ename": "NameError",
     "evalue": "name 'model' is not defined",
     "output_type": "error",
     "traceback": [
      "\u001b[0;31m---------------------------------------------------------------------------\u001b[0m",
      "\u001b[0;31mNameError\u001b[0m                                 Traceback (most recent call last)",
      "\u001b[0;32m/var/folders/zp/l2pspvtd73b7q_05pxndhbpm0000gp/T/ipykernel_19847/2724391651.py\u001b[0m in \u001b[0;36m<module>\u001b[0;34m\u001b[0m\n\u001b[0;32m----> 1\u001b[0;31m \u001b[0mpar\u001b[0m \u001b[0;34m=\u001b[0m \u001b[0mmodel\u001b[0m\u001b[0;34m.\u001b[0m\u001b[0mpar\u001b[0m\u001b[0;34m\u001b[0m\u001b[0;34m\u001b[0m\u001b[0m\n\u001b[0m\u001b[1;32m      2\u001b[0m \u001b[0;34m\u001b[0m\u001b[0m\n\u001b[1;32m      3\u001b[0m \u001b[0;31m# a. total endowment\u001b[0m\u001b[0;34m\u001b[0m\u001b[0;34m\u001b[0m\u001b[0m\n\u001b[1;32m      4\u001b[0m \u001b[0mw1bar\u001b[0m \u001b[0;34m=\u001b[0m \u001b[0;36m1.0\u001b[0m\u001b[0;34m\u001b[0m\u001b[0;34m\u001b[0m\u001b[0m\n\u001b[1;32m      5\u001b[0m \u001b[0mw2bar\u001b[0m \u001b[0;34m=\u001b[0m \u001b[0;36m1.0\u001b[0m\u001b[0;34m\u001b[0m\u001b[0;34m\u001b[0m\u001b[0m\n",
      "\u001b[0;31mNameError\u001b[0m: name 'model' is not defined"
     ]
    }
   ],
   "source": [
    "par = model.par\n",
    "\n",
    "# a. total endowment\n",
    "w1bar = 1.0\n",
    "w2bar = 1.0\n",
    "\n",
    "# b. figure set up\n",
    "fig = plt.figure(frameon=False,figsize=(6,6), dpi=100)\n",
    "ax_A = fig.add_subplot(1, 1, 1)\n",
    "\n",
    "ax_A.set_xlabel(\"$x_1^A$\")\n",
    "ax_A.set_ylabel(\"$x_2^A$\")\n",
    "\n",
    "temp = ax_A.twinx()\n",
    "temp.set_ylabel(\"$x_2^B$\")\n",
    "ax_B = temp.twiny()\n",
    "ax_B.set_xlabel(\"$x_1^B$\")\n",
    "ax_B.invert_xaxis()\n",
    "ax_B.invert_yaxis()\n",
    "\n",
    "# A\n",
    "ax_A.scatter(par.w1A,par.w2A,marker='s',color='black',label='endowment')\n",
    "\n",
    "# limits\n",
    "ax_A.plot([0,w1bar],[0,0],lw=2,color='black')\n",
    "ax_A.plot([0,w1bar],[w2bar,w2bar],lw=2,color='black')\n",
    "ax_A.plot([0,0],[0,w2bar],lw=2,color='black')\n",
    "ax_A.plot([w1bar,w1bar],[0,w2bar],lw=2,color='black')\n",
    "\n",
    "ax_A.set_xlim([-0.1, w1bar + 0.1])\n",
    "ax_A.set_ylim([-0.1, w2bar + 0.1])    \n",
    "ax_B.set_xlim([w1bar + 0.1, -0.1])\n",
    "ax_B.set_ylim([w2bar + 0.1, -0.1])\n",
    "\n",
    "ax_A.legend(frameon=True,loc='upper right',bbox_to_anchor=(1.6,1.0));"
   ]
  },
  {
   "cell_type": "markdown",
   "metadata": {},
   "source": [
    "# Question 2"
   ]
  },
  {
   "cell_type": "markdown",
   "metadata": {},
   "source": [
    "Calculate the error in the market"
   ]
  },
  {
   "cell_type": "code",
   "execution_count": null,
   "metadata": {},
   "outputs": [],
   "source": [
    "#I started modyfing since this part \n",
    "# Given values  \n",
    "N=10\n",
    "P1 = np.array([0.5+2*i/N for i in range (N+1)])\n",
    "wA = np.array([1.0, 2.0])\n",
    "wB = np.array([0.5,1.5])\n",
    "\n",
    "#Define functions for xA and xB\n",
    "def xA (p,w):\n",
    "    return np.array([p,p])* w\n",
    "\n",
    "def xB (p,w):\n",
    "    return np.array([p,p])* w\n",
    "\n",
    "#Calculate error for each p1 in P1\n",
    "for p1 in P1:\n",
    "    #Calculate xA and xB\n",
    "    xA_values = xA(p1,wA)\n",
    "    xB_values = xB(p1,wB)\n",
    "\n",
    "    #Calculate errors e_1 and e_2\n",
    "    error_1 = np.sum(xA_values) - np.sum(wA) + np.sum(xB_values)-np.sum(wB)\n",
    "    error_2 = np.sum(xA_values) - np.sum(wA) + np.sum(xB_values)-np.sum(wB)\n",
    "\n",
    "    #Display results\n",
    "\n",
    "    print(f\"For p1={p1}:\")\n",
    "    print(f\"e_1(p, w) = {error_1}\")\n",
    "    print(f\"e_2(p, w) = {error_2}\")\n",
    "    print(\"---\")"
   ]
  },
  {
   "cell_type": "markdown",
   "metadata": {},
   "source": [
    "# Question 3"
   ]
  },
  {
   "cell_type": "markdown",
   "metadata": {},
   "source": [
    "Explain your code and procedure"
   ]
  },
  {
   "cell_type": "code",
   "execution_count": null,
   "metadata": {},
   "outputs": [],
   "source": [
    "# code"
   ]
  },
  {
   "cell_type": "markdown",
   "metadata": {},
   "source": [
    "ADD CONCISE CONLUSION."
   ]
  }
 ],
 "metadata": {
  "kernelspec": {
   "display_name": "base",
   "language": "python",
   "name": "python3"
  },
  "language_info": {
   "codemirror_mode": {
    "name": "ipython",
    "version": 3
   },
   "file_extension": ".py",
   "mimetype": "text/x-python",
   "name": "python",
   "nbconvert_exporter": "python",
   "pygments_lexer": "ipython3",
   "version": "3.11.7"
  },
  "toc-autonumbering": true,
  "vscode": {
   "interpreter": {
    "hash": "47ef90cdf3004d3f859f1fb202523c65c07ba7c22eefd261b181f4744e2d0403"
   }
  }
 },
 "nbformat": 4,
 "nbformat_minor": 4
}
